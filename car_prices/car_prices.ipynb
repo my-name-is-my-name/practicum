{
 "cells": [
  {
   "cell_type": "markdown",
   "metadata": {},
   "source": [
    "# Определение стоимости автомобилей"
   ]
  },
  {
   "cell_type": "markdown",
   "metadata": {},
   "source": [
    "## Цель\n",
    "Сервис по продаже автомобилей с пробегом «Не бит, не крашен» разрабатывает приложение для привлечения новых клиентов. В нём можно быстро узнать рыночную стоимость своего автомобиля. В нашем распоряжении исторические данные: технические характеристики, комплектации и цены автомобилей. **Нужно построить модель для определения стоимости.** \n",
    "\n",
    "Заказчику важны:\n",
    "\n",
    "- качество предсказания;\n",
    "- скорость предсказания;\n",
    "- время обучения.\n",
    "\n",
    "**Значение метрики RMSE должно быть меньше 2500.**"
   ]
  },
  {
   "cell_type": "code",
   "execution_count": 1,
   "metadata": {},
   "outputs": [],
   "source": [
    "!pip install catboost --quiet\n",
    "!pip install category_encoders --quiet\n",
    "\n",
    "import math\n",
    "import pandas as pd\n",
    "import numpy as np\n",
    "import matplotlib.pyplot as plt\n",
    "import seaborn as sns\n",
    "import warnings\n",
    "\n",
    "from category_encoders import TargetEncoder\n",
    "from lightgbm import LGBMRegressor\n",
    "from catboost import CatBoostRegressor\n",
    "from sklearn.model_selection import train_test_split, GridSearchCV\n",
    "from sklearn.ensemble import RandomForestRegressor\n",
    "from sklearn.metrics import mean_squared_error\n",
    " \n",
    "\n",
    "warnings.filterwarnings('ignore')\n",
    "\n",
    "RANDOM_STATE = 12345"
   ]
  },
  {
   "cell_type": "code",
   "execution_count": 2,
   "metadata": {},
   "outputs": [],
   "source": [
    "# Напишем функцию для первичной проверки данных\n",
    "def check_data(data_df):\n",
    "    print ('\\033[1m' + 'Изучим исходные данные'+ '\\033[0m')\n",
    "    print(data_df.info())\n",
    "    #print(data_df.shape)\n",
    "        \n",
    "    missed_cells = data_df.isnull().sum().sum()/(data_df.shape[0]*(data_df.shape[1]-1))\n",
    "    missed_rows = sum(data_df.isnull().sum(axis = 1)>0)/data_df.shape[0]\n",
    "    print ('\\033[1m' + '\\nПроверка пропусков'+ '\\033[0m')\n",
    "    print ('Количество пропусков: {:.0f}'.format(data_df.isnull().sum().sum()))\n",
    "    print ('Доля пропусков: {:.1%}'.format(missed_cells)+ '\\033[0m')\n",
    "    print ('Доля строк содержащих пропуски: {:.1%}'.format(missed_rows))\n",
    "\n",
    "    ## Проверим дубликаты\n",
    "    print ('\\033[1m' + '\\nПроверка на дубликаты'+ '\\033[0m')\n",
    "    print('Количество полных дубликатов: ', data_df.duplicated().sum())\n",
    "        \n",
    "    ## Посмотрим на сами данные\n",
    "    print ('\\033[1m' + '\\nПервые пять строк датасета'+ '\\033[0m')\n",
    "    display(data_df.head())\n",
    "    \n",
    "    print('\\033[1m' + '\\nОписание количественных данных:'+ '\\033[0m')\n",
    "    display(data_df.describe().T)\n",
    "    \n",
    "    print('\\033[1m' + '\\nОписание категориальных данных:'+ '\\033[0m')\n",
    "    display(data_df.describe(include='object').T) \n",
    "    \n",
    "    \n",
    "    print('\\033[1m' + '\\nВывод уникальных значений по каждому категориаьному признаку:'+ '\\033[0m')    \n",
    "    df_object = data_df.select_dtypes(include='object').columns\n",
    "    \n",
    "    for i in df_object:\n",
    "        print('\\033[1m' + '_'+ str(i) + '\\033[0m')\n",
    "        display(data_df[i].value_counts())"
   ]
  },
  {
   "cell_type": "code",
   "execution_count": 5,
   "metadata": {},
   "outputs": [],
   "source": [
    "def cat_graph(df, cat_feat):\n",
    "    '''\n",
    "    Функция отрисовки круговых диаграмм для категориальных переменных.\n",
    "    На вход: исходная таблица и список категориальных переменных.\n",
    "    На выходе: графики\n",
    "    '''\n",
    "        \n",
    "    cols = 2\n",
    "    rows = int(np.ceil(len(cat_feat) / cols))\n",
    "\n",
    "    fig, axs = plt.subplots(rows, cols, figsize = (14,14))\n",
    "    plt.tight_layout()\n",
    "\n",
    "    count = -1\n",
    "    for i in range(rows):\n",
    "        for x in range(cols):\n",
    "            count+=1\n",
    "            col = cat_feat[count]\n",
    "            df1 = pd.DataFrame(df.groupby([col])[col].count())\n",
    "            axs[i,x].pie(x=df1[col],\n",
    "                         labels=df1.index, \n",
    "                         autopct='%1.0f%%',)\n",
    "            axs[i,x].title.set_text(str(col))\n",
    "\n",
    "    plt.suptitle('Круговые диаграммы категориальных признаков', fontsize=22, y=1.05)\n",
    "\n",
    "    plt.show()"
   ]
  },
  {
   "cell_type": "code",
   "execution_count": 6,
   "metadata": {},
   "outputs": [],
   "source": [
    "def plot_hist(data, col_column):\n",
    "    '''\n",
    "    Функция отрисовки гистограмм и ящика с усами для количесвтенных переменных.\n",
    "    На вход: исходная таблица и список количественных переменных.\n",
    "    На выходе: графики\n",
    "    '''\n",
    "    rows = len(col_column)\n",
    "    f, ax = plt.subplots(rows,2, figsize=(15, 8))\n",
    "    f.tight_layout()\n",
    "    f.set_figheight(30)\n",
    "    f.set_figwidth(14)\n",
    "    plt.rcParams.update({'font.size': 18})\n",
    "    \n",
    "    for i, col in enumerate(col_column):         \n",
    "        sns.histplot(data[col], kde=True, bins=24, ax = ax[i, 0])                    \n",
    "        sns.boxplot(data[col], ax = ax[i, 1])\n",
    "\n",
    "        ax[i, 0].set_xlabel(col)\n",
    "        ax[i, 1].set_xlabel(col)\n",
    "        ax[i, 0].set_ylabel('Количество')\n",
    "    plt.suptitle(\"Гистограмма и ящик с усами для количесвтенных данных\", fontsize=22, y=1.01)\n",
    "    plt.show()"
   ]
  },
  {
   "cell_type": "markdown",
   "metadata": {},
   "source": [
    "## Подготовка данных\n"
   ]
  },
  {
   "cell_type": "code",
   "execution_count": 7,
   "metadata": {},
   "outputs": [],
   "source": [
    "# загружаем данные\n",
    "df = pd.read_csv('/datasets/autos.csv')"
   ]
  },
  {
   "cell_type": "code",
   "execution_count": 8,
   "metadata": {
    "scrolled": false
   },
   "outputs": [
    {
     "name": "stdout",
     "output_type": "stream",
     "text": [
      "\u001b[1mИзучим исходные данные\u001b[0m\n",
      "<class 'pandas.core.frame.DataFrame'>\n",
      "RangeIndex: 354369 entries, 0 to 354368\n",
      "Data columns (total 16 columns):\n",
      " #   Column             Non-Null Count   Dtype \n",
      "---  ------             --------------   ----- \n",
      " 0   DateCrawled        354369 non-null  object\n",
      " 1   Price              354369 non-null  int64 \n",
      " 2   VehicleType        316879 non-null  object\n",
      " 3   RegistrationYear   354369 non-null  int64 \n",
      " 4   Gearbox            334536 non-null  object\n",
      " 5   Power              354369 non-null  int64 \n",
      " 6   Model              334664 non-null  object\n",
      " 7   Kilometer          354369 non-null  int64 \n",
      " 8   RegistrationMonth  354369 non-null  int64 \n",
      " 9   FuelType           321474 non-null  object\n",
      " 10  Brand              354369 non-null  object\n",
      " 11  Repaired           283215 non-null  object\n",
      " 12  DateCreated        354369 non-null  object\n",
      " 13  NumberOfPictures   354369 non-null  int64 \n",
      " 14  PostalCode         354369 non-null  int64 \n",
      " 15  LastSeen           354369 non-null  object\n",
      "dtypes: int64(7), object(9)\n",
      "memory usage: 43.3+ MB\n",
      "None\n",
      "\u001b[1m\n",
      "Проверка пропусков\u001b[0m\n",
      "Количество пропусков: 181077\n",
      "Доля пропусков: 3.4%\u001b[0m\n",
      "Доля строк содержащих пропуски: 30.6%\n",
      "\u001b[1m\n",
      "Проверка на дубликаты\u001b[0m\n",
      "Количество полных дубликатов:  4\n",
      "\u001b[1m\n",
      "Первые пять строк датасета\u001b[0m\n"
     ]
    },
    {
     "data": {
      "text/html": [
       "<div>\n",
       "<style scoped>\n",
       "    .dataframe tbody tr th:only-of-type {\n",
       "        vertical-align: middle;\n",
       "    }\n",
       "\n",
       "    .dataframe tbody tr th {\n",
       "        vertical-align: top;\n",
       "    }\n",
       "\n",
       "    .dataframe thead th {\n",
       "        text-align: right;\n",
       "    }\n",
       "</style>\n",
       "<table border=\"1\" class=\"dataframe\">\n",
       "  <thead>\n",
       "    <tr style=\"text-align: right;\">\n",
       "      <th></th>\n",
       "      <th>DateCrawled</th>\n",
       "      <th>Price</th>\n",
       "      <th>VehicleType</th>\n",
       "      <th>RegistrationYear</th>\n",
       "      <th>Gearbox</th>\n",
       "      <th>Power</th>\n",
       "      <th>Model</th>\n",
       "      <th>Kilometer</th>\n",
       "      <th>RegistrationMonth</th>\n",
       "      <th>FuelType</th>\n",
       "      <th>Brand</th>\n",
       "      <th>Repaired</th>\n",
       "      <th>DateCreated</th>\n",
       "      <th>NumberOfPictures</th>\n",
       "      <th>PostalCode</th>\n",
       "      <th>LastSeen</th>\n",
       "    </tr>\n",
       "  </thead>\n",
       "  <tbody>\n",
       "    <tr>\n",
       "      <th>0</th>\n",
       "      <td>2016-03-24 11:52:17</td>\n",
       "      <td>480</td>\n",
       "      <td>NaN</td>\n",
       "      <td>1993</td>\n",
       "      <td>manual</td>\n",
       "      <td>0</td>\n",
       "      <td>golf</td>\n",
       "      <td>150000</td>\n",
       "      <td>0</td>\n",
       "      <td>petrol</td>\n",
       "      <td>volkswagen</td>\n",
       "      <td>NaN</td>\n",
       "      <td>2016-03-24 00:00:00</td>\n",
       "      <td>0</td>\n",
       "      <td>70435</td>\n",
       "      <td>2016-04-07 03:16:57</td>\n",
       "    </tr>\n",
       "    <tr>\n",
       "      <th>1</th>\n",
       "      <td>2016-03-24 10:58:45</td>\n",
       "      <td>18300</td>\n",
       "      <td>coupe</td>\n",
       "      <td>2011</td>\n",
       "      <td>manual</td>\n",
       "      <td>190</td>\n",
       "      <td>NaN</td>\n",
       "      <td>125000</td>\n",
       "      <td>5</td>\n",
       "      <td>gasoline</td>\n",
       "      <td>audi</td>\n",
       "      <td>yes</td>\n",
       "      <td>2016-03-24 00:00:00</td>\n",
       "      <td>0</td>\n",
       "      <td>66954</td>\n",
       "      <td>2016-04-07 01:46:50</td>\n",
       "    </tr>\n",
       "    <tr>\n",
       "      <th>2</th>\n",
       "      <td>2016-03-14 12:52:21</td>\n",
       "      <td>9800</td>\n",
       "      <td>suv</td>\n",
       "      <td>2004</td>\n",
       "      <td>auto</td>\n",
       "      <td>163</td>\n",
       "      <td>grand</td>\n",
       "      <td>125000</td>\n",
       "      <td>8</td>\n",
       "      <td>gasoline</td>\n",
       "      <td>jeep</td>\n",
       "      <td>NaN</td>\n",
       "      <td>2016-03-14 00:00:00</td>\n",
       "      <td>0</td>\n",
       "      <td>90480</td>\n",
       "      <td>2016-04-05 12:47:46</td>\n",
       "    </tr>\n",
       "    <tr>\n",
       "      <th>3</th>\n",
       "      <td>2016-03-17 16:54:04</td>\n",
       "      <td>1500</td>\n",
       "      <td>small</td>\n",
       "      <td>2001</td>\n",
       "      <td>manual</td>\n",
       "      <td>75</td>\n",
       "      <td>golf</td>\n",
       "      <td>150000</td>\n",
       "      <td>6</td>\n",
       "      <td>petrol</td>\n",
       "      <td>volkswagen</td>\n",
       "      <td>no</td>\n",
       "      <td>2016-03-17 00:00:00</td>\n",
       "      <td>0</td>\n",
       "      <td>91074</td>\n",
       "      <td>2016-03-17 17:40:17</td>\n",
       "    </tr>\n",
       "    <tr>\n",
       "      <th>4</th>\n",
       "      <td>2016-03-31 17:25:20</td>\n",
       "      <td>3600</td>\n",
       "      <td>small</td>\n",
       "      <td>2008</td>\n",
       "      <td>manual</td>\n",
       "      <td>69</td>\n",
       "      <td>fabia</td>\n",
       "      <td>90000</td>\n",
       "      <td>7</td>\n",
       "      <td>gasoline</td>\n",
       "      <td>skoda</td>\n",
       "      <td>no</td>\n",
       "      <td>2016-03-31 00:00:00</td>\n",
       "      <td>0</td>\n",
       "      <td>60437</td>\n",
       "      <td>2016-04-06 10:17:21</td>\n",
       "    </tr>\n",
       "  </tbody>\n",
       "</table>\n",
       "</div>"
      ],
      "text/plain": [
       "           DateCrawled  Price VehicleType  RegistrationYear Gearbox  Power  \\\n",
       "0  2016-03-24 11:52:17    480         NaN              1993  manual      0   \n",
       "1  2016-03-24 10:58:45  18300       coupe              2011  manual    190   \n",
       "2  2016-03-14 12:52:21   9800         suv              2004    auto    163   \n",
       "3  2016-03-17 16:54:04   1500       small              2001  manual     75   \n",
       "4  2016-03-31 17:25:20   3600       small              2008  manual     69   \n",
       "\n",
       "   Model  Kilometer  RegistrationMonth  FuelType       Brand Repaired  \\\n",
       "0   golf     150000                  0    petrol  volkswagen      NaN   \n",
       "1    NaN     125000                  5  gasoline        audi      yes   \n",
       "2  grand     125000                  8  gasoline        jeep      NaN   \n",
       "3   golf     150000                  6    petrol  volkswagen       no   \n",
       "4  fabia      90000                  7  gasoline       skoda       no   \n",
       "\n",
       "           DateCreated  NumberOfPictures  PostalCode             LastSeen  \n",
       "0  2016-03-24 00:00:00                 0       70435  2016-04-07 03:16:57  \n",
       "1  2016-03-24 00:00:00                 0       66954  2016-04-07 01:46:50  \n",
       "2  2016-03-14 00:00:00                 0       90480  2016-04-05 12:47:46  \n",
       "3  2016-03-17 00:00:00                 0       91074  2016-03-17 17:40:17  \n",
       "4  2016-03-31 00:00:00                 0       60437  2016-04-06 10:17:21  "
      ]
     },
     "metadata": {},
     "output_type": "display_data"
    },
    {
     "name": "stdout",
     "output_type": "stream",
     "text": [
      "\u001b[1m\n",
      "Описание количественных данных:\u001b[0m\n"
     ]
    },
    {
     "data": {
      "text/html": [
       "<div>\n",
       "<style scoped>\n",
       "    .dataframe tbody tr th:only-of-type {\n",
       "        vertical-align: middle;\n",
       "    }\n",
       "\n",
       "    .dataframe tbody tr th {\n",
       "        vertical-align: top;\n",
       "    }\n",
       "\n",
       "    .dataframe thead th {\n",
       "        text-align: right;\n",
       "    }\n",
       "</style>\n",
       "<table border=\"1\" class=\"dataframe\">\n",
       "  <thead>\n",
       "    <tr style=\"text-align: right;\">\n",
       "      <th></th>\n",
       "      <th>count</th>\n",
       "      <th>mean</th>\n",
       "      <th>std</th>\n",
       "      <th>min</th>\n",
       "      <th>25%</th>\n",
       "      <th>50%</th>\n",
       "      <th>75%</th>\n",
       "      <th>max</th>\n",
       "    </tr>\n",
       "  </thead>\n",
       "  <tbody>\n",
       "    <tr>\n",
       "      <th>Price</th>\n",
       "      <td>354369.0</td>\n",
       "      <td>4416.656776</td>\n",
       "      <td>4514.158514</td>\n",
       "      <td>0.0</td>\n",
       "      <td>1050.0</td>\n",
       "      <td>2700.0</td>\n",
       "      <td>6400.0</td>\n",
       "      <td>20000.0</td>\n",
       "    </tr>\n",
       "    <tr>\n",
       "      <th>RegistrationYear</th>\n",
       "      <td>354369.0</td>\n",
       "      <td>2004.234448</td>\n",
       "      <td>90.227958</td>\n",
       "      <td>1000.0</td>\n",
       "      <td>1999.0</td>\n",
       "      <td>2003.0</td>\n",
       "      <td>2008.0</td>\n",
       "      <td>9999.0</td>\n",
       "    </tr>\n",
       "    <tr>\n",
       "      <th>Power</th>\n",
       "      <td>354369.0</td>\n",
       "      <td>110.094337</td>\n",
       "      <td>189.850405</td>\n",
       "      <td>0.0</td>\n",
       "      <td>69.0</td>\n",
       "      <td>105.0</td>\n",
       "      <td>143.0</td>\n",
       "      <td>20000.0</td>\n",
       "    </tr>\n",
       "    <tr>\n",
       "      <th>Kilometer</th>\n",
       "      <td>354369.0</td>\n",
       "      <td>128211.172535</td>\n",
       "      <td>37905.341530</td>\n",
       "      <td>5000.0</td>\n",
       "      <td>125000.0</td>\n",
       "      <td>150000.0</td>\n",
       "      <td>150000.0</td>\n",
       "      <td>150000.0</td>\n",
       "    </tr>\n",
       "    <tr>\n",
       "      <th>RegistrationMonth</th>\n",
       "      <td>354369.0</td>\n",
       "      <td>5.714645</td>\n",
       "      <td>3.726421</td>\n",
       "      <td>0.0</td>\n",
       "      <td>3.0</td>\n",
       "      <td>6.0</td>\n",
       "      <td>9.0</td>\n",
       "      <td>12.0</td>\n",
       "    </tr>\n",
       "    <tr>\n",
       "      <th>NumberOfPictures</th>\n",
       "      <td>354369.0</td>\n",
       "      <td>0.000000</td>\n",
       "      <td>0.000000</td>\n",
       "      <td>0.0</td>\n",
       "      <td>0.0</td>\n",
       "      <td>0.0</td>\n",
       "      <td>0.0</td>\n",
       "      <td>0.0</td>\n",
       "    </tr>\n",
       "    <tr>\n",
       "      <th>PostalCode</th>\n",
       "      <td>354369.0</td>\n",
       "      <td>50508.689087</td>\n",
       "      <td>25783.096248</td>\n",
       "      <td>1067.0</td>\n",
       "      <td>30165.0</td>\n",
       "      <td>49413.0</td>\n",
       "      <td>71083.0</td>\n",
       "      <td>99998.0</td>\n",
       "    </tr>\n",
       "  </tbody>\n",
       "</table>\n",
       "</div>"
      ],
      "text/plain": [
       "                      count           mean           std     min       25%  \\\n",
       "Price              354369.0    4416.656776   4514.158514     0.0    1050.0   \n",
       "RegistrationYear   354369.0    2004.234448     90.227958  1000.0    1999.0   \n",
       "Power              354369.0     110.094337    189.850405     0.0      69.0   \n",
       "Kilometer          354369.0  128211.172535  37905.341530  5000.0  125000.0   \n",
       "RegistrationMonth  354369.0       5.714645      3.726421     0.0       3.0   \n",
       "NumberOfPictures   354369.0       0.000000      0.000000     0.0       0.0   \n",
       "PostalCode         354369.0   50508.689087  25783.096248  1067.0   30165.0   \n",
       "\n",
       "                        50%       75%       max  \n",
       "Price                2700.0    6400.0   20000.0  \n",
       "RegistrationYear     2003.0    2008.0    9999.0  \n",
       "Power                 105.0     143.0   20000.0  \n",
       "Kilometer          150000.0  150000.0  150000.0  \n",
       "RegistrationMonth       6.0       9.0      12.0  \n",
       "NumberOfPictures        0.0       0.0       0.0  \n",
       "PostalCode          49413.0   71083.0   99998.0  "
      ]
     },
     "metadata": {},
     "output_type": "display_data"
    },
    {
     "name": "stdout",
     "output_type": "stream",
     "text": [
      "\u001b[1m\n",
      "Описание категориальных данных:\u001b[0m\n"
     ]
    },
    {
     "data": {
      "text/html": [
       "<div>\n",
       "<style scoped>\n",
       "    .dataframe tbody tr th:only-of-type {\n",
       "        vertical-align: middle;\n",
       "    }\n",
       "\n",
       "    .dataframe tbody tr th {\n",
       "        vertical-align: top;\n",
       "    }\n",
       "\n",
       "    .dataframe thead th {\n",
       "        text-align: right;\n",
       "    }\n",
       "</style>\n",
       "<table border=\"1\" class=\"dataframe\">\n",
       "  <thead>\n",
       "    <tr style=\"text-align: right;\">\n",
       "      <th></th>\n",
       "      <th>count</th>\n",
       "      <th>unique</th>\n",
       "      <th>top</th>\n",
       "      <th>freq</th>\n",
       "    </tr>\n",
       "  </thead>\n",
       "  <tbody>\n",
       "    <tr>\n",
       "      <th>DateCrawled</th>\n",
       "      <td>354369</td>\n",
       "      <td>271174</td>\n",
       "      <td>2016-03-24 14:49:47</td>\n",
       "      <td>7</td>\n",
       "    </tr>\n",
       "    <tr>\n",
       "      <th>VehicleType</th>\n",
       "      <td>316879</td>\n",
       "      <td>8</td>\n",
       "      <td>sedan</td>\n",
       "      <td>91457</td>\n",
       "    </tr>\n",
       "    <tr>\n",
       "      <th>Gearbox</th>\n",
       "      <td>334536</td>\n",
       "      <td>2</td>\n",
       "      <td>manual</td>\n",
       "      <td>268251</td>\n",
       "    </tr>\n",
       "    <tr>\n",
       "      <th>Model</th>\n",
       "      <td>334664</td>\n",
       "      <td>250</td>\n",
       "      <td>golf</td>\n",
       "      <td>29232</td>\n",
       "    </tr>\n",
       "    <tr>\n",
       "      <th>FuelType</th>\n",
       "      <td>321474</td>\n",
       "      <td>7</td>\n",
       "      <td>petrol</td>\n",
       "      <td>216352</td>\n",
       "    </tr>\n",
       "    <tr>\n",
       "      <th>Brand</th>\n",
       "      <td>354369</td>\n",
       "      <td>40</td>\n",
       "      <td>volkswagen</td>\n",
       "      <td>77013</td>\n",
       "    </tr>\n",
       "    <tr>\n",
       "      <th>Repaired</th>\n",
       "      <td>283215</td>\n",
       "      <td>2</td>\n",
       "      <td>no</td>\n",
       "      <td>247161</td>\n",
       "    </tr>\n",
       "    <tr>\n",
       "      <th>DateCreated</th>\n",
       "      <td>354369</td>\n",
       "      <td>109</td>\n",
       "      <td>2016-04-03 00:00:00</td>\n",
       "      <td>13719</td>\n",
       "    </tr>\n",
       "    <tr>\n",
       "      <th>LastSeen</th>\n",
       "      <td>354369</td>\n",
       "      <td>179150</td>\n",
       "      <td>2016-04-06 13:45:54</td>\n",
       "      <td>17</td>\n",
       "    </tr>\n",
       "  </tbody>\n",
       "</table>\n",
       "</div>"
      ],
      "text/plain": [
       "              count  unique                  top    freq\n",
       "DateCrawled  354369  271174  2016-03-24 14:49:47       7\n",
       "VehicleType  316879       8                sedan   91457\n",
       "Gearbox      334536       2               manual  268251\n",
       "Model        334664     250                 golf   29232\n",
       "FuelType     321474       7               petrol  216352\n",
       "Brand        354369      40           volkswagen   77013\n",
       "Repaired     283215       2                   no  247161\n",
       "DateCreated  354369     109  2016-04-03 00:00:00   13719\n",
       "LastSeen     354369  179150  2016-04-06 13:45:54      17"
      ]
     },
     "metadata": {},
     "output_type": "display_data"
    },
    {
     "name": "stdout",
     "output_type": "stream",
     "text": [
      "\u001b[1m\n",
      "Вывод уникальных значений по каждому категориаьному признаку:\u001b[0m\n",
      "\u001b[1m_DateCrawled\u001b[0m\n"
     ]
    },
    {
     "data": {
      "text/plain": [
       "2016-03-24 14:49:47    7\n",
       "2016-03-26 22:57:31    6\n",
       "2016-03-19 21:49:56    6\n",
       "2016-04-02 14:50:21    5\n",
       "2016-03-16 13:47:44    5\n",
       "                      ..\n",
       "2016-03-28 15:47:53    1\n",
       "2016-03-28 19:36:35    1\n",
       "2016-03-29 20:38:18    1\n",
       "2016-03-28 21:45:59    1\n",
       "2016-03-17 19:46:25    1\n",
       "Name: DateCrawled, Length: 271174, dtype: int64"
      ]
     },
     "metadata": {},
     "output_type": "display_data"
    },
    {
     "name": "stdout",
     "output_type": "stream",
     "text": [
      "\u001b[1m_VehicleType\u001b[0m\n"
     ]
    },
    {
     "data": {
      "text/plain": [
       "sedan          91457\n",
       "small          79831\n",
       "wagon          65166\n",
       "bus            28775\n",
       "convertible    20203\n",
       "coupe          16163\n",
       "suv            11996\n",
       "other           3288\n",
       "Name: VehicleType, dtype: int64"
      ]
     },
     "metadata": {},
     "output_type": "display_data"
    },
    {
     "name": "stdout",
     "output_type": "stream",
     "text": [
      "\u001b[1m_Gearbox\u001b[0m\n"
     ]
    },
    {
     "data": {
      "text/plain": [
       "manual    268251\n",
       "auto       66285\n",
       "Name: Gearbox, dtype: int64"
      ]
     },
     "metadata": {},
     "output_type": "display_data"
    },
    {
     "name": "stdout",
     "output_type": "stream",
     "text": [
      "\u001b[1m_Model\u001b[0m\n"
     ]
    },
    {
     "data": {
      "text/plain": [
       "golf                  29232\n",
       "other                 24421\n",
       "3er                   19761\n",
       "polo                  13066\n",
       "corsa                 12570\n",
       "                      ...  \n",
       "i3                        8\n",
       "rangerover                4\n",
       "serie_3                   4\n",
       "serie_1                   2\n",
       "range_rover_evoque        2\n",
       "Name: Model, Length: 250, dtype: int64"
      ]
     },
     "metadata": {},
     "output_type": "display_data"
    },
    {
     "name": "stdout",
     "output_type": "stream",
     "text": [
      "\u001b[1m_FuelType\u001b[0m\n"
     ]
    },
    {
     "data": {
      "text/plain": [
       "petrol      216352\n",
       "gasoline     98720\n",
       "lpg           5310\n",
       "cng            565\n",
       "hybrid         233\n",
       "other          204\n",
       "electric        90\n",
       "Name: FuelType, dtype: int64"
      ]
     },
     "metadata": {},
     "output_type": "display_data"
    },
    {
     "name": "stdout",
     "output_type": "stream",
     "text": [
      "\u001b[1m_Brand\u001b[0m\n"
     ]
    },
    {
     "data": {
      "text/plain": [
       "volkswagen        77013\n",
       "opel              39931\n",
       "bmw               36914\n",
       "mercedes_benz     32046\n",
       "audi              29456\n",
       "ford              25179\n",
       "renault           17927\n",
       "peugeot           10998\n",
       "fiat               9643\n",
       "seat               6907\n",
       "mazda              5615\n",
       "skoda              5500\n",
       "smart              5246\n",
       "citroen            5148\n",
       "nissan             4941\n",
       "toyota             4606\n",
       "hyundai            3587\n",
       "sonstige_autos     3374\n",
       "volvo              3210\n",
       "mini               3202\n",
       "mitsubishi         3022\n",
       "honda              2817\n",
       "kia                2465\n",
       "suzuki             2323\n",
       "alfa_romeo         2314\n",
       "chevrolet          1754\n",
       "chrysler           1439\n",
       "dacia               900\n",
       "daihatsu            806\n",
       "subaru              762\n",
       "porsche             758\n",
       "jeep                677\n",
       "trabant             589\n",
       "land_rover          545\n",
       "daewoo              542\n",
       "saab                526\n",
       "jaguar              505\n",
       "rover               486\n",
       "lancia              471\n",
       "lada                225\n",
       "Name: Brand, dtype: int64"
      ]
     },
     "metadata": {},
     "output_type": "display_data"
    },
    {
     "name": "stdout",
     "output_type": "stream",
     "text": [
      "\u001b[1m_Repaired\u001b[0m\n"
     ]
    },
    {
     "data": {
      "text/plain": [
       "no     247161\n",
       "yes     36054\n",
       "Name: Repaired, dtype: int64"
      ]
     },
     "metadata": {},
     "output_type": "display_data"
    },
    {
     "name": "stdout",
     "output_type": "stream",
     "text": [
      "\u001b[1m_DateCreated\u001b[0m\n"
     ]
    },
    {
     "data": {
      "text/plain": [
       "2016-04-03 00:00:00    13719\n",
       "2016-04-04 00:00:00    13317\n",
       "2016-03-20 00:00:00    12918\n",
       "2016-03-12 00:00:00    12840\n",
       "2016-03-21 00:00:00    12691\n",
       "                       ...  \n",
       "2016-01-15 00:00:00        1\n",
       "2016-01-08 00:00:00        1\n",
       "2014-03-10 00:00:00        1\n",
       "2015-06-18 00:00:00        1\n",
       "2015-08-10 00:00:00        1\n",
       "Name: DateCreated, Length: 109, dtype: int64"
      ]
     },
     "metadata": {},
     "output_type": "display_data"
    },
    {
     "name": "stdout",
     "output_type": "stream",
     "text": [
      "\u001b[1m_LastSeen\u001b[0m\n"
     ]
    },
    {
     "data": {
      "text/plain": [
       "2016-04-06 13:45:54    17\n",
       "2016-04-07 09:44:27    16\n",
       "2016-04-07 09:45:10    16\n",
       "2016-04-06 01:15:23    16\n",
       "2016-04-06 09:17:58    16\n",
       "                       ..\n",
       "2016-03-24 10:48:20     1\n",
       "2016-03-31 13:46:16     1\n",
       "2016-03-27 03:16:53     1\n",
       "2016-03-25 13:47:39     1\n",
       "2016-03-12 15:43:42     1\n",
       "Name: LastSeen, Length: 179150, dtype: int64"
      ]
     },
     "metadata": {},
     "output_type": "display_data"
    }
   ],
   "source": [
    "# Посмотрим общую информацию и описание исходного датафрейма\n",
    "check_data(df)"
   ]
  },
  {
   "cell_type": "markdown",
   "metadata": {},
   "source": [
    "Найдено 4 явных дубликата. Удалим их позже, поскольку количество дубликатов за время манипуляция с данными может стать больше."
   ]
  },
  {
   "cell_type": "code",
   "execution_count": 10,
   "metadata": {},
   "outputs": [
    {
     "name": "stdout",
     "output_type": "stream",
     "text": [
      "Int64Index([2016], dtype='int64', name='DateCrawled')\n",
      "Int64Index([2016, 2015, 2014], dtype='int64', name='DateCreated')\n",
      "Int64Index([2016], dtype='int64', name='LastSeen')\n"
     ]
    }
   ],
   "source": [
    "# Посмотрим в какие года анкет скачивались из базы (DateCrawled), \n",
    "#анкеты былт созданы (DateCreated) и пользователи активничали (LastSeen)\n",
    "for col in ['DateCrawled', 'DateCreated', 'LastSeen']:\n",
    "    pd.to_datetime(df[col], format='%Y-%m-%dT%H:%M:%S')\n",
    "    print( pd.DatetimeIndex(df[col]).year.unique())"
   ]
  },
  {
   "cell_type": "markdown",
   "metadata": {},
   "source": [
    "Далее удалим эти три столбца с датами. \n",
    "\n",
    "Дата выгрузки и дата посещения сайта не влияют на цену. Дата создания объявления теоретически может быть связана с ценой, так как обычно быстро расходятся товары с заниженными ценами, а долго висят товары с завышенными. К сожалению, в данном слуае, мы не знаем какие авто проданы, а какие нет, и не знаем дату продажи авто. Акстивность пользователя так же не дает представления о том продано авто или нет и когда оно продано, так как если в объявлении указан телефон, то можно зайти на сайт лишь один раз при создании анкетв, при этом могут быть мелкие и крупные салоны, которые продают сразу много машин и заходят на сайт постоянно.\n",
    "\n",
    "Также удалим признак NumberOfPictures, как видно из описания данных выше, в этом столбце одни нули\n",
    "\n",
    "Признак RegistrationMonth также не нужен, так как в данном случае будет достаточно года \n",
    "\n",
    "PostalCode мог бы влиять на цену, если бы у нас были данные по сильно разным регионам. Из-за пошлин, региональных особенностей комплектаций и других причин один и тот же автомобиль может стоить по-разному в разных странах. Мы же видимо имеем дело по крайней мере с одной и той же страной, поэтому местоположение владельца не будет влиять на цену. Удалим и этот столбец."
   ]
  },
  {
   "cell_type": "code",
   "execution_count": 11,
   "metadata": {},
   "outputs": [],
   "source": [
    "df = df.drop(columns=['DateCrawled','DateCreated','LastSeen', 'NumberOfPictures', 'RegistrationMonth', 'PostalCode'])"
   ]
  },
  {
   "cell_type": "code",
   "execution_count": 12,
   "metadata": {
    "scrolled": false
   },
   "outputs": [
    {
     "data": {
      "image/png": "[encoded data removed]",
      "text/plain": [
       "<Figure size 1008x2160 with 8 Axes>"
      ]
     },
     "metadata": {
      "needs_background": "light"
     },
     "output_type": "display_data"
    }
   ],
   "source": [
    "# Далее изучим количественные признаки\n",
    "plot_hist(df, df.select_dtypes(exclude=[object]).columns)"
   ]
  },
  {
   "cell_type": "code",
   "execution_count": 13,
   "metadata": {},
   "outputs": [
    {
     "data": {
      "text/html": [
       "<div>\n",
       "<style scoped>\n",
       "    .dataframe tbody tr th:only-of-type {\n",
       "        vertical-align: middle;\n",
       "    }\n",
       "\n",
       "    .dataframe tbody tr th {\n",
       "        vertical-align: top;\n",
       "    }\n",
       "\n",
       "    .dataframe thead th {\n",
       "        text-align: right;\n",
       "    }\n",
       "</style>\n",
       "<table border=\"1\" class=\"dataframe\">\n",
       "  <thead>\n",
       "    <tr style=\"text-align: right;\">\n",
       "      <th></th>\n",
       "      <th>Price</th>\n",
       "      <th>VehicleType</th>\n",
       "      <th>RegistrationYear</th>\n",
       "      <th>Gearbox</th>\n",
       "      <th>Power</th>\n",
       "      <th>Model</th>\n",
       "      <th>Kilometer</th>\n",
       "      <th>FuelType</th>\n",
       "      <th>Brand</th>\n",
       "      <th>Repaired</th>\n",
       "    </tr>\n",
       "  </thead>\n",
       "  <tbody>\n",
       "    <tr>\n",
       "      <th>1515</th>\n",
       "      <td>20000</td>\n",
       "      <td>sedan</td>\n",
       "      <td>2010</td>\n",
       "      <td>auto</td>\n",
       "      <td>239</td>\n",
       "      <td>a6</td>\n",
       "      <td>150000</td>\n",
       "      <td>gasoline</td>\n",
       "      <td>audi</td>\n",
       "      <td>no</td>\n",
       "    </tr>\n",
       "    <tr>\n",
       "      <th>1586</th>\n",
       "      <td>20000</td>\n",
       "      <td>sedan</td>\n",
       "      <td>2014</td>\n",
       "      <td>auto</td>\n",
       "      <td>184</td>\n",
       "      <td>leon</td>\n",
       "      <td>40000</td>\n",
       "      <td>gasoline</td>\n",
       "      <td>seat</td>\n",
       "      <td>no</td>\n",
       "    </tr>\n",
       "    <tr>\n",
       "      <th>2128</th>\n",
       "      <td>20000</td>\n",
       "      <td>sedan</td>\n",
       "      <td>2014</td>\n",
       "      <td>manual</td>\n",
       "      <td>135</td>\n",
       "      <td>ceed</td>\n",
       "      <td>30000</td>\n",
       "      <td>petrol</td>\n",
       "      <td>kia</td>\n",
       "      <td>no</td>\n",
       "    </tr>\n",
       "    <tr>\n",
       "      <th>3728</th>\n",
       "      <td>20000</td>\n",
       "      <td>sedan</td>\n",
       "      <td>2011</td>\n",
       "      <td>auto</td>\n",
       "      <td>265</td>\n",
       "      <td>c_klasse</td>\n",
       "      <td>50000</td>\n",
       "      <td>gasoline</td>\n",
       "      <td>mercedes_benz</td>\n",
       "      <td>no</td>\n",
       "    </tr>\n",
       "    <tr>\n",
       "      <th>6286</th>\n",
       "      <td>20000</td>\n",
       "      <td>sedan</td>\n",
       "      <td>2009</td>\n",
       "      <td>auto</td>\n",
       "      <td>272</td>\n",
       "      <td>e_klasse</td>\n",
       "      <td>150000</td>\n",
       "      <td>gasoline</td>\n",
       "      <td>mercedes_benz</td>\n",
       "      <td>no</td>\n",
       "    </tr>\n",
       "  </tbody>\n",
       "</table>\n",
       "</div>"
      ],
      "text/plain": [
       "      Price VehicleType  RegistrationYear Gearbox  Power     Model  Kilometer  \\\n",
       "1515  20000       sedan              2010    auto    239        a6     150000   \n",
       "1586  20000       sedan              2014    auto    184      leon      40000   \n",
       "2128  20000       sedan              2014  manual    135      ceed      30000   \n",
       "3728  20000       sedan              2011    auto    265  c_klasse      50000   \n",
       "6286  20000       sedan              2009    auto    272  e_klasse     150000   \n",
       "\n",
       "      FuelType          Brand Repaired  \n",
       "1515  gasoline           audi       no  \n",
       "1586  gasoline           seat       no  \n",
       "2128    petrol            kia       no  \n",
       "3728  gasoline  mercedes_benz       no  \n",
       "6286  gasoline  mercedes_benz       no  "
      ]
     },
     "execution_count": 13,
     "metadata": {},
     "output_type": "execute_result"
    }
   ],
   "source": [
    "# Аномальные значения в признаке \"Цена\":\n",
    "# максимальное значение 20000 выглядит адекватным:\n",
    "df.query('Price == 20000').head()"
   ]
  },
  {
   "cell_type": "code",
   "execution_count": 14,
   "metadata": {},
   "outputs": [
    {
     "data": {
      "text/plain": [
       "<AxesSubplot:>"
      ]
     },
     "execution_count": 14,
     "metadata": {},
     "output_type": "execute_result"
    },
    {
     "data": {
      "image/png": "[encoded data removed]",
      "text/plain": [
       "<Figure size 1080x360 with 1 Axes>"
      ]
     },
     "metadata": {
      "needs_background": "light"
     },
     "output_type": "display_data"
    }
   ],
   "source": [
    "#посмотрим на гистограмму для очень маленьких цен\n",
    "df.query('Price < 100')['Price'].hist(bins=100,figsize=(15,5))"
   ]
  },
  {
   "cell_type": "code",
   "execution_count": 15,
   "metadata": {},
   "outputs": [
    {
     "data": {
      "text/html": [
       "<div>\n",
       "<style scoped>\n",
       "    .dataframe tbody tr th:only-of-type {\n",
       "        vertical-align: middle;\n",
       "    }\n",
       "\n",
       "    .dataframe tbody tr th {\n",
       "        vertical-align: top;\n",
       "    }\n",
       "\n",
       "    .dataframe thead th {\n",
       "        text-align: right;\n",
       "    }\n",
       "</style>\n",
       "<table border=\"1\" class=\"dataframe\">\n",
       "  <thead>\n",
       "    <tr style=\"text-align: right;\">\n",
       "      <th></th>\n",
       "      <th>Price</th>\n",
       "      <th>VehicleType</th>\n",
       "      <th>RegistrationYear</th>\n",
       "      <th>Gearbox</th>\n",
       "      <th>Power</th>\n",
       "      <th>Model</th>\n",
       "      <th>Kilometer</th>\n",
       "      <th>FuelType</th>\n",
       "      <th>Brand</th>\n",
       "      <th>Repaired</th>\n",
       "    </tr>\n",
       "  </thead>\n",
       "  <tbody>\n",
       "    <tr>\n",
       "      <th>7</th>\n",
       "      <td>0</td>\n",
       "      <td>sedan</td>\n",
       "      <td>1980</td>\n",
       "      <td>manual</td>\n",
       "      <td>50</td>\n",
       "      <td>other</td>\n",
       "      <td>40000</td>\n",
       "      <td>petrol</td>\n",
       "      <td>volkswagen</td>\n",
       "      <td>no</td>\n",
       "    </tr>\n",
       "    <tr>\n",
       "      <th>40</th>\n",
       "      <td>0</td>\n",
       "      <td>NaN</td>\n",
       "      <td>1990</td>\n",
       "      <td>NaN</td>\n",
       "      <td>0</td>\n",
       "      <td>corsa</td>\n",
       "      <td>150000</td>\n",
       "      <td>petrol</td>\n",
       "      <td>opel</td>\n",
       "      <td>NaN</td>\n",
       "    </tr>\n",
       "    <tr>\n",
       "      <th>111</th>\n",
       "      <td>0</td>\n",
       "      <td>NaN</td>\n",
       "      <td>2017</td>\n",
       "      <td>manual</td>\n",
       "      <td>0</td>\n",
       "      <td>golf</td>\n",
       "      <td>5000</td>\n",
       "      <td>petrol</td>\n",
       "      <td>volkswagen</td>\n",
       "      <td>NaN</td>\n",
       "    </tr>\n",
       "    <tr>\n",
       "      <th>115</th>\n",
       "      <td>0</td>\n",
       "      <td>small</td>\n",
       "      <td>1999</td>\n",
       "      <td>NaN</td>\n",
       "      <td>0</td>\n",
       "      <td>NaN</td>\n",
       "      <td>5000</td>\n",
       "      <td>petrol</td>\n",
       "      <td>volkswagen</td>\n",
       "      <td>NaN</td>\n",
       "    </tr>\n",
       "    <tr>\n",
       "      <th>152</th>\n",
       "      <td>0</td>\n",
       "      <td>bus</td>\n",
       "      <td>2004</td>\n",
       "      <td>manual</td>\n",
       "      <td>101</td>\n",
       "      <td>meriva</td>\n",
       "      <td>150000</td>\n",
       "      <td>lpg</td>\n",
       "      <td>opel</td>\n",
       "      <td>yes</td>\n",
       "    </tr>\n",
       "    <tr>\n",
       "      <th>154</th>\n",
       "      <td>0</td>\n",
       "      <td>NaN</td>\n",
       "      <td>2006</td>\n",
       "      <td>NaN</td>\n",
       "      <td>0</td>\n",
       "      <td>other</td>\n",
       "      <td>5000</td>\n",
       "      <td>NaN</td>\n",
       "      <td>fiat</td>\n",
       "      <td>NaN</td>\n",
       "    </tr>\n",
       "    <tr>\n",
       "      <th>231</th>\n",
       "      <td>0</td>\n",
       "      <td>wagon</td>\n",
       "      <td>2001</td>\n",
       "      <td>manual</td>\n",
       "      <td>115</td>\n",
       "      <td>mondeo</td>\n",
       "      <td>150000</td>\n",
       "      <td>NaN</td>\n",
       "      <td>ford</td>\n",
       "      <td>NaN</td>\n",
       "    </tr>\n",
       "    <tr>\n",
       "      <th>334</th>\n",
       "      <td>0</td>\n",
       "      <td>NaN</td>\n",
       "      <td>2005</td>\n",
       "      <td>NaN</td>\n",
       "      <td>0</td>\n",
       "      <td>polo</td>\n",
       "      <td>150000</td>\n",
       "      <td>petrol</td>\n",
       "      <td>volkswagen</td>\n",
       "      <td>NaN</td>\n",
       "    </tr>\n",
       "    <tr>\n",
       "      <th>415</th>\n",
       "      <td>0</td>\n",
       "      <td>NaN</td>\n",
       "      <td>1985</td>\n",
       "      <td>NaN</td>\n",
       "      <td>0</td>\n",
       "      <td>3er</td>\n",
       "      <td>150000</td>\n",
       "      <td>NaN</td>\n",
       "      <td>bmw</td>\n",
       "      <td>NaN</td>\n",
       "    </tr>\n",
       "    <tr>\n",
       "      <th>466</th>\n",
       "      <td>0</td>\n",
       "      <td>NaN</td>\n",
       "      <td>2016</td>\n",
       "      <td>auto</td>\n",
       "      <td>197</td>\n",
       "      <td>3er</td>\n",
       "      <td>150000</td>\n",
       "      <td>gasoline</td>\n",
       "      <td>bmw</td>\n",
       "      <td>no</td>\n",
       "    </tr>\n",
       "  </tbody>\n",
       "</table>\n",
       "</div>"
      ],
      "text/plain": [
       "     Price VehicleType  RegistrationYear Gearbox  Power   Model  Kilometer  \\\n",
       "7        0       sedan              1980  manual     50   other      40000   \n",
       "40       0         NaN              1990     NaN      0   corsa     150000   \n",
       "111      0         NaN              2017  manual      0    golf       5000   \n",
       "115      0       small              1999     NaN      0     NaN       5000   \n",
       "152      0         bus              2004  manual    101  meriva     150000   \n",
       "154      0         NaN              2006     NaN      0   other       5000   \n",
       "231      0       wagon              2001  manual    115  mondeo     150000   \n",
       "334      0         NaN              2005     NaN      0    polo     150000   \n",
       "415      0         NaN              1985     NaN      0     3er     150000   \n",
       "466      0         NaN              2016    auto    197     3er     150000   \n",
       "\n",
       "     FuelType       Brand Repaired  \n",
       "7      petrol  volkswagen       no  \n",
       "40     petrol        opel      NaN  \n",
       "111    petrol  volkswagen      NaN  \n",
       "115    petrol  volkswagen      NaN  \n",
       "152       lpg        opel      yes  \n",
       "154       NaN        fiat      NaN  \n",
       "231       NaN        ford      NaN  \n",
       "334    petrol  volkswagen      NaN  \n",
       "415       NaN         bmw      NaN  \n",
       "466  gasoline         bmw       no  "
      ]
     },
     "execution_count": 15,
     "metadata": {},
     "output_type": "execute_result"
    }
   ],
   "source": [
    "df.query('Price == 0').head(10)"
   ]
  },
  {
   "cell_type": "code",
   "execution_count": 16,
   "metadata": {},
   "outputs": [
    {
     "data": {
      "text/html": [
       "<div>\n",
       "<style scoped>\n",
       "    .dataframe tbody tr th:only-of-type {\n",
       "        vertical-align: middle;\n",
       "    }\n",
       "\n",
       "    .dataframe tbody tr th {\n",
       "        vertical-align: top;\n",
       "    }\n",
       "\n",
       "    .dataframe thead th {\n",
       "        text-align: right;\n",
       "    }\n",
       "</style>\n",
       "<table border=\"1\" class=\"dataframe\">\n",
       "  <thead>\n",
       "    <tr style=\"text-align: right;\">\n",
       "      <th></th>\n",
       "      <th>Price</th>\n",
       "      <th>VehicleType</th>\n",
       "      <th>RegistrationYear</th>\n",
       "      <th>Gearbox</th>\n",
       "      <th>Power</th>\n",
       "      <th>Model</th>\n",
       "      <th>Kilometer</th>\n",
       "      <th>FuelType</th>\n",
       "      <th>Brand</th>\n",
       "      <th>Repaired</th>\n",
       "    </tr>\n",
       "  </thead>\n",
       "  <tbody>\n",
       "    <tr>\n",
       "      <th>59</th>\n",
       "      <td>1</td>\n",
       "      <td>suv</td>\n",
       "      <td>1994</td>\n",
       "      <td>manual</td>\n",
       "      <td>286</td>\n",
       "      <td>NaN</td>\n",
       "      <td>150000</td>\n",
       "      <td>NaN</td>\n",
       "      <td>sonstige_autos</td>\n",
       "      <td>NaN</td>\n",
       "    </tr>\n",
       "    <tr>\n",
       "      <th>89</th>\n",
       "      <td>1</td>\n",
       "      <td>sedan</td>\n",
       "      <td>1995</td>\n",
       "      <td>manual</td>\n",
       "      <td>113</td>\n",
       "      <td>e_klasse</td>\n",
       "      <td>150000</td>\n",
       "      <td>gasoline</td>\n",
       "      <td>mercedes_benz</td>\n",
       "      <td>no</td>\n",
       "    </tr>\n",
       "    <tr>\n",
       "      <th>268</th>\n",
       "      <td>1</td>\n",
       "      <td>sedan</td>\n",
       "      <td>1990</td>\n",
       "      <td>manual</td>\n",
       "      <td>90</td>\n",
       "      <td>80</td>\n",
       "      <td>70000</td>\n",
       "      <td>petrol</td>\n",
       "      <td>audi</td>\n",
       "      <td>no</td>\n",
       "    </tr>\n",
       "    <tr>\n",
       "      <th>408</th>\n",
       "      <td>1</td>\n",
       "      <td>NaN</td>\n",
       "      <td>2000</td>\n",
       "      <td>NaN</td>\n",
       "      <td>75</td>\n",
       "      <td>golf</td>\n",
       "      <td>90000</td>\n",
       "      <td>petrol</td>\n",
       "      <td>volkswagen</td>\n",
       "      <td>NaN</td>\n",
       "    </tr>\n",
       "    <tr>\n",
       "      <th>901</th>\n",
       "      <td>1</td>\n",
       "      <td>NaN</td>\n",
       "      <td>1990</td>\n",
       "      <td>manual</td>\n",
       "      <td>0</td>\n",
       "      <td>other</td>\n",
       "      <td>150000</td>\n",
       "      <td>NaN</td>\n",
       "      <td>porsche</td>\n",
       "      <td>NaN</td>\n",
       "    </tr>\n",
       "    <tr>\n",
       "      <th>967</th>\n",
       "      <td>1</td>\n",
       "      <td>wagon</td>\n",
       "      <td>1998</td>\n",
       "      <td>manual</td>\n",
       "      <td>136</td>\n",
       "      <td>omega</td>\n",
       "      <td>150000</td>\n",
       "      <td>petrol</td>\n",
       "      <td>opel</td>\n",
       "      <td>no</td>\n",
       "    </tr>\n",
       "    <tr>\n",
       "      <th>1025</th>\n",
       "      <td>3</td>\n",
       "      <td>convertible</td>\n",
       "      <td>1998</td>\n",
       "      <td>manual</td>\n",
       "      <td>110</td>\n",
       "      <td>mx_reihe</td>\n",
       "      <td>150000</td>\n",
       "      <td>NaN</td>\n",
       "      <td>mazda</td>\n",
       "      <td>yes</td>\n",
       "    </tr>\n",
       "    <tr>\n",
       "      <th>1247</th>\n",
       "      <td>1</td>\n",
       "      <td>sedan</td>\n",
       "      <td>1983</td>\n",
       "      <td>manual</td>\n",
       "      <td>0</td>\n",
       "      <td>NaN</td>\n",
       "      <td>150000</td>\n",
       "      <td>petrol</td>\n",
       "      <td>mercedes_benz</td>\n",
       "      <td>no</td>\n",
       "    </tr>\n",
       "    <tr>\n",
       "      <th>1340</th>\n",
       "      <td>1</td>\n",
       "      <td>NaN</td>\n",
       "      <td>2016</td>\n",
       "      <td>manual</td>\n",
       "      <td>0</td>\n",
       "      <td>golf</td>\n",
       "      <td>150000</td>\n",
       "      <td>gasoline</td>\n",
       "      <td>volkswagen</td>\n",
       "      <td>yes</td>\n",
       "    </tr>\n",
       "    <tr>\n",
       "      <th>1542</th>\n",
       "      <td>1</td>\n",
       "      <td>NaN</td>\n",
       "      <td>2000</td>\n",
       "      <td>NaN</td>\n",
       "      <td>0</td>\n",
       "      <td>astra</td>\n",
       "      <td>150000</td>\n",
       "      <td>NaN</td>\n",
       "      <td>opel</td>\n",
       "      <td>NaN</td>\n",
       "    </tr>\n",
       "  </tbody>\n",
       "</table>\n",
       "</div>"
      ],
      "text/plain": [
       "      Price  VehicleType  RegistrationYear Gearbox  Power     Model  \\\n",
       "59        1          suv              1994  manual    286       NaN   \n",
       "89        1        sedan              1995  manual    113  e_klasse   \n",
       "268       1        sedan              1990  manual     90        80   \n",
       "408       1          NaN              2000     NaN     75      golf   \n",
       "901       1          NaN              1990  manual      0     other   \n",
       "967       1        wagon              1998  manual    136     omega   \n",
       "1025      3  convertible              1998  manual    110  mx_reihe   \n",
       "1247      1        sedan              1983  manual      0       NaN   \n",
       "1340      1          NaN              2016  manual      0      golf   \n",
       "1542      1          NaN              2000     NaN      0     astra   \n",
       "\n",
       "      Kilometer  FuelType           Brand Repaired  \n",
       "59       150000       NaN  sonstige_autos      NaN  \n",
       "89       150000  gasoline   mercedes_benz       no  \n",
       "268       70000    petrol            audi       no  \n",
       "408       90000    petrol      volkswagen      NaN  \n",
       "901      150000       NaN         porsche      NaN  \n",
       "967      150000    petrol            opel       no  \n",
       "1025     150000       NaN           mazda      yes  \n",
       "1247     150000    petrol   mercedes_benz       no  \n",
       "1340     150000  gasoline      volkswagen      yes  \n",
       "1542     150000       NaN            opel      NaN  "
      ]
     },
     "execution_count": 16,
     "metadata": {},
     "output_type": "execute_result"
    }
   ],
   "source": [
    "df.query('0 < Price < 30').head(10)"
   ]
  },
  {
   "cell_type": "markdown",
   "metadata": {},
   "source": [
    "В целом, изучив данные об авто с минимальными ценами можно предположить, что это авто в практически или полностью нерабочем состоянии. Большенство дешевых авто имеет пробег 15000 км при этом это максимальное и самое распространенное значение пробега в датасете. Те же, что имеют меньший пробег, возможно или точно repaired или очень старые. Выше в таблицах можно увидеть, напрмер bmw 3r и volkswagen golf, которые за 2016-ый год успели проездись все свои 150000 км, старый volkswagen 1980-го года, audi 80 1990-го за бесплатно или за очень маленькие деньги. Выбивается из общей картины volkswagen 2017-го года, но вспомним, что данные у нас выгружены в 2016-ом , так что это аномалия, которую обработаем далее.\n",
    "\n",
    "Цены у нас указаны в евро и проедположу, что это данные по какой-то Европейской стране, где довольно дорого содержать или утилизировать автомобиль,  поэтому люди готовы избавиться от своих машин за низкую цену.\n",
    "\n",
    "Нулевые цены удалим. Давать нашей модели понимание того, что автомобиль может быть бесплатным - не очень хорошая идея, такой результат может разочаровать пользователя приложения.   "
   ]
  },
  {
   "cell_type": "code",
   "execution_count": 17,
   "metadata": {},
   "outputs": [],
   "source": [
    "df = df.query('Price > 0')"
   ]
  },
  {
   "cell_type": "code",
   "execution_count": 18,
   "metadata": {},
   "outputs": [
    {
     "data": {
      "text/plain": [
       "array([1000, 1001, 1039, 1111, 1234, 1255, 1300, 1400, 1500, 1600, 1602,\n",
       "       1800, 1910, 1923, 1925, 1927, 1928, 1929, 1930, 1931, 1932, 1933,\n",
       "       1934, 1935, 1936, 1937, 1938, 1940, 1941, 1942, 1943, 1944, 1945,\n",
       "       1946, 1947, 1948, 1949, 1950, 1951, 1952, 1953, 1954, 1955, 1956,\n",
       "       1957, 1958, 1959, 1960, 1961, 1962, 1963, 1964, 1965, 1966, 1967,\n",
       "       1968, 1969, 1970, 1971, 1972, 1973, 1974, 1975, 1976, 1977, 1978,\n",
       "       1979, 1980, 1981, 1982, 1983, 1984, 1985, 1986, 1987, 1988, 1989,\n",
       "       1990, 1991, 1992, 1993, 1994, 1995, 1996, 1997, 1998, 1999, 2000,\n",
       "       2001, 2002, 2003, 2004, 2005, 2006, 2007, 2008, 2009, 2010, 2011,\n",
       "       2012, 2013, 2014, 2015, 2016, 2017, 2018, 2019, 2066, 2200, 2222,\n",
       "       2290, 2500, 2800, 2900, 3000, 3200, 3700, 3800, 4000, 4100, 4500,\n",
       "       4800, 5000, 5300, 5555, 5600, 5900, 5911, 6000, 6500, 7000, 7100,\n",
       "       7800, 8000, 8200, 8500, 8888, 9000, 9450, 9999])"
      ]
     },
     "execution_count": 18,
     "metadata": {},
     "output_type": "execute_result"
    }
   ],
   "source": [
    "# ПОсмотрим уникальные значения года регистрации\n",
    "df['RegistrationYear'].sort_values().unique()"
   ]
  },
  {
   "cell_type": "code",
   "execution_count": 19,
   "metadata": {},
   "outputs": [
    {
     "data": {
      "text/plain": [
       "<AxesSubplot:>"
      ]
     },
     "execution_count": 19,
     "metadata": {},
     "output_type": "execute_result"
    },
    {
     "data": {
      "image/png": "[encoded data removed]",
      "text/plain": [
       "<Figure size 1080x360 with 1 Axes>"
      ]
     },
     "metadata": {
      "needs_background": "light"
     },
     "output_type": "display_data"
    }
   ],
   "source": [
    "df.query('1900 <= RegistrationYear <= 2019')['RegistrationYear'].hist(bins=102,figsize=(15,5))"
   ]
  },
  {
   "cell_type": "markdown",
   "metadata": {},
   "source": [
    "Тут есть очевидно аномальные данные, это года до 1900-го и после 2016-го. Далее удалим их , а также удалим строки с авто зарегестрированными до 1970-го, так как очень старые автомоили могут цениться очень высоко как раритетные, а могут быть отровенной рухлядью. Так что если мы оставим данные об очень старых авто, то может пострадать качество предсказаний.\n",
    "\n",
    "Отметим, что очень странно выглядят года 2017, 2018, 2019, как-будто это не аномалии, а данные из будущего, поэтому в данном проекте будем исходить из того, что это аномальные данные и удалим их, но при первой возможности проверим пространство на наличие временных воронок."
   ]
  },
  {
   "cell_type": "code",
   "execution_count": 20,
   "metadata": {},
   "outputs": [],
   "source": [
    "df = df.query('1970 <= RegistrationYear <= 2016')"
   ]
  },
  {
   "cell_type": "code",
   "execution_count": 21,
   "metadata": {},
   "outputs": [
    {
     "data": {
      "text/plain": [
       "<AxesSubplot:>"
      ]
     },
     "execution_count": 21,
     "metadata": {},
     "output_type": "execute_result"
    },
    {
     "data": {
      "image/png": "[encoded data removed]",
      "text/plain": [
       "<Figure size 1440x720 with 1 Axes>"
      ]
     },
     "metadata": {
      "needs_background": "light"
     },
     "output_type": "display_data"
    }
   ],
   "source": [
    "# изучим столбец \"Мощность\", начнем с маленьких значений\n",
    "df.query('0 <= Power <= 50')['Power'].hist(bins=100,figsize=(20, 10))"
   ]
  },
  {
   "cell_type": "code",
   "execution_count": 22,
   "metadata": {},
   "outputs": [
    {
     "data": {
      "text/html": [
       "<div>\n",
       "<style scoped>\n",
       "    .dataframe tbody tr th:only-of-type {\n",
       "        vertical-align: middle;\n",
       "    }\n",
       "\n",
       "    .dataframe tbody tr th {\n",
       "        vertical-align: top;\n",
       "    }\n",
       "\n",
       "    .dataframe thead th {\n",
       "        text-align: right;\n",
       "    }\n",
       "</style>\n",
       "<table border=\"1\" class=\"dataframe\">\n",
       "  <thead>\n",
       "    <tr style=\"text-align: right;\">\n",
       "      <th></th>\n",
       "      <th>Price</th>\n",
       "      <th>VehicleType</th>\n",
       "      <th>RegistrationYear</th>\n",
       "      <th>Gearbox</th>\n",
       "      <th>Power</th>\n",
       "      <th>Model</th>\n",
       "      <th>Kilometer</th>\n",
       "      <th>FuelType</th>\n",
       "      <th>Brand</th>\n",
       "      <th>Repaired</th>\n",
       "    </tr>\n",
       "  </thead>\n",
       "  <tbody>\n",
       "    <tr>\n",
       "      <th>0</th>\n",
       "      <td>480</td>\n",
       "      <td>NaN</td>\n",
       "      <td>1993</td>\n",
       "      <td>manual</td>\n",
       "      <td>0</td>\n",
       "      <td>golf</td>\n",
       "      <td>150000</td>\n",
       "      <td>petrol</td>\n",
       "      <td>volkswagen</td>\n",
       "      <td>NaN</td>\n",
       "    </tr>\n",
       "    <tr>\n",
       "      <th>32</th>\n",
       "      <td>245</td>\n",
       "      <td>sedan</td>\n",
       "      <td>1994</td>\n",
       "      <td>NaN</td>\n",
       "      <td>0</td>\n",
       "      <td>golf</td>\n",
       "      <td>150000</td>\n",
       "      <td>petrol</td>\n",
       "      <td>volkswagen</td>\n",
       "      <td>no</td>\n",
       "    </tr>\n",
       "    <tr>\n",
       "      <th>37</th>\n",
       "      <td>1500</td>\n",
       "      <td>NaN</td>\n",
       "      <td>2016</td>\n",
       "      <td>NaN</td>\n",
       "      <td>0</td>\n",
       "      <td>kangoo</td>\n",
       "      <td>150000</td>\n",
       "      <td>gasoline</td>\n",
       "      <td>renault</td>\n",
       "      <td>no</td>\n",
       "    </tr>\n",
       "    <tr>\n",
       "      <th>54</th>\n",
       "      <td>4700</td>\n",
       "      <td>wagon</td>\n",
       "      <td>2005</td>\n",
       "      <td>manual</td>\n",
       "      <td>0</td>\n",
       "      <td>signum</td>\n",
       "      <td>150000</td>\n",
       "      <td>NaN</td>\n",
       "      <td>opel</td>\n",
       "      <td>no</td>\n",
       "    </tr>\n",
       "    <tr>\n",
       "      <th>55</th>\n",
       "      <td>550</td>\n",
       "      <td>wagon</td>\n",
       "      <td>1999</td>\n",
       "      <td>manual</td>\n",
       "      <td>0</td>\n",
       "      <td>astra</td>\n",
       "      <td>150000</td>\n",
       "      <td>gasoline</td>\n",
       "      <td>opel</td>\n",
       "      <td>yes</td>\n",
       "    </tr>\n",
       "  </tbody>\n",
       "</table>\n",
       "</div>"
      ],
      "text/plain": [
       "    Price VehicleType  RegistrationYear Gearbox  Power   Model  Kilometer  \\\n",
       "0     480         NaN              1993  manual      0    golf     150000   \n",
       "32    245       sedan              1994     NaN      0    golf     150000   \n",
       "37   1500         NaN              2016     NaN      0  kangoo     150000   \n",
       "54   4700       wagon              2005  manual      0  signum     150000   \n",
       "55    550       wagon              1999  manual      0   astra     150000   \n",
       "\n",
       "    FuelType       Brand Repaired  \n",
       "0     petrol  volkswagen      NaN  \n",
       "32    petrol  volkswagen       no  \n",
       "37  gasoline     renault       no  \n",
       "54       NaN        opel       no  \n",
       "55  gasoline        opel      yes  "
      ]
     },
     "execution_count": 22,
     "metadata": {},
     "output_type": "execute_result"
    }
   ],
   "source": [
    "df.query('Power == 0').head()"
   ]
  },
  {
   "cell_type": "code",
   "execution_count": 23,
   "metadata": {},
   "outputs": [
    {
     "data": {
      "text/plain": [
       "<AxesSubplot:>"
      ]
     },
     "execution_count": 23,
     "metadata": {},
     "output_type": "execute_result"
    },
    {
     "data": {
      "image/png": "[encoded data removed]",
      "text/plain": [
       "<Figure size 1440x720 with 1 Axes>"
      ]
     },
     "metadata": {
      "needs_background": "light"
     },
     "output_type": "display_data"
    }
   ],
   "source": [
    "df.query('200 <= Power <= 1000')['Power'].hist(bins=100,figsize=(20, 10))"
   ]
  },
  {
   "cell_type": "markdown",
   "metadata": {},
   "source": [
    "Нулевой мощности не бывает, слишком большие значения тоже удалим, так как большие значения встречаются редко и если их оставить, то может пострадать качество модели"
   ]
  },
  {
   "cell_type": "code",
   "execution_count": 26,
   "metadata": {},
   "outputs": [],
   "source": [
    "df = df.query('0 < Power <= 600')"
   ]
  },
  {
   "cell_type": "code",
   "execution_count": 27,
   "metadata": {},
   "outputs": [
    {
     "data": {
      "text/plain": [
       "295849"
      ]
     },
     "execution_count": 27,
     "metadata": {},
     "output_type": "execute_result"
    }
   ],
   "source": [
    "len(df)"
   ]
  },
  {
   "cell_type": "code",
   "execution_count": 28,
   "metadata": {},
   "outputs": [
    {
     "name": "stdout",
     "output_type": "stream",
     "text": [
      "Гистограммы по столбцам количственных данныхх:\n"
     ]
    },
    {
     "data": {
      "image/png": "[encoded data removed]",
      "text/plain": [
       "<Figure size 1440x720 with 4 Axes>"
      ]
     },
     "metadata": {
      "needs_background": "light"
     },
     "output_type": "display_data"
    }
   ],
   "source": [
    "# гистограммы количественных данных после обработки\n",
    "df[df.select_dtypes(exclude=[object]).columns].hist(figsize=(20, 10), bins=47)\n",
    "print('Гистограммы по столбцам количственных данныхх:')"
   ]
  },
  {
   "cell_type": "code",
   "execution_count": 29,
   "metadata": {},
   "outputs": [],
   "source": [
    "# В категориальных признаках заполним пропуски (в количественных пропусков не было изначально) \n",
    "df.fillna('unknown', inplace=True)"
   ]
  },
  {
   "cell_type": "code",
   "execution_count": 30,
   "metadata": {},
   "outputs": [
    {
     "data": {
      "image/png": "[encoded data removed]",
      "text/plain": [
       "<Figure size 1008x1008 with 4 Axes>"
      ]
     },
     "metadata": {},
     "output_type": "display_data"
    }
   ],
   "source": [
    "# Далее изучим категориальные признаки. \n",
    "cat_graph(df, df[['Gearbox','FuelType','Repaired','VehicleType']].columns) \n",
    "#в столбцах с моделью и брендом очень много значений, они буду неинформтивно смотреться, \n",
    "#информация о них есть в кратком описании датасета выше"
   ]
  },
  {
   "cell_type": "code",
   "execution_count": 31,
   "metadata": {},
   "outputs": [],
   "source": [
    "# если не ошибаюсь, то petrol и gasoline это одно и то же\n",
    "df.loc[df['FuelType'] == 'petrol','FuelType'] = 'gasoline'"
   ]
  },
  {
   "cell_type": "markdown",
   "metadata": {},
   "source": [
    "Как видно в данных есть дисбаланс. Подавляющее большенство машин бензиновые (92%). 3/4 машин точно не были в ремонте. Минимум 78% машин с ручной коробкой передач. Основные 3 типа транспортного средства: sedan - 28%, small - 24%, wagon - 20%.  \n"
   ]
  },
  {
   "cell_type": "code",
   "execution_count": 33,
   "metadata": {},
   "outputs": [
    {
     "name": "stdout",
     "output_type": "stream",
     "text": [
      "<class 'pandas.core.frame.DataFrame'>\n",
      "Int64Index: 295849 entries, 1 to 354368\n",
      "Data columns (total 10 columns):\n",
      " #   Column            Non-Null Count   Dtype \n",
      "---  ------            --------------   ----- \n",
      " 0   Price             295849 non-null  int64 \n",
      " 1   VehicleType       295849 non-null  object\n",
      " 2   RegistrationYear  295849 non-null  int64 \n",
      " 3   Gearbox           295849 non-null  object\n",
      " 4   Power             295849 non-null  int64 \n",
      " 5   Model             295849 non-null  object\n",
      " 6   Kilometer         295849 non-null  int64 \n",
      " 7   FuelType          295849 non-null  object\n",
      " 8   Brand             295849 non-null  object\n",
      " 9   Repaired          295849 non-null  object\n",
      "dtypes: int64(4), object(6)\n",
      "memory usage: 24.8+ MB\n"
     ]
    }
   ],
   "source": [
    "df.info()"
   ]
  },
  {
   "cell_type": "code",
   "execution_count": 35,
   "metadata": {},
   "outputs": [],
   "source": [
    "# Теперь удалим дублиукаты\n",
    "df = df.drop_duplicates()"
   ]
  },
  {
   "cell_type": "code",
   "execution_count": 37,
   "metadata": {},
   "outputs": [
    {
     "name": "stdout",
     "output_type": "stream",
     "text": [
      "<class 'pandas.core.frame.DataFrame'>\n",
      "Int64Index: 256064 entries, 1 to 354368\n",
      "Data columns (total 10 columns):\n",
      " #   Column            Non-Null Count   Dtype \n",
      "---  ------            --------------   ----- \n",
      " 0   Price             256064 non-null  int64 \n",
      " 1   VehicleType       256064 non-null  object\n",
      " 2   RegistrationYear  256064 non-null  int64 \n",
      " 3   Gearbox           256064 non-null  object\n",
      " 4   Power             256064 non-null  int64 \n",
      " 5   Model             256064 non-null  object\n",
      " 6   Kilometer         256064 non-null  int64 \n",
      " 7   FuelType          256064 non-null  object\n",
      " 8   Brand             256064 non-null  object\n",
      " 9   Repaired          256064 non-null  object\n",
      "dtypes: int64(4), object(6)\n",
      "memory usage: 21.5+ MB\n"
     ]
    }
   ],
   "source": [
    "df.info()"
   ]
  },
  {
   "cell_type": "code",
   "execution_count": 38,
   "metadata": {},
   "outputs": [
    {
     "data": {
      "text/plain": [
       "0"
      ]
     },
     "execution_count": 38,
     "metadata": {},
     "output_type": "execute_result"
    }
   ],
   "source": [
    "df.duplicated().sum()"
   ]
  },
  {
   "cell_type": "code",
   "execution_count": 40,
   "metadata": {},
   "outputs": [],
   "source": [
    "#отделим целевую переменную от признаков.\n",
    "target = df['Price']\n",
    "features = df.drop(['Price'], axis=1)\n",
    "#разбиваем на две выборки в отношении 1:3\n",
    "features_train, features_test, target_train, target_test = train_test_split(\n",
    "    features, target, test_size=0.25, random_state=RANDOM_STATE)"
   ]
  },
  {
   "cell_type": "code",
   "execution_count": 42,
   "metadata": {},
   "outputs": [
    {
     "name": "stdout",
     "output_type": "stream",
     "text": [
      "192048 64016\n"
     ]
    }
   ],
   "source": [
    "print(len(features_train),len(features_test))"
   ]
  },
  {
   "cell_type": "code",
   "execution_count": 67,
   "metadata": {},
   "outputs": [
    {
     "name": "stdout",
     "output_type": "stream",
     "text": [
      "        VehicleType      Gearbox        Model     FuelType        Brand  \\\n",
      "209828  2559.504087  4400.441439  5536.126845  5085.653886  6748.257651   \n",
      "70384   5203.568528  4400.441439  3457.480201  5085.653886  3390.396401   \n",
      "6665    5203.568528  7187.622741  5802.467776  5085.653886  6297.908637   \n",
      "155462  5067.666736  4400.441439  2787.080972  5085.653886  2649.967934   \n",
      "115033  5775.045841  4400.441439  4724.897285  5085.653886  2649.967934   \n",
      "\n",
      "           Repaired  RegistrationYear  Power  Kilometer  \n",
      "209828  2167.003013              2016    115     150000  \n",
      "70384   5698.890832              1997     75     150000  \n",
      "6665    5698.890832              2007    150     150000  \n",
      "155462  5698.890832              2001    107     150000  \n",
      "115033  5698.890832              2011    131     150000  \n",
      "        VehicleType      Gearbox        Model     FuelType        Brand  \\\n",
      "335925  5067.666736  7187.622741  7896.192872  2768.851185  6297.908637   \n",
      "325274  3030.326993  2936.097092  3824.389610  4656.521212  3759.916694   \n",
      "123932  3030.326993  4400.441439  7934.449336  5085.653886  5025.581326   \n",
      "35769   5067.666736  7187.622741  5802.467776  5085.653886  6297.908637   \n",
      "54633   5067.666736  7187.622741  6636.946048  5085.653886  6748.257651   \n",
      "\n",
      "           Repaired  RegistrationYear  Power  Kilometer  \n",
      "335925  3138.383765              2000    197     150000  \n",
      "325274  5698.890832              2001     45      60000  \n",
      "123932  5698.890832              2014     60      20000  \n",
      "35769   5698.890832              1996    122     125000  \n",
      "54633   5698.890832              2008    197     150000  \n"
     ]
    }
   ],
   "source": [
    "#используем TargetEncoder\n",
    "tenc=TargetEncoder()\n",
    "\n",
    "# обучаем шифровальщика на тренировочной выборке и применяем к ней\n",
    "features_train_encoded = tenc.fit_transform(\n",
    "    features_train[df.select_dtypes(include='object').columns], target_train).join(\n",
    "    features_train.drop(df.select_dtypes(include='object').columns, axis = 1))\n",
    "\n",
    "# применяем обученный шифровальщик к тестовой выборке\n",
    "features_test_encoded = tenc.transform(\n",
    "    features_test[df.select_dtypes(include='object').columns]).join(\n",
    "    features_test.drop(df.select_dtypes(include='object').columns, axis = 1))\n",
    "\n",
    "print(features_train_encoded.head())\n",
    "print(features_test_encoded.head())"
   ]
  },
  {
   "cell_type": "markdown",
   "metadata": {},
   "source": [
    "**Промежуточные выводы**\n",
    "\n",
    "1. Данные были загружены и обработаны. Удалены явные дубликаты. Удалены неинформативные столбцы: 'DateCrawled', 'DateCreated', 'LastSeen', 'NumberOfPictures', 'RegistrationMonth', 'PostalCode'. Пропуски данных обнаружены только в категориальных данных, пропуски заполнены заглушкой 'unknown'. Аномальные значения в количественных данных обнаружены и обработаны. \n",
    "\n",
    "2. Рассматриваются только авто которые зарегестрированы с 1970 по 2016 года можностью до 600 л.с. Более старые и более мощные авто не рассматриваются, так как таких мало в выборке и это может сказаться на качестве модели. Максимальное и самое распространенное значение пробега 150000 км, вероятно реальные значения пробега выше и 150000 каким-то образом оказалось максимально возможным числом в датасете. \n",
    "\n",
    "3. В категориальных признаках наблюдается дисбаланс. Подавляющее большенство машин бензиновые (92%). 3/4 машин точно не были в ремонте. Минимум 78% машин с ручной коробкой передач. Основные 3 типа транспортного средства: sedan - 28%, small - 24%, wagon - 20%.  \n",
    "\n",
    "4. Данные разбиты на тестовую и тренировочную выборки в отношении 1:3\n",
    "\n",
    "5. Категориальные признаки кодированы при помощи TargetEncoder "
   ]
  },
  {
   "cell_type": "markdown",
   "metadata": {},
   "source": [
    "## Обучение и анализ моделей"
   ]
  },
  {
   "cell_type": "markdown",
   "metadata": {},
   "source": [
    "Ниже рассмотрим 3 модели (параметров будет подбираться немного, так как считается довольно долго)"
   ]
  },
  {
   "cell_type": "markdown",
   "metadata": {},
   "source": [
    "**LightGBM**"
   ]
  },
  {
   "cell_type": "code",
   "execution_count": 68,
   "metadata": {},
   "outputs": [],
   "source": [
    "features_train_cat = features_train.copy()\n",
    "features_test_cat = features_test.copy()\n",
    "for col in df.select_dtypes(include='object').columns:\n",
    "    features_train_cat[col] = features_train_cat[col].astype('category')\n",
    "    features_test_cat[col] = features_test_cat[col].astype('category')"
   ]
  },
  {
   "cell_type": "code",
   "execution_count": 69,
   "metadata": {},
   "outputs": [
    {
     "name": "stdout",
     "output_type": "stream",
     "text": [
      "Параметры: {'learning_rate': 0.2, 'n_estimators': 20}\n",
      "RMSE: 1723.7889162933473\n"
     ]
    }
   ],
   "source": [
    "# параметры, которые будем подбирать\n",
    "param = {'learning_rate': [0.1, 0.2],'n_estimators': [10, 20]}\n",
    "\n",
    "estimator = LGBMRegressor(random_state=RANDOM_STATE)\n",
    "\n",
    "#подбор параметров и обучение\n",
    "model = GridSearchCV(estimator=estimator, param_grid=param,cv=3, n_jobs=4, scoring='neg_root_mean_squared_error',refit=False)\n",
    "model.fit(features_train_cat, target_train)\n",
    "\n",
    "# Результат\n",
    "print('Параметры:', model.best_params_)\n",
    "print('RMSE:', model.best_score_*(-1))"
   ]
  },
  {
   "cell_type": "code",
   "execution_count": 70,
   "metadata": {},
   "outputs": [
    {
     "name": "stdout",
     "output_type": "stream",
     "text": [
      "1.99 s ± 353 ms per loop (mean ± std. dev. of 7 runs, 1 loop each)\n"
     ]
    }
   ],
   "source": [
    "#лучшая модель LightGBM\n",
    "model = LGBMRegressor(random_state=RANDOM_STATE, n_jobs=4, **model.best_params_)\n",
    "#Время обучения модели\n",
    "%timeit model.fit(features_train_cat, target_train)"
   ]
  },
  {
   "cell_type": "code",
   "execution_count": 71,
   "metadata": {},
   "outputs": [
    {
     "name": "stdout",
     "output_type": "stream",
     "text": [
      "430 ms ± 32.9 ms per loop (mean ± std. dev. of 7 runs, 1 loop each)\n"
     ]
    }
   ],
   "source": [
    "# время предсказаний\n",
    "%timeit model.predict(features_train_cat)"
   ]
  },
  {
   "cell_type": "markdown",
   "metadata": {},
   "source": [
    "**CatBoostRegressor**"
   ]
  },
  {
   "cell_type": "code",
   "execution_count": 72,
   "metadata": {
    "scrolled": true
   },
   "outputs": [
    {
     "name": "stdout",
     "output_type": "stream",
     "text": [
      "0:\tlearn: 4636.9653373\ttotal: 127ms\tremaining: 7.48s\n",
      "1:\tlearn: 4611.4710622\ttotal: 224ms\tremaining: 6.5s\n",
      "2:\tlearn: 4586.2623299\ttotal: 297ms\tremaining: 5.64s\n",
      "3:\tlearn: 4561.3699893\ttotal: 362ms\tremaining: 5.06s\n",
      "4:\tlearn: 4537.2449650\ttotal: 523ms\tremaining: 5.76s\n",
      "5:\tlearn: 4513.2615191\ttotal: 641ms\tremaining: 5.77s\n",
      "6:\tlearn: 4489.3472944\ttotal: 748ms\tremaining: 5.67s\n",
      "7:\tlearn: 4465.8196054\ttotal: 920ms\tremaining: 5.98s\n",
      "8:\tlearn: 4442.5826434\ttotal: 1.03s\tremaining: 5.85s\n",
      "9:\tlearn: 4419.7401651\ttotal: 1.22s\tremaining: 6.09s\n",
      "10:\tlearn: 4397.1490229\ttotal: 1.33s\tremaining: 5.92s\n",
      "11:\tlearn: 4375.1856663\ttotal: 1.45s\tremaining: 5.79s\n",
      "12:\tlearn: 4353.3793190\ttotal: 1.62s\tremaining: 5.87s\n",
      "13:\tlearn: 4331.6932122\ttotal: 1.74s\tremaining: 5.72s\n",
      "14:\tlearn: 4310.4341266\ttotal: 1.85s\tremaining: 5.54s\n",
      "15:\tlearn: 4289.0543428\ttotal: 2.02s\tremaining: 5.55s\n",
      "16:\tlearn: 4268.3127799\ttotal: 2.11s\tremaining: 5.35s\n",
      "17:\tlearn: 4247.8617647\ttotal: 2.21s\tremaining: 5.17s\n",
      "18:\tlearn: 4227.3860635\ttotal: 2.32s\tremaining: 5.01s\n",
      "19:\tlearn: 4207.1908211\ttotal: 2.5s\tremaining: 5.01s\n",
      "20:\tlearn: 4187.1590774\ttotal: 2.68s\tremaining: 4.99s\n",
      "21:\tlearn: 4167.3027605\ttotal: 2.8s\tremaining: 4.84s\n",
      "22:\tlearn: 4147.5554828\ttotal: 2.97s\tremaining: 4.78s\n",
      "23:\tlearn: 4127.8719984\ttotal: 3.09s\tremaining: 4.63s\n",
      "24:\tlearn: 4108.7684729\ttotal: 3.27s\tremaining: 4.58s\n",
      "25:\tlearn: 4090.0294453\ttotal: 3.36s\tremaining: 4.4s\n",
      "26:\tlearn: 4070.7913700\ttotal: 3.48s\tremaining: 4.25s\n",
      "27:\tlearn: 4052.5506969\ttotal: 3.66s\tremaining: 4.18s\n",
      "28:\tlearn: 4034.2265738\ttotal: 3.85s\tremaining: 4.11s\n",
      "29:\tlearn: 4016.0041525\ttotal: 3.96s\tremaining: 3.96s\n",
      "30:\tlearn: 3998.2720790\ttotal: 4.06s\tremaining: 3.8s\n",
      "31:\tlearn: 3980.7034652\ttotal: 4.23s\tremaining: 3.7s\n",
      "32:\tlearn: 3963.9056670\ttotal: 4.35s\tremaining: 3.56s\n",
      "33:\tlearn: 3946.7856776\ttotal: 4.46s\tremaining: 3.41s\n",
      "34:\tlearn: 3929.4832813\ttotal: 4.64s\tremaining: 3.31s\n",
      "35:\tlearn: 3912.4198092\ttotal: 4.75s\tremaining: 3.17s\n",
      "36:\tlearn: 3895.7816413\ttotal: 4.92s\tremaining: 3.06s\n",
      "37:\tlearn: 3879.2716461\ttotal: 5.04s\tremaining: 2.92s\n",
      "38:\tlearn: 3863.1550568\ttotal: 5.16s\tremaining: 2.78s\n",
      "39:\tlearn: 3847.3732383\ttotal: 5.27s\tremaining: 2.64s\n",
      "40:\tlearn: 3831.3484677\ttotal: 5.46s\tremaining: 2.53s\n",
      "41:\tlearn: 3815.7922680\ttotal: 5.57s\tremaining: 2.39s\n",
      "42:\tlearn: 3800.2732349\ttotal: 5.67s\tremaining: 2.24s\n",
      "43:\tlearn: 3785.1471598\ttotal: 5.83s\tremaining: 2.12s\n",
      "44:\tlearn: 3769.9838413\ttotal: 5.93s\tremaining: 1.98s\n",
      "45:\tlearn: 3754.6111162\ttotal: 6.05s\tremaining: 1.84s\n",
      "46:\tlearn: 3739.2396631\ttotal: 6.16s\tremaining: 1.7s\n",
      "47:\tlearn: 3724.5940454\ttotal: 6.32s\tremaining: 1.58s\n",
      "48:\tlearn: 3710.1442297\ttotal: 6.43s\tremaining: 1.44s\n",
      "49:\tlearn: 3695.7757553\ttotal: 6.61s\tremaining: 1.32s\n",
      "50:\tlearn: 3681.4270662\ttotal: 6.71s\tremaining: 1.18s\n",
      "51:\tlearn: 3667.6323341\ttotal: 6.82s\tremaining: 1.05s\n",
      "52:\tlearn: 3654.0095726\ttotal: 6.93s\tremaining: 915ms\n",
      "53:\tlearn: 3640.1630651\ttotal: 7.04s\tremaining: 782ms\n",
      "54:\tlearn: 3626.5802504\ttotal: 7.14s\tremaining: 649ms\n",
      "55:\tlearn: 3612.5538308\ttotal: 7.24s\tremaining: 517ms\n",
      "56:\tlearn: 3598.8697654\ttotal: 7.35s\tremaining: 387ms\n",
      "57:\tlearn: 3585.8555096\ttotal: 7.45s\tremaining: 257ms\n",
      "58:\tlearn: 3572.7803339\ttotal: 7.55s\tremaining: 128ms\n",
      "59:\tlearn: 3559.9337446\ttotal: 7.73s\tremaining: 0us\n",
      "0:\tlearn: 4421.0204876\ttotal: 39.8ms\tremaining: 2.35s\n",
      "1:\tlearn: 4198.5439266\ttotal: 154ms\tremaining: 4.47s\n",
      "2:\tlearn: 4004.0598505\ttotal: 243ms\tremaining: 4.61s\n",
      "3:\tlearn: 3829.7632073\ttotal: 351ms\tremaining: 4.91s\n",
      "4:\tlearn: 3671.1022976\ttotal: 484ms\tremaining: 5.32s\n",
      "5:\tlearn: 3536.5499559\ttotal: 558ms\tremaining: 5.02s\n",
      "6:\tlearn: 3409.1967392\ttotal: 662ms\tremaining: 5.01s\n",
      "7:\tlearn: 3294.5325913\ttotal: 844ms\tremaining: 5.49s\n",
      "8:\tlearn: 3201.2928215\ttotal: 1.03s\tremaining: 5.86s\n",
      "9:\tlearn: 3116.8024873\ttotal: 1.24s\tremaining: 6.21s\n",
      "10:\tlearn: 3032.5004816\ttotal: 1.44s\tremaining: 6.41s\n",
      "11:\tlearn: 2967.1192957\ttotal: 1.56s\tremaining: 6.23s\n",
      "12:\tlearn: 2898.7310351\ttotal: 1.68s\tremaining: 6.09s\n",
      "13:\tlearn: 2836.9366619\ttotal: 1.87s\tremaining: 6.15s\n",
      "14:\tlearn: 2776.3054641\ttotal: 2.07s\tremaining: 6.21s\n",
      "15:\tlearn: 2722.4399409\ttotal: 2.19s\tremaining: 6.02s\n",
      "16:\tlearn: 2679.1235697\ttotal: 2.37s\tremaining: 5.98s\n",
      "17:\tlearn: 2633.1956198\ttotal: 2.57s\tremaining: 6s\n",
      "18:\tlearn: 2593.2030863\ttotal: 2.76s\tremaining: 5.96s\n",
      "19:\tlearn: 2559.6908345\ttotal: 2.96s\tremaining: 5.92s\n",
      "20:\tlearn: 2527.7192279\ttotal: 3.07s\tremaining: 5.7s\n",
      "21:\tlearn: 2493.2408133\ttotal: 3.25s\tremaining: 5.62s\n",
      "22:\tlearn: 2464.9095048\ttotal: 3.47s\tremaining: 5.58s\n",
      "23:\tlearn: 2440.5559707\ttotal: 3.67s\tremaining: 5.5s\n",
      "24:\tlearn: 2413.6461027\ttotal: 3.86s\tremaining: 5.41s\n",
      "25:\tlearn: 2390.7470784\ttotal: 4.07s\tremaining: 5.32s\n",
      "26:\tlearn: 2366.8298009\ttotal: 4.18s\tremaining: 5.11s\n",
      "27:\tlearn: 2345.0946287\ttotal: 4.38s\tremaining: 5.01s\n",
      "28:\tlearn: 2328.5246358\ttotal: 4.57s\tremaining: 4.88s\n",
      "29:\tlearn: 2308.6482415\ttotal: 4.86s\tremaining: 4.86s\n",
      "30:\tlearn: 2294.6038142\ttotal: 5.06s\tremaining: 4.74s\n",
      "31:\tlearn: 2277.1051259\ttotal: 5.34s\tremaining: 4.67s\n",
      "32:\tlearn: 2262.9916047\ttotal: 5.53s\tremaining: 4.53s\n",
      "33:\tlearn: 2244.0865688\ttotal: 5.73s\tremaining: 4.38s\n",
      "34:\tlearn: 2227.2463057\ttotal: 5.92s\tremaining: 4.23s\n",
      "35:\tlearn: 2217.0643290\ttotal: 6.14s\tremaining: 4.09s\n",
      "36:\tlearn: 2206.8373425\ttotal: 6.32s\tremaining: 3.93s\n",
      "37:\tlearn: 2193.7953369\ttotal: 6.52s\tremaining: 3.77s\n",
      "38:\tlearn: 2185.8458754\ttotal: 6.7s\tremaining: 3.61s\n",
      "39:\tlearn: 2174.6101819\ttotal: 6.82s\tremaining: 3.41s\n",
      "40:\tlearn: 2162.6641310\ttotal: 7.02s\tremaining: 3.25s\n",
      "41:\tlearn: 2151.5758940\ttotal: 7.2s\tremaining: 3.09s\n",
      "42:\tlearn: 2144.2664762\ttotal: 7.41s\tremaining: 2.93s\n",
      "43:\tlearn: 2137.0306404\ttotal: 7.52s\tremaining: 2.73s\n",
      "44:\tlearn: 2130.7868287\ttotal: 7.7s\tremaining: 2.57s\n",
      "45:\tlearn: 2121.3558420\ttotal: 7.9s\tremaining: 2.4s\n",
      "46:\tlearn: 2115.7351530\ttotal: 8.1s\tremaining: 2.24s\n",
      "47:\tlearn: 2110.4716825\ttotal: 8.3s\tremaining: 2.08s\n",
      "48:\tlearn: 2102.9788555\ttotal: 8.42s\tremaining: 1.89s\n",
      "49:\tlearn: 2095.5423144\ttotal: 8.61s\tremaining: 1.72s\n",
      "50:\tlearn: 2089.7686928\ttotal: 8.8s\tremaining: 1.55s\n",
      "51:\tlearn: 2085.9661474\ttotal: 8.99s\tremaining: 1.38s\n",
      "52:\tlearn: 2077.6125422\ttotal: 9.12s\tremaining: 1.2s\n",
      "53:\tlearn: 2073.8927711\ttotal: 9.24s\tremaining: 1.03s\n",
      "54:\tlearn: 2069.9393214\ttotal: 9.43s\tremaining: 857ms\n",
      "55:\tlearn: 2063.8695858\ttotal: 9.54s\tremaining: 681ms\n",
      "56:\tlearn: 2060.2788697\ttotal: 9.65s\tremaining: 508ms\n",
      "57:\tlearn: 2057.0225310\ttotal: 9.76s\tremaining: 337ms\n",
      "58:\tlearn: 2052.9193751\ttotal: 9.94s\tremaining: 168ms\n",
      "59:\tlearn: 2049.2835554\ttotal: 10s\tremaining: 0us\n",
      "0:\tlearn: 4647.1444207\ttotal: 220ms\tremaining: 13s\n",
      "1:\tlearn: 4618.2277717\ttotal: 501ms\tremaining: 14.5s\n",
      "2:\tlearn: 4588.4031910\ttotal: 706ms\tremaining: 13.4s\n",
      "3:\tlearn: 4559.7771340\ttotal: 924ms\tremaining: 12.9s\n",
      "4:\tlearn: 4532.1616791\ttotal: 1.18s\tremaining: 13s\n",
      "5:\tlearn: 4504.5654221\ttotal: 1.28s\tremaining: 11.5s\n",
      "6:\tlearn: 4476.1118455\ttotal: 1.42s\tremaining: 10.7s\n",
      "7:\tlearn: 4449.3889312\ttotal: 1.62s\tremaining: 10.5s\n",
      "8:\tlearn: 4422.5597793\ttotal: 1.85s\tremaining: 10.5s\n",
      "9:\tlearn: 4396.4209466\ttotal: 2.24s\tremaining: 11.2s\n",
      "10:\tlearn: 4370.4565627\ttotal: 2.62s\tremaining: 11.7s\n",
      "11:\tlearn: 4344.9953925\ttotal: 2.84s\tremaining: 11.4s\n",
      "12:\tlearn: 4318.9734675\ttotal: 3.12s\tremaining: 11.3s\n",
      "13:\tlearn: 4293.3719971\ttotal: 3.33s\tremaining: 10.9s\n",
      "14:\tlearn: 4268.7789865\ttotal: 3.61s\tremaining: 10.8s\n",
      "15:\tlearn: 4244.0026989\ttotal: 3.79s\tremaining: 10.4s\n",
      "16:\tlearn: 4219.9707185\ttotal: 3.92s\tremaining: 9.93s\n",
      "17:\tlearn: 4195.7077270\ttotal: 4.2s\tremaining: 9.79s\n",
      "18:\tlearn: 4172.0201557\ttotal: 4.37s\tremaining: 9.44s\n",
      "19:\tlearn: 4148.5085120\ttotal: 4.57s\tremaining: 9.15s\n",
      "20:\tlearn: 4124.9052475\ttotal: 4.8s\tremaining: 8.91s\n",
      "21:\tlearn: 4102.5053309\ttotal: 5.08s\tremaining: 8.78s\n",
      "22:\tlearn: 4079.7585513\ttotal: 5.39s\tremaining: 8.67s\n",
      "23:\tlearn: 4057.4011194\ttotal: 5.69s\tremaining: 8.53s\n",
      "24:\tlearn: 4035.9118523\ttotal: 5.89s\tremaining: 8.24s\n",
      "25:\tlearn: 4014.2312165\ttotal: 6.2s\tremaining: 8.11s\n",
      "26:\tlearn: 3992.5585636\ttotal: 6.49s\tremaining: 7.93s\n",
      "27:\tlearn: 3970.3841860\ttotal: 6.78s\tremaining: 7.75s\n",
      "28:\tlearn: 3949.4038968\ttotal: 7.09s\tremaining: 7.57s\n",
      "29:\tlearn: 3927.7087336\ttotal: 7.37s\tremaining: 7.37s\n",
      "30:\tlearn: 3907.4975008\ttotal: 7.66s\tremaining: 7.17s\n",
      "31:\tlearn: 3886.7742449\ttotal: 7.97s\tremaining: 6.97s\n",
      "0:\tlearn: 4650.0810412\ttotal: 185ms\tremaining: 10.9s\n",
      "1:\tlearn: 4624.2847442\ttotal: 342ms\tremaining: 9.91s\n",
      "2:\tlearn: 4598.8772715\ttotal: 468ms\tremaining: 8.89s\n",
      "3:\tlearn: 4573.8005888\ttotal: 582ms\tremaining: 8.14s\n",
      "4:\tlearn: 4549.4359853\ttotal: 758ms\tremaining: 8.33s\n",
      "5:\tlearn: 4525.0982028\ttotal: 870ms\tremaining: 7.83s\n",
      "6:\tlearn: 4500.9937499\ttotal: 1.05s\tremaining: 7.99s\n",
      "7:\tlearn: 4477.1967742\ttotal: 1.16s\tremaining: 7.54s\n",
      "8:\tlearn: 4453.7729271\ttotal: 1.34s\tremaining: 7.61s\n",
      "9:\tlearn: 4430.6477189\ttotal: 1.45s\tremaining: 7.23s\n",
      "10:\tlearn: 4407.7869215\ttotal: 1.56s\tremaining: 6.96s\n",
      "11:\tlearn: 4385.3119273\ttotal: 1.67s\tremaining: 6.68s\n",
      "12:\tlearn: 4363.0247401\ttotal: 1.85s\tremaining: 6.67s\n",
      "13:\tlearn: 4341.2681138\ttotal: 1.94s\tremaining: 6.37s\n",
      "14:\tlearn: 4319.6400466\ttotal: 2.04s\tremaining: 6.13s\n",
      "15:\tlearn: 4298.1915586\ttotal: 2.15s\tremaining: 5.91s\n",
      "16:\tlearn: 4277.4178472\ttotal: 2.32s\tremaining: 5.87s\n",
      "17:\tlearn: 4256.8630015\ttotal: 2.43s\tremaining: 5.66s\n",
      "18:\tlearn: 4236.2017644\ttotal: 2.53s\tremaining: 5.47s\n",
      "19:\tlearn: 4215.9820460\ttotal: 2.71s\tremaining: 5.43s\n",
      "20:\tlearn: 4196.0511051\ttotal: 2.83s\tremaining: 5.26s\n",
      "21:\tlearn: 4176.0025813\ttotal: 3.01s\tremaining: 5.2s\n",
      "22:\tlearn: 4156.4560862\ttotal: 3.11s\tremaining: 5.01s\n",
      "23:\tlearn: 4136.8100374\ttotal: 3.29s\tremaining: 4.94s\n",
      "24:\tlearn: 4117.8266077\ttotal: 3.4s\tremaining: 4.76s\n",
      "25:\tlearn: 4098.7404319\ttotal: 3.49s\tremaining: 4.57s\n",
      "26:\tlearn: 4079.8016474\ttotal: 3.6s\tremaining: 4.4s\n",
      "27:\tlearn: 4061.4299482\ttotal: 3.69s\tremaining: 4.21s\n",
      "28:\tlearn: 4042.6054993\ttotal: 3.8s\tremaining: 4.06s\n",
      "29:\tlearn: 4024.5810474\ttotal: 3.98s\tremaining: 3.98s\n",
      "30:\tlearn: 4006.6626135\ttotal: 4.15s\tremaining: 3.89s\n",
      "31:\tlearn: 3988.7845802\ttotal: 4.25s\tremaining: 3.72s\n",
      "32:\tlearn: 3971.8720857\ttotal: 4.37s\tremaining: 3.57s\n",
      "33:\tlearn: 3954.7402385\ttotal: 4.55s\tremaining: 3.48s\n",
      "34:\tlearn: 3937.6458485\ttotal: 4.66s\tremaining: 3.33s\n",
      "35:\tlearn: 3920.5201097\ttotal: 4.83s\tremaining: 3.22s\n",
      "36:\tlearn: 3903.3621244\ttotal: 4.94s\tremaining: 3.07s\n",
      "37:\tlearn: 3886.9209761\ttotal: 5.11s\tremaining: 2.96s\n",
      "38:\tlearn: 3871.0793843\ttotal: 5.22s\tremaining: 2.81s\n",
      "39:\tlearn: 3855.0408080\ttotal: 5.32s\tremaining: 2.66s\n",
      "40:\tlearn: 3838.8467785\ttotal: 5.43s\tremaining: 2.52s\n",
      "41:\tlearn: 3823.5361644\ttotal: 5.54s\tremaining: 2.38s\n",
      "42:\tlearn: 3807.8354975\ttotal: 5.72s\tremaining: 2.26s\n",
      "43:\tlearn: 3792.7317347\ttotal: 5.85s\tremaining: 2.13s\n",
      "44:\tlearn: 3777.6719172\ttotal: 6.02s\tremaining: 2s\n",
      "45:\tlearn: 3762.0588055\ttotal: 6.13s\tremaining: 1.86s\n",
      "46:\tlearn: 3746.7901164\ttotal: 6.24s\tremaining: 1.73s\n",
      "47:\tlearn: 3731.9964411\ttotal: 6.41s\tremaining: 1.6s\n",
      "48:\tlearn: 3717.1857263\ttotal: 6.5s\tremaining: 1.46s\n",
      "49:\tlearn: 3702.9239777\ttotal: 6.61s\tremaining: 1.32s\n",
      "50:\tlearn: 3688.6998566\ttotal: 6.71s\tremaining: 1.18s\n",
      "51:\tlearn: 3674.8570138\ttotal: 6.88s\tremaining: 1.06s\n",
      "52:\tlearn: 3661.0177289\ttotal: 6.98s\tremaining: 922ms\n",
      "53:\tlearn: 3647.6386711\ttotal: 7.08s\tremaining: 787ms\n",
      "54:\tlearn: 3633.5947581\ttotal: 7.19s\tremaining: 654ms\n",
      "55:\tlearn: 3620.6860096\ttotal: 7.37s\tremaining: 527ms\n",
      "56:\tlearn: 3607.0244543\ttotal: 7.47s\tremaining: 393ms\n",
      "57:\tlearn: 3593.8788250\ttotal: 7.64s\tremaining: 264ms\n",
      "58:\tlearn: 3580.9603628\ttotal: 7.68s\tremaining: 130ms\n",
      "59:\tlearn: 3567.8692231\ttotal: 7.75s\tremaining: 0us\n",
      "0:\tlearn: 4394.0878778\ttotal: 136ms\tremaining: 8.02s\n",
      "1:\tlearn: 4174.8829487\ttotal: 212ms\tremaining: 6.14s\n",
      "2:\tlearn: 3983.9671840\ttotal: 320ms\tremaining: 6.08s\n",
      "3:\tlearn: 3811.5833492\ttotal: 462ms\tremaining: 6.46s\n",
      "4:\tlearn: 3655.4971002\ttotal: 528ms\tremaining: 5.8s\n",
      "5:\tlearn: 3520.8035893\ttotal: 711ms\tremaining: 6.4s\n",
      "6:\tlearn: 3398.8961605\ttotal: 914ms\tremaining: 6.92s\n",
      "7:\tlearn: 3292.6990875\ttotal: 1.11s\tremaining: 7.23s\n",
      "8:\tlearn: 3190.2977408\ttotal: 1.32s\tremaining: 7.5s\n",
      "9:\tlearn: 3108.6104359\ttotal: 1.44s\tremaining: 7.18s\n",
      "10:\tlearn: 3021.6172272\ttotal: 1.63s\tremaining: 7.28s\n",
      "11:\tlearn: 2953.6218920\ttotal: 1.75s\tremaining: 7s\n",
      "12:\tlearn: 2895.3002721\ttotal: 2.02s\tremaining: 7.29s\n",
      "13:\tlearn: 2834.1680300\ttotal: 2.13s\tremaining: 7.01s\n",
      "14:\tlearn: 2780.2936320\ttotal: 2.41s\tremaining: 7.23s\n",
      "15:\tlearn: 2726.5402945\ttotal: 2.52s\tremaining: 6.93s\n",
      "16:\tlearn: 2674.0208342\ttotal: 2.71s\tremaining: 6.87s\n",
      "17:\tlearn: 2631.3820387\ttotal: 2.89s\tremaining: 6.75s\n",
      "18:\tlearn: 2588.2537279\ttotal: 3.09s\tremaining: 6.67s\n",
      "19:\tlearn: 2551.2651303\ttotal: 3.3s\tremaining: 6.61s\n",
      "20:\tlearn: 2514.6146384\ttotal: 3.5s\tremaining: 6.5s\n",
      "21:\tlearn: 2485.4026400\ttotal: 3.68s\tremaining: 6.36s\n",
      "22:\tlearn: 2453.8263215\ttotal: 3.8s\tremaining: 6.12s\n",
      "23:\tlearn: 2427.8716832\ttotal: 3.92s\tremaining: 5.89s\n",
      "24:\tlearn: 2398.0662311\ttotal: 4.05s\tremaining: 5.67s\n",
      "25:\tlearn: 2372.8160578\ttotal: 4.25s\tremaining: 5.56s\n",
      "26:\tlearn: 2353.8644882\ttotal: 4.45s\tremaining: 5.44s\n",
      "27:\tlearn: 2334.0830486\ttotal: 4.65s\tremaining: 5.32s\n",
      "28:\tlearn: 2317.2864185\ttotal: 4.86s\tremaining: 5.19s\n",
      "29:\tlearn: 2296.6993407\ttotal: 4.97s\tremaining: 4.97s\n",
      "30:\tlearn: 2279.8016355\ttotal: 5.1s\tremaining: 4.77s\n",
      "31:\tlearn: 2264.1183766\ttotal: 5.3s\tremaining: 4.63s\n",
      "32:\tlearn: 2247.7086272\ttotal: 5.49s\tremaining: 4.49s\n",
      "33:\tlearn: 2231.2518586\ttotal: 5.6s\tremaining: 4.28s\n",
      "34:\tlearn: 2217.0532889\ttotal: 5.71s\tremaining: 4.08s\n",
      "35:\tlearn: 2206.4507686\ttotal: 5.9s\tremaining: 3.93s\n",
      "36:\tlearn: 2194.2544285\ttotal: 6.1s\tremaining: 3.79s\n",
      "37:\tlearn: 2185.4115931\ttotal: 6.22s\tremaining: 3.6s\n",
      "38:\tlearn: 2170.2089883\ttotal: 6.35s\tremaining: 3.42s\n",
      "39:\tlearn: 2159.6734501\ttotal: 6.53s\tremaining: 3.26s\n",
      "40:\tlearn: 2151.2065546\ttotal: 6.72s\tremaining: 3.12s\n",
      "41:\tlearn: 2143.2969878\ttotal: 6.92s\tremaining: 2.96s\n",
      "42:\tlearn: 2134.1997992\ttotal: 7.04s\tremaining: 2.78s\n",
      "43:\tlearn: 2126.3151523\ttotal: 7.23s\tremaining: 2.63s\n",
      "44:\tlearn: 2119.7009045\ttotal: 7.5s\tremaining: 2.5s\n",
      "45:\tlearn: 2110.0139626\ttotal: 7.62s\tremaining: 2.32s\n",
      "46:\tlearn: 2103.9612402\ttotal: 7.8s\tremaining: 2.16s\n",
      "47:\tlearn: 2096.6189612\ttotal: 7.92s\tremaining: 1.98s\n",
      "48:\tlearn: 2091.5328750\ttotal: 8.04s\tremaining: 1.8s\n",
      "49:\tlearn: 2085.1390068\ttotal: 8.24s\tremaining: 1.65s\n",
      "50:\tlearn: 2080.1854684\ttotal: 8.43s\tremaining: 1.49s\n",
      "51:\tlearn: 2073.1363121\ttotal: 8.55s\tremaining: 1.31s\n",
      "52:\tlearn: 2069.1072776\ttotal: 8.74s\tremaining: 1.15s\n",
      "53:\tlearn: 2063.7871387\ttotal: 8.87s\tremaining: 985ms\n",
      "54:\tlearn: 2059.0518557\ttotal: 9.05s\tremaining: 823ms\n",
      "55:\tlearn: 2053.7199916\ttotal: 9.33s\tremaining: 666ms\n",
      "56:\tlearn: 2048.9977876\ttotal: 9.53s\tremaining: 502ms\n",
      "57:\tlearn: 2043.1572050\ttotal: 9.74s\tremaining: 336ms\n",
      "58:\tlearn: 2039.0198176\ttotal: 9.92s\tremaining: 168ms\n",
      "59:\tlearn: 2034.5194535\ttotal: 10s\tremaining: 0us\n",
      "0:\tlearn: 4617.8557080\ttotal: 209ms\tremaining: 12.3s\n",
      "1:\tlearn: 4589.0508839\ttotal: 427ms\tremaining: 12.4s\n",
      "2:\tlearn: 4559.6727538\ttotal: 627ms\tremaining: 11.9s\n",
      "3:\tlearn: 4531.6561972\ttotal: 761ms\tremaining: 10.7s\n",
      "4:\tlearn: 4503.4996691\ttotal: 906ms\tremaining: 9.96s\n",
      "5:\tlearn: 4475.5290692\ttotal: 1.1s\tremaining: 9.9s\n",
      "6:\tlearn: 4448.4584820\ttotal: 1.38s\tremaining: 10.5s\n",
      "7:\tlearn: 4421.9587520\ttotal: 1.68s\tremaining: 10.9s\n",
      "8:\tlearn: 4395.2057755\ttotal: 1.96s\tremaining: 11.1s\n",
      "9:\tlearn: 4369.3568989\ttotal: 2.26s\tremaining: 11.3s\n",
      "10:\tlearn: 4343.4332021\ttotal: 2.56s\tremaining: 11.4s\n",
      "11:\tlearn: 4318.0969822\ttotal: 2.85s\tremaining: 11.4s\n",
      "12:\tlearn: 4292.8097515\ttotal: 3.14s\tremaining: 11.4s\n",
      "13:\tlearn: 4267.1572541\ttotal: 3.35s\tremaining: 11s\n",
      "14:\tlearn: 4243.1315828\ttotal: 3.55s\tremaining: 10.7s\n",
      "15:\tlearn: 4219.2589322\ttotal: 3.74s\tremaining: 10.3s\n",
      "16:\tlearn: 4194.5929341\ttotal: 4s\tremaining: 10.1s\n",
      "17:\tlearn: 4170.6658861\ttotal: 4.18s\tremaining: 9.76s\n",
      "18:\tlearn: 4146.6994207\ttotal: 4.37s\tremaining: 9.43s\n",
      "19:\tlearn: 4123.9098778\ttotal: 4.67s\tremaining: 9.33s\n",
      "20:\tlearn: 4100.1251931\ttotal: 4.95s\tremaining: 9.19s\n",
      "21:\tlearn: 4076.6749005\ttotal: 5.16s\tremaining: 8.92s\n",
      "22:\tlearn: 4054.0158735\ttotal: 5.47s\tremaining: 8.79s\n",
      "23:\tlearn: 4031.8257349\ttotal: 5.68s\tremaining: 8.52s\n",
      "24:\tlearn: 4010.4220761\ttotal: 5.99s\tremaining: 8.38s\n",
      "25:\tlearn: 3987.9298171\ttotal: 6.21s\tremaining: 8.12s\n",
      "26:\tlearn: 3965.7605918\ttotal: 6.5s\tremaining: 7.95s\n",
      "27:\tlearn: 3944.8908325\ttotal: 6.8s\tremaining: 7.77s\n",
      "28:\tlearn: 3923.4167372\ttotal: 7.1s\tremaining: 7.59s\n",
      "29:\tlearn: 3903.1412565\ttotal: 7.31s\tremaining: 7.31s\n",
      "30:\tlearn: 3882.0147061\ttotal: 7.59s\tremaining: 7.1s\n",
      "31:\tlearn: 3860.3199184\ttotal: 7.89s\tremaining: 6.9s\n",
      "32:\tlearn: 3839.2874635\ttotal: 8.17s\tremaining: 6.69s\n",
      "0:\tlearn: 4621.0441963\ttotal: 245ms\tremaining: 14.5s\n",
      "1:\tlearn: 4595.4985187\ttotal: 430ms\tremaining: 12.5s\n",
      "2:\tlearn: 4570.5890891\ttotal: 625ms\tremaining: 11.9s\n",
      "3:\tlearn: 4545.6277273\ttotal: 733ms\tremaining: 10.3s\n",
      "4:\tlearn: 4521.5130694\ttotal: 843ms\tremaining: 9.27s\n",
      "5:\tlearn: 4497.6482216\ttotal: 951ms\tremaining: 8.56s\n",
      "6:\tlearn: 4473.6798937\ttotal: 1.06s\tremaining: 8.04s\n",
      "7:\tlearn: 4450.0655141\ttotal: 1.17s\tremaining: 7.63s\n",
      "8:\tlearn: 4426.7641789\ttotal: 1.35s\tremaining: 7.63s\n",
      "9:\tlearn: 4403.9616619\ttotal: 1.46s\tremaining: 7.3s\n",
      "10:\tlearn: 4381.4133540\ttotal: 1.57s\tremaining: 7.01s\n",
      "11:\tlearn: 4359.2378507\ttotal: 1.67s\tremaining: 6.7s\n",
      "12:\tlearn: 4337.2270396\ttotal: 1.78s\tremaining: 6.43s\n",
      "13:\tlearn: 4315.5573185\ttotal: 1.89s\tremaining: 6.2s\n",
      "14:\tlearn: 4294.0512537\ttotal: 2.07s\tremaining: 6.22s\n",
      "15:\tlearn: 4272.7534138\ttotal: 2.18s\tremaining: 6s\n",
      "16:\tlearn: 4252.3616701\ttotal: 2.29s\tremaining: 5.8s\n",
      "17:\tlearn: 4231.8835596\ttotal: 2.41s\tremaining: 5.62s\n",
      "18:\tlearn: 4211.4218746\ttotal: 2.52s\tremaining: 5.43s\n",
      "19:\tlearn: 4191.2448933\ttotal: 2.69s\tremaining: 5.38s\n",
      "20:\tlearn: 4171.6736203\ttotal: 2.79s\tremaining: 5.19s\n",
      "21:\tlearn: 4151.8189556\ttotal: 2.9s\tremaining: 5.01s\n",
      "22:\tlearn: 4132.1329255\ttotal: 3.01s\tremaining: 4.84s\n",
      "23:\tlearn: 4112.8291613\ttotal: 3.11s\tremaining: 4.67s\n",
      "24:\tlearn: 4093.9259053\ttotal: 3.22s\tremaining: 4.51s\n",
      "25:\tlearn: 4075.0304524\ttotal: 3.33s\tremaining: 4.35s\n",
      "26:\tlearn: 4055.7863041\ttotal: 3.43s\tremaining: 4.19s\n",
      "27:\tlearn: 4037.5369584\ttotal: 3.54s\tremaining: 4.05s\n",
      "28:\tlearn: 4019.2797161\ttotal: 3.72s\tremaining: 3.98s\n",
      "29:\tlearn: 4001.0898427\ttotal: 3.81s\tremaining: 3.81s\n",
      "30:\tlearn: 3983.6071973\ttotal: 3.92s\tremaining: 3.67s\n",
      "31:\tlearn: 3966.0749464\ttotal: 4.1s\tremaining: 3.58s\n",
      "32:\tlearn: 3949.3269219\ttotal: 4.19s\tremaining: 3.43s\n",
      "33:\tlearn: 3932.2999987\ttotal: 4.3s\tremaining: 3.29s\n",
      "34:\tlearn: 3914.9470637\ttotal: 4.41s\tremaining: 3.15s\n",
      "35:\tlearn: 3897.8582106\ttotal: 4.58s\tremaining: 3.05s\n",
      "36:\tlearn: 3881.3780608\ttotal: 4.69s\tremaining: 2.91s\n",
      "37:\tlearn: 3865.1604137\ttotal: 4.78s\tremaining: 2.77s\n",
      "38:\tlearn: 3849.1262253\ttotal: 4.89s\tremaining: 2.63s\n",
      "39:\tlearn: 3833.5078009\ttotal: 5s\tremaining: 2.5s\n",
      "40:\tlearn: 3817.4577366\ttotal: 5.1s\tremaining: 2.37s\n",
      "41:\tlearn: 3802.0380921\ttotal: 5.22s\tremaining: 2.24s\n",
      "42:\tlearn: 3785.9200648\ttotal: 5.4s\tremaining: 2.13s\n",
      "43:\tlearn: 3770.5765983\ttotal: 5.49s\tremaining: 2s\n",
      "44:\tlearn: 3755.2921632\ttotal: 5.6s\tremaining: 1.87s\n",
      "45:\tlearn: 3740.1548029\ttotal: 5.78s\tremaining: 1.76s\n",
      "46:\tlearn: 3724.8842375\ttotal: 5.88s\tremaining: 1.63s\n",
      "47:\tlearn: 3710.5753274\ttotal: 6.06s\tremaining: 1.51s\n",
      "48:\tlearn: 3695.9766045\ttotal: 6.16s\tremaining: 1.38s\n",
      "49:\tlearn: 3681.9273256\ttotal: 6.27s\tremaining: 1.25s\n",
      "50:\tlearn: 3667.7528101\ttotal: 6.38s\tremaining: 1.13s\n",
      "51:\tlearn: 3653.9167708\ttotal: 6.56s\tremaining: 1.01s\n",
      "52:\tlearn: 3640.2773025\ttotal: 6.67s\tremaining: 881ms\n",
      "53:\tlearn: 3626.3450134\ttotal: 6.85s\tremaining: 761ms\n",
      "54:\tlearn: 3613.2208122\ttotal: 6.98s\tremaining: 635ms\n",
      "55:\tlearn: 3599.9184759\ttotal: 7.14s\tremaining: 510ms\n",
      "56:\tlearn: 3586.4139987\ttotal: 7.25s\tremaining: 382ms\n",
      "57:\tlearn: 3573.2552362\ttotal: 7.33s\tremaining: 253ms\n",
      "58:\tlearn: 3560.6949330\ttotal: 7.36s\tremaining: 125ms\n",
      "59:\tlearn: 3547.6559662\ttotal: 7.4s\tremaining: 0us\n",
      "0:\tlearn: 4633.6877157\ttotal: 165ms\tremaining: 9.71s\n",
      "1:\tlearn: 4604.8683067\ttotal: 425ms\tremaining: 12.3s\n",
      "2:\tlearn: 4575.5622494\ttotal: 713ms\tremaining: 13.6s\n",
      "3:\tlearn: 4546.8786730\ttotal: 1.04s\tremaining: 14.6s\n",
      "4:\tlearn: 4519.1947091\ttotal: 1.31s\tremaining: 14.5s\n",
      "5:\tlearn: 4491.0996186\ttotal: 1.61s\tremaining: 14.5s\n",
      "6:\tlearn: 4463.1939910\ttotal: 1.82s\tremaining: 13.8s\n",
      "7:\tlearn: 4436.5223592\ttotal: 2.11s\tremaining: 13.7s\n",
      "8:\tlearn: 4409.5228888\ttotal: 2.39s\tremaining: 13.6s\n",
      "9:\tlearn: 4383.4994501\ttotal: 2.7s\tremaining: 13.5s\n",
      "10:\tlearn: 4357.3611241\ttotal: 3s\tremaining: 13.4s\n",
      "11:\tlearn: 4331.8682386\ttotal: 3.19s\tremaining: 12.8s\n",
      "12:\tlearn: 4305.5122588\ttotal: 3.48s\tremaining: 12.6s\n",
      "13:\tlearn: 4279.8247986\ttotal: 3.7s\tremaining: 12.1s\n",
      "14:\tlearn: 4254.8269499\ttotal: 3.99s\tremaining: 12s\n",
      "15:\tlearn: 4230.5987830\ttotal: 4.29s\tremaining: 11.8s\n",
      "16:\tlearn: 4206.0354870\ttotal: 4.56s\tremaining: 11.5s\n",
      "17:\tlearn: 4181.9877436\ttotal: 4.77s\tremaining: 11.1s\n",
      "18:\tlearn: 4158.2852703\ttotal: 5.07s\tremaining: 10.9s\n",
      "19:\tlearn: 4134.7319101\ttotal: 5.35s\tremaining: 10.7s\n",
      "20:\tlearn: 4110.9476027\ttotal: 5.67s\tremaining: 10.5s\n",
      "21:\tlearn: 4088.4061233\ttotal: 5.94s\tremaining: 10.3s\n",
      "22:\tlearn: 4066.3829941\ttotal: 6.25s\tremaining: 10s\n",
      "23:\tlearn: 4044.1301514\ttotal: 6.46s\tremaining: 9.69s\n",
      "24:\tlearn: 4022.5982143\ttotal: 6.77s\tremaining: 9.48s\n",
      "25:\tlearn: 4000.9136999\ttotal: 7.06s\tremaining: 9.23s\n",
      "26:\tlearn: 3979.2661693\ttotal: 7.36s\tremaining: 9s\n",
      "27:\tlearn: 3958.3809549\ttotal: 7.56s\tremaining: 8.64s\n",
      "28:\tlearn: 3937.0900044\ttotal: 7.78s\tremaining: 8.32s\n",
      "29:\tlearn: 3917.1709557\ttotal: 8.08s\tremaining: 8.08s\n",
      "30:\tlearn: 3896.0107157\ttotal: 8.37s\tremaining: 7.83s\n",
      "31:\tlearn: 3874.7611329\ttotal: 8.65s\tremaining: 7.57s\n",
      "32:\tlearn: 3853.4814670\ttotal: 8.86s\tremaining: 7.25s\n",
      "33:\tlearn: 3832.8347459\ttotal: 9.16s\tremaining: 7s\n",
      "34:\tlearn: 3812.6436072\ttotal: 9.45s\tremaining: 6.75s\n",
      "35:\tlearn: 3792.6396452\ttotal: 9.67s\tremaining: 6.45s\n",
      "36:\tlearn: 3773.2189621\ttotal: 9.96s\tremaining: 6.19s\n",
      "37:\tlearn: 3754.0295404\ttotal: 10.2s\tremaining: 5.89s\n",
      "38:\tlearn: 3735.3203205\ttotal: 10.2s\tremaining: 5.51s\n",
      "39:\tlearn: 3716.6144831\ttotal: 10.3s\tremaining: 5.16s\n",
      "40:\tlearn: 3697.7902875\ttotal: 10.5s\tremaining: 4.88s\n",
      "41:\tlearn: 3679.3534736\ttotal: 10.8s\tremaining: 4.63s\n",
      "42:\tlearn: 3661.2543929\ttotal: 11.1s\tremaining: 4.4s\n",
      "43:\tlearn: 3643.0516352\ttotal: 11.4s\tremaining: 4.15s\n",
      "44:\tlearn: 3625.6892028\ttotal: 11.6s\tremaining: 3.87s\n",
      "45:\tlearn: 3607.8879828\ttotal: 11.9s\tremaining: 3.62s\n",
      "46:\tlearn: 3589.7366626\ttotal: 12.1s\tremaining: 3.35s\n",
      "47:\tlearn: 3572.3129892\ttotal: 12.4s\tremaining: 3.1s\n",
      "48:\tlearn: 3554.6481744\ttotal: 12.5s\tremaining: 2.81s\n",
      "49:\tlearn: 3537.9943733\ttotal: 12.8s\tremaining: 2.56s\n",
      "50:\tlearn: 3520.7723012\ttotal: 13s\tremaining: 2.29s\n",
      "51:\tlearn: 3505.0411585\ttotal: 13.1s\tremaining: 2.01s\n",
      "52:\tlearn: 3488.4548994\ttotal: 13.2s\tremaining: 1.74s\n",
      "53:\tlearn: 3471.8557365\ttotal: 13.3s\tremaining: 1.48s\n",
      "54:\tlearn: 3456.3346737\ttotal: 13.5s\tremaining: 1.23s\n",
      "55:\tlearn: 3441.2572611\ttotal: 13.7s\tremaining: 976ms\n",
      "56:\tlearn: 3425.7025341\ttotal: 13.9s\tremaining: 731ms\n",
      "57:\tlearn: 3410.4282681\ttotal: 14.1s\tremaining: 486ms\n",
      "58:\tlearn: 3395.3090927\ttotal: 14.4s\tremaining: 243ms\n",
      "59:\tlearn: 3380.1663388\ttotal: 14.5s\tremaining: 0us\n",
      "0:\tlearn: 4391.4280065\ttotal: 295ms\tremaining: 17.4s\n",
      "1:\tlearn: 4137.9098976\ttotal: 675ms\tremaining: 19.6s\n",
      "2:\tlearn: 3898.5270739\ttotal: 976ms\tremaining: 18.5s\n",
      "3:\tlearn: 3699.8072298\ttotal: 1.37s\tremaining: 19.2s\n",
      "4:\tlearn: 3521.0857909\ttotal: 1.66s\tremaining: 18.2s\n",
      "5:\tlearn: 3367.9833425\ttotal: 1.86s\tremaining: 16.8s\n",
      "6:\tlearn: 3215.4138157\ttotal: 2.16s\tremaining: 16.3s\n",
      "7:\tlearn: 3087.1217370\ttotal: 2.38s\tremaining: 15.5s\n",
      "8:\tlearn: 2983.6152224\ttotal: 2.59s\tremaining: 14.7s\n",
      "9:\tlearn: 2888.5100314\ttotal: 2.9s\tremaining: 14.5s\n",
      "10:\tlearn: 2799.3895647\ttotal: 3.17s\tremaining: 14.1s\n",
      "11:\tlearn: 2712.5888235\ttotal: 3.46s\tremaining: 13.9s\n",
      "12:\tlearn: 2642.1034368\ttotal: 3.67s\tremaining: 13.3s\n",
      "13:\tlearn: 2578.4596009\ttotal: 3.96s\tremaining: 13s\n",
      "14:\tlearn: 2523.3314282\ttotal: 4.19s\tremaining: 12.6s\n",
      "15:\tlearn: 2469.1477311\ttotal: 4.41s\tremaining: 12.1s\n",
      "16:\tlearn: 2424.1420189\ttotal: 4.7s\tremaining: 11.9s\n",
      "17:\tlearn: 2380.3920984\ttotal: 4.91s\tremaining: 11.4s\n",
      "18:\tlearn: 2341.8528408\ttotal: 5.2s\tremaining: 11.2s\n",
      "19:\tlearn: 2310.9008111\ttotal: 5.48s\tremaining: 11s\n",
      "20:\tlearn: 2281.0343750\ttotal: 5.79s\tremaining: 10.7s\n",
      "21:\tlearn: 2255.8943463\ttotal: 6.1s\tremaining: 10.5s\n",
      "22:\tlearn: 2225.7316231\ttotal: 6.48s\tremaining: 10.4s\n",
      "23:\tlearn: 2199.6592443\ttotal: 6.77s\tremaining: 10.2s\n",
      "24:\tlearn: 2170.9575509\ttotal: 6.98s\tremaining: 9.77s\n",
      "25:\tlearn: 2147.8252579\ttotal: 7.29s\tremaining: 9.53s\n",
      "26:\tlearn: 2128.4356743\ttotal: 7.5s\tremaining: 9.17s\n",
      "27:\tlearn: 2111.8986323\ttotal: 7.72s\tremaining: 8.83s\n",
      "28:\tlearn: 2094.2556334\ttotal: 8s\tremaining: 8.55s\n",
      "29:\tlearn: 2080.3368428\ttotal: 8.3s\tremaining: 8.3s\n",
      "30:\tlearn: 2065.5241575\ttotal: 8.6s\tremaining: 8.05s\n",
      "31:\tlearn: 2052.6098017\ttotal: 8.9s\tremaining: 7.79s\n",
      "32:\tlearn: 2041.4201618\ttotal: 9.29s\tremaining: 7.6s\n",
      "Параметры: {'depth': 5, 'learning_rate': 0.1}\n",
      "RMSE: 1897.9182321670098\n"
     ]
    }
   ],
   "source": [
    "param = {'depth': [3, 5], 'learning_rate': [0.01, 0.1]}\n",
    "\n",
    "estimator = CatBoostRegressor(loss_function=\"RMSE\", iterations=60, random_state=RANDOM_STATE)\n",
    "\n",
    "#подбор параметров и обучение\n",
    "model = GridSearchCV(estimator=estimator, param_grid=param,cv=3, n_jobs=4, scoring='neg_root_mean_squared_error', refit=False)\n",
    "model.fit(features_train, target_train, cat_features =  df.select_dtypes(include='object').columns.tolist())\n",
    "\n",
    "# Результат\n",
    "print('Параметры:', model.best_params_)\n",
    "print('RMSE:', model.best_score_*(-1))"
   ]
  },
  {
   "cell_type": "code",
   "execution_count": 73,
   "metadata": {},
   "outputs": [
    {
     "name": "stdout",
     "output_type": "stream",
     "text": [
      "0:\tlearn: 4370.6856648\ttotal: 95.9ms\tremaining: 5.66s\n",
      "1:\tlearn: 4122.5077671\ttotal: 172ms\tremaining: 5s\n",
      "2:\tlearn: 3885.5830021\ttotal: 243ms\tremaining: 4.62s\n",
      "3:\tlearn: 3685.0480078\ttotal: 331ms\tremaining: 4.64s\n",
      "4:\tlearn: 3506.6058596\ttotal: 410ms\tremaining: 4.51s\n",
      "5:\tlearn: 3347.5742002\ttotal: 486ms\tremaining: 4.37s\n",
      "6:\tlearn: 3210.6521061\ttotal: 577ms\tremaining: 4.37s\n",
      "7:\tlearn: 3084.3345720\ttotal: 653ms\tremaining: 4.24s\n",
      "8:\tlearn: 2974.6926639\ttotal: 719ms\tremaining: 4.07s\n",
      "9:\tlearn: 2872.6833805\ttotal: 786ms\tremaining: 3.93s\n",
      "10:\tlearn: 2786.6370620\ttotal: 864ms\tremaining: 3.85s\n",
      "11:\tlearn: 2714.7441438\ttotal: 931ms\tremaining: 3.72s\n",
      "12:\tlearn: 2645.8877593\ttotal: 996ms\tremaining: 3.6s\n",
      "13:\tlearn: 2575.1539336\ttotal: 1.08s\tremaining: 3.54s\n",
      "14:\tlearn: 2517.8444732\ttotal: 1.15s\tremaining: 3.44s\n",
      "15:\tlearn: 2464.5791465\ttotal: 1.23s\tremaining: 3.37s\n",
      "16:\tlearn: 2418.0443577\ttotal: 1.29s\tremaining: 3.27s\n",
      "17:\tlearn: 2375.2725332\ttotal: 1.37s\tremaining: 3.19s\n",
      "18:\tlearn: 2337.5966822\ttotal: 1.44s\tremaining: 3.11s\n",
      "19:\tlearn: 2306.8159626\ttotal: 1.51s\tremaining: 3.02s\n",
      "20:\tlearn: 2273.8771056\ttotal: 1.58s\tremaining: 2.93s\n",
      "21:\tlearn: 2243.8554731\ttotal: 1.65s\tremaining: 2.85s\n",
      "22:\tlearn: 2215.6710341\ttotal: 1.72s\tremaining: 2.77s\n",
      "23:\tlearn: 2185.6116275\ttotal: 1.79s\tremaining: 2.68s\n",
      "24:\tlearn: 2160.6016757\ttotal: 1.86s\tremaining: 2.6s\n",
      "25:\tlearn: 2138.4703649\ttotal: 1.93s\tremaining: 2.53s\n",
      "26:\tlearn: 2118.8142991\ttotal: 2s\tremaining: 2.44s\n",
      "27:\tlearn: 2100.9904056\ttotal: 2.07s\tremaining: 2.36s\n",
      "28:\tlearn: 2086.8113064\ttotal: 2.14s\tremaining: 2.29s\n",
      "29:\tlearn: 2071.8582829\ttotal: 2.2s\tremaining: 2.2s\n",
      "30:\tlearn: 2060.5380212\ttotal: 2.27s\tremaining: 2.12s\n",
      "31:\tlearn: 2047.5314440\ttotal: 2.35s\tremaining: 2.05s\n",
      "32:\tlearn: 2036.8743063\ttotal: 2.41s\tremaining: 1.97s\n",
      "33:\tlearn: 2027.1115906\ttotal: 2.48s\tremaining: 1.9s\n",
      "34:\tlearn: 2017.0216595\ttotal: 2.55s\tremaining: 1.82s\n",
      "35:\tlearn: 2009.2425166\ttotal: 2.63s\tremaining: 1.75s\n",
      "36:\tlearn: 2000.8218867\ttotal: 2.71s\tremaining: 1.68s\n",
      "37:\tlearn: 1992.6692667\ttotal: 2.77s\tremaining: 1.6s\n",
      "38:\tlearn: 1984.8458628\ttotal: 2.86s\tremaining: 1.54s\n",
      "39:\tlearn: 1978.8045841\ttotal: 2.94s\tremaining: 1.47s\n",
      "40:\tlearn: 1972.4505104\ttotal: 3.02s\tremaining: 1.4s\n",
      "41:\tlearn: 1966.4287031\ttotal: 3.09s\tremaining: 1.32s\n",
      "42:\tlearn: 1960.0805731\ttotal: 3.16s\tremaining: 1.25s\n",
      "43:\tlearn: 1954.0164255\ttotal: 3.25s\tremaining: 1.18s\n",
      "44:\tlearn: 1948.7755518\ttotal: 3.32s\tremaining: 1.11s\n",
      "45:\tlearn: 1944.7568440\ttotal: 3.4s\tremaining: 1.03s\n",
      "46:\tlearn: 1940.5658845\ttotal: 3.47s\tremaining: 959ms\n",
      "47:\tlearn: 1935.5895490\ttotal: 3.54s\tremaining: 886ms\n",
      "48:\tlearn: 1931.7350511\ttotal: 3.62s\tremaining: 813ms\n",
      "49:\tlearn: 1928.1330359\ttotal: 3.69s\tremaining: 738ms\n",
      "50:\tlearn: 1923.1783526\ttotal: 3.76s\tremaining: 664ms\n",
      "51:\tlearn: 1920.3157327\ttotal: 3.84s\tremaining: 590ms\n",
      "52:\tlearn: 1917.5273594\ttotal: 3.91s\tremaining: 517ms\n",
      "53:\tlearn: 1913.7563902\ttotal: 3.98s\tremaining: 443ms\n",
      "54:\tlearn: 1910.5940789\ttotal: 4.05s\tremaining: 368ms\n",
      "55:\tlearn: 1907.8439474\ttotal: 4.13s\tremaining: 295ms\n",
      "56:\tlearn: 1904.3487950\ttotal: 4.22s\tremaining: 222ms\n",
      "57:\tlearn: 1901.9127442\ttotal: 4.29s\tremaining: 148ms\n",
      "58:\tlearn: 1898.2206120\ttotal: 4.37s\tremaining: 74ms\n",
      "59:\tlearn: 1894.1393451\ttotal: 4.43s\tremaining: 0us\n",
      "0:\tlearn: 4370.6856648\ttotal: 123ms\tremaining: 7.24s\n",
      "1:\tlearn: 4122.5077671\ttotal: 187ms\tremaining: 5.42s\n",
      "2:\tlearn: 3885.5830021\ttotal: 262ms\tremaining: 4.99s\n",
      "3:\tlearn: 3685.0480078\ttotal: 353ms\tremaining: 4.94s\n",
      "4:\tlearn: 3506.6058596\ttotal: 428ms\tremaining: 4.71s\n",
      "5:\tlearn: 3347.5742002\ttotal: 496ms\tremaining: 4.46s\n",
      "6:\tlearn: 3210.6521061\ttotal: 586ms\tremaining: 4.43s\n",
      "7:\tlearn: 3084.3345720\ttotal: 656ms\tremaining: 4.26s\n",
      "8:\tlearn: 2974.6926639\ttotal: 735ms\tremaining: 4.17s\n",
      "9:\tlearn: 2872.6833805\ttotal: 800ms\tremaining: 4s\n",
      "10:\tlearn: 2786.6370620\ttotal: 864ms\tremaining: 3.85s\n",
      "11:\tlearn: 2714.7441438\ttotal: 941ms\tremaining: 3.77s\n",
      "12:\tlearn: 2645.8877593\ttotal: 1.03s\tremaining: 3.73s\n",
      "13:\tlearn: 2575.1539336\ttotal: 1.1s\tremaining: 3.63s\n",
      "14:\tlearn: 2517.8444732\ttotal: 1.2s\tremaining: 3.61s\n",
      "15:\tlearn: 2464.5791465\ttotal: 1.3s\tremaining: 3.58s\n",
      "16:\tlearn: 2418.0443577\ttotal: 1.41s\tremaining: 3.55s\n",
      "17:\tlearn: 2375.2725332\ttotal: 1.47s\tremaining: 3.44s\n",
      "18:\tlearn: 2337.5966822\ttotal: 1.54s\tremaining: 3.33s\n",
      "19:\tlearn: 2306.8159626\ttotal: 1.61s\tremaining: 3.23s\n",
      "20:\tlearn: 2273.8771056\ttotal: 1.68s\tremaining: 3.12s\n",
      "21:\tlearn: 2243.8554731\ttotal: 1.75s\tremaining: 3.02s\n",
      "22:\tlearn: 2215.6710341\ttotal: 1.83s\tremaining: 2.94s\n",
      "23:\tlearn: 2185.6116275\ttotal: 1.9s\tremaining: 2.85s\n",
      "24:\tlearn: 2160.6016757\ttotal: 1.96s\tremaining: 2.75s\n",
      "25:\tlearn: 2138.4703649\ttotal: 2.03s\tremaining: 2.66s\n",
      "26:\tlearn: 2118.8142991\ttotal: 2.11s\tremaining: 2.58s\n",
      "27:\tlearn: 2100.9904056\ttotal: 2.18s\tremaining: 2.5s\n",
      "28:\tlearn: 2086.8113064\ttotal: 2.25s\tremaining: 2.4s\n",
      "29:\tlearn: 2071.8582829\ttotal: 2.32s\tremaining: 2.32s\n",
      "30:\tlearn: 2060.5380212\ttotal: 2.4s\tremaining: 2.24s\n",
      "31:\tlearn: 2047.5314440\ttotal: 2.46s\tremaining: 2.15s\n",
      "32:\tlearn: 2036.8743063\ttotal: 2.53s\tremaining: 2.07s\n",
      "33:\tlearn: 2027.1115906\ttotal: 2.61s\tremaining: 1.99s\n",
      "34:\tlearn: 2017.0216595\ttotal: 2.68s\tremaining: 1.91s\n",
      "35:\tlearn: 2009.2425166\ttotal: 2.75s\tremaining: 1.83s\n",
      "36:\tlearn: 2000.8218867\ttotal: 2.83s\tremaining: 1.76s\n",
      "37:\tlearn: 1992.6692667\ttotal: 2.91s\tremaining: 1.69s\n",
      "38:\tlearn: 1984.8458628\ttotal: 2.99s\tremaining: 1.61s\n",
      "39:\tlearn: 1978.8045841\ttotal: 3.05s\tremaining: 1.53s\n",
      "40:\tlearn: 1972.4505104\ttotal: 3.14s\tremaining: 1.45s\n",
      "41:\tlearn: 1966.4287031\ttotal: 3.22s\tremaining: 1.38s\n",
      "42:\tlearn: 1960.0805731\ttotal: 3.32s\tremaining: 1.31s\n",
      "43:\tlearn: 1954.0164255\ttotal: 3.42s\tremaining: 1.24s\n",
      "44:\tlearn: 1948.7755518\ttotal: 3.53s\tremaining: 1.18s\n",
      "45:\tlearn: 1944.7568440\ttotal: 3.63s\tremaining: 1.1s\n",
      "46:\tlearn: 1940.5658845\ttotal: 3.74s\tremaining: 1.03s\n",
      "47:\tlearn: 1935.5895490\ttotal: 3.84s\tremaining: 960ms\n",
      "48:\tlearn: 1931.7350511\ttotal: 3.92s\tremaining: 880ms\n",
      "49:\tlearn: 1928.1330359\ttotal: 4.01s\tremaining: 802ms\n",
      "50:\tlearn: 1923.1783526\ttotal: 4.09s\tremaining: 722ms\n",
      "51:\tlearn: 1920.3157327\ttotal: 4.15s\tremaining: 639ms\n",
      "52:\tlearn: 1917.5273594\ttotal: 4.22s\tremaining: 558ms\n",
      "53:\tlearn: 1913.7563902\ttotal: 4.3s\tremaining: 478ms\n",
      "54:\tlearn: 1910.5940789\ttotal: 4.37s\tremaining: 398ms\n",
      "55:\tlearn: 1907.8439474\ttotal: 4.44s\tremaining: 317ms\n",
      "56:\tlearn: 1904.3487950\ttotal: 4.51s\tremaining: 238ms\n",
      "57:\tlearn: 1901.9127442\ttotal: 4.59s\tremaining: 158ms\n",
      "58:\tlearn: 1898.2206120\ttotal: 4.66s\tremaining: 79ms\n",
      "59:\tlearn: 1894.1393451\ttotal: 4.72s\tremaining: 0us\n",
      "0:\tlearn: 4370.6856648\ttotal: 102ms\tremaining: 6.02s\n",
      "1:\tlearn: 4122.5077671\ttotal: 197ms\tremaining: 5.73s\n",
      "2:\tlearn: 3885.5830021\ttotal: 263ms\tremaining: 5s\n",
      "3:\tlearn: 3685.0480078\ttotal: 353ms\tremaining: 4.94s\n",
      "4:\tlearn: 3506.6058596\ttotal: 434ms\tremaining: 4.77s\n",
      "5:\tlearn: 3347.5742002\ttotal: 513ms\tremaining: 4.62s\n",
      "6:\tlearn: 3210.6521061\ttotal: 612ms\tremaining: 4.63s\n",
      "7:\tlearn: 3084.3345720\ttotal: 726ms\tremaining: 4.72s\n",
      "8:\tlearn: 2974.6926639\ttotal: 806ms\tremaining: 4.57s\n",
      "9:\tlearn: 2872.6833805\ttotal: 875ms\tremaining: 4.37s\n",
      "10:\tlearn: 2786.6370620\ttotal: 946ms\tremaining: 4.21s\n",
      "11:\tlearn: 2714.7441438\ttotal: 1.02s\tremaining: 4.09s\n",
      "12:\tlearn: 2645.8877593\ttotal: 1.1s\tremaining: 3.97s\n",
      "13:\tlearn: 2575.1539336\ttotal: 1.17s\tremaining: 3.85s\n",
      "14:\tlearn: 2517.8444732\ttotal: 1.24s\tremaining: 3.72s\n",
      "15:\tlearn: 2464.5791465\ttotal: 1.31s\tremaining: 3.62s\n",
      "16:\tlearn: 2418.0443577\ttotal: 1.41s\tremaining: 3.57s\n",
      "17:\tlearn: 2375.2725332\ttotal: 1.48s\tremaining: 3.45s\n",
      "18:\tlearn: 2337.5966822\ttotal: 1.55s\tremaining: 3.34s\n",
      "19:\tlearn: 2306.8159626\ttotal: 1.63s\tremaining: 3.25s\n",
      "20:\tlearn: 2273.8771056\ttotal: 1.71s\tremaining: 3.17s\n",
      "21:\tlearn: 2243.8554731\ttotal: 1.82s\tremaining: 3.15s\n",
      "22:\tlearn: 2215.6710341\ttotal: 1.92s\tremaining: 3.08s\n",
      "23:\tlearn: 2185.6116275\ttotal: 1.99s\tremaining: 2.99s\n",
      "24:\tlearn: 2160.6016757\ttotal: 2.06s\tremaining: 2.89s\n",
      "25:\tlearn: 2138.4703649\ttotal: 2.13s\tremaining: 2.79s\n",
      "26:\tlearn: 2118.8142991\ttotal: 2.21s\tremaining: 2.7s\n",
      "27:\tlearn: 2100.9904056\ttotal: 2.28s\tremaining: 2.61s\n",
      "28:\tlearn: 2086.8113064\ttotal: 2.35s\tremaining: 2.51s\n",
      "29:\tlearn: 2071.8582829\ttotal: 2.42s\tremaining: 2.42s\n",
      "30:\tlearn: 2060.5380212\ttotal: 2.49s\tremaining: 2.33s\n",
      "31:\tlearn: 2047.5314440\ttotal: 2.57s\tremaining: 2.25s\n",
      "32:\tlearn: 2036.8743063\ttotal: 2.63s\tremaining: 2.15s\n",
      "33:\tlearn: 2027.1115906\ttotal: 2.71s\tremaining: 2.07s\n",
      "34:\tlearn: 2017.0216595\ttotal: 2.79s\tremaining: 1.99s\n",
      "35:\tlearn: 2009.2425166\ttotal: 2.87s\tremaining: 1.91s\n",
      "36:\tlearn: 2000.8218867\ttotal: 2.94s\tremaining: 1.83s\n",
      "37:\tlearn: 1992.6692667\ttotal: 3.02s\tremaining: 1.75s\n",
      "38:\tlearn: 1984.8458628\ttotal: 3.1s\tremaining: 1.67s\n",
      "39:\tlearn: 1978.8045841\ttotal: 3.17s\tremaining: 1.59s\n",
      "40:\tlearn: 1972.4505104\ttotal: 3.25s\tremaining: 1.5s\n",
      "41:\tlearn: 1966.4287031\ttotal: 3.33s\tremaining: 1.43s\n",
      "42:\tlearn: 1960.0805731\ttotal: 3.4s\tremaining: 1.34s\n",
      "43:\tlearn: 1954.0164255\ttotal: 3.49s\tremaining: 1.27s\n",
      "44:\tlearn: 1948.7755518\ttotal: 3.56s\tremaining: 1.19s\n",
      "45:\tlearn: 1944.7568440\ttotal: 3.64s\tremaining: 1.11s\n",
      "46:\tlearn: 1940.5658845\ttotal: 3.7s\tremaining: 1.02s\n",
      "47:\tlearn: 1935.5895490\ttotal: 3.78s\tremaining: 944ms\n",
      "48:\tlearn: 1931.7350511\ttotal: 3.86s\tremaining: 866ms\n",
      "49:\tlearn: 1928.1330359\ttotal: 3.93s\tremaining: 786ms\n",
      "50:\tlearn: 1923.1783526\ttotal: 4s\tremaining: 706ms\n",
      "51:\tlearn: 1920.3157327\ttotal: 4.08s\tremaining: 627ms\n",
      "52:\tlearn: 1917.5273594\ttotal: 4.16s\tremaining: 550ms\n",
      "53:\tlearn: 1913.7563902\ttotal: 4.24s\tremaining: 471ms\n",
      "54:\tlearn: 1910.5940789\ttotal: 4.32s\tremaining: 393ms\n",
      "55:\tlearn: 1907.8439474\ttotal: 4.4s\tremaining: 314ms\n",
      "56:\tlearn: 1904.3487950\ttotal: 4.47s\tremaining: 235ms\n",
      "57:\tlearn: 1901.9127442\ttotal: 4.56s\tremaining: 157ms\n",
      "58:\tlearn: 1898.2206120\ttotal: 4.63s\tremaining: 78.5ms\n",
      "59:\tlearn: 1894.1393451\ttotal: 4.7s\tremaining: 0us\n",
      "0:\tlearn: 4370.6856648\ttotal: 85.2ms\tremaining: 5.03s\n",
      "1:\tlearn: 4122.5077671\ttotal: 150ms\tremaining: 4.36s\n",
      "2:\tlearn: 3885.5830021\ttotal: 215ms\tremaining: 4.08s\n",
      "3:\tlearn: 3685.0480078\ttotal: 306ms\tremaining: 4.28s\n",
      "4:\tlearn: 3506.6058596\ttotal: 387ms\tremaining: 4.25s\n",
      "5:\tlearn: 3347.5742002\ttotal: 497ms\tremaining: 4.47s\n",
      "6:\tlearn: 3210.6521061\ttotal: 596ms\tremaining: 4.51s\n",
      "7:\tlearn: 3084.3345720\ttotal: 702ms\tremaining: 4.56s\n",
      "8:\tlearn: 2974.6926639\ttotal: 787ms\tremaining: 4.46s\n",
      "9:\tlearn: 2872.6833805\ttotal: 866ms\tremaining: 4.33s\n",
      "10:\tlearn: 2786.6370620\ttotal: 932ms\tremaining: 4.15s\n",
      "11:\tlearn: 2714.7441438\ttotal: 1.03s\tremaining: 4.11s\n",
      "12:\tlearn: 2645.8877593\ttotal: 1.1s\tremaining: 3.98s\n",
      "13:\tlearn: 2575.1539336\ttotal: 1.19s\tremaining: 3.91s\n",
      "14:\tlearn: 2517.8444732\ttotal: 1.28s\tremaining: 3.83s\n",
      "15:\tlearn: 2464.5791465\ttotal: 1.37s\tremaining: 3.77s\n",
      "16:\tlearn: 2418.0443577\ttotal: 1.46s\tremaining: 3.69s\n",
      "17:\tlearn: 2375.2725332\ttotal: 1.55s\tremaining: 3.62s\n",
      "18:\tlearn: 2337.5966822\ttotal: 1.64s\tremaining: 3.55s\n",
      "19:\tlearn: 2306.8159626\ttotal: 1.72s\tremaining: 3.45s\n",
      "20:\tlearn: 2273.8771056\ttotal: 1.81s\tremaining: 3.36s\n",
      "21:\tlearn: 2243.8554731\ttotal: 1.91s\tremaining: 3.31s\n",
      "22:\tlearn: 2215.6710341\ttotal: 2.02s\tremaining: 3.25s\n",
      "23:\tlearn: 2185.6116275\ttotal: 2.11s\tremaining: 3.16s\n",
      "24:\tlearn: 2160.6016757\ttotal: 2.19s\tremaining: 3.07s\n",
      "25:\tlearn: 2138.4703649\ttotal: 2.29s\tremaining: 3s\n",
      "26:\tlearn: 2118.8142991\ttotal: 2.4s\tremaining: 2.93s\n",
      "27:\tlearn: 2100.9904056\ttotal: 2.49s\tremaining: 2.85s\n",
      "28:\tlearn: 2086.8113064\ttotal: 2.57s\tremaining: 2.75s\n",
      "29:\tlearn: 2071.8582829\ttotal: 2.65s\tremaining: 2.65s\n",
      "30:\tlearn: 2060.5380212\ttotal: 2.73s\tremaining: 2.56s\n",
      "31:\tlearn: 2047.5314440\ttotal: 2.81s\tremaining: 2.46s\n",
      "32:\tlearn: 2036.8743063\ttotal: 2.89s\tremaining: 2.36s\n",
      "33:\tlearn: 2027.1115906\ttotal: 2.97s\tremaining: 2.27s\n",
      "34:\tlearn: 2017.0216595\ttotal: 3.07s\tremaining: 2.19s\n",
      "35:\tlearn: 2009.2425166\ttotal: 3.15s\tremaining: 2.1s\n",
      "36:\tlearn: 2000.8218867\ttotal: 3.23s\tremaining: 2.01s\n",
      "37:\tlearn: 1992.6692667\ttotal: 3.3s\tremaining: 1.91s\n",
      "38:\tlearn: 1984.8458628\ttotal: 3.37s\tremaining: 1.81s\n",
      "39:\tlearn: 1978.8045841\ttotal: 3.44s\tremaining: 1.72s\n",
      "40:\tlearn: 1972.4505104\ttotal: 3.53s\tremaining: 1.64s\n",
      "41:\tlearn: 1966.4287031\ttotal: 3.62s\tremaining: 1.55s\n",
      "42:\tlearn: 1960.0805731\ttotal: 3.69s\tremaining: 1.46s\n",
      "43:\tlearn: 1954.0164255\ttotal: 3.77s\tremaining: 1.37s\n",
      "44:\tlearn: 1948.7755518\ttotal: 3.86s\tremaining: 1.29s\n",
      "45:\tlearn: 1944.7568440\ttotal: 3.95s\tremaining: 1.2s\n",
      "46:\tlearn: 1940.5658845\ttotal: 4.04s\tremaining: 1.12s\n",
      "47:\tlearn: 1935.5895490\ttotal: 4.11s\tremaining: 1.03s\n",
      "48:\tlearn: 1931.7350511\ttotal: 4.2s\tremaining: 942ms\n",
      "49:\tlearn: 1928.1330359\ttotal: 4.26s\tremaining: 852ms\n",
      "50:\tlearn: 1923.1783526\ttotal: 4.33s\tremaining: 765ms\n",
      "51:\tlearn: 1920.3157327\ttotal: 4.41s\tremaining: 678ms\n",
      "52:\tlearn: 1917.5273594\ttotal: 4.47s\tremaining: 591ms\n",
      "53:\tlearn: 1913.7563902\ttotal: 4.54s\tremaining: 505ms\n",
      "54:\tlearn: 1910.5940789\ttotal: 4.63s\tremaining: 421ms\n",
      "55:\tlearn: 1907.8439474\ttotal: 4.73s\tremaining: 338ms\n",
      "56:\tlearn: 1904.3487950\ttotal: 4.82s\tremaining: 254ms\n",
      "57:\tlearn: 1901.9127442\ttotal: 4.88s\tremaining: 168ms\n",
      "58:\tlearn: 1898.2206120\ttotal: 4.95s\tremaining: 84ms\n",
      "59:\tlearn: 1894.1393451\ttotal: 5.04s\tremaining: 0us\n",
      "0:\tlearn: 4370.6856648\ttotal: 99.3ms\tremaining: 5.86s\n",
      "1:\tlearn: 4122.5077671\ttotal: 175ms\tremaining: 5.07s\n",
      "2:\tlearn: 3885.5830021\ttotal: 244ms\tremaining: 4.63s\n",
      "3:\tlearn: 3685.0480078\ttotal: 328ms\tremaining: 4.59s\n",
      "4:\tlearn: 3506.6058596\ttotal: 396ms\tremaining: 4.36s\n",
      "5:\tlearn: 3347.5742002\ttotal: 478ms\tremaining: 4.3s\n",
      "6:\tlearn: 3210.6521061\ttotal: 569ms\tremaining: 4.31s\n",
      "7:\tlearn: 3084.3345720\ttotal: 655ms\tremaining: 4.25s\n",
      "8:\tlearn: 2974.6926639\ttotal: 720ms\tremaining: 4.08s\n",
      "9:\tlearn: 2872.6833805\ttotal: 790ms\tremaining: 3.95s\n",
      "10:\tlearn: 2786.6370620\ttotal: 864ms\tremaining: 3.85s\n",
      "11:\tlearn: 2714.7441438\ttotal: 927ms\tremaining: 3.71s\n",
      "12:\tlearn: 2645.8877593\ttotal: 993ms\tremaining: 3.59s\n",
      "13:\tlearn: 2575.1539336\ttotal: 1.07s\tremaining: 3.53s\n",
      "14:\tlearn: 2517.8444732\ttotal: 1.15s\tremaining: 3.44s\n",
      "15:\tlearn: 2464.5791465\ttotal: 1.23s\tremaining: 3.38s\n",
      "16:\tlearn: 2418.0443577\ttotal: 1.3s\tremaining: 3.28s\n",
      "17:\tlearn: 2375.2725332\ttotal: 1.37s\tremaining: 3.2s\n",
      "18:\tlearn: 2337.5966822\ttotal: 1.45s\tremaining: 3.12s\n",
      "19:\tlearn: 2306.8159626\ttotal: 1.52s\tremaining: 3.05s\n",
      "20:\tlearn: 2273.8771056\ttotal: 1.59s\tremaining: 2.95s\n",
      "21:\tlearn: 2243.8554731\ttotal: 1.66s\tremaining: 2.87s\n",
      "22:\tlearn: 2215.6710341\ttotal: 1.74s\tremaining: 2.8s\n",
      "23:\tlearn: 2185.6116275\ttotal: 1.81s\tremaining: 2.71s\n",
      "24:\tlearn: 2160.6016757\ttotal: 1.87s\tremaining: 2.62s\n",
      "25:\tlearn: 2138.4703649\ttotal: 1.95s\tremaining: 2.55s\n",
      "26:\tlearn: 2118.8142991\ttotal: 2.02s\tremaining: 2.47s\n",
      "27:\tlearn: 2100.9904056\ttotal: 2.09s\tremaining: 2.39s\n",
      "28:\tlearn: 2086.8113064\ttotal: 2.16s\tremaining: 2.31s\n",
      "29:\tlearn: 2071.8582829\ttotal: 2.23s\tremaining: 2.23s\n",
      "30:\tlearn: 2060.5380212\ttotal: 2.3s\tremaining: 2.15s\n",
      "31:\tlearn: 2047.5314440\ttotal: 2.37s\tremaining: 2.07s\n",
      "32:\tlearn: 2036.8743063\ttotal: 2.44s\tremaining: 2s\n",
      "33:\tlearn: 2027.1115906\ttotal: 2.52s\tremaining: 1.93s\n",
      "34:\tlearn: 2017.0216595\ttotal: 2.61s\tremaining: 1.86s\n",
      "35:\tlearn: 2009.2425166\ttotal: 2.7s\tremaining: 1.8s\n",
      "36:\tlearn: 2000.8218867\ttotal: 2.78s\tremaining: 1.73s\n",
      "37:\tlearn: 1992.6692667\ttotal: 2.86s\tremaining: 1.66s\n",
      "38:\tlearn: 1984.8458628\ttotal: 2.94s\tremaining: 1.58s\n",
      "39:\tlearn: 1978.8045841\ttotal: 3.02s\tremaining: 1.51s\n",
      "40:\tlearn: 1972.4505104\ttotal: 3.11s\tremaining: 1.44s\n",
      "41:\tlearn: 1966.4287031\ttotal: 3.18s\tremaining: 1.36s\n",
      "42:\tlearn: 1960.0805731\ttotal: 3.25s\tremaining: 1.29s\n",
      "43:\tlearn: 1954.0164255\ttotal: 3.33s\tremaining: 1.21s\n",
      "44:\tlearn: 1948.7755518\ttotal: 3.41s\tremaining: 1.14s\n",
      "45:\tlearn: 1944.7568440\ttotal: 3.48s\tremaining: 1.06s\n",
      "46:\tlearn: 1940.5658845\ttotal: 3.58s\tremaining: 991ms\n",
      "47:\tlearn: 1935.5895490\ttotal: 3.65s\tremaining: 912ms\n",
      "48:\tlearn: 1931.7350511\ttotal: 3.73s\tremaining: 836ms\n",
      "49:\tlearn: 1928.1330359\ttotal: 3.8s\tremaining: 761ms\n",
      "50:\tlearn: 1923.1783526\ttotal: 3.88s\tremaining: 684ms\n",
      "51:\tlearn: 1920.3157327\ttotal: 3.95s\tremaining: 607ms\n",
      "52:\tlearn: 1917.5273594\ttotal: 4.02s\tremaining: 531ms\n",
      "53:\tlearn: 1913.7563902\ttotal: 4.1s\tremaining: 455ms\n",
      "54:\tlearn: 1910.5940789\ttotal: 4.19s\tremaining: 381ms\n",
      "55:\tlearn: 1907.8439474\ttotal: 4.26s\tremaining: 304ms\n",
      "56:\tlearn: 1904.3487950\ttotal: 4.32s\tremaining: 228ms\n",
      "57:\tlearn: 1901.9127442\ttotal: 4.4s\tremaining: 152ms\n",
      "58:\tlearn: 1898.2206120\ttotal: 4.49s\tremaining: 76.1ms\n",
      "59:\tlearn: 1894.1393451\ttotal: 4.57s\tremaining: 0us\n",
      "0:\tlearn: 4370.6856648\ttotal: 96.9ms\tremaining: 5.72s\n",
      "1:\tlearn: 4122.5077671\ttotal: 176ms\tremaining: 5.11s\n",
      "2:\tlearn: 3885.5830021\ttotal: 268ms\tremaining: 5.1s\n",
      "3:\tlearn: 3685.0480078\ttotal: 369ms\tremaining: 5.17s\n",
      "4:\tlearn: 3506.6058596\ttotal: 436ms\tremaining: 4.79s\n",
      "5:\tlearn: 3347.5742002\ttotal: 511ms\tremaining: 4.6s\n",
      "6:\tlearn: 3210.6521061\ttotal: 600ms\tremaining: 4.54s\n",
      "7:\tlearn: 3084.3345720\ttotal: 672ms\tremaining: 4.37s\n",
      "8:\tlearn: 2974.6926639\ttotal: 740ms\tremaining: 4.19s\n",
      "9:\tlearn: 2872.6833805\ttotal: 812ms\tremaining: 4.06s\n",
      "10:\tlearn: 2786.6370620\ttotal: 885ms\tremaining: 3.94s\n",
      "11:\tlearn: 2714.7441438\ttotal: 960ms\tremaining: 3.84s\n",
      "12:\tlearn: 2645.8877593\ttotal: 1.03s\tremaining: 3.72s\n",
      "13:\tlearn: 2575.1539336\ttotal: 1.11s\tremaining: 3.65s\n",
      "14:\tlearn: 2517.8444732\ttotal: 1.18s\tremaining: 3.55s\n",
      "15:\tlearn: 2464.5791465\ttotal: 1.25s\tremaining: 3.45s\n",
      "16:\tlearn: 2418.0443577\ttotal: 1.32s\tremaining: 3.34s\n",
      "17:\tlearn: 2375.2725332\ttotal: 1.39s\tremaining: 3.25s\n",
      "18:\tlearn: 2337.5966822\ttotal: 1.47s\tremaining: 3.17s\n",
      "19:\tlearn: 2306.8159626\ttotal: 1.53s\tremaining: 3.06s\n",
      "20:\tlearn: 2273.8771056\ttotal: 1.6s\tremaining: 2.97s\n",
      "21:\tlearn: 2243.8554731\ttotal: 1.67s\tremaining: 2.88s\n",
      "22:\tlearn: 2215.6710341\ttotal: 1.73s\tremaining: 2.79s\n",
      "23:\tlearn: 2185.6116275\ttotal: 1.8s\tremaining: 2.71s\n",
      "24:\tlearn: 2160.6016757\ttotal: 1.88s\tremaining: 2.63s\n",
      "25:\tlearn: 2138.4703649\ttotal: 1.95s\tremaining: 2.54s\n",
      "26:\tlearn: 2118.8142991\ttotal: 2.01s\tremaining: 2.46s\n",
      "27:\tlearn: 2100.9904056\ttotal: 2.09s\tremaining: 2.38s\n",
      "28:\tlearn: 2086.8113064\ttotal: 2.15s\tremaining: 2.3s\n",
      "29:\tlearn: 2071.8582829\ttotal: 2.22s\tremaining: 2.22s\n",
      "30:\tlearn: 2060.5380212\ttotal: 2.3s\tremaining: 2.15s\n",
      "31:\tlearn: 2047.5314440\ttotal: 2.37s\tremaining: 2.08s\n",
      "32:\tlearn: 2036.8743063\ttotal: 2.44s\tremaining: 2s\n",
      "33:\tlearn: 2027.1115906\ttotal: 2.51s\tremaining: 1.92s\n",
      "34:\tlearn: 2017.0216595\ttotal: 2.59s\tremaining: 1.85s\n",
      "35:\tlearn: 2009.2425166\ttotal: 2.67s\tremaining: 1.78s\n",
      "36:\tlearn: 2000.8218867\ttotal: 2.73s\tremaining: 1.7s\n",
      "37:\tlearn: 1992.6692667\ttotal: 2.8s\tremaining: 1.62s\n",
      "38:\tlearn: 1984.8458628\ttotal: 2.88s\tremaining: 1.55s\n",
      "39:\tlearn: 1978.8045841\ttotal: 2.94s\tremaining: 1.47s\n",
      "40:\tlearn: 1972.4505104\ttotal: 3.02s\tremaining: 1.4s\n",
      "41:\tlearn: 1966.4287031\ttotal: 3.1s\tremaining: 1.33s\n",
      "42:\tlearn: 1960.0805731\ttotal: 3.17s\tremaining: 1.25s\n",
      "43:\tlearn: 1954.0164255\ttotal: 3.25s\tremaining: 1.18s\n",
      "44:\tlearn: 1948.7755518\ttotal: 3.32s\tremaining: 1.1s\n",
      "45:\tlearn: 1944.7568440\ttotal: 3.39s\tremaining: 1.03s\n",
      "46:\tlearn: 1940.5658845\ttotal: 3.49s\tremaining: 964ms\n",
      "47:\tlearn: 1935.5895490\ttotal: 3.57s\tremaining: 892ms\n",
      "48:\tlearn: 1931.7350511\ttotal: 3.64s\tremaining: 817ms\n",
      "49:\tlearn: 1928.1330359\ttotal: 3.71s\tremaining: 742ms\n",
      "50:\tlearn: 1923.1783526\ttotal: 3.78s\tremaining: 667ms\n",
      "51:\tlearn: 1920.3157327\ttotal: 3.86s\tremaining: 594ms\n",
      "52:\tlearn: 1917.5273594\ttotal: 3.94s\tremaining: 520ms\n",
      "53:\tlearn: 1913.7563902\ttotal: 4s\tremaining: 445ms\n",
      "54:\tlearn: 1910.5940789\ttotal: 4.08s\tremaining: 371ms\n",
      "55:\tlearn: 1907.8439474\ttotal: 4.16s\tremaining: 297ms\n",
      "56:\tlearn: 1904.3487950\ttotal: 4.24s\tremaining: 223ms\n",
      "57:\tlearn: 1901.9127442\ttotal: 4.3s\tremaining: 148ms\n",
      "58:\tlearn: 1898.2206120\ttotal: 4.38s\tremaining: 74.2ms\n",
      "59:\tlearn: 1894.1393451\ttotal: 4.46s\tremaining: 0us\n",
      "0:\tlearn: 4370.6856648\ttotal: 125ms\tremaining: 7.4s\n",
      "1:\tlearn: 4122.5077671\ttotal: 200ms\tremaining: 5.81s\n",
      "2:\tlearn: 3885.5830021\ttotal: 271ms\tremaining: 5.14s\n",
      "3:\tlearn: 3685.0480078\ttotal: 364ms\tremaining: 5.09s\n",
      "4:\tlearn: 3506.6058596\ttotal: 439ms\tremaining: 4.83s\n",
      "5:\tlearn: 3347.5742002\ttotal: 541ms\tremaining: 4.87s\n",
      "6:\tlearn: 3210.6521061\ttotal: 617ms\tremaining: 4.67s\n",
      "7:\tlearn: 3084.3345720\ttotal: 688ms\tremaining: 4.47s\n",
      "8:\tlearn: 2974.6926639\ttotal: 763ms\tremaining: 4.33s\n",
      "9:\tlearn: 2872.6833805\ttotal: 829ms\tremaining: 4.14s\n",
      "10:\tlearn: 2786.6370620\ttotal: 891ms\tremaining: 3.97s\n",
      "11:\tlearn: 2714.7441438\ttotal: 965ms\tremaining: 3.86s\n",
      "12:\tlearn: 2645.8877593\ttotal: 1.04s\tremaining: 3.75s\n",
      "13:\tlearn: 2575.1539336\ttotal: 1.11s\tremaining: 3.65s\n",
      "14:\tlearn: 2517.8444732\ttotal: 1.18s\tremaining: 3.53s\n",
      "15:\tlearn: 2464.5791465\ttotal: 1.25s\tremaining: 3.43s\n",
      "16:\tlearn: 2418.0443577\ttotal: 1.3s\tremaining: 3.3s\n",
      "17:\tlearn: 2375.2725332\ttotal: 1.37s\tremaining: 3.19s\n",
      "18:\tlearn: 2337.5966822\ttotal: 1.44s\tremaining: 3.11s\n",
      "19:\tlearn: 2306.8159626\ttotal: 1.51s\tremaining: 3.02s\n",
      "20:\tlearn: 2273.8771056\ttotal: 1.58s\tremaining: 2.94s\n",
      "21:\tlearn: 2243.8554731\ttotal: 1.67s\tremaining: 2.88s\n",
      "22:\tlearn: 2215.6710341\ttotal: 1.75s\tremaining: 2.82s\n",
      "23:\tlearn: 2185.6116275\ttotal: 1.83s\tremaining: 2.75s\n",
      "24:\tlearn: 2160.6016757\ttotal: 1.91s\tremaining: 2.67s\n",
      "25:\tlearn: 2138.4703649\ttotal: 1.98s\tremaining: 2.58s\n",
      "26:\tlearn: 2118.8142991\ttotal: 2.05s\tremaining: 2.5s\n",
      "27:\tlearn: 2100.9904056\ttotal: 2.12s\tremaining: 2.42s\n",
      "28:\tlearn: 2086.8113064\ttotal: 2.19s\tremaining: 2.34s\n",
      "29:\tlearn: 2071.8582829\ttotal: 2.25s\tremaining: 2.25s\n",
      "30:\tlearn: 2060.5380212\ttotal: 2.33s\tremaining: 2.17s\n",
      "31:\tlearn: 2047.5314440\ttotal: 2.39s\tremaining: 2.09s\n",
      "32:\tlearn: 2036.8743063\ttotal: 2.46s\tremaining: 2.01s\n",
      "33:\tlearn: 2027.1115906\ttotal: 2.54s\tremaining: 1.94s\n",
      "34:\tlearn: 2017.0216595\ttotal: 2.61s\tremaining: 1.86s\n",
      "35:\tlearn: 2009.2425166\ttotal: 2.67s\tremaining: 1.78s\n",
      "36:\tlearn: 2000.8218867\ttotal: 2.74s\tremaining: 1.71s\n",
      "37:\tlearn: 1992.6692667\ttotal: 2.82s\tremaining: 1.63s\n",
      "38:\tlearn: 1984.8458628\ttotal: 2.89s\tremaining: 1.55s\n",
      "39:\tlearn: 1978.8045841\ttotal: 2.96s\tremaining: 1.48s\n",
      "40:\tlearn: 1972.4505104\ttotal: 3.03s\tremaining: 1.41s\n",
      "41:\tlearn: 1966.4287031\ttotal: 3.11s\tremaining: 1.33s\n",
      "42:\tlearn: 1960.0805731\ttotal: 3.18s\tremaining: 1.26s\n",
      "43:\tlearn: 1954.0164255\ttotal: 3.25s\tremaining: 1.18s\n",
      "44:\tlearn: 1948.7755518\ttotal: 3.33s\tremaining: 1.11s\n",
      "45:\tlearn: 1944.7568440\ttotal: 3.4s\tremaining: 1.03s\n",
      "46:\tlearn: 1940.5658845\ttotal: 3.47s\tremaining: 961ms\n",
      "47:\tlearn: 1935.5895490\ttotal: 3.55s\tremaining: 888ms\n",
      "48:\tlearn: 1931.7350511\ttotal: 3.64s\tremaining: 817ms\n",
      "49:\tlearn: 1928.1330359\ttotal: 3.73s\tremaining: 746ms\n",
      "50:\tlearn: 1923.1783526\ttotal: 3.83s\tremaining: 676ms\n",
      "51:\tlearn: 1920.3157327\ttotal: 3.92s\tremaining: 603ms\n",
      "52:\tlearn: 1917.5273594\ttotal: 4.03s\tremaining: 532ms\n",
      "53:\tlearn: 1913.7563902\ttotal: 4.14s\tremaining: 460ms\n",
      "54:\tlearn: 1910.5940789\ttotal: 4.23s\tremaining: 385ms\n",
      "55:\tlearn: 1907.8439474\ttotal: 4.32s\tremaining: 308ms\n",
      "56:\tlearn: 1904.3487950\ttotal: 4.41s\tremaining: 232ms\n",
      "57:\tlearn: 1901.9127442\ttotal: 4.48s\tremaining: 154ms\n",
      "58:\tlearn: 1898.2206120\ttotal: 4.56s\tremaining: 77.3ms\n",
      "59:\tlearn: 1894.1393451\ttotal: 4.63s\tremaining: 0us\n",
      "0:\tlearn: 4370.6856648\ttotal: 89.1ms\tremaining: 5.25s\n",
      "1:\tlearn: 4122.5077671\ttotal: 162ms\tremaining: 4.7s\n",
      "2:\tlearn: 3885.5830021\ttotal: 226ms\tremaining: 4.3s\n",
      "3:\tlearn: 3685.0480078\ttotal: 322ms\tremaining: 4.5s\n",
      "4:\tlearn: 3506.6058596\ttotal: 387ms\tremaining: 4.26s\n",
      "5:\tlearn: 3347.5742002\ttotal: 461ms\tremaining: 4.15s\n",
      "6:\tlearn: 3210.6521061\ttotal: 548ms\tremaining: 4.15s\n",
      "7:\tlearn: 3084.3345720\ttotal: 631ms\tremaining: 4.1s\n",
      "8:\tlearn: 2974.6926639\ttotal: 703ms\tremaining: 3.99s\n",
      "9:\tlearn: 2872.6833805\ttotal: 778ms\tremaining: 3.89s\n",
      "10:\tlearn: 2786.6370620\ttotal: 855ms\tremaining: 3.81s\n",
      "11:\tlearn: 2714.7441438\ttotal: 927ms\tremaining: 3.71s\n",
      "12:\tlearn: 2645.8877593\ttotal: 991ms\tremaining: 3.58s\n",
      "13:\tlearn: 2575.1539336\ttotal: 1.07s\tremaining: 3.51s\n",
      "14:\tlearn: 2517.8444732\ttotal: 1.14s\tremaining: 3.42s\n",
      "15:\tlearn: 2464.5791465\ttotal: 1.21s\tremaining: 3.31s\n",
      "16:\tlearn: 2418.0443577\ttotal: 1.28s\tremaining: 3.23s\n",
      "17:\tlearn: 2375.2725332\ttotal: 1.35s\tremaining: 3.15s\n",
      "18:\tlearn: 2337.5966822\ttotal: 1.42s\tremaining: 3.07s\n",
      "19:\tlearn: 2306.8159626\ttotal: 1.49s\tremaining: 2.98s\n",
      "20:\tlearn: 2273.8771056\ttotal: 1.56s\tremaining: 2.9s\n",
      "21:\tlearn: 2243.8554731\ttotal: 1.64s\tremaining: 2.83s\n",
      "22:\tlearn: 2215.6710341\ttotal: 1.71s\tremaining: 2.75s\n",
      "23:\tlearn: 2185.6116275\ttotal: 1.78s\tremaining: 2.67s\n",
      "24:\tlearn: 2160.6016757\ttotal: 1.85s\tremaining: 2.6s\n",
      "25:\tlearn: 2138.4703649\ttotal: 1.96s\tremaining: 2.56s\n",
      "26:\tlearn: 2118.8142991\ttotal: 2.04s\tremaining: 2.49s\n",
      "27:\tlearn: 2100.9904056\ttotal: 2.11s\tremaining: 2.41s\n",
      "28:\tlearn: 2086.8113064\ttotal: 2.17s\tremaining: 2.32s\n",
      "29:\tlearn: 2071.8582829\ttotal: 2.25s\tremaining: 2.25s\n",
      "30:\tlearn: 2060.5380212\ttotal: 2.32s\tremaining: 2.17s\n",
      "31:\tlearn: 2047.5314440\ttotal: 2.39s\tremaining: 2.09s\n",
      "32:\tlearn: 2036.8743063\ttotal: 2.46s\tremaining: 2.01s\n",
      "33:\tlearn: 2027.1115906\ttotal: 2.53s\tremaining: 1.94s\n",
      "34:\tlearn: 2017.0216595\ttotal: 2.61s\tremaining: 1.86s\n",
      "35:\tlearn: 2009.2425166\ttotal: 2.68s\tremaining: 1.79s\n",
      "36:\tlearn: 2000.8218867\ttotal: 2.75s\tremaining: 1.71s\n",
      "37:\tlearn: 1992.6692667\ttotal: 2.83s\tremaining: 1.64s\n",
      "38:\tlearn: 1984.8458628\ttotal: 2.9s\tremaining: 1.56s\n",
      "39:\tlearn: 1978.8045841\ttotal: 2.98s\tremaining: 1.49s\n",
      "40:\tlearn: 1972.4505104\ttotal: 3.05s\tremaining: 1.41s\n",
      "41:\tlearn: 1966.4287031\ttotal: 3.13s\tremaining: 1.34s\n",
      "42:\tlearn: 1960.0805731\ttotal: 3.21s\tremaining: 1.27s\n",
      "43:\tlearn: 1954.0164255\ttotal: 3.29s\tremaining: 1.19s\n",
      "44:\tlearn: 1948.7755518\ttotal: 3.35s\tremaining: 1.12s\n",
      "45:\tlearn: 1944.7568440\ttotal: 3.43s\tremaining: 1.04s\n",
      "46:\tlearn: 1940.5658845\ttotal: 3.51s\tremaining: 971ms\n",
      "47:\tlearn: 1935.5895490\ttotal: 3.58s\tremaining: 895ms\n",
      "48:\tlearn: 1931.7350511\ttotal: 3.65s\tremaining: 819ms\n",
      "49:\tlearn: 1928.1330359\ttotal: 3.73s\tremaining: 745ms\n",
      "50:\tlearn: 1923.1783526\ttotal: 3.8s\tremaining: 671ms\n",
      "51:\tlearn: 1920.3157327\ttotal: 3.87s\tremaining: 595ms\n",
      "52:\tlearn: 1917.5273594\ttotal: 3.94s\tremaining: 520ms\n",
      "53:\tlearn: 1913.7563902\ttotal: 4.02s\tremaining: 446ms\n",
      "54:\tlearn: 1910.5940789\ttotal: 4.09s\tremaining: 372ms\n",
      "55:\tlearn: 1907.8439474\ttotal: 4.17s\tremaining: 298ms\n",
      "56:\tlearn: 1904.3487950\ttotal: 4.24s\tremaining: 223ms\n",
      "57:\tlearn: 1901.9127442\ttotal: 4.31s\tremaining: 149ms\n",
      "58:\tlearn: 1898.2206120\ttotal: 4.41s\tremaining: 74.7ms\n",
      "59:\tlearn: 1894.1393451\ttotal: 4.48s\tremaining: 0us\n",
      "5.86 s ± 154 ms per loop (mean ± std. dev. of 7 runs, 1 loop each)\n"
     ]
    }
   ],
   "source": [
    "#лучшая модель CatBoostRegressor\n",
    "model = CatBoostRegressor(loss_function=\"RMSE\", iterations=60, random_state=RANDOM_STATE, **model.best_params_)\n",
    "#Время очучения модели\n",
    "%timeit model.fit(features_train, target_train, cat_features =  df.select_dtypes(include='object').columns.tolist())"
   ]
  },
  {
   "cell_type": "code",
   "execution_count": 74,
   "metadata": {},
   "outputs": [
    {
     "name": "stdout",
     "output_type": "stream",
     "text": [
      "263 ms ± 6.42 ms per loop (mean ± std. dev. of 7 runs, 1 loop each)\n"
     ]
    }
   ],
   "source": [
    "#время предсказаний\n",
    "%timeit model.predict(features_train)"
   ]
  },
  {
   "cell_type": "markdown",
   "metadata": {},
   "source": [
    "**Случайный лес**"
   ]
  },
  {
   "cell_type": "code",
   "execution_count": 75,
   "metadata": {},
   "outputs": [
    {
     "name": "stdout",
     "output_type": "stream",
     "text": [
      "Параметры: {'max_depth': 10, 'n_estimators': 20}\n",
      "RMSE: 1825.0438615814649\n"
     ]
    }
   ],
   "source": [
    "# Гиперпараметры для перебора\n",
    "param = {'max_depth': [5, 10],'n_estimators': [10, 20]}\n",
    "\n",
    "estimator = RandomForestRegressor(random_state=RANDOM_STATE)\n",
    "\n",
    "#подбор параметров и обучение\n",
    "model = GridSearchCV(estimator=estimator, param_grid=param,cv=3, scoring='neg_root_mean_squared_error', refit=False)\n",
    "model.fit(features_train_encoded, target_train)\n",
    "\n",
    "# Результат\n",
    "print('Параметры:', model.best_params_)\n",
    "print('RMSE:', model.best_score_*(-1))"
   ]
  },
  {
   "cell_type": "code",
   "execution_count": 76,
   "metadata": {},
   "outputs": [
    {
     "name": "stdout",
     "output_type": "stream",
     "text": [
      "5.94 s ± 202 ms per loop (mean ± std. dev. of 7 runs, 1 loop each)\n"
     ]
    }
   ],
   "source": [
    "#лучшая модель случайного леса\n",
    "model = RandomForestRegressor(random_state=RANDOM_STATE, **model.best_params_)\n",
    "#Время очучения модели\n",
    "%timeit model.fit(features_train_encoded, target_train)"
   ]
  },
  {
   "cell_type": "code",
   "execution_count": 77,
   "metadata": {},
   "outputs": [
    {
     "name": "stdout",
     "output_type": "stream",
     "text": [
      "400 ms ± 17.5 ms per loop (mean ± std. dev. of 7 runs, 1 loop each)\n"
     ]
    }
   ],
   "source": [
    "# время предсказаний\n",
    "%timeit model.predict(features_train_encoded)"
   ]
  },
  {
   "cell_type": "markdown",
   "metadata": {},
   "source": [
    "## **Промежуточный вывод**\n",
    "\n",
    "\n",
    "Результат анализа моделей:\n",
    "    \n",
    "    LGBM         : RMSE 1724, среднее время обучения 1 с., среднее время предсказания 430 мс\n",
    "    \n",
    "    catBoost     : RMSE 1898, среднее время обучения 5.86 с., среднее время предсказания 263 мс\n",
    "    \n",
    "    случайный лес: RMSE 1825, среднее время обучения 5.94 с., среднее время предсказания 400 мс\n",
    "    \n",
    "Как видно, LGBM оказалась лучше по качеству предсказаний и скорости обучения, зато хуже всех по скорости предсказаний. Так как заказчику важны все три фактора, то далее выберем модель LGBM как лучшую. Отметим, правда, что все модели проходят по критерию качества так как RSME любой модели меньше 2500"
   ]
  },
  {
   "cell_type": "markdown",
   "metadata": {},
   "source": [
    "## Проверка качества лучшей модели"
   ]
  },
  {
   "cell_type": "code",
   "execution_count": 78,
   "metadata": {},
   "outputs": [
    {
     "data": {
      "text/plain": [
       "1722.9061657853065"
      ]
     },
     "execution_count": 78,
     "metadata": {},
     "output_type": "execute_result"
    }
   ],
   "source": [
    "#лучшая модель LightGBM\n",
    "model = LGBMRegressor(random_state=RANDOM_STATE, learning_rate=0.2 ,n_estimators=20, n_jobs=4)\n",
    "\n",
    "#обучим модель и построим предсказания на тестовой выборке\n",
    "model.fit(features_train_cat, target_train)\n",
    "predictions = model.predict(features_test_cat)\n",
    "\n",
    "# RMSE модели на тестовой выборке\n",
    "mean_squared_error(target_test, predictions, squared=False)"
   ]
  },
  {
   "cell_type": "code",
   "execution_count": 80,
   "metadata": {},
   "outputs": [
    {
     "data": {
      "text/plain": [
       "4649.329359538626"
      ]
     },
     "execution_count": 80,
     "metadata": {},
     "output_type": "execute_result"
    }
   ],
   "source": [
    "#проверим, что эта модель лучше константной модели\n",
    "constant = target_train.mean()\n",
    "constant_predictions = constant * np.ones((len(target_test),1))\n",
    "\n",
    "# RMSE тривиальной модели\n",
    "mean_squared_error(target_test, constant_predictions, squared=False)"
   ]
  },
  {
   "cell_type": "markdown",
   "metadata": {},
   "source": [
    "**Промежуточный вывод**\n",
    "\n",
    "Выбранная модель показала хороший результат на тестовой выборке по метрике RMSE: 1723.\n",
    "\n",
    "Модель прошла проверку на адекватность, RMSE тривиальной модели, предсказывающей цену авто как среднюю цену всех известных модели авто сильно выше - 4649 "
   ]
  },
  {
   "cell_type": "markdown",
   "metadata": {},
   "source": [
    "## Общий вывод"
   ]
  },
  {
   "cell_type": "markdown",
   "metadata": {},
   "source": [
    "Работа по построению моли предсказания стоимости автомобиля состояла из трех частей:\n",
    "    \n",
    "   **1.** Данные были загружены и обработаны. Удалены явные дубликаты. Удалены неинформативные столбцы: 'DateCrawled', 'DateCreated', 'LastSeen', 'NumberOfPictures', 'RegistrationMonth', 'PostalCode'. Пропуски данных обнаружены только в категориальных данных, пропуски заполнены заглушкой 'unknown'. Аномальные значения в количественных данных обнаружены и обработаны. Рассматриваются только авто которые зарегестрированы с 1970 по 2016 года можностью до 600 л.с. Более старые и более мощные авто не рассматриваются, так как таких мало в выборке и это может сказаться на качестве модели. Максимальное и самое распространенное значение пробега 150000 км, вероятно реальные значения пробега выше и 150000 каким-то образом оказалось максимально возможным числом в датасете. В категориальных признаках наблюдается дисбаланс. Подавляющее большенство машин бензиновые (92%). 3/4 машин точно не были в ремонте. Минимум 78% машин с ручной коробкой передач. Основные 3 типа транспортного средства: sedan - 28%, small - 24%, wagon - 20%. Данные разбиты на тестовую и тренировочную выборки в отношении 1:3\n",
    "    \n",
    "   **2.** Исследовано три модели с различными гиперпараметрами.Результат анализа моделей:\n",
    "    \n",
    "    \n",
    "    LGBM         : RMSE 1724, среднее время обучения 1 с., среднее время предсказания 430 мс\n",
    "    \n",
    "    catBoost     : RMSE 1898, среднее время обучения 5.86 с., среднее время предсказания 263 мс\n",
    "    \n",
    "    случайный лес: RMSE 1825, среднее время обучения 5.94 с., среднее время предсказания 400 мс\n",
    "    \n",
    "    \n",
    "   Как видно, LGBM оказалась лучше по качеству предсказаний и скорости обучения, зато хуже всех по скорости предсказаний. Так как заказчику важны все три фактора, то далее выберем модель LGBM как лучшую. Отметим, правда, что все модели проходят по критерию качества так как RSME любой модели меньше 2500. При этом скорость зависит также от гиперпараметров. Однако, изучение большого колиества гиперпараметров не входило в цели этой работы, поэтому просто отметим, что при изменении гиперпараметров результат может измениться и в пользу другой модели\n",
    "    \n",
    "   **3.** Выбранная модель показала хороший результат на тестовой выборке по метрике RMSE: 1766.\n",
    "    Выбранная модель показала хороший результат на тестовой выборке по метрике RMSE: 1723.\n",
    "\n",
    "Модель прошла проверку на адекватность, RMSE тривиальной модели, предсказывающей цену авто как среднюю цену всех известных модели авто сильно выше - 4649 "
   ]
  }
 ],
 "metadata": {
  "ExecuteTimeLog": [
   {
    "duration": 14,
    "start_time": "2023-06-12T07:49:04.862Z"
   },
   {
    "duration": 5,
    "start_time": "2023-06-12T07:49:13.709Z"
   },
   {
    "duration": 1554,
    "start_time": "2023-06-12T07:50:03.262Z"
   },
   {
    "duration": 1077,
    "start_time": "2023-06-12T07:50:26.202Z"
   },
   {
    "duration": 2687,
    "start_time": "2023-06-12T07:50:52.488Z"
   },
   {
    "duration": 38,
    "start_time": "2023-06-12T07:53:10.886Z"
   },
   {
    "duration": 996,
    "start_time": "2023-06-12T07:53:48.594Z"
   },
   {
    "duration": 5,
    "start_time": "2023-06-12T07:54:36.336Z"
   },
   {
    "duration": 5,
    "start_time": "2023-06-12T07:57:21.996Z"
   },
   {
    "duration": 9809,
    "start_time": "2023-06-12T07:57:56.684Z"
   },
   {
    "duration": 6,
    "start_time": "2023-06-12T07:59:50.870Z"
   },
   {
    "duration": 5,
    "start_time": "2023-06-12T08:00:13.077Z"
   },
   {
    "duration": 1025,
    "start_time": "2023-06-12T08:01:56.217Z"
   },
   {
    "duration": 1132,
    "start_time": "2023-06-12T08:02:05.815Z"
   },
   {
    "duration": 6,
    "start_time": "2023-06-12T08:04:53.738Z"
   },
   {
    "duration": 105,
    "start_time": "2023-06-12T08:05:06.868Z"
   },
   {
    "duration": 6,
    "start_time": "2023-06-12T08:05:10.188Z"
   },
   {
    "duration": 5,
    "start_time": "2023-06-12T08:05:16.213Z"
   },
   {
    "duration": 11,
    "start_time": "2023-06-12T08:05:39.891Z"
   },
   {
    "duration": 10,
    "start_time": "2023-06-12T08:07:33.895Z"
   },
   {
    "duration": 9,
    "start_time": "2023-06-12T08:08:12.118Z"
   },
   {
    "duration": 11,
    "start_time": "2023-06-12T08:08:21.081Z"
   },
   {
    "duration": 12,
    "start_time": "2023-06-12T08:08:24.497Z"
   },
   {
    "duration": 11,
    "start_time": "2023-06-12T08:08:32.726Z"
   },
   {
    "duration": 30,
    "start_time": "2023-06-12T08:09:05.488Z"
   },
   {
    "duration": 11,
    "start_time": "2023-06-12T08:09:23.530Z"
   },
   {
    "duration": 28,
    "start_time": "2023-06-12T08:09:32.123Z"
   },
   {
    "duration": 26,
    "start_time": "2023-06-12T08:09:36.564Z"
   },
   {
    "duration": 53,
    "start_time": "2023-06-12T08:11:12.390Z"
   },
   {
    "duration": 45,
    "start_time": "2023-06-12T08:11:44.144Z"
   },
   {
    "duration": 1623,
    "start_time": "2023-06-12T08:12:14.347Z"
   },
   {
    "duration": 122,
    "start_time": "2023-06-12T08:13:12.221Z"
   },
   {
    "duration": 117,
    "start_time": "2023-06-12T08:13:16.148Z"
   },
   {
    "duration": 34,
    "start_time": "2023-06-12T08:13:34.363Z"
   },
   {
    "duration": 7,
    "start_time": "2023-06-12T08:13:38.485Z"
   },
   {
    "duration": 5,
    "start_time": "2023-06-12T08:13:38.667Z"
   },
   {
    "duration": 5,
    "start_time": "2023-06-12T08:13:38.826Z"
   },
   {
    "duration": 3,
    "start_time": "2023-06-12T08:13:39.175Z"
   },
   {
    "duration": 778,
    "start_time": "2023-06-12T08:13:39.404Z"
   },
   {
    "duration": 2813,
    "start_time": "2023-06-12T08:13:40.184Z"
   },
   {
    "duration": 1045,
    "start_time": "2023-06-12T08:13:42.999Z"
   },
   {
    "duration": 28,
    "start_time": "2023-06-12T08:13:44.046Z"
   },
   {
    "duration": 68,
    "start_time": "2023-06-12T08:13:44.076Z"
   },
   {
    "duration": 272,
    "start_time": "2023-06-12T08:13:44.145Z"
   },
   {
    "duration": 10,
    "start_time": "2023-06-12T08:13:44.419Z"
   },
   {
    "duration": 117,
    "start_time": "2023-06-12T08:13:44.430Z"
   },
   {
    "duration": 29,
    "start_time": "2023-06-12T08:14:58.603Z"
   },
   {
    "duration": 46,
    "start_time": "2023-06-12T08:25:52.780Z"
   },
   {
    "duration": 6,
    "start_time": "2023-06-12T08:26:10.555Z"
   },
   {
    "duration": 5,
    "start_time": "2023-06-12T08:26:10.784Z"
   },
   {
    "duration": 5,
    "start_time": "2023-06-12T08:26:11.086Z"
   },
   {
    "duration": 3,
    "start_time": "2023-06-12T08:26:14.389Z"
   },
   {
    "duration": 703,
    "start_time": "2023-06-12T08:26:14.741Z"
   },
   {
    "duration": 2473,
    "start_time": "2023-06-12T08:26:15.446Z"
   },
   {
    "duration": 55,
    "start_time": "2023-06-12T08:26:31.131Z"
   },
   {
    "duration": 9,
    "start_time": "2023-06-12T08:27:03.539Z"
   },
   {
    "duration": 91,
    "start_time": "2023-06-12T08:27:07.343Z"
   },
   {
    "duration": 95,
    "start_time": "2023-06-12T08:27:23.529Z"
   },
   {
    "duration": 39,
    "start_time": "2023-06-12T08:28:44.420Z"
   },
   {
    "duration": 135,
    "start_time": "2023-06-12T08:29:40.070Z"
   },
   {
    "duration": 41,
    "start_time": "2023-06-12T08:30:41.324Z"
   },
   {
    "duration": 8,
    "start_time": "2023-06-12T08:36:12.631Z"
   },
   {
    "duration": 3,
    "start_time": "2023-06-12T08:36:16.626Z"
   },
   {
    "duration": 10023,
    "start_time": "2023-06-12T08:36:18.561Z"
   },
   {
    "duration": 35,
    "start_time": "2023-06-12T08:37:23.591Z"
   },
   {
    "duration": 9,
    "start_time": "2023-06-12T08:38:47.299Z"
   },
   {
    "duration": 32,
    "start_time": "2023-06-12T08:38:57.849Z"
   },
   {
    "duration": 14,
    "start_time": "2023-06-12T08:40:15.189Z"
   },
   {
    "duration": 23,
    "start_time": "2023-06-12T08:40:38.217Z"
   },
   {
    "duration": 21,
    "start_time": "2023-06-12T08:40:43.527Z"
   },
   {
    "duration": 21,
    "start_time": "2023-06-12T08:40:54.543Z"
   },
   {
    "duration": 20,
    "start_time": "2023-06-12T08:45:33.973Z"
   },
   {
    "duration": 18,
    "start_time": "2023-06-12T08:45:42.740Z"
   },
   {
    "duration": 23,
    "start_time": "2023-06-12T08:46:56.791Z"
   },
   {
    "duration": 16,
    "start_time": "2023-06-12T08:49:43.970Z"
   },
   {
    "duration": 15,
    "start_time": "2023-06-12T08:49:47.354Z"
   },
   {
    "duration": 15,
    "start_time": "2023-06-12T08:50:06.002Z"
   },
   {
    "duration": 20,
    "start_time": "2023-06-12T08:51:11.974Z"
   },
   {
    "duration": 5,
    "start_time": "2023-06-12T08:51:56.783Z"
   },
   {
    "duration": 13,
    "start_time": "2023-06-12T08:52:06.844Z"
   },
   {
    "duration": 3600,
    "start_time": "2023-06-12T08:52:14.433Z"
   },
   {
    "duration": 7,
    "start_time": "2023-06-12T08:52:24.110Z"
   },
   {
    "duration": 5,
    "start_time": "2023-06-12T08:52:24.282Z"
   },
   {
    "duration": 5,
    "start_time": "2023-06-12T08:52:24.444Z"
   },
   {
    "duration": 3,
    "start_time": "2023-06-12T08:52:25.309Z"
   },
   {
    "duration": 663,
    "start_time": "2023-06-12T08:52:25.912Z"
   },
   {
    "duration": 2543,
    "start_time": "2023-06-12T08:52:26.577Z"
   },
   {
    "duration": 9856,
    "start_time": "2023-06-12T08:52:29.122Z"
   },
   {
    "duration": 55,
    "start_time": "2023-06-12T08:52:38.980Z"
   },
   {
    "duration": 38,
    "start_time": "2023-06-12T08:52:39.036Z"
   },
   {
    "duration": 39,
    "start_time": "2023-06-12T08:52:39.076Z"
   },
   {
    "duration": 20,
    "start_time": "2023-06-12T08:52:41.573Z"
   },
   {
    "duration": 27,
    "start_time": "2023-06-12T08:52:41.896Z"
   },
   {
    "duration": 5,
    "start_time": "2023-06-12T08:52:42.703Z"
   },
   {
    "duration": 20,
    "start_time": "2023-06-12T08:52:42.977Z"
   },
   {
    "duration": 28,
    "start_time": "2023-06-12T08:52:43.641Z"
   },
   {
    "duration": 51,
    "start_time": "2023-06-12T08:52:44.913Z"
   },
   {
    "duration": 17,
    "start_time": "2023-06-12T08:52:46.379Z"
   },
   {
    "duration": 48,
    "start_time": "2023-06-12T08:52:46.971Z"
   },
   {
    "duration": 12,
    "start_time": "2023-06-12T08:52:48.396Z"
   },
   {
    "duration": 860,
    "start_time": "2023-06-12T08:52:54.769Z"
   },
   {
    "duration": 1203,
    "start_time": "2023-06-12T08:53:07.270Z"
   },
   {
    "duration": 16,
    "start_time": "2023-06-12T08:54:49.560Z"
   },
   {
    "duration": 1016,
    "start_time": "2023-06-12T08:54:50.263Z"
   },
   {
    "duration": 14,
    "start_time": "2023-06-12T08:55:51.360Z"
   },
   {
    "duration": 7,
    "start_time": "2023-06-12T08:55:59.498Z"
   },
   {
    "duration": 5,
    "start_time": "2023-06-12T08:55:59.666Z"
   },
   {
    "duration": 5,
    "start_time": "2023-06-12T08:55:59.834Z"
   },
   {
    "duration": 4,
    "start_time": "2023-06-12T08:56:00.201Z"
   },
   {
    "duration": 814,
    "start_time": "2023-06-12T08:56:00.432Z"
   },
   {
    "duration": 2886,
    "start_time": "2023-06-12T08:56:01.247Z"
   },
   {
    "duration": 10502,
    "start_time": "2023-06-12T08:56:04.135Z"
   },
   {
    "duration": 50,
    "start_time": "2023-06-12T08:56:14.639Z"
   },
   {
    "duration": 16,
    "start_time": "2023-06-12T08:56:14.690Z"
   },
   {
    "duration": 61,
    "start_time": "2023-06-12T08:56:14.707Z"
   },
   {
    "duration": 27,
    "start_time": "2023-06-12T08:56:14.770Z"
   },
   {
    "duration": 55,
    "start_time": "2023-06-12T08:56:14.799Z"
   },
   {
    "duration": 6,
    "start_time": "2023-06-12T08:56:14.856Z"
   },
   {
    "duration": 35,
    "start_time": "2023-06-12T08:56:14.865Z"
   },
   {
    "duration": 49,
    "start_time": "2023-06-12T08:56:14.902Z"
   },
   {
    "duration": 70,
    "start_time": "2023-06-12T08:56:14.952Z"
   },
   {
    "duration": 51,
    "start_time": "2023-06-12T08:56:15.023Z"
   },
   {
    "duration": 83,
    "start_time": "2023-06-12T08:56:15.076Z"
   },
   {
    "duration": 13,
    "start_time": "2023-06-12T08:56:15.161Z"
   },
   {
    "duration": 904,
    "start_time": "2023-06-12T08:56:15.176Z"
   },
   {
    "duration": 723,
    "start_time": "2023-06-12T08:58:31.451Z"
   },
   {
    "duration": 7,
    "start_time": "2023-06-12T08:59:54.627Z"
   },
   {
    "duration": 6,
    "start_time": "2023-06-12T08:59:55.019Z"
   },
   {
    "duration": 5,
    "start_time": "2023-06-12T08:59:55.324Z"
   },
   {
    "duration": 3,
    "start_time": "2023-06-12T08:59:56.226Z"
   },
   {
    "duration": 701,
    "start_time": "2023-06-12T08:59:56.734Z"
   },
   {
    "duration": 2657,
    "start_time": "2023-06-12T08:59:57.436Z"
   },
   {
    "duration": 10017,
    "start_time": "2023-06-12T09:00:00.095Z"
   },
   {
    "duration": 53,
    "start_time": "2023-06-12T09:00:10.114Z"
   },
   {
    "duration": 14,
    "start_time": "2023-06-12T09:00:10.169Z"
   },
   {
    "duration": 49,
    "start_time": "2023-06-12T09:00:10.185Z"
   },
   {
    "duration": 17,
    "start_time": "2023-06-12T09:00:10.236Z"
   },
   {
    "duration": 29,
    "start_time": "2023-06-12T09:00:10.254Z"
   },
   {
    "duration": 5,
    "start_time": "2023-06-12T09:00:10.284Z"
   },
   {
    "duration": 41,
    "start_time": "2023-06-12T09:00:10.290Z"
   },
   {
    "duration": 749,
    "start_time": "2023-06-12T09:00:10.333Z"
   },
   {
    "duration": 127,
    "start_time": "2023-06-12T09:00:18.180Z"
   },
   {
    "duration": 19,
    "start_time": "2023-06-12T09:00:27.009Z"
   },
   {
    "duration": 8,
    "start_time": "2023-06-12T09:01:06.878Z"
   },
   {
    "duration": 248906,
    "start_time": "2023-06-12T09:01:15.704Z"
   },
   {
    "duration": 0,
    "start_time": "2023-06-12T09:05:24.625Z"
   },
   {
    "duration": 6,
    "start_time": "2023-06-12T09:05:30.366Z"
   },
   {
    "duration": 5,
    "start_time": "2023-06-12T09:05:30.531Z"
   },
   {
    "duration": 5,
    "start_time": "2023-06-12T09:05:30.718Z"
   },
   {
    "duration": 3,
    "start_time": "2023-06-12T09:05:31.275Z"
   },
   {
    "duration": 768,
    "start_time": "2023-06-12T09:05:31.529Z"
   },
   {
    "duration": 2476,
    "start_time": "2023-06-12T09:05:32.299Z"
   },
   {
    "duration": 9885,
    "start_time": "2023-06-12T09:05:34.777Z"
   },
   {
    "duration": 39,
    "start_time": "2023-06-12T09:05:44.664Z"
   },
   {
    "duration": 27,
    "start_time": "2023-06-12T09:05:44.705Z"
   },
   {
    "duration": 31,
    "start_time": "2023-06-12T09:05:44.734Z"
   },
   {
    "duration": 24,
    "start_time": "2023-06-12T09:05:44.767Z"
   },
   {
    "duration": 54,
    "start_time": "2023-06-12T09:05:44.793Z"
   },
   {
    "duration": 5,
    "start_time": "2023-06-12T09:05:44.851Z"
   },
   {
    "duration": 34,
    "start_time": "2023-06-12T09:05:44.859Z"
   },
   {
    "duration": 726,
    "start_time": "2023-06-12T09:05:44.894Z"
   },
   {
    "duration": 151,
    "start_time": "2023-06-12T09:05:48.069Z"
   },
   {
    "duration": 16,
    "start_time": "2023-06-12T09:05:48.414Z"
   },
   {
    "duration": 100,
    "start_time": "2023-06-12T09:06:03.002Z"
   },
   {
    "duration": 12,
    "start_time": "2023-06-12T09:06:12.428Z"
   },
   {
    "duration": 5,
    "start_time": "2023-06-12T09:06:46.811Z"
   },
   {
    "duration": 6,
    "start_time": "2023-06-12T09:06:46.987Z"
   },
   {
    "duration": 3,
    "start_time": "2023-06-12T09:06:47.580Z"
   },
   {
    "duration": 690,
    "start_time": "2023-06-12T09:06:47.754Z"
   },
   {
    "duration": 2585,
    "start_time": "2023-06-12T09:06:48.446Z"
   },
   {
    "duration": 9817,
    "start_time": "2023-06-12T09:06:51.032Z"
   },
   {
    "duration": 43,
    "start_time": "2023-06-12T09:07:00.851Z"
   },
   {
    "duration": 15,
    "start_time": "2023-06-12T09:07:00.896Z"
   },
   {
    "duration": 67,
    "start_time": "2023-06-12T09:07:00.924Z"
   },
   {
    "duration": 34,
    "start_time": "2023-06-12T09:07:00.993Z"
   },
   {
    "duration": 56,
    "start_time": "2023-06-12T09:07:01.029Z"
   },
   {
    "duration": 23,
    "start_time": "2023-06-12T09:07:01.087Z"
   },
   {
    "duration": 45,
    "start_time": "2023-06-12T09:07:01.112Z"
   },
   {
    "duration": 818,
    "start_time": "2023-06-12T09:07:01.159Z"
   },
   {
    "duration": 186,
    "start_time": "2023-06-12T09:07:01.978Z"
   },
   {
    "duration": 11,
    "start_time": "2023-06-12T09:07:15.610Z"
   },
   {
    "duration": 7,
    "start_time": "2023-06-12T09:07:21.712Z"
   },
   {
    "duration": 4435,
    "start_time": "2023-06-12T09:08:30.634Z"
   },
   {
    "duration": 1320,
    "start_time": "2023-06-12T09:09:47.260Z"
   },
   {
    "duration": 1378,
    "start_time": "2023-06-12T09:09:57.038Z"
   },
   {
    "duration": 4,
    "start_time": "2023-06-12T09:10:11.223Z"
   },
   {
    "duration": 554,
    "start_time": "2023-06-12T09:10:14.621Z"
   },
   {
    "duration": 568,
    "start_time": "2023-06-12T09:10:34.142Z"
   },
   {
    "duration": 17,
    "start_time": "2023-06-12T09:11:12.959Z"
   },
   {
    "duration": 584,
    "start_time": "2023-06-12T09:11:28.648Z"
   },
   {
    "duration": 6,
    "start_time": "2023-06-12T09:11:43.630Z"
   },
   {
    "duration": 542,
    "start_time": "2023-06-12T09:11:47.785Z"
   },
   {
    "duration": 5,
    "start_time": "2023-06-12T09:12:05.996Z"
   },
   {
    "duration": 5,
    "start_time": "2023-06-12T09:12:06.381Z"
   },
   {
    "duration": 3,
    "start_time": "2023-06-12T09:12:06.780Z"
   },
   {
    "duration": 771,
    "start_time": "2023-06-12T09:12:06.963Z"
   },
   {
    "duration": 2681,
    "start_time": "2023-06-12T09:12:07.736Z"
   },
   {
    "duration": 9805,
    "start_time": "2023-06-12T09:12:14.538Z"
   },
   {
    "duration": 45,
    "start_time": "2023-06-12T09:12:24.345Z"
   },
   {
    "duration": 32,
    "start_time": "2023-06-12T09:12:24.392Z"
   },
   {
    "duration": 33,
    "start_time": "2023-06-12T09:12:24.427Z"
   },
   {
    "duration": 23,
    "start_time": "2023-06-12T09:12:24.462Z"
   },
   {
    "duration": 57,
    "start_time": "2023-06-12T09:12:24.487Z"
   },
   {
    "duration": 7,
    "start_time": "2023-06-12T09:12:24.546Z"
   },
   {
    "duration": 37,
    "start_time": "2023-06-12T09:12:24.555Z"
   },
   {
    "duration": 856,
    "start_time": "2023-06-12T09:12:24.594Z"
   },
   {
    "duration": 183,
    "start_time": "2023-06-12T09:12:25.452Z"
   },
   {
    "duration": 19,
    "start_time": "2023-06-12T09:12:25.637Z"
   },
   {
    "duration": 674,
    "start_time": "2023-06-12T09:12:25.658Z"
   },
   {
    "duration": 6,
    "start_time": "2023-06-12T09:13:09.158Z"
   },
   {
    "duration": 5,
    "start_time": "2023-06-12T09:13:09.799Z"
   },
   {
    "duration": 667,
    "start_time": "2023-06-12T09:13:14.516Z"
   },
   {
    "duration": 5,
    "start_time": "2023-06-12T09:13:27.703Z"
   },
   {
    "duration": 604,
    "start_time": "2023-06-12T09:13:31.020Z"
   },
   {
    "duration": 5,
    "start_time": "2023-06-12T09:14:24.870Z"
   },
   {
    "duration": 624,
    "start_time": "2023-06-12T09:14:29.002Z"
   },
   {
    "duration": 5,
    "start_time": "2023-06-12T09:14:40.753Z"
   },
   {
    "duration": 637,
    "start_time": "2023-06-12T09:14:43.992Z"
   },
   {
    "duration": 6,
    "start_time": "2023-06-12T09:15:08.355Z"
   },
   {
    "duration": 4,
    "start_time": "2023-06-12T09:15:20.738Z"
   },
   {
    "duration": 695,
    "start_time": "2023-06-12T09:15:34.570Z"
   },
   {
    "duration": 9,
    "start_time": "2023-06-12T09:20:57.702Z"
   },
   {
    "duration": 19,
    "start_time": "2023-06-12T09:21:06.148Z"
   },
   {
    "duration": 657,
    "start_time": "2023-06-12T09:21:07.385Z"
   },
   {
    "duration": 39,
    "start_time": "2023-06-12T09:21:27.609Z"
   },
   {
    "duration": 6,
    "start_time": "2023-06-12T09:22:08.448Z"
   },
   {
    "duration": 4,
    "start_time": "2023-06-12T09:22:08.937Z"
   },
   {
    "duration": 6,
    "start_time": "2023-06-12T09:22:09.199Z"
   },
   {
    "duration": 4,
    "start_time": "2023-06-12T09:22:09.944Z"
   },
   {
    "duration": 776,
    "start_time": "2023-06-12T09:22:10.379Z"
   },
   {
    "duration": 2711,
    "start_time": "2023-06-12T09:22:11.823Z"
   },
   {
    "duration": 10058,
    "start_time": "2023-06-12T09:22:16.509Z"
   },
   {
    "duration": 57,
    "start_time": "2023-06-12T09:22:26.568Z"
   },
   {
    "duration": 9,
    "start_time": "2023-06-12T09:22:39.540Z"
   },
   {
    "duration": 10,
    "start_time": "2023-06-12T09:22:50.034Z"
   },
   {
    "duration": 4,
    "start_time": "2023-06-12T09:23:01.941Z"
   },
   {
    "duration": 48,
    "start_time": "2023-06-12T09:23:11.552Z"
   },
   {
    "duration": 4,
    "start_time": "2023-06-12T09:23:11.993Z"
   },
   {
    "duration": 791,
    "start_time": "2023-06-12T09:23:24.426Z"
   },
   {
    "duration": 49,
    "start_time": "2023-06-12T09:23:28.866Z"
   },
   {
    "duration": 4,
    "start_time": "2023-06-12T09:23:29.475Z"
   },
   {
    "duration": 6,
    "start_time": "2023-06-12T09:23:56.549Z"
   },
   {
    "duration": 5,
    "start_time": "2023-06-12T09:23:57.103Z"
   },
   {
    "duration": 5,
    "start_time": "2023-06-12T09:23:58.127Z"
   },
   {
    "duration": 4,
    "start_time": "2023-06-12T09:23:59.271Z"
   },
   {
    "duration": 772,
    "start_time": "2023-06-12T09:23:59.845Z"
   },
   {
    "duration": 3019,
    "start_time": "2023-06-12T09:24:00.752Z"
   },
   {
    "duration": 10758,
    "start_time": "2023-06-12T09:24:03.773Z"
   },
   {
    "duration": 49,
    "start_time": "2023-06-12T09:24:14.532Z"
   },
   {
    "duration": 48,
    "start_time": "2023-06-12T09:24:20.063Z"
   },
   {
    "duration": 4,
    "start_time": "2023-06-12T09:24:21.232Z"
   },
   {
    "duration": 803,
    "start_time": "2023-06-12T09:24:38.817Z"
   },
   {
    "duration": 52,
    "start_time": "2023-06-12T09:24:43.985Z"
   },
   {
    "duration": 4,
    "start_time": "2023-06-12T09:24:44.363Z"
   },
   {
    "duration": 844,
    "start_time": "2023-06-12T09:25:15.045Z"
   },
   {
    "duration": 6,
    "start_time": "2023-06-12T09:27:18.945Z"
   },
   {
    "duration": 5,
    "start_time": "2023-06-12T09:27:21.114Z"
   },
   {
    "duration": 4,
    "start_time": "2023-06-12T09:27:21.705Z"
   },
   {
    "duration": 4,
    "start_time": "2023-06-12T09:27:23.481Z"
   },
   {
    "duration": 827,
    "start_time": "2023-06-12T09:27:24.534Z"
   },
   {
    "duration": 2862,
    "start_time": "2023-06-12T09:27:26.078Z"
   },
   {
    "duration": 9830,
    "start_time": "2023-06-12T09:27:28.942Z"
   },
   {
    "duration": 57,
    "start_time": "2023-06-12T09:27:38.774Z"
   },
   {
    "duration": 3,
    "start_time": "2023-06-12T09:27:41.195Z"
   },
   {
    "duration": 11,
    "start_time": "2023-06-12T09:31:09.272Z"
   },
   {
    "duration": 6,
    "start_time": "2023-06-12T09:31:21.329Z"
   },
   {
    "duration": 5,
    "start_time": "2023-06-12T09:31:21.500Z"
   },
   {
    "duration": 5,
    "start_time": "2023-06-12T09:31:21.996Z"
   },
   {
    "duration": 3,
    "start_time": "2023-06-12T09:31:23.382Z"
   },
   {
    "duration": 712,
    "start_time": "2023-06-12T09:31:23.998Z"
   },
   {
    "duration": 2965,
    "start_time": "2023-06-12T09:31:25.239Z"
   },
   {
    "duration": 9951,
    "start_time": "2023-06-12T09:31:28.206Z"
   },
   {
    "duration": 22,
    "start_time": "2023-06-12T09:31:38.158Z"
   },
   {
    "duration": 16,
    "start_time": "2023-06-12T09:32:05.966Z"
   },
   {
    "duration": 23,
    "start_time": "2023-06-12T09:33:15.766Z"
   },
   {
    "duration": 30,
    "start_time": "2023-06-12T09:33:45.770Z"
   },
   {
    "duration": 24,
    "start_time": "2023-06-12T09:34:06.337Z"
   },
   {
    "duration": 23,
    "start_time": "2023-06-12T09:34:26.963Z"
   },
   {
    "duration": 19,
    "start_time": "2023-06-12T09:35:02.127Z"
   },
   {
    "duration": 34,
    "start_time": "2023-06-12T09:35:14.976Z"
   },
   {
    "duration": 314,
    "start_time": "2023-06-12T09:35:20.223Z"
   },
   {
    "duration": 133,
    "start_time": "2023-06-12T09:35:40.904Z"
   },
   {
    "duration": 219,
    "start_time": "2023-06-12T09:36:09.005Z"
   },
   {
    "duration": 257,
    "start_time": "2023-06-12T09:37:00.323Z"
   },
   {
    "duration": 308,
    "start_time": "2023-06-12T09:37:06.212Z"
   },
   {
    "duration": 108,
    "start_time": "2023-06-12T09:38:56.860Z"
   },
   {
    "duration": 60,
    "start_time": "2023-06-12T09:39:01.631Z"
   },
   {
    "duration": 4,
    "start_time": "2023-06-12T09:39:03.191Z"
   },
   {
    "duration": 18,
    "start_time": "2023-06-12T09:41:02.879Z"
   },
   {
    "duration": 27,
    "start_time": "2023-06-12T09:41:42.263Z"
   },
   {
    "duration": 51,
    "start_time": "2023-06-12T09:44:53.070Z"
   },
   {
    "duration": 24,
    "start_time": "2023-06-12T09:45:01.992Z"
   },
   {
    "duration": 28,
    "start_time": "2023-06-12T09:45:24.298Z"
   },
   {
    "duration": 22,
    "start_time": "2023-06-12T09:47:06.231Z"
   },
   {
    "duration": 24,
    "start_time": "2023-06-12T09:47:39.691Z"
   },
   {
    "duration": 320,
    "start_time": "2023-06-12T09:48:39.221Z"
   },
   {
    "duration": 277,
    "start_time": "2023-06-12T09:48:59.093Z"
   },
   {
    "duration": 25,
    "start_time": "2023-06-12T09:50:13.963Z"
   },
   {
    "duration": 49,
    "start_time": "2023-06-12T09:52:30.435Z"
   },
   {
    "duration": 4,
    "start_time": "2023-06-12T09:52:43.046Z"
   },
   {
    "duration": 5,
    "start_time": "2023-06-12T09:53:01.132Z"
   },
   {
    "duration": 5,
    "start_time": "2023-06-12T09:53:01.798Z"
   },
   {
    "duration": 35,
    "start_time": "2023-06-12T09:53:02.857Z"
   },
   {
    "duration": 801,
    "start_time": "2023-06-12T09:53:04.133Z"
   },
   {
    "duration": 733,
    "start_time": "2023-06-12T09:53:13.360Z"
   },
   {
    "duration": 693,
    "start_time": "2023-06-12T09:53:51.808Z"
   },
   {
    "duration": 459,
    "start_time": "2023-06-12T09:53:55.205Z"
   },
   {
    "duration": 34,
    "start_time": "2023-06-12T09:53:59.055Z"
   },
   {
    "duration": 29,
    "start_time": "2023-06-12T09:53:59.479Z"
   },
   {
    "duration": 70,
    "start_time": "2023-06-12T09:54:00.268Z"
   },
   {
    "duration": 33,
    "start_time": "2023-06-12T09:54:27.878Z"
   },
   {
    "duration": 71,
    "start_time": "2023-06-12T09:54:30.676Z"
   },
   {
    "duration": 31,
    "start_time": "2023-06-12T09:54:42.484Z"
   },
   {
    "duration": 65,
    "start_time": "2023-06-12T09:54:43.075Z"
   },
   {
    "duration": 68,
    "start_time": "2023-06-12T09:57:02.735Z"
   },
   {
    "duration": 56,
    "start_time": "2023-06-12T09:57:09.010Z"
   },
   {
    "duration": 61,
    "start_time": "2023-06-12T09:59:43.296Z"
   },
   {
    "duration": 73,
    "start_time": "2023-06-12T10:00:19.740Z"
   },
   {
    "duration": 84,
    "start_time": "2023-06-12T10:00:20.301Z"
   },
   {
    "duration": 741,
    "start_time": "2023-06-12T10:01:08.075Z"
   },
   {
    "duration": 37,
    "start_time": "2023-06-12T10:03:02.405Z"
   },
   {
    "duration": 30,
    "start_time": "2023-06-12T10:03:21.857Z"
   },
   {
    "duration": 0,
    "start_time": "2023-06-12T10:13:59.557Z"
   },
   {
    "duration": 11,
    "start_time": "2023-06-12T10:14:01.782Z"
   },
   {
    "duration": 111,
    "start_time": "2023-06-12T10:14:15.150Z"
   },
   {
    "duration": 111,
    "start_time": "2023-06-12T10:14:57.860Z"
   },
   {
    "duration": 98,
    "start_time": "2023-06-12T10:15:19.438Z"
   },
   {
    "duration": 114,
    "start_time": "2023-06-12T10:17:51.076Z"
   },
   {
    "duration": 102,
    "start_time": "2023-06-12T10:17:56.612Z"
   },
   {
    "duration": 94,
    "start_time": "2023-06-12T10:27:05.687Z"
   },
   {
    "duration": 5,
    "start_time": "2023-06-12T10:27:15.207Z"
   },
   {
    "duration": 89,
    "start_time": "2023-06-12T10:29:34.184Z"
   },
   {
    "duration": 143,
    "start_time": "2023-06-12T10:30:27.445Z"
   },
   {
    "duration": 74,
    "start_time": "2023-06-12T10:30:38.762Z"
   },
   {
    "duration": 141,
    "start_time": "2023-06-12T10:30:39.138Z"
   },
   {
    "duration": 8,
    "start_time": "2023-06-12T10:33:30.345Z"
   },
   {
    "duration": 5,
    "start_time": "2023-06-12T10:33:30.566Z"
   },
   {
    "duration": 6,
    "start_time": "2023-06-12T10:33:31.047Z"
   },
   {
    "duration": 4,
    "start_time": "2023-06-12T10:33:31.965Z"
   },
   {
    "duration": 781,
    "start_time": "2023-06-12T10:33:32.571Z"
   },
   {
    "duration": 2894,
    "start_time": "2023-06-12T10:33:33.952Z"
   },
   {
    "duration": 10301,
    "start_time": "2023-06-12T10:33:36.848Z"
   },
   {
    "duration": 329,
    "start_time": "2023-06-12T10:33:47.150Z"
   },
   {
    "duration": 64,
    "start_time": "2023-06-12T10:33:47.481Z"
   },
   {
    "duration": 4,
    "start_time": "2023-06-12T10:33:47.547Z"
   },
   {
    "duration": 53,
    "start_time": "2023-06-12T10:33:47.553Z"
   },
   {
    "duration": 29,
    "start_time": "2023-06-12T10:33:57.388Z"
   },
   {
    "duration": 46,
    "start_time": "2023-06-12T10:33:58.163Z"
   },
   {
    "duration": 21,
    "start_time": "2023-06-12T10:33:59.346Z"
   },
   {
    "duration": 276,
    "start_time": "2023-06-12T10:34:00.337Z"
   },
   {
    "duration": 25,
    "start_time": "2023-06-12T10:34:01.491Z"
   },
   {
    "duration": 50,
    "start_time": "2023-06-12T10:34:02.483Z"
   },
   {
    "duration": 5,
    "start_time": "2023-06-12T10:34:04.630Z"
   },
   {
    "duration": 5,
    "start_time": "2023-06-12T10:34:08.432Z"
   },
   {
    "duration": 34,
    "start_time": "2023-06-12T10:34:11.560Z"
   },
   {
    "duration": 687,
    "start_time": "2023-06-12T10:34:12.241Z"
   },
   {
    "duration": 339,
    "start_time": "2023-06-12T10:34:25.716Z"
   },
   {
    "duration": 414,
    "start_time": "2023-06-12T10:35:44.875Z"
   },
   {
    "duration": 6,
    "start_time": "2023-06-12T10:36:33.633Z"
   },
   {
    "duration": 6,
    "start_time": "2023-06-12T10:36:33.793Z"
   },
   {
    "duration": 5,
    "start_time": "2023-06-12T10:36:33.984Z"
   },
   {
    "duration": 4,
    "start_time": "2023-06-12T10:36:34.720Z"
   },
   {
    "duration": 862,
    "start_time": "2023-06-12T10:36:35.072Z"
   },
   {
    "duration": 2780,
    "start_time": "2023-06-12T10:36:35.936Z"
   },
   {
    "duration": 419,
    "start_time": "2023-06-12T10:36:38.724Z"
   },
   {
    "duration": 43,
    "start_time": "2023-06-12T10:36:50.844Z"
   },
   {
    "duration": 2205,
    "start_time": "2023-06-12T21:09:12.975Z"
   },
   {
    "duration": 4562,
    "start_time": "2023-06-12T21:09:15.248Z"
   },
   {
    "duration": 179,
    "start_time": "2023-06-12T21:09:20.799Z"
   },
   {
    "duration": 7,
    "start_time": "2023-06-12T21:09:25.909Z"
   },
   {
    "duration": 13,
    "start_time": "2023-06-12T21:09:26.166Z"
   },
   {
    "duration": 23,
    "start_time": "2023-06-12T21:09:26.646Z"
   },
   {
    "duration": 10,
    "start_time": "2023-06-12T21:09:28.147Z"
   },
   {
    "duration": 1262,
    "start_time": "2023-06-12T21:09:28.887Z"
   },
   {
    "duration": 4508,
    "start_time": "2023-06-12T21:09:30.155Z"
   },
   {
    "duration": 1181,
    "start_time": "2023-06-12T21:11:42.211Z"
   },
   {
    "duration": 4253,
    "start_time": "2023-06-12T21:11:45.006Z"
   },
   {
    "duration": 673,
    "start_time": "2023-06-12T21:14:25.878Z"
   },
   {
    "duration": 755,
    "start_time": "2023-06-12T21:14:43.931Z"
   },
   {
    "duration": 635,
    "start_time": "2023-06-12T21:15:40.647Z"
   },
   {
    "duration": 721,
    "start_time": "2023-06-12T21:15:46.597Z"
   },
   {
    "duration": 27,
    "start_time": "2023-06-12T21:16:19.046Z"
   },
   {
    "duration": 23,
    "start_time": "2023-06-12T21:19:05.153Z"
   },
   {
    "duration": 530,
    "start_time": "2023-06-12T21:19:09.319Z"
   },
   {
    "duration": 912,
    "start_time": "2023-06-12T21:19:57.696Z"
   },
   {
    "duration": 651,
    "start_time": "2023-06-12T21:20:27.411Z"
   },
   {
    "duration": 42,
    "start_time": "2023-06-12T21:42:49.703Z"
   },
   {
    "duration": 5,
    "start_time": "2023-06-12T21:42:52.013Z"
   },
   {
    "duration": 22,
    "start_time": "2023-06-12T21:44:52.725Z"
   },
   {
    "duration": 17993,
    "start_time": "2023-06-12T21:45:05.615Z"
   },
   {
    "duration": 43,
    "start_time": "2023-06-12T21:51:27.982Z"
   },
   {
    "duration": 1104,
    "start_time": "2023-06-12T21:51:50.246Z"
   },
   {
    "duration": 288,
    "start_time": "2023-06-12T21:51:59.893Z"
   },
   {
    "duration": 176,
    "start_time": "2023-06-12T21:52:23.975Z"
   },
   {
    "duration": 460,
    "start_time": "2023-06-12T21:52:51.542Z"
   },
   {
    "duration": 601,
    "start_time": "2023-06-12T21:52:57.691Z"
   },
   {
    "duration": 427,
    "start_time": "2023-06-12T21:53:08.386Z"
   },
   {
    "duration": 405,
    "start_time": "2023-06-12T21:53:13.093Z"
   },
   {
    "duration": 45,
    "start_time": "2023-06-12T21:53:53.008Z"
   },
   {
    "duration": 83,
    "start_time": "2023-06-12T22:00:26.590Z"
   },
   {
    "duration": 74,
    "start_time": "2023-06-12T22:00:37.159Z"
   },
   {
    "duration": 49,
    "start_time": "2023-06-12T22:03:55.392Z"
   },
   {
    "duration": 54,
    "start_time": "2023-06-12T22:04:39.257Z"
   },
   {
    "duration": 62,
    "start_time": "2023-06-12T22:04:45.188Z"
   },
   {
    "duration": 27,
    "start_time": "2023-06-12T22:16:05.993Z"
   },
   {
    "duration": 26,
    "start_time": "2023-06-12T22:16:12.152Z"
   },
   {
    "duration": 28,
    "start_time": "2023-06-12T22:16:12.321Z"
   },
   {
    "duration": 10,
    "start_time": "2023-06-12T22:16:12.561Z"
   },
   {
    "duration": 9,
    "start_time": "2023-06-12T22:16:13.289Z"
   },
   {
    "duration": 1424,
    "start_time": "2023-06-12T22:16:13.994Z"
   },
   {
    "duration": 5066,
    "start_time": "2023-06-12T22:16:15.420Z"
   },
   {
    "duration": 719,
    "start_time": "2023-06-12T22:16:20.495Z"
   },
   {
    "duration": 805,
    "start_time": "2023-06-12T22:16:21.217Z"
   },
   {
    "duration": 103,
    "start_time": "2023-06-12T22:16:22.025Z"
   },
   {
    "duration": 12289,
    "start_time": "2023-06-12T22:16:25.380Z"
   },
   {
    "duration": 8,
    "start_time": "2023-06-12T22:18:10.406Z"
   },
   {
    "duration": 12692,
    "start_time": "2023-06-12T22:18:14.679Z"
   },
   {
    "duration": 18,
    "start_time": "2023-06-12T22:18:37.565Z"
   },
   {
    "duration": 11794,
    "start_time": "2023-06-12T22:18:40.956Z"
   },
   {
    "duration": 59,
    "start_time": "2023-06-12T22:19:30.182Z"
   },
   {
    "duration": 56,
    "start_time": "2023-06-12T22:21:42.659Z"
   },
   {
    "duration": 46,
    "start_time": "2023-06-12T22:24:53.512Z"
   },
   {
    "duration": 42,
    "start_time": "2023-06-12T22:24:57.592Z"
   },
   {
    "duration": 47,
    "start_time": "2023-06-12T22:47:20.366Z"
   },
   {
    "duration": 62,
    "start_time": "2023-06-12T22:54:29.744Z"
   },
   {
    "duration": 93,
    "start_time": "2023-06-12T22:56:22.632Z"
   },
   {
    "duration": 61,
    "start_time": "2023-06-12T23:03:38.366Z"
   },
   {
    "duration": 601,
    "start_time": "2023-06-12T23:05:20.187Z"
   },
   {
    "duration": 450,
    "start_time": "2023-06-12T23:05:29.758Z"
   },
   {
    "duration": 500,
    "start_time": "2023-06-12T23:05:45.993Z"
   },
   {
    "duration": 438,
    "start_time": "2023-06-12T23:06:06.019Z"
   },
   {
    "duration": 30,
    "start_time": "2023-06-12T23:06:23.666Z"
   },
   {
    "duration": 21,
    "start_time": "2023-06-12T23:06:23.828Z"
   },
   {
    "duration": 5,
    "start_time": "2023-06-12T23:06:23.995Z"
   },
   {
    "duration": 4,
    "start_time": "2023-06-12T23:06:24.512Z"
   },
   {
    "duration": 1368,
    "start_time": "2023-06-12T23:06:24.723Z"
   },
   {
    "duration": 4774,
    "start_time": "2023-06-12T23:06:26.095Z"
   },
   {
    "duration": 802,
    "start_time": "2023-06-12T23:06:30.871Z"
   },
   {
    "duration": 747,
    "start_time": "2023-06-12T23:06:31.675Z"
   },
   {
    "duration": 70,
    "start_time": "2023-06-12T23:06:32.426Z"
   },
   {
    "duration": 11264,
    "start_time": "2023-06-12T23:06:32.501Z"
   },
   {
    "duration": 22,
    "start_time": "2023-06-12T23:06:43.767Z"
   },
   {
    "duration": 402,
    "start_time": "2023-06-12T23:06:43.791Z"
   },
   {
    "duration": 43,
    "start_time": "2023-06-12T23:06:50.359Z"
   },
   {
    "duration": 56,
    "start_time": "2023-06-12T23:06:51.046Z"
   },
   {
    "duration": 47,
    "start_time": "2023-06-12T23:06:54.952Z"
   },
   {
    "duration": 505,
    "start_time": "2023-06-12T23:06:55.501Z"
   },
   {
    "duration": 479,
    "start_time": "2023-06-12T23:07:05.647Z"
   },
   {
    "duration": 463,
    "start_time": "2023-06-12T23:07:11.443Z"
   },
   {
    "duration": 2515,
    "start_time": "2023-06-12T23:07:32.293Z"
   },
   {
    "duration": 409,
    "start_time": "2023-06-12T23:07:40.450Z"
   },
   {
    "duration": 31,
    "start_time": "2023-06-12T23:12:57.690Z"
   },
   {
    "duration": 24,
    "start_time": "2023-06-12T23:13:02.895Z"
   },
   {
    "duration": 31,
    "start_time": "2023-06-12T23:15:06.916Z"
   },
   {
    "duration": 577,
    "start_time": "2023-06-12T23:17:44.395Z"
   },
   {
    "duration": 26,
    "start_time": "2023-06-12T23:18:10.885Z"
   },
   {
    "duration": 11,
    "start_time": "2023-06-12T23:18:30.207Z"
   },
   {
    "duration": 25,
    "start_time": "2023-06-12T23:18:30.386Z"
   },
   {
    "duration": 8,
    "start_time": "2023-06-12T23:18:30.568Z"
   },
   {
    "duration": 5,
    "start_time": "2023-06-12T23:18:30.907Z"
   },
   {
    "duration": 1176,
    "start_time": "2023-06-12T23:18:31.084Z"
   },
   {
    "duration": 3622,
    "start_time": "2023-06-12T23:18:32.263Z"
   },
   {
    "duration": 615,
    "start_time": "2023-06-12T23:18:35.887Z"
   },
   {
    "duration": 520,
    "start_time": "2023-06-12T23:18:36.505Z"
   },
   {
    "duration": 61,
    "start_time": "2023-06-12T23:18:37.028Z"
   },
   {
    "duration": 8723,
    "start_time": "2023-06-12T23:18:37.091Z"
   },
   {
    "duration": 31,
    "start_time": "2023-06-12T23:18:45.817Z"
   },
   {
    "duration": 343,
    "start_time": "2023-06-12T23:18:45.853Z"
   },
   {
    "duration": 49,
    "start_time": "2023-06-12T23:18:46.198Z"
   },
   {
    "duration": 19,
    "start_time": "2023-06-12T23:18:46.249Z"
   },
   {
    "duration": 34,
    "start_time": "2023-06-12T23:18:46.270Z"
   },
   {
    "duration": 374,
    "start_time": "2023-06-12T23:18:46.306Z"
   },
   {
    "duration": 28,
    "start_time": "2023-06-12T23:18:46.682Z"
   },
   {
    "duration": 429,
    "start_time": "2023-06-12T23:18:46.712Z"
   },
   {
    "duration": 27,
    "start_time": "2023-06-12T23:18:47.149Z"
   },
   {
    "duration": 18,
    "start_time": "2023-06-12T23:19:31.469Z"
   },
   {
    "duration": 14,
    "start_time": "2023-06-12T23:19:40.106Z"
   },
   {
    "duration": 409,
    "start_time": "2023-06-12T23:20:31.924Z"
   },
   {
    "duration": 33,
    "start_time": "2023-06-12T23:24:42.358Z"
   },
   {
    "duration": 5,
    "start_time": "2023-06-12T23:24:44.870Z"
   },
   {
    "duration": 1287,
    "start_time": "2023-06-12T23:25:02.159Z"
   },
   {
    "duration": 1075,
    "start_time": "2023-06-12T23:25:32.969Z"
   },
   {
    "duration": 889,
    "start_time": "2023-06-12T23:26:26.569Z"
   },
   {
    "duration": 998,
    "start_time": "2023-06-12T23:27:42.468Z"
   },
   {
    "duration": 149,
    "start_time": "2023-06-12T23:28:23.949Z"
   },
   {
    "duration": 198,
    "start_time": "2023-06-12T23:28:27.275Z"
   },
   {
    "duration": 213,
    "start_time": "2023-06-12T23:28:47.996Z"
   },
   {
    "duration": 10,
    "start_time": "2023-06-12T23:30:18.702Z"
   },
   {
    "duration": 310,
    "start_time": "2023-06-12T23:30:23.117Z"
   },
   {
    "duration": 222,
    "start_time": "2023-06-12T23:30:28.195Z"
   },
   {
    "duration": 1222,
    "start_time": "2023-06-12T23:30:31.380Z"
   },
   {
    "duration": 10,
    "start_time": "2023-06-12T23:31:03.023Z"
   },
   {
    "duration": 8,
    "start_time": "2023-06-12T23:31:03.167Z"
   },
   {
    "duration": 11,
    "start_time": "2023-06-12T23:31:03.336Z"
   },
   {
    "duration": 11,
    "start_time": "2023-06-12T23:31:03.648Z"
   },
   {
    "duration": 1028,
    "start_time": "2023-06-12T23:31:03.786Z"
   },
   {
    "duration": 3626,
    "start_time": "2023-06-12T23:31:04.816Z"
   },
   {
    "duration": 575,
    "start_time": "2023-06-12T23:31:08.445Z"
   },
   {
    "duration": 537,
    "start_time": "2023-06-12T23:31:09.023Z"
   },
   {
    "duration": 86,
    "start_time": "2023-06-12T23:31:09.563Z"
   },
   {
    "duration": 9186,
    "start_time": "2023-06-12T23:31:09.660Z"
   },
   {
    "duration": 20,
    "start_time": "2023-06-12T23:31:18.854Z"
   },
   {
    "duration": 349,
    "start_time": "2023-06-12T23:31:18.876Z"
   },
   {
    "duration": 26,
    "start_time": "2023-06-12T23:31:19.229Z"
   },
   {
    "duration": 22,
    "start_time": "2023-06-12T23:31:19.259Z"
   },
   {
    "duration": 57,
    "start_time": "2023-06-12T23:31:19.283Z"
   },
   {
    "duration": 386,
    "start_time": "2023-06-12T23:31:19.342Z"
   },
   {
    "duration": 50,
    "start_time": "2023-06-12T23:31:19.732Z"
   },
   {
    "duration": 417,
    "start_time": "2023-06-12T23:31:19.786Z"
   },
   {
    "duration": 30,
    "start_time": "2023-06-12T23:31:20.205Z"
   },
   {
    "duration": 367,
    "start_time": "2023-06-12T23:31:20.237Z"
   },
   {
    "duration": 55,
    "start_time": "2023-06-12T23:31:20.606Z"
   },
   {
    "duration": 5,
    "start_time": "2023-06-12T23:31:20.663Z"
   },
   {
    "duration": 1119,
    "start_time": "2023-06-12T23:31:20.670Z"
   },
   {
    "duration": 121,
    "start_time": "2023-06-12T23:31:21.792Z"
   },
   {
    "duration": 1238,
    "start_time": "2023-06-12T23:31:21.915Z"
   },
   {
    "duration": 136,
    "start_time": "2023-06-12T23:31:32.670Z"
   },
   {
    "duration": 237,
    "start_time": "2023-06-12T23:31:32.876Z"
   },
   {
    "duration": 1374,
    "start_time": "2023-06-12T23:33:16.618Z"
   },
   {
    "duration": 8,
    "start_time": "2023-06-12T23:33:23.607Z"
   },
   {
    "duration": 6,
    "start_time": "2023-06-12T23:33:23.790Z"
   },
   {
    "duration": 6,
    "start_time": "2023-06-12T23:33:23.942Z"
   },
   {
    "duration": 5,
    "start_time": "2023-06-12T23:33:24.264Z"
   },
   {
    "duration": 935,
    "start_time": "2023-06-12T23:33:24.430Z"
   },
   {
    "duration": 3497,
    "start_time": "2023-06-12T23:33:25.367Z"
   },
   {
    "duration": 549,
    "start_time": "2023-06-12T23:33:28.866Z"
   },
   {
    "duration": 542,
    "start_time": "2023-06-12T23:33:29.419Z"
   },
   {
    "duration": 44,
    "start_time": "2023-06-12T23:33:29.963Z"
   },
   {
    "duration": 9021,
    "start_time": "2023-06-12T23:33:30.009Z"
   },
   {
    "duration": 28,
    "start_time": "2023-06-12T23:33:39.032Z"
   },
   {
    "duration": 319,
    "start_time": "2023-06-12T23:33:39.066Z"
   },
   {
    "duration": 26,
    "start_time": "2023-06-12T23:33:39.387Z"
   },
   {
    "duration": 26,
    "start_time": "2023-06-12T23:33:39.428Z"
   },
   {
    "duration": 43,
    "start_time": "2023-06-12T23:33:39.457Z"
   },
   {
    "duration": 461,
    "start_time": "2023-06-12T23:33:39.502Z"
   },
   {
    "duration": 28,
    "start_time": "2023-06-12T23:33:39.965Z"
   },
   {
    "duration": 406,
    "start_time": "2023-06-12T23:33:39.995Z"
   },
   {
    "duration": 37,
    "start_time": "2023-06-12T23:33:40.403Z"
   },
   {
    "duration": 451,
    "start_time": "2023-06-12T23:33:40.443Z"
   },
   {
    "duration": 47,
    "start_time": "2023-06-12T23:33:40.896Z"
   },
   {
    "duration": 5,
    "start_time": "2023-06-12T23:33:40.948Z"
   },
   {
    "duration": 1019,
    "start_time": "2023-06-12T23:33:40.955Z"
   },
   {
    "duration": 137,
    "start_time": "2023-06-12T23:33:41.976Z"
   },
   {
    "duration": 1467,
    "start_time": "2023-06-12T23:33:42.115Z"
   },
   {
    "duration": 162,
    "start_time": "2023-06-12T23:33:43.584Z"
   },
   {
    "duration": 202,
    "start_time": "2023-06-12T23:33:43.748Z"
   },
   {
    "duration": 168,
    "start_time": "2023-06-12T23:44:37.873Z"
   },
   {
    "duration": 170,
    "start_time": "2023-06-12T23:50:44.503Z"
   },
   {
    "duration": 20,
    "start_time": "2023-06-12T23:50:49.067Z"
   },
   {
    "duration": 6,
    "start_time": "2023-06-12T23:50:49.263Z"
   },
   {
    "duration": 6,
    "start_time": "2023-06-12T23:50:49.502Z"
   },
   {
    "duration": 6,
    "start_time": "2023-06-12T23:50:50.042Z"
   },
   {
    "duration": 1034,
    "start_time": "2023-06-12T23:50:50.373Z"
   },
   {
    "duration": 3779,
    "start_time": "2023-06-12T23:50:51.410Z"
   },
   {
    "duration": 583,
    "start_time": "2023-06-12T23:50:55.192Z"
   },
   {
    "duration": 523,
    "start_time": "2023-06-12T23:50:55.778Z"
   },
   {
    "duration": 52,
    "start_time": "2023-06-12T23:50:56.881Z"
   },
   {
    "duration": 9066,
    "start_time": "2023-06-12T23:50:57.464Z"
   },
   {
    "duration": 15,
    "start_time": "2023-06-12T23:51:07.506Z"
   },
   {
    "duration": 342,
    "start_time": "2023-06-12T23:51:08.436Z"
   },
   {
    "duration": 29,
    "start_time": "2023-06-12T23:51:09.352Z"
   },
   {
    "duration": 30,
    "start_time": "2023-06-12T23:51:09.848Z"
   },
   {
    "duration": 46,
    "start_time": "2023-06-12T23:51:10.705Z"
   },
   {
    "duration": 327,
    "start_time": "2023-06-12T23:51:11.165Z"
   },
   {
    "duration": 42,
    "start_time": "2023-06-12T23:51:12.442Z"
   },
   {
    "duration": 392,
    "start_time": "2023-06-12T23:51:13.186Z"
   },
   {
    "duration": 20,
    "start_time": "2023-06-12T23:51:14.180Z"
   },
   {
    "duration": 396,
    "start_time": "2023-06-12T23:51:14.593Z"
   },
   {
    "duration": 25,
    "start_time": "2023-06-12T23:51:15.768Z"
   },
   {
    "duration": 4,
    "start_time": "2023-06-12T23:51:16.180Z"
   },
   {
    "duration": 865,
    "start_time": "2023-06-12T23:51:17.019Z"
   },
   {
    "duration": 94,
    "start_time": "2023-06-12T23:51:18.499Z"
   },
   {
    "duration": 1099,
    "start_time": "2023-06-12T23:51:19.503Z"
   },
   {
    "duration": 145,
    "start_time": "2023-06-12T23:51:21.254Z"
   },
   {
    "duration": 201,
    "start_time": "2023-06-12T23:51:21.878Z"
   },
   {
    "duration": 204,
    "start_time": "2023-06-12T23:51:23.200Z"
   },
   {
    "duration": 14,
    "start_time": "2023-06-12T23:51:32.438Z"
   },
   {
    "duration": 8,
    "start_time": "2023-06-12T23:51:32.619Z"
   },
   {
    "duration": 6,
    "start_time": "2023-06-12T23:51:32.800Z"
   },
   {
    "duration": 12,
    "start_time": "2023-06-12T23:51:33.825Z"
   },
   {
    "duration": 1013,
    "start_time": "2023-06-12T23:51:33.841Z"
   },
   {
    "duration": 3590,
    "start_time": "2023-06-12T23:51:34.857Z"
   },
   {
    "duration": 572,
    "start_time": "2023-06-12T23:51:38.449Z"
   },
   {
    "duration": 563,
    "start_time": "2023-06-12T23:51:39.023Z"
   },
   {
    "duration": 75,
    "start_time": "2023-06-12T23:51:39.588Z"
   },
   {
    "duration": 9042,
    "start_time": "2023-06-12T23:51:39.670Z"
   },
   {
    "duration": 35,
    "start_time": "2023-06-12T23:51:48.715Z"
   },
   {
    "duration": 335,
    "start_time": "2023-06-12T23:51:48.753Z"
   },
   {
    "duration": 41,
    "start_time": "2023-06-12T23:51:49.091Z"
   },
   {
    "duration": 29,
    "start_time": "2023-06-12T23:51:49.136Z"
   },
   {
    "duration": 33,
    "start_time": "2023-06-12T23:51:49.168Z"
   },
   {
    "duration": 358,
    "start_time": "2023-06-12T23:51:49.203Z"
   },
   {
    "duration": 41,
    "start_time": "2023-06-12T23:51:49.563Z"
   },
   {
    "duration": 447,
    "start_time": "2023-06-12T23:51:49.606Z"
   },
   {
    "duration": 26,
    "start_time": "2023-06-12T23:51:50.057Z"
   },
   {
    "duration": 366,
    "start_time": "2023-06-12T23:51:50.085Z"
   },
   {
    "duration": 39,
    "start_time": "2023-06-12T23:51:50.457Z"
   },
   {
    "duration": 4,
    "start_time": "2023-06-12T23:51:50.499Z"
   },
   {
    "duration": 889,
    "start_time": "2023-06-12T23:51:50.506Z"
   },
   {
    "duration": 117,
    "start_time": "2023-06-12T23:52:00.626Z"
   },
   {
    "duration": 96,
    "start_time": "2023-06-12T23:52:03.583Z"
   },
   {
    "duration": 143,
    "start_time": "2023-06-12T23:52:12.622Z"
   },
   {
    "duration": 1052,
    "start_time": "2023-06-12T23:52:28.063Z"
   },
   {
    "duration": 131,
    "start_time": "2023-06-12T23:53:01.251Z"
   },
   {
    "duration": 131,
    "start_time": "2023-06-12T23:53:06.571Z"
   },
   {
    "duration": 177,
    "start_time": "2023-06-12T23:53:16.813Z"
   },
   {
    "duration": 17,
    "start_time": "2023-06-12T23:53:37.058Z"
   },
   {
    "duration": 7,
    "start_time": "2023-06-12T23:53:52.383Z"
   },
   {
    "duration": 15,
    "start_time": "2023-06-12T23:53:52.543Z"
   },
   {
    "duration": 9,
    "start_time": "2023-06-12T23:53:52.689Z"
   },
   {
    "duration": 18,
    "start_time": "2023-06-12T23:53:53.047Z"
   },
   {
    "duration": 1125,
    "start_time": "2023-06-12T23:53:53.210Z"
   },
   {
    "duration": 3642,
    "start_time": "2023-06-12T23:53:54.337Z"
   },
   {
    "duration": 626,
    "start_time": "2023-06-12T23:53:57.981Z"
   },
   {
    "duration": 584,
    "start_time": "2023-06-12T23:53:58.610Z"
   },
   {
    "duration": 77,
    "start_time": "2023-06-12T23:53:59.196Z"
   },
   {
    "duration": 9980,
    "start_time": "2023-06-12T23:53:59.276Z"
   },
   {
    "duration": 20,
    "start_time": "2023-06-12T23:54:09.259Z"
   },
   {
    "duration": 352,
    "start_time": "2023-06-12T23:54:09.281Z"
   },
   {
    "duration": 33,
    "start_time": "2023-06-12T23:54:09.644Z"
   },
   {
    "duration": 38,
    "start_time": "2023-06-12T23:54:09.681Z"
   },
   {
    "duration": 44,
    "start_time": "2023-06-12T23:54:09.722Z"
   },
   {
    "duration": 394,
    "start_time": "2023-06-12T23:54:09.768Z"
   },
   {
    "duration": 35,
    "start_time": "2023-06-12T23:54:10.164Z"
   },
   {
    "duration": 389,
    "start_time": "2023-06-12T23:54:10.200Z"
   },
   {
    "duration": 21,
    "start_time": "2023-06-12T23:54:10.590Z"
   },
   {
    "duration": 396,
    "start_time": "2023-06-12T23:54:10.625Z"
   },
   {
    "duration": 35,
    "start_time": "2023-06-12T23:54:11.028Z"
   },
   {
    "duration": 11,
    "start_time": "2023-06-12T23:54:11.065Z"
   },
   {
    "duration": 939,
    "start_time": "2023-06-12T23:54:11.078Z"
   },
   {
    "duration": 116,
    "start_time": "2023-06-12T23:54:12.019Z"
   },
   {
    "duration": 134,
    "start_time": "2023-06-12T23:54:12.137Z"
   },
   {
    "duration": 1097,
    "start_time": "2023-06-12T23:54:12.274Z"
   },
   {
    "duration": 56,
    "start_time": "2023-06-12T23:54:13.376Z"
   },
   {
    "duration": 28,
    "start_time": "2023-06-12T23:54:13.436Z"
   },
   {
    "duration": 72,
    "start_time": "2023-06-12T23:55:12.549Z"
   },
   {
    "duration": 1118,
    "start_time": "2023-06-12T23:55:16.783Z"
   },
   {
    "duration": 39,
    "start_time": "2023-06-12T23:55:20.951Z"
   },
   {
    "duration": 13,
    "start_time": "2023-06-12T23:55:22.397Z"
   },
   {
    "duration": 101,
    "start_time": "2023-06-12T23:55:23.879Z"
   },
   {
    "duration": 199,
    "start_time": "2023-06-12T23:55:34.600Z"
   },
   {
    "duration": 54,
    "start_time": "2023-06-12T23:55:39.902Z"
   },
   {
    "duration": 182,
    "start_time": "2023-06-12T23:55:44.183Z"
   },
   {
    "duration": 12,
    "start_time": "2023-06-12T23:56:02.285Z"
   },
   {
    "duration": 39,
    "start_time": "2023-06-12T23:57:10.615Z"
   },
   {
    "duration": 19,
    "start_time": "2023-06-12T23:57:11.434Z"
   },
   {
    "duration": 36,
    "start_time": "2023-06-12T23:57:14.970Z"
   },
   {
    "duration": 43,
    "start_time": "2023-06-12T23:57:28.826Z"
   },
   {
    "duration": 14,
    "start_time": "2023-06-12T23:57:29.374Z"
   },
   {
    "duration": 212,
    "start_time": "2023-06-12T23:57:31.206Z"
   },
   {
    "duration": 258,
    "start_time": "2023-06-12T23:57:44.028Z"
   },
   {
    "duration": 141,
    "start_time": "2023-06-12T23:57:45.393Z"
   },
   {
    "duration": 44,
    "start_time": "2023-06-12T23:59:12.214Z"
   },
   {
    "duration": 11,
    "start_time": "2023-06-12T23:59:38.990Z"
   },
   {
    "duration": 8,
    "start_time": "2023-06-12T23:59:39.152Z"
   },
   {
    "duration": 8,
    "start_time": "2023-06-12T23:59:39.313Z"
   },
   {
    "duration": 7,
    "start_time": "2023-06-12T23:59:39.659Z"
   },
   {
    "duration": 1553,
    "start_time": "2023-06-12T23:59:39.820Z"
   },
   {
    "duration": 4879,
    "start_time": "2023-06-12T23:59:41.376Z"
   },
   {
    "duration": 870,
    "start_time": "2023-06-12T23:59:46.257Z"
   },
   {
    "duration": 686,
    "start_time": "2023-06-12T23:59:47.130Z"
   },
   {
    "duration": 67,
    "start_time": "2023-06-12T23:59:47.818Z"
   },
   {
    "duration": 11731,
    "start_time": "2023-06-12T23:59:47.888Z"
   },
   {
    "duration": 33,
    "start_time": "2023-06-12T23:59:59.622Z"
   },
   {
    "duration": 887,
    "start_time": "2023-06-12T23:59:59.657Z"
   },
   {
    "duration": 30,
    "start_time": "2023-06-13T00:00:00.547Z"
   },
   {
    "duration": 231,
    "start_time": "2023-06-13T00:00:00.580Z"
   },
   {
    "duration": 110,
    "start_time": "2023-06-13T00:00:00.813Z"
   },
   {
    "duration": 490,
    "start_time": "2023-06-13T00:00:00.925Z"
   },
   {
    "duration": 45,
    "start_time": "2023-06-13T00:00:01.418Z"
   },
   {
    "duration": 727,
    "start_time": "2023-06-13T00:00:01.465Z"
   },
   {
    "duration": 47,
    "start_time": "2023-06-13T00:00:02.195Z"
   },
   {
    "duration": 662,
    "start_time": "2023-06-13T00:00:02.245Z"
   },
   {
    "duration": 42,
    "start_time": "2023-06-13T00:00:02.910Z"
   },
   {
    "duration": 185,
    "start_time": "2023-06-13T00:00:02.957Z"
   },
   {
    "duration": 1295,
    "start_time": "2023-06-13T00:00:03.145Z"
   },
   {
    "duration": 133,
    "start_time": "2023-06-13T00:00:04.445Z"
   },
   {
    "duration": 1407,
    "start_time": "2023-06-13T00:00:04.581Z"
   },
   {
    "duration": 47,
    "start_time": "2023-06-13T00:00:05.991Z"
   },
   {
    "duration": 412,
    "start_time": "2023-06-13T00:00:06.041Z"
   },
   {
    "duration": 195,
    "start_time": "2023-06-13T00:00:06.459Z"
   },
   {
    "duration": 185,
    "start_time": "2023-06-13T00:00:06.657Z"
   },
   {
    "duration": 10,
    "start_time": "2023-06-13T00:01:40.474Z"
   },
   {
    "duration": 9,
    "start_time": "2023-06-13T00:01:40.636Z"
   },
   {
    "duration": 9,
    "start_time": "2023-06-13T00:01:40.783Z"
   },
   {
    "duration": 5,
    "start_time": "2023-06-13T00:01:41.110Z"
   },
   {
    "duration": 1345,
    "start_time": "2023-06-13T00:01:41.270Z"
   },
   {
    "duration": 4751,
    "start_time": "2023-06-13T00:01:42.618Z"
   },
   {
    "duration": 634,
    "start_time": "2023-06-13T00:01:47.371Z"
   },
   {
    "duration": 608,
    "start_time": "2023-06-13T00:01:48.008Z"
   },
   {
    "duration": 66,
    "start_time": "2023-06-13T00:01:48.627Z"
   },
   {
    "duration": 10493,
    "start_time": "2023-06-13T00:01:48.696Z"
   },
   {
    "duration": 19,
    "start_time": "2023-06-13T00:01:59.191Z"
   },
   {
    "duration": 357,
    "start_time": "2023-06-13T00:01:59.226Z"
   },
   {
    "duration": 28,
    "start_time": "2023-06-13T00:01:59.588Z"
   },
   {
    "duration": 34,
    "start_time": "2023-06-13T00:01:59.631Z"
   },
   {
    "duration": 46,
    "start_time": "2023-06-13T00:01:59.669Z"
   },
   {
    "duration": 446,
    "start_time": "2023-06-13T00:01:59.717Z"
   },
   {
    "duration": 42,
    "start_time": "2023-06-13T00:02:00.165Z"
   },
   {
    "duration": 513,
    "start_time": "2023-06-13T00:02:00.210Z"
   },
   {
    "duration": 28,
    "start_time": "2023-06-13T00:02:00.731Z"
   },
   {
    "duration": 974,
    "start_time": "2023-06-13T00:02:00.762Z"
   },
   {
    "duration": 34,
    "start_time": "2023-06-13T00:02:01.738Z"
   },
   {
    "duration": 42,
    "start_time": "2023-06-13T00:02:01.775Z"
   },
   {
    "duration": 1058,
    "start_time": "2023-06-13T00:02:01.820Z"
   },
   {
    "duration": 107,
    "start_time": "2023-06-13T00:02:02.880Z"
   },
   {
    "duration": 1247,
    "start_time": "2023-06-13T00:02:02.990Z"
   },
   {
    "duration": 38,
    "start_time": "2023-06-13T00:02:04.239Z"
   },
   {
    "duration": 219,
    "start_time": "2023-06-13T00:02:04.279Z"
   },
   {
    "duration": 116,
    "start_time": "2023-06-13T00:02:04.500Z"
   },
   {
    "duration": 143,
    "start_time": "2023-06-13T00:02:08.946Z"
   },
   {
    "duration": 124,
    "start_time": "2023-06-13T00:03:05.347Z"
   },
   {
    "duration": 14,
    "start_time": "2023-06-13T00:05:09.931Z"
   },
   {
    "duration": 1059,
    "start_time": "2023-06-13T00:05:23.063Z"
   },
   {
    "duration": 90,
    "start_time": "2023-06-13T00:05:54.766Z"
   },
   {
    "duration": 28,
    "start_time": "2023-06-13T00:06:01.782Z"
   },
   {
    "duration": 5,
    "start_time": "2023-06-13T00:12:08.392Z"
   },
   {
    "duration": 132,
    "start_time": "2023-06-13T00:15:53.635Z"
   },
   {
    "duration": 13,
    "start_time": "2023-06-13T00:16:45.068Z"
   },
   {
    "duration": 17,
    "start_time": "2023-06-13T00:17:15.230Z"
   },
   {
    "duration": 3415,
    "start_time": "2023-06-13T00:17:47.269Z"
   },
   {
    "duration": 3223,
    "start_time": "2023-06-13T00:18:06.084Z"
   },
   {
    "duration": 3096,
    "start_time": "2023-06-13T00:19:05.769Z"
   },
   {
    "duration": 3158,
    "start_time": "2023-06-13T00:20:09.068Z"
   },
   {
    "duration": 3153,
    "start_time": "2023-06-13T00:20:32.871Z"
   },
   {
    "duration": 3245,
    "start_time": "2023-06-13T00:20:41.859Z"
   },
   {
    "duration": 175,
    "start_time": "2023-06-13T00:20:51.044Z"
   },
   {
    "duration": 204,
    "start_time": "2023-06-13T00:22:29.381Z"
   },
   {
    "duration": 195,
    "start_time": "2023-06-13T00:22:43.023Z"
   },
   {
    "duration": 228,
    "start_time": "2023-06-13T00:22:53.273Z"
   },
   {
    "duration": 329,
    "start_time": "2023-06-13T00:22:59.452Z"
   },
   {
    "duration": 244,
    "start_time": "2023-06-13T00:24:22.928Z"
   },
   {
    "duration": 10,
    "start_time": "2023-06-13T00:27:53.321Z"
   },
   {
    "duration": 178,
    "start_time": "2023-06-13T00:36:09.791Z"
   },
   {
    "duration": 156,
    "start_time": "2023-06-13T00:37:46.549Z"
   },
   {
    "duration": 45,
    "start_time": "2023-06-13T00:37:58.286Z"
   },
   {
    "duration": 91,
    "start_time": "2023-06-13T00:38:33.396Z"
   },
   {
    "duration": 82,
    "start_time": "2023-06-13T00:38:49.075Z"
   },
   {
    "duration": 1374,
    "start_time": "2023-06-13T00:40:37.914Z"
   },
   {
    "duration": 149,
    "start_time": "2023-06-13T00:44:56.877Z"
   },
   {
    "duration": 33,
    "start_time": "2023-06-13T00:48:02.079Z"
   },
   {
    "duration": 34,
    "start_time": "2023-06-13T00:48:31.019Z"
   },
   {
    "duration": 5,
    "start_time": "2023-06-13T00:49:07.543Z"
   },
   {
    "duration": 25,
    "start_time": "2023-06-13T00:49:40.185Z"
   },
   {
    "duration": 1592,
    "start_time": "2023-06-13T00:49:57.683Z"
   },
   {
    "duration": 13,
    "start_time": "2023-06-13T00:51:39.066Z"
   },
   {
    "duration": 18,
    "start_time": "2023-06-13T00:54:38.141Z"
   },
   {
    "duration": 14,
    "start_time": "2023-06-13T00:54:44.149Z"
   },
   {
    "duration": 11,
    "start_time": "2023-06-13T00:55:04.270Z"
   },
   {
    "duration": 4601,
    "start_time": "2023-06-13T00:55:26.332Z"
   },
   {
    "duration": 431,
    "start_time": "2023-06-13T00:55:39.591Z"
   },
   {
    "duration": 32,
    "start_time": "2023-06-13T00:57:16.016Z"
   },
   {
    "duration": 58,
    "start_time": "2023-06-13T00:57:53.218Z"
   },
   {
    "duration": 54,
    "start_time": "2023-06-13T00:58:02.050Z"
   },
   {
    "duration": 65,
    "start_time": "2023-06-13T00:58:13.323Z"
   },
   {
    "duration": 39,
    "start_time": "2023-06-13T00:59:34.380Z"
   },
   {
    "duration": 24,
    "start_time": "2023-06-13T01:00:50.479Z"
   },
   {
    "duration": 29,
    "start_time": "2023-06-13T01:01:03.529Z"
   },
   {
    "duration": 21,
    "start_time": "2023-06-13T01:01:13.138Z"
   },
   {
    "duration": 16,
    "start_time": "2023-06-13T01:01:16.082Z"
   },
   {
    "duration": 165,
    "start_time": "2023-06-13T01:01:25.599Z"
   },
   {
    "duration": 6,
    "start_time": "2023-06-13T01:01:26.244Z"
   },
   {
    "duration": 28,
    "start_time": "2023-06-13T01:01:27.136Z"
   },
   {
    "duration": 17,
    "start_time": "2023-06-13T01:01:37.786Z"
   },
   {
    "duration": 31,
    "start_time": "2023-06-13T01:01:46.921Z"
   },
   {
    "duration": 18,
    "start_time": "2023-06-13T01:01:55.495Z"
   },
   {
    "duration": 93,
    "start_time": "2023-06-13T01:02:09.377Z"
   },
   {
    "duration": 5,
    "start_time": "2023-06-13T01:02:09.760Z"
   },
   {
    "duration": 6,
    "start_time": "2023-06-13T01:02:10.189Z"
   },
   {
    "duration": 1945,
    "start_time": "2023-06-13T01:02:37.345Z"
   },
   {
    "duration": 7,
    "start_time": "2023-06-13T01:04:01.147Z"
   },
   {
    "duration": 187,
    "start_time": "2023-06-13T01:04:05.710Z"
   },
   {
    "duration": 1857,
    "start_time": "2023-06-13T01:04:35.246Z"
   },
   {
    "duration": 1860,
    "start_time": "2023-06-13T01:04:51.548Z"
   },
   {
    "duration": 2580,
    "start_time": "2023-06-13T01:06:32.233Z"
   },
   {
    "duration": 2639,
    "start_time": "2023-06-13T01:07:01.081Z"
   },
   {
    "duration": 2539,
    "start_time": "2023-06-13T01:07:15.045Z"
   },
   {
    "duration": 141,
    "start_time": "2023-06-13T01:27:19.007Z"
   },
   {
    "duration": 2859,
    "start_time": "2023-06-13T01:27:59.396Z"
   },
   {
    "duration": 139,
    "start_time": "2023-06-13T01:28:07.675Z"
   },
   {
    "duration": 235,
    "start_time": "2023-06-13T01:31:33.792Z"
   },
   {
    "duration": 183,
    "start_time": "2023-06-13T01:32:19.798Z"
   },
   {
    "duration": 17,
    "start_time": "2023-06-13T01:36:06.841Z"
   },
   {
    "duration": 45459,
    "start_time": "2023-06-13T01:36:20.268Z"
   },
   {
    "duration": 53607,
    "start_time": "2023-06-13T01:37:13.840Z"
   },
   {
    "duration": 14,
    "start_time": "2023-06-13T01:38:09.150Z"
   },
   {
    "duration": 2872,
    "start_time": "2023-06-13T01:38:16.868Z"
   },
   {
    "duration": 150,
    "start_time": "2023-06-13T01:38:24.199Z"
   },
   {
    "duration": 53909,
    "start_time": "2023-06-13T01:38:28.035Z"
   },
   {
    "duration": 7,
    "start_time": "2023-06-13T01:39:26.947Z"
   },
   {
    "duration": 21419,
    "start_time": "2023-06-13T01:39:29.329Z"
   },
   {
    "duration": 61,
    "start_time": "2023-06-13T06:01:05.044Z"
   },
   {
    "duration": 7,
    "start_time": "2023-06-13T06:01:13.409Z"
   },
   {
    "duration": 6,
    "start_time": "2023-06-13T06:01:16.640Z"
   },
   {
    "duration": 6,
    "start_time": "2023-06-13T06:01:17.074Z"
   },
   {
    "duration": 5487,
    "start_time": "2023-06-13T06:01:17.955Z"
   },
   {
    "duration": 3258,
    "start_time": "2023-06-13T06:01:25.141Z"
   },
   {
    "duration": 3240,
    "start_time": "2023-06-13T06:01:28.401Z"
   },
   {
    "duration": 575,
    "start_time": "2023-06-13T06:01:31.643Z"
   },
   {
    "duration": 482,
    "start_time": "2023-06-13T06:01:32.221Z"
   },
   {
    "duration": 57,
    "start_time": "2023-06-13T06:01:32.705Z"
   },
   {
    "duration": 8124,
    "start_time": "2023-06-13T06:01:32.763Z"
   },
   {
    "duration": 23,
    "start_time": "2023-06-13T06:01:40.889Z"
   },
   {
    "duration": 304,
    "start_time": "2023-06-13T06:01:40.914Z"
   },
   {
    "duration": 28,
    "start_time": "2023-06-13T06:01:41.224Z"
   },
   {
    "duration": 25,
    "start_time": "2023-06-13T06:01:41.256Z"
   },
   {
    "duration": 60,
    "start_time": "2023-06-13T06:01:41.284Z"
   },
   {
    "duration": 363,
    "start_time": "2023-06-13T06:01:41.346Z"
   },
   {
    "duration": 37,
    "start_time": "2023-06-13T06:01:41.711Z"
   },
   {
    "duration": 340,
    "start_time": "2023-06-13T06:01:41.750Z"
   },
   {
    "duration": 36,
    "start_time": "2023-06-13T06:01:42.092Z"
   },
   {
    "duration": 450,
    "start_time": "2023-06-13T06:01:42.130Z"
   },
   {
    "duration": 32,
    "start_time": "2023-06-13T06:01:42.583Z"
   },
   {
    "duration": 7,
    "start_time": "2023-06-13T06:01:42.629Z"
   },
   {
    "duration": 851,
    "start_time": "2023-06-13T06:01:42.638Z"
   },
   {
    "duration": 90,
    "start_time": "2023-06-13T06:01:43.491Z"
   },
   {
    "duration": 966,
    "start_time": "2023-06-13T06:01:43.583Z"
   },
   {
    "duration": 29,
    "start_time": "2023-06-13T06:01:44.551Z"
   },
   {
    "duration": 215,
    "start_time": "2023-06-13T06:01:44.582Z"
   },
   {
    "duration": 101,
    "start_time": "2023-06-13T06:01:44.799Z"
   },
   {
    "duration": 95,
    "start_time": "2023-06-13T06:01:44.902Z"
   },
   {
    "duration": 4,
    "start_time": "2023-06-13T06:01:44.999Z"
   },
   {
    "duration": 2490,
    "start_time": "2023-06-13T06:01:45.005Z"
   },
   {
    "duration": 228,
    "start_time": "2023-06-13T06:01:47.498Z"
   },
   {
    "duration": 112,
    "start_time": "2023-06-13T06:01:47.731Z"
   },
   {
    "duration": 2421,
    "start_time": "2023-06-13T06:02:56.175Z"
   },
   {
    "duration": 17,
    "start_time": "2023-06-13T06:03:04.982Z"
   },
   {
    "duration": 477682,
    "start_time": "2023-06-13T06:05:05.579Z"
   },
   {
    "duration": 0,
    "start_time": "2023-06-13T06:13:03.264Z"
   },
   {
    "duration": 161195,
    "start_time": "2023-06-13T06:13:18.798Z"
   },
   {
    "duration": 198566,
    "start_time": "2023-06-13T06:16:03.722Z"
   },
   {
    "duration": 130,
    "start_time": "2023-06-13T06:19:22.290Z"
   },
   {
    "duration": 132,
    "start_time": "2023-06-13T06:19:22.421Z"
   },
   {
    "duration": 6626,
    "start_time": "2023-06-13T06:20:34.450Z"
   },
   {
    "duration": 73,
    "start_time": "2023-06-13T06:28:11.300Z"
   },
   {
    "duration": 276208,
    "start_time": "2023-06-13T06:29:10.554Z"
   },
   {
    "duration": 2447,
    "start_time": "2023-06-13T06:34:07.252Z"
   },
   {
    "duration": 43759,
    "start_time": "2023-06-13T06:34:20.095Z"
   },
   {
    "duration": 0,
    "start_time": "2023-06-13T06:35:03.855Z"
   },
   {
    "duration": 0,
    "start_time": "2023-06-13T06:35:03.857Z"
   },
   {
    "duration": 246,
    "start_time": "2023-06-13T06:35:17.664Z"
   },
   {
    "duration": 1072452,
    "start_time": "2023-06-13T06:35:18.816Z"
   },
   {
    "duration": 0,
    "start_time": "2023-06-13T06:53:11.270Z"
   },
   {
    "duration": 0,
    "start_time": "2023-06-13T06:53:11.272Z"
   },
   {
    "duration": 0,
    "start_time": "2023-06-13T06:53:11.273Z"
   },
   {
    "duration": 60731,
    "start_time": "2023-06-13T06:55:55.097Z"
   },
   {
    "duration": 5343,
    "start_time": "2023-06-13T06:56:56.654Z"
   },
   {
    "duration": 339,
    "start_time": "2023-06-13T06:57:48.036Z"
   },
   {
    "duration": 409,
    "start_time": "2023-06-13T06:58:06.666Z"
   },
   {
    "duration": 77,
    "start_time": "2023-06-13T06:59:03.647Z"
   },
   {
    "duration": 251,
    "start_time": "2023-06-13T07:00:15.346Z"
   },
   {
    "duration": 5853,
    "start_time": "2023-06-13T07:00:16.018Z"
   },
   {
    "duration": 8798,
    "start_time": "2023-06-13T07:00:29.518Z"
   },
   {
    "duration": 19914,
    "start_time": "2023-06-13T07:00:43.767Z"
   },
   {
    "duration": 230,
    "start_time": "2023-06-13T07:01:12.951Z"
   },
   {
    "duration": 19351,
    "start_time": "2023-06-13T07:01:14.211Z"
   },
   {
    "duration": 0,
    "start_time": "2023-06-13T07:01:33.568Z"
   },
   {
    "duration": 83654,
    "start_time": "2023-06-13T07:01:48.599Z"
   },
   {
    "duration": 233,
    "start_time": "2023-06-13T07:03:13.932Z"
   },
   {
    "duration": 149615,
    "start_time": "2023-06-13T07:03:29.241Z"
   },
   {
    "duration": 89298,
    "start_time": "2023-06-13T07:09:05.609Z"
   },
   {
    "duration": 9932707,
    "start_time": "2023-06-13T07:10:51.287Z"
   },
   {
    "duration": 15,
    "start_time": "2023-06-13T10:28:20.208Z"
   },
   {
    "duration": 2788,
    "start_time": "2023-06-13T10:29:06.421Z"
   },
   {
    "duration": 229551,
    "start_time": "2023-06-13T10:29:25.814Z"
   },
   {
    "duration": 8,
    "start_time": "2023-06-13T10:34:38.177Z"
   },
   {
    "duration": 8,
    "start_time": "2023-06-13T10:34:39.184Z"
   },
   {
    "duration": 6880,
    "start_time": "2023-06-13T10:39:08.851Z"
   },
   {
    "duration": 11046823,
    "start_time": "2023-06-13T10:39:24.342Z"
   },
   {
    "duration": 12,
    "start_time": "2023-06-13T18:20:34.795Z"
   },
   {
    "duration": 10,
    "start_time": "2023-06-13T18:20:37.413Z"
   },
   {
    "duration": 13,
    "start_time": "2023-06-13T18:20:37.600Z"
   },
   {
    "duration": 8029,
    "start_time": "2023-06-13T18:20:37.952Z"
   },
   {
    "duration": 3337,
    "start_time": "2023-06-13T18:20:45.985Z"
   },
   {
    "duration": 4777,
    "start_time": "2023-06-13T18:20:49.325Z"
   },
   {
    "duration": 512,
    "start_time": "2023-06-13T18:20:54.104Z"
   },
   {
    "duration": 519,
    "start_time": "2023-06-13T18:20:54.618Z"
   },
   {
    "duration": 44,
    "start_time": "2023-06-13T18:20:55.139Z"
   },
   {
    "duration": 11618,
    "start_time": "2023-06-13T18:20:55.186Z"
   },
   {
    "duration": 35,
    "start_time": "2023-06-13T18:21:06.807Z"
   },
   {
    "duration": 425,
    "start_time": "2023-06-13T18:21:06.844Z"
   },
   {
    "duration": 29,
    "start_time": "2023-06-13T18:21:07.274Z"
   },
   {
    "duration": 43,
    "start_time": "2023-06-13T18:21:07.306Z"
   },
   {
    "duration": 44,
    "start_time": "2023-06-13T18:21:07.352Z"
   },
   {
    "duration": 499,
    "start_time": "2023-06-13T18:21:07.399Z"
   },
   {
    "duration": 44,
    "start_time": "2023-06-13T18:21:07.902Z"
   },
   {
    "duration": 561,
    "start_time": "2023-06-13T18:21:07.949Z"
   },
   {
    "duration": 30,
    "start_time": "2023-06-13T18:21:08.513Z"
   },
   {
    "duration": 652,
    "start_time": "2023-06-13T18:21:08.545Z"
   },
   {
    "duration": 43,
    "start_time": "2023-06-13T18:21:09.199Z"
   },
   {
    "duration": 6,
    "start_time": "2023-06-13T18:21:09.245Z"
   },
   {
    "duration": 1154,
    "start_time": "2023-06-13T18:21:09.253Z"
   },
   {
    "duration": 144,
    "start_time": "2023-06-13T18:21:10.410Z"
   },
   {
    "duration": 1335,
    "start_time": "2023-06-13T18:21:10.556Z"
   },
   {
    "duration": 46,
    "start_time": "2023-06-13T18:21:11.893Z"
   },
   {
    "duration": 275,
    "start_time": "2023-06-13T18:21:11.941Z"
   },
   {
    "duration": 152,
    "start_time": "2023-06-13T18:21:12.224Z"
   },
   {
    "duration": 128,
    "start_time": "2023-06-13T18:21:12.378Z"
   },
   {
    "duration": 6,
    "start_time": "2023-06-13T18:21:12.508Z"
   },
   {
    "duration": 3532,
    "start_time": "2023-06-13T18:21:12.528Z"
   },
   {
    "duration": 299,
    "start_time": "2023-06-13T18:21:16.062Z"
   },
   {
    "duration": 7167,
    "start_time": "2023-06-13T18:22:51.482Z"
   },
   {
    "duration": 275,
    "start_time": "2023-06-13T18:23:15.913Z"
   },
   {
    "duration": 35482,
    "start_time": "2023-06-13T18:25:25.662Z"
   },
   {
    "duration": 12283,
    "start_time": "2023-06-13T18:26:04.001Z"
   },
   {
    "duration": 94266,
    "start_time": "2023-06-13T18:26:39.290Z"
   },
   {
    "duration": 1873,
    "start_time": "2023-06-13T18:30:01.148Z"
   },
   {
    "duration": 69072,
    "start_time": "2023-06-13T18:31:20.894Z"
   },
   {
    "duration": 72976,
    "start_time": "2023-06-13T18:32:54.247Z"
   },
   {
    "duration": 7229,
    "start_time": "2023-06-13T18:35:51.348Z"
   },
   {
    "duration": 5,
    "start_time": "2023-06-13T18:36:07.890Z"
   },
   {
    "duration": 7516,
    "start_time": "2023-06-13T18:36:14.768Z"
   },
   {
    "duration": 65228,
    "start_time": "2023-06-13T18:37:13.671Z"
   },
   {
    "duration": 0,
    "start_time": "2023-06-13T18:40:08.985Z"
   },
   {
    "duration": 61099,
    "start_time": "2023-06-13T18:40:47.400Z"
   },
   {
    "duration": 18429,
    "start_time": "2023-06-13T18:45:44.383Z"
   },
   {
    "duration": 20060,
    "start_time": "2023-06-13T18:48:40.394Z"
   },
   {
    "duration": 69486,
    "start_time": "2023-06-13T18:49:13.995Z"
   },
   {
    "duration": 174,
    "start_time": "2023-06-13T18:50:25.521Z"
   },
   {
    "duration": 32899,
    "start_time": "2023-06-13T18:50:33.963Z"
   },
   {
    "duration": 47405,
    "start_time": "2023-06-13T18:52:42.523Z"
   },
   {
    "duration": 91731,
    "start_time": "2023-06-13T18:53:33.402Z"
   },
   {
    "duration": 151,
    "start_time": "2023-06-13T18:57:56.308Z"
   },
   {
    "duration": 6874,
    "start_time": "2023-06-13T18:58:16.989Z"
   },
   {
    "duration": 126,
    "start_time": "2023-06-13T18:58:25.755Z"
   },
   {
    "duration": 70671,
    "start_time": "2023-06-13T18:58:36.997Z"
   },
   {
    "duration": 247861,
    "start_time": "2023-06-13T19:00:10.989Z"
   },
   {
    "duration": 64807,
    "start_time": "2023-06-13T19:04:18.852Z"
   },
   {
    "duration": 755486,
    "start_time": "2023-06-13T19:07:05.490Z"
   },
   {
    "duration": 0,
    "start_time": "2023-06-13T19:19:40.980Z"
   },
   {
    "duration": 0,
    "start_time": "2023-06-13T19:19:40.982Z"
   },
   {
    "duration": 17,
    "start_time": "2023-06-13T19:19:45.596Z"
   },
   {
    "duration": 23756,
    "start_time": "2023-06-13T19:20:02.805Z"
   },
   {
    "duration": 0,
    "start_time": "2023-06-13T19:20:26.564Z"
   },
   {
    "duration": 13466,
    "start_time": "2023-06-13T19:20:29.194Z"
   },
   {
    "duration": 0,
    "start_time": "2023-06-13T19:20:42.663Z"
   },
   {
    "duration": 0,
    "start_time": "2023-06-13T19:20:42.664Z"
   },
   {
    "duration": 25475,
    "start_time": "2023-06-13T19:21:25.239Z"
   },
   {
    "duration": 63020,
    "start_time": "2023-06-13T19:21:52.595Z"
   },
   {
    "duration": 29174,
    "start_time": "2023-06-13T19:23:02.505Z"
   },
   {
    "duration": 1597,
    "start_time": "2023-06-13T19:23:31.682Z"
   },
   {
    "duration": 94243,
    "start_time": "2023-06-13T19:23:50.637Z"
   },
   {
    "duration": 11404,
    "start_time": "2023-06-13T19:25:24.884Z"
   },
   {
    "duration": 41496,
    "start_time": "2023-06-13T19:25:45.796Z"
   },
   {
    "duration": 45706,
    "start_time": "2023-06-13T19:26:27.295Z"
   },
   {
    "duration": 0,
    "start_time": "2023-06-13T19:27:13.003Z"
   },
   {
    "duration": 56107,
    "start_time": "2023-06-13T19:27:23.640Z"
   },
   {
    "duration": 3517,
    "start_time": "2023-06-13T19:28:19.751Z"
   },
   {
    "duration": 96462,
    "start_time": "2023-06-13T19:28:23.271Z"
   },
   {
    "duration": 47888,
    "start_time": "2023-06-13T19:29:59.747Z"
   },
   {
    "duration": 0,
    "start_time": "2023-06-13T19:30:47.650Z"
   },
   {
    "duration": 504663,
    "start_time": "2023-06-13T19:30:52.627Z"
   },
   {
    "duration": 0,
    "start_time": "2023-06-13T19:39:17.292Z"
   },
   {
    "duration": 31640,
    "start_time": "2023-06-13T19:39:23.791Z"
   },
   {
    "duration": 4142,
    "start_time": "2023-06-13T19:39:55.435Z"
   },
   {
    "duration": 36391,
    "start_time": "2023-06-13T19:40:20.540Z"
   },
   {
    "duration": 39588,
    "start_time": "2023-06-13T19:41:04.058Z"
   },
   {
    "duration": 79061,
    "start_time": "2023-06-13T19:41:48.124Z"
   },
   {
    "duration": 65058,
    "start_time": "2023-06-13T19:43:07.199Z"
   },
   {
    "duration": 23,
    "start_time": "2023-06-13T19:44:56.816Z"
   },
   {
    "duration": 66172,
    "start_time": "2023-06-13T19:45:03.322Z"
   },
   {
    "duration": 4690,
    "start_time": "2023-06-13T19:46:58.606Z"
   },
   {
    "duration": 76231,
    "start_time": "2023-06-13T19:47:16.200Z"
   },
   {
    "duration": 6603,
    "start_time": "2023-06-13T19:48:32.434Z"
   },
   {
    "duration": 0,
    "start_time": "2023-06-13T19:48:39.049Z"
   },
   {
    "duration": 3839,
    "start_time": "2023-06-13T19:49:31.909Z"
   },
   {
    "duration": 4847,
    "start_time": "2023-06-13T19:49:42.947Z"
   },
   {
    "duration": 3723,
    "start_time": "2023-06-13T19:50:07.647Z"
   },
   {
    "duration": 200,
    "start_time": "2023-06-13T19:50:50.978Z"
   },
   {
    "duration": 4,
    "start_time": "2023-06-13T19:56:08.782Z"
   },
   {
    "duration": 3015,
    "start_time": "2023-06-13T19:57:29.052Z"
   },
   {
    "duration": 2048,
    "start_time": "2023-06-13T20:02:55.199Z"
   },
   {
    "duration": 5184,
    "start_time": "2023-06-13T20:03:31.103Z"
   },
   {
    "duration": 20,
    "start_time": "2023-06-13T20:04:44.849Z"
   },
   {
    "duration": 117,
    "start_time": "2023-06-13T20:05:32.651Z"
   },
   {
    "duration": 4,
    "start_time": "2023-06-13T20:08:52.175Z"
   },
   {
    "duration": 7,
    "start_time": "2023-06-13T20:08:58.130Z"
   },
   {
    "duration": 7,
    "start_time": "2023-06-13T20:10:04.089Z"
   },
   {
    "duration": 5,
    "start_time": "2023-06-13T20:10:17.680Z"
   },
   {
    "duration": 6,
    "start_time": "2023-06-13T20:10:21.880Z"
   },
   {
    "duration": 30,
    "start_time": "2023-06-13T20:10:45.518Z"
   },
   {
    "duration": 26,
    "start_time": "2023-06-13T20:11:03.923Z"
   },
   {
    "duration": 6,
    "start_time": "2023-06-13T20:11:30.523Z"
   },
   {
    "duration": 4,
    "start_time": "2023-06-13T20:11:39.389Z"
   },
   {
    "duration": 6,
    "start_time": "2023-06-13T20:11:52.923Z"
   },
   {
    "duration": 5,
    "start_time": "2023-06-13T20:12:02.089Z"
   },
   {
    "duration": 10,
    "start_time": "2023-06-13T20:12:11.785Z"
   },
   {
    "duration": 8,
    "start_time": "2023-06-13T20:12:17.946Z"
   },
   {
    "duration": 146,
    "start_time": "2023-06-13T20:13:32.715Z"
   },
   {
    "duration": 16,
    "start_time": "2023-06-14T15:36:47.550Z"
   },
   {
    "duration": 81,
    "start_time": "2023-06-14T15:36:47.872Z"
   },
   {
    "duration": 10,
    "start_time": "2023-06-14T15:36:48.552Z"
   },
   {
    "duration": 33018,
    "start_time": "2023-06-14T15:36:50.351Z"
   },
   {
    "duration": 5034,
    "start_time": "2023-06-14T15:38:10.952Z"
   },
   {
    "duration": 18804,
    "start_time": "2023-06-14T15:38:16.054Z"
   },
   {
    "duration": 3308,
    "start_time": "2023-06-14T15:38:34.875Z"
   },
   {
    "duration": 3003,
    "start_time": "2023-06-14T15:39:16.653Z"
   },
   {
    "duration": 205,
    "start_time": "2023-06-14T15:39:30.151Z"
   },
   {
    "duration": 44410,
    "start_time": "2023-06-14T15:39:43.457Z"
   },
   {
    "duration": 106,
    "start_time": "2023-06-14T15:40:27.868Z"
   },
   {
    "duration": 1508,
    "start_time": "2023-06-14T15:41:14.756Z"
   },
   {
    "duration": 112,
    "start_time": "2023-06-14T15:41:17.951Z"
   },
   {
    "duration": 99,
    "start_time": "2023-06-14T15:41:19.056Z"
   },
   {
    "duration": 6,
    "start_time": "2023-06-14T15:42:01.251Z"
   },
   {
    "duration": 9,
    "start_time": "2023-06-14T15:42:07.951Z"
   },
   {
    "duration": 279,
    "start_time": "2023-06-14T15:44:37.680Z"
   },
   {
    "duration": 2726,
    "start_time": "2023-06-14T15:44:41.952Z"
   },
   {
    "duration": 108,
    "start_time": "2023-06-14T15:44:55.456Z"
   },
   {
    "duration": 1710,
    "start_time": "2023-06-14T15:45:33.951Z"
   },
   {
    "duration": 121,
    "start_time": "2023-06-14T15:45:36.353Z"
   },
   {
    "duration": 1659,
    "start_time": "2023-06-14T15:45:38.315Z"
   },
   {
    "duration": 117,
    "start_time": "2023-06-14T15:45:44.755Z"
   },
   {
    "duration": 5,
    "start_time": "2023-06-14T15:46:59.550Z"
   },
   {
    "duration": 5004,
    "start_time": "2023-06-14T15:47:02.151Z"
   },
   {
    "duration": 603,
    "start_time": "2023-06-14T15:47:08.951Z"
   },
   {
    "duration": 5508,
    "start_time": "2023-06-14T15:47:39.351Z"
   },
   {
    "duration": 212,
    "start_time": "2023-06-14T15:47:48.451Z"
   },
   {
    "duration": 1198,
    "start_time": "2023-06-14T15:48:04.151Z"
   },
   {
    "duration": 609,
    "start_time": "2023-06-14T15:48:11.151Z"
   },
   {
    "duration": 1005,
    "start_time": "2023-06-14T15:48:31.551Z"
   },
   {
    "duration": 596,
    "start_time": "2023-06-14T15:48:51.958Z"
   },
   {
    "duration": 8,
    "start_time": "2023-06-14T15:49:10.451Z"
   },
   {
    "duration": 18208,
    "start_time": "2023-06-14T15:49:19.851Z"
   },
   {
    "duration": 8265,
    "start_time": "2023-06-14T17:09:16.093Z"
   },
   {
    "duration": 6,
    "start_time": "2023-06-14T17:09:27.486Z"
   },
   {
    "duration": 11,
    "start_time": "2023-06-14T17:09:28.043Z"
   },
   {
    "duration": 6,
    "start_time": "2023-06-14T17:09:28.706Z"
   },
   {
    "duration": 10,
    "start_time": "2023-06-14T17:15:13.168Z"
   },
   {
    "duration": 5,
    "start_time": "2023-06-14T17:15:13.368Z"
   },
   {
    "duration": 1314,
    "start_time": "2023-06-14T17:15:14.813Z"
   },
   {
    "duration": 3460,
    "start_time": "2023-06-14T17:15:16.129Z"
   },
   {
    "duration": 580,
    "start_time": "2023-06-14T17:15:19.591Z"
   },
   {
    "duration": 480,
    "start_time": "2023-06-14T17:15:20.177Z"
   },
   {
    "duration": 57,
    "start_time": "2023-06-14T17:15:22.997Z"
   },
   {
    "duration": 8372,
    "start_time": "2023-06-14T17:15:24.088Z"
   },
   {
    "duration": 23,
    "start_time": "2023-06-14T17:15:32.462Z"
   },
   {
    "duration": 401,
    "start_time": "2023-06-14T17:15:32.487Z"
   },
   {
    "duration": 22,
    "start_time": "2023-06-14T17:15:32.891Z"
   },
   {
    "duration": 348,
    "start_time": "2023-06-14T17:15:32.915Z"
   },
   {
    "duration": 44,
    "start_time": "2023-06-14T17:16:53.634Z"
   },
   {
    "duration": 32,
    "start_time": "2023-06-14T17:16:56.362Z"
   },
   {
    "duration": 324,
    "start_time": "2023-06-14T17:16:58.016Z"
   },
   {
    "duration": 30,
    "start_time": "2023-06-14T17:16:59.658Z"
   },
   {
    "duration": 353,
    "start_time": "2023-06-14T17:17:03.303Z"
   },
   {
    "duration": 19,
    "start_time": "2023-06-14T17:17:04.211Z"
   },
   {
    "duration": 494,
    "start_time": "2023-06-14T17:17:05.409Z"
   },
   {
    "duration": 26,
    "start_time": "2023-06-14T17:17:20.885Z"
   },
   {
    "duration": 143,
    "start_time": "2023-06-14T17:17:36.798Z"
   },
   {
    "duration": 24,
    "start_time": "2023-06-14T17:17:46.993Z"
   },
   {
    "duration": 4,
    "start_time": "2023-06-14T17:17:48.832Z"
   },
   {
    "duration": 793,
    "start_time": "2023-06-14T17:17:54.789Z"
   },
   {
    "duration": 91,
    "start_time": "2023-06-14T17:18:02.202Z"
   },
   {
    "duration": 999,
    "start_time": "2023-06-14T17:18:06.011Z"
   },
   {
    "duration": 33,
    "start_time": "2023-06-14T17:18:07.666Z"
   },
   {
    "duration": 178,
    "start_time": "2023-06-14T17:18:08.878Z"
   },
   {
    "duration": 95,
    "start_time": "2023-06-14T17:18:11.088Z"
   },
   {
    "duration": 166,
    "start_time": "2023-06-14T17:18:14.542Z"
   },
   {
    "duration": 175,
    "start_time": "2023-06-14T17:19:52.913Z"
   },
   {
    "duration": 134,
    "start_time": "2023-06-14T17:20:04.113Z"
   },
   {
    "duration": 89,
    "start_time": "2023-06-14T17:20:06.725Z"
   },
   {
    "duration": 127,
    "start_time": "2023-06-14T17:20:17.489Z"
   },
   {
    "duration": 127,
    "start_time": "2023-06-14T17:20:31.334Z"
   },
   {
    "duration": 60,
    "start_time": "2023-06-14T17:20:45.559Z"
   },
   {
    "duration": 87,
    "start_time": "2023-06-14T17:21:01.602Z"
   },
   {
    "duration": 3,
    "start_time": "2023-06-14T17:21:10.259Z"
   },
   {
    "duration": 1466,
    "start_time": "2023-06-14T17:25:32.906Z"
   },
   {
    "duration": 91,
    "start_time": "2023-06-14T17:28:00.497Z"
   },
   {
    "duration": 167,
    "start_time": "2023-06-14T17:28:54.101Z"
   },
   {
    "duration": 28786,
    "start_time": "2023-06-14T17:29:53.285Z"
   },
   {
    "duration": 17,
    "start_time": "2023-06-14T17:30:38.620Z"
   },
   {
    "duration": 6858,
    "start_time": "2023-06-14T17:30:53.506Z"
   },
   {
    "duration": 145,
    "start_time": "2023-06-14T17:32:25.801Z"
   },
   {
    "duration": 6926,
    "start_time": "2023-06-14T17:32:26.599Z"
   },
   {
    "duration": 8034,
    "start_time": "2023-06-14T17:32:38.313Z"
   },
   {
    "duration": 96,
    "start_time": "2023-06-14T17:33:29.485Z"
   },
   {
    "duration": 2958,
    "start_time": "2023-06-14T17:33:42.802Z"
   },
   {
    "duration": 39404,
    "start_time": "2023-06-14T17:35:08.495Z"
   },
   {
    "duration": 41653,
    "start_time": "2023-06-14T17:36:03.142Z"
   },
   {
    "duration": 1835,
    "start_time": "2023-06-14T17:36:59.581Z"
   },
   {
    "duration": 23549,
    "start_time": "2023-06-14T17:37:27.017Z"
   },
   {
    "duration": 41725,
    "start_time": "2023-06-14T17:37:54.292Z"
   },
   {
    "duration": 2982,
    "start_time": "2023-06-14T17:38:42.886Z"
   },
   {
    "duration": 877,
    "start_time": "2023-06-14T17:43:11.184Z"
   },
   {
    "duration": 7,
    "start_time": "2023-06-14T17:43:21.829Z"
   },
   {
    "duration": 6,
    "start_time": "2023-06-14T17:44:58.577Z"
   },
   {
    "duration": 11,
    "start_time": "2023-06-14T17:45:22.345Z"
   },
   {
    "duration": 32,
    "start_time": "2023-06-14T17:45:28.282Z"
   },
   {
    "duration": 36,
    "start_time": "2023-06-14T17:45:41.540Z"
   },
   {
    "duration": 1682,
    "start_time": "2023-06-14T17:52:04.938Z"
   },
   {
    "duration": 1672,
    "start_time": "2023-06-14T17:52:18.439Z"
   },
   {
    "duration": 192,
    "start_time": "2023-06-14T17:54:35.160Z"
   },
   {
    "duration": 14208,
    "start_time": "2023-06-14T17:54:49.482Z"
   },
   {
    "duration": 16486,
    "start_time": "2023-06-14T17:55:03.692Z"
   },
   {
    "duration": 3444,
    "start_time": "2023-06-14T17:55:26.321Z"
   },
   {
    "duration": 51877,
    "start_time": "2023-06-14T17:56:00.793Z"
   },
   {
    "duration": 46619,
    "start_time": "2023-06-14T17:56:52.673Z"
   },
   {
    "duration": 2136,
    "start_time": "2023-06-14T17:57:39.294Z"
   },
   {
    "duration": 26605,
    "start_time": "2023-06-14T17:58:05.381Z"
   },
   {
    "duration": 47372,
    "start_time": "2023-06-14T17:58:31.988Z"
   },
   {
    "duration": 3205,
    "start_time": "2023-06-14T17:59:19.368Z"
   },
   {
    "duration": 1795,
    "start_time": "2023-06-14T17:59:32.679Z"
   },
   {
    "duration": 10,
    "start_time": "2023-06-14T17:59:34.478Z"
   },
   {
    "duration": 6,
    "start_time": "2023-06-14T18:02:00.895Z"
   }
  ],
  "kernelspec": {
   "display_name": "Python 3",
   "language": "python",
   "name": "python3"
  },
  "language_info": {
   "codemirror_mode": {
    "name": "ipython",
    "version": 3
   },
   "file_extension": ".py",
   "mimetype": "text/x-python",
   "name": "python",
   "nbconvert_exporter": "python",
   "pygments_lexer": "ipython3",
   "version": "3.8.8"
  },
  "toc": {
   "base_numbering": 1,
   "nav_menu": {},
   "number_sections": true,
   "sideBar": true,
   "skip_h1_title": true,
   "title_cell": "Table of Contents",
   "title_sidebar": "Contents",
   "toc_cell": false,
   "toc_position": {},
   "toc_section_display": true,
   "toc_window_display": false
  }
 },
 "nbformat": 4,
 "nbformat_minor": 2
}
