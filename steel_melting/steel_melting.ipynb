{
 "cells": [
  {
   "cell_type": "markdown",
   "metadata": {},
   "source": [
    "# Оптимизация производственных процессов плавки стали при помощи машинного обучения"
   ]
  },
  {
   "cell_type": "markdown",
   "metadata": {},
   "source": [
    "## Описание проекта"
   ]
  },
  {
   "cell_type": "markdown",
   "metadata": {},
   "source": [
    "В работе рассмотрена задача уменьшения потребления электроэнергии на этапе обработки стали на металлургиеском комбинате. Данная задача решается при помощи построения модели машинного обучения.\n",
    "\n",
    "**Цель:** построить модель, предсказывающкю конечную температуру стали со средней абсолютной ошибкой (MAE) меньше 6.8 градусов.\n",
    "\n",
    "**Описание этапа обработки:**\n",
    "\n",
    "Сталь обрабатывают в металлическом ковше вместимостью около 100 тонн. Чтобы ковш выдерживал высокие температуры, изнутри его облицовывают огнеупорным кирпичом. Расплавленную сталь заливают в ковш и подогревают до нужной температуры графитовыми электродами. Они установлены в крышке ковша. \n",
    "Из сплава выводится сера (десульфурация), добавлением примесей корректируется химический состав и отбираются пробы. Сталь легируют — изменяют её состав — подавая куски сплава из бункера для сыпучих материалов или проволоку через специальный трайб-аппарат (англ. tribe, «масса»).\n",
    "Перед тем как первый раз ввести легирующие добавки, измеряют температуру стали и производят её химический анализ. Потом температуру на несколько минут повышают, добавляют легирующие материалы и продувают сплав инертным газом. Затем его перемешивают и снова проводят измерения. Такой цикл повторяется до достижения целевого химического состава и оптимальной температуры плавки.\n",
    "Тогда расплавленная сталь отправляется на доводку металла или поступает в машину непрерывной разливки. Оттуда готовый продукт выходит в виде заготовок-слябов (англ. slab, «плита»).\n",
    "\n",
    "**Описание данных:**\n",
    "\n",
    "Данные состоят из файлов, полученных из разных источников:\n",
    "\n",
    "data_arc_new.csv — данные об электродах;\n",
    "\n",
    "data_bulk_new.csv — данные о подаче сыпучих материалов (объём);\n",
    "\n",
    "data_bulk_time_new.csv — данные о подаче сыпучих материалов (время);\n",
    "\n",
    "data_gas_new.csv — данные о продувке сплава газом;\n",
    "\n",
    "data_temp_new.csv — результаты измерения температуры;\n",
    "\n",
    "data_wire_new.csv — данные о проволочных материалах (объём);\n",
    "\n",
    "data_wire_time_new.csv — данные о проволочных материалах (время).\n",
    "\n",
    "Во всех файлах столбец key содержит номер партии. В файлах может быть несколько строк с одинаковым значением key: они соответствуют разным итерациям обработки.\n",
    "\n",
    "**Краткое описание проделанной работы**\n",
    "\n",
    "Работа выполнена в 3 этапа:\n",
    "    \n",
    "1. Изучение данных.\n",
    "    \n",
    "   На этом этапе изучены исходные данные, построены графики, приведены наблюдения. На этом этапе изменения в датафреймы не вносились\n",
    "    \n",
    "    \n",
    "2. Предобработка данных.\n",
    "    \n",
    "    Выполнены удаление, заполнение пропусков, генерация новых признаков согласно описанным на первом этапе наблюдениям\n",
    "    Объединение исходных таблиц в одну по ключу (inner join). Удалены признаки с корреляцией Пирсона больше 0.9. Данные разделены на тренировочную и тестовую выборку в отношении 3:1. Данные смасштабированы, скаллер обучен на обучающих данных. \n",
    "    \n",
    "    \n",
    "3. Построение моделей и получение метрики на кросс-валидации, выбор лучшей модели и тестирование\n",
    "\n",
    "    Было рассмотрено 3 модели: CatBoostRegressor, LGBMRegressor и RandomForestRegressor. Для поиска гиперпараметров использовадся GridSearchCV.\n",
    "        \n",
    "    Лучшая модель:\n",
    "\n",
    "        CatBoostRegressor(loss_function=\"MAE\", iterations=500, random_state=280823, depth=3, learning_rate=0.1)\n",
    "        \n",
    "    Метрика R2 лучшей модели равна 0.45, что означает что модель лучше константной модели\n",
    "    \n",
    "    Метрика MAE лучшей модели на тестовой выборке 6.13, что лучше целевого значения \n",
    "    \n",
    "    Также проведено исследование важности признаков. Наиболее важные признаки: продолжительность нагреваа (более 30%) и начальная температура (около 22%)\n"
   ]
  },
  {
   "cell_type": "markdown",
   "metadata": {},
   "source": [
    "## Изучение данных"
   ]
  },
  {
   "cell_type": "code",
   "execution_count": 2,
   "metadata": {},
   "outputs": [],
   "source": [
    "!pip install catboost --quiet\n",
    "!pip install lightgbm --quiet"
   ]
  },
  {
   "cell_type": "code",
   "execution_count": 3,
   "metadata": {},
   "outputs": [],
   "source": [
    "import pandas as pd\n",
    "import numpy as np\n",
    "import matplotlib.pyplot as plt\n",
    "import seaborn as sns\n",
    "\n",
    "from sklearn.preprocessing import StandardScaler\n",
    "from sklearn.model_selection import train_test_split, GridSearchCV\n",
    "from lightgbm import LGBMRegressor\n",
    "from catboost import CatBoostRegressor\n",
    "from sklearn.ensemble import RandomForestRegressor\n",
    "from sklearn.metrics import mean_absolute_error, r2_score\n",
    "\n",
    "RANDOM_STATE = 280823"
   ]
  },
  {
   "cell_type": "code",
   "execution_count": 4,
   "metadata": {},
   "outputs": [],
   "source": [
    "# Напишем функцию для первичной проверки данных\n",
    "def check_data(data_df):\n",
    "    print ('\\033[1m' + 'Изучим исходные данные'+ '\\033[0m')\n",
    "    print(data_df.info())\n",
    "    #print(data_df.shape)\n",
    "        \n",
    "    missed_cells = data_df.isnull().sum().sum()/(data_df.shape[0]*(data_df.shape[1]-1))\n",
    "    missed_rows = sum(data_df.isnull().sum(axis = 1)>0)/data_df.shape[0]\n",
    "    print ('\\033[1m' + '\\nПроверка пропусков'+ '\\033[0m')\n",
    "    print ('Количество пропусков: {:.0f}'.format(data_df.isnull().sum().sum()))\n",
    "    print ('Доля пропусков: {:.1%}'.format(missed_cells)+ '\\033[0m')\n",
    "    print ('Доля строк содержащих пропуски: {:.1%}'.format(missed_rows))\n",
    "\n",
    "    ## Проверим дубликаты\n",
    "    print ('\\033[1m' + '\\nПроверка на дубликаты'+ '\\033[0m')\n",
    "    print('Количество полных дубликатов: ', data_df.duplicated().sum())\n",
    "        \n",
    "    ## Посмотрим на сами данные\n",
    "    print ('\\033[1m' + '\\nПервые пять строк датасета'+ '\\033[0m')\n",
    "    display(data_df.head())\n",
    "    \n",
    "    print('\\033[1m' + '\\nОписание количественных данных:'+ '\\033[0m')\n",
    "    display(data_df.describe().T)"
   ]
  },
  {
   "cell_type": "code",
   "execution_count": 37,
   "metadata": {},
   "outputs": [],
   "source": [
    "#загружаем исходные данные\n",
    "try:                    \n",
    "    data_arc = pd.read_csv('/datasets/data_arc_new.csv')\n",
    "    data_bulk = pd.read_csv('/datasets/data_bulk_new.csv') \n",
    "    data_bulk_time = pd.read_csv('/datasets/data_bulk_time_new.csv') \n",
    "    data_gas = pd.read_csv('/datasets/data_gas_new.csv') \n",
    "    data_temp = pd.read_csv('/datasets/data_temp_new.csv') \n",
    "    data_wire = pd.read_csv('/datasets/data_wire_new.csv') \n",
    "    data_wire_time = pd.read_csv('/datasets/data_wire_time_new.csv') \n"
   ]
  },
  {
   "cell_type": "markdown",
   "metadata": {},
   "source": [
    "### Данные об электродах (data_arc)"
   ]
  },
  {
   "cell_type": "code",
   "execution_count": 38,
   "metadata": {
    "scrolled": true
   },
   "outputs": [
    {
     "name": "stdout",
     "output_type": "stream",
     "text": [
      "\u001b[1mИзучим исходные данные\u001b[0m\n",
      "<class 'pandas.core.frame.DataFrame'>\n",
      "RangeIndex: 14876 entries, 0 to 14875\n",
      "Data columns (total 5 columns):\n",
      " #   Column                Non-Null Count  Dtype  \n",
      "---  ------                --------------  -----  \n",
      " 0   key                   14876 non-null  int64  \n",
      " 1   Начало нагрева дугой  14876 non-null  object \n",
      " 2   Конец нагрева дугой   14876 non-null  object \n",
      " 3   Активная мощность     14876 non-null  float64\n",
      " 4   Реактивная мощность   14876 non-null  float64\n",
      "dtypes: float64(2), int64(1), object(2)\n",
      "memory usage: 581.2+ KB\n",
      "None\n",
      "\u001b[1m\n",
      "Проверка пропусков\u001b[0m\n",
      "Количество пропусков: 0\n",
      "Доля пропусков: 0.0%\u001b[0m\n",
      "Доля строк содержащих пропуски: 0.0%\n",
      "\u001b[1m\n",
      "Проверка на дубликаты\u001b[0m\n",
      "Количество полных дубликатов:  0\n",
      "\u001b[1m\n",
      "Первые пять строк датасета\u001b[0m\n"
     ]
    },
    {
     "data": {
      "text/html": [
       "<div>\n",
       "<style scoped>\n",
       "    .dataframe tbody tr th:only-of-type {\n",
       "        vertical-align: middle;\n",
       "    }\n",
       "\n",
       "    .dataframe tbody tr th {\n",
       "        vertical-align: top;\n",
       "    }\n",
       "\n",
       "    .dataframe thead th {\n",
       "        text-align: right;\n",
       "    }\n",
       "</style>\n",
       "<table border=\"1\" class=\"dataframe\">\n",
       "  <thead>\n",
       "    <tr style=\"text-align: right;\">\n",
       "      <th></th>\n",
       "      <th>key</th>\n",
       "      <th>Начало нагрева дугой</th>\n",
       "      <th>Конец нагрева дугой</th>\n",
       "      <th>Активная мощность</th>\n",
       "      <th>Реактивная мощность</th>\n",
       "    </tr>\n",
       "  </thead>\n",
       "  <tbody>\n",
       "    <tr>\n",
       "      <th>0</th>\n",
       "      <td>1</td>\n",
       "      <td>2019-05-03 11:02:14</td>\n",
       "      <td>2019-05-03 11:06:02</td>\n",
       "      <td>0.305130</td>\n",
       "      <td>0.211253</td>\n",
       "    </tr>\n",
       "    <tr>\n",
       "      <th>1</th>\n",
       "      <td>1</td>\n",
       "      <td>2019-05-03 11:07:28</td>\n",
       "      <td>2019-05-03 11:10:33</td>\n",
       "      <td>0.765658</td>\n",
       "      <td>0.477438</td>\n",
       "    </tr>\n",
       "    <tr>\n",
       "      <th>2</th>\n",
       "      <td>1</td>\n",
       "      <td>2019-05-03 11:11:44</td>\n",
       "      <td>2019-05-03 11:14:36</td>\n",
       "      <td>0.580313</td>\n",
       "      <td>0.430460</td>\n",
       "    </tr>\n",
       "    <tr>\n",
       "      <th>3</th>\n",
       "      <td>1</td>\n",
       "      <td>2019-05-03 11:18:14</td>\n",
       "      <td>2019-05-03 11:24:19</td>\n",
       "      <td>0.518496</td>\n",
       "      <td>0.379979</td>\n",
       "    </tr>\n",
       "    <tr>\n",
       "      <th>4</th>\n",
       "      <td>1</td>\n",
       "      <td>2019-05-03 11:26:09</td>\n",
       "      <td>2019-05-03 11:28:37</td>\n",
       "      <td>0.867133</td>\n",
       "      <td>0.643691</td>\n",
       "    </tr>\n",
       "  </tbody>\n",
       "</table>\n",
       "</div>"
      ],
      "text/plain": [
       "   key Начало нагрева дугой  Конец нагрева дугой  Активная мощность  \\\n",
       "0    1  2019-05-03 11:02:14  2019-05-03 11:06:02           0.305130   \n",
       "1    1  2019-05-03 11:07:28  2019-05-03 11:10:33           0.765658   \n",
       "2    1  2019-05-03 11:11:44  2019-05-03 11:14:36           0.580313   \n",
       "3    1  2019-05-03 11:18:14  2019-05-03 11:24:19           0.518496   \n",
       "4    1  2019-05-03 11:26:09  2019-05-03 11:28:37           0.867133   \n",
       "\n",
       "   Реактивная мощность  \n",
       "0             0.211253  \n",
       "1             0.477438  \n",
       "2             0.430460  \n",
       "3             0.379979  \n",
       "4             0.643691  "
      ]
     },
     "metadata": {},
     "output_type": "display_data"
    },
    {
     "name": "stdout",
     "output_type": "stream",
     "text": [
      "\u001b[1m\n",
      "Описание количественных данных:\u001b[0m\n"
     ]
    },
    {
     "data": {
      "text/html": [
       "<div>\n",
       "<style scoped>\n",
       "    .dataframe tbody tr th:only-of-type {\n",
       "        vertical-align: middle;\n",
       "    }\n",
       "\n",
       "    .dataframe tbody tr th {\n",
       "        vertical-align: top;\n",
       "    }\n",
       "\n",
       "    .dataframe thead th {\n",
       "        text-align: right;\n",
       "    }\n",
       "</style>\n",
       "<table border=\"1\" class=\"dataframe\">\n",
       "  <thead>\n",
       "    <tr style=\"text-align: right;\">\n",
       "      <th></th>\n",
       "      <th>count</th>\n",
       "      <th>mean</th>\n",
       "      <th>std</th>\n",
       "      <th>min</th>\n",
       "      <th>25%</th>\n",
       "      <th>50%</th>\n",
       "      <th>75%</th>\n",
       "      <th>max</th>\n",
       "    </tr>\n",
       "  </thead>\n",
       "  <tbody>\n",
       "    <tr>\n",
       "      <th>key</th>\n",
       "      <td>14876.0</td>\n",
       "      <td>1615.220422</td>\n",
       "      <td>934.571502</td>\n",
       "      <td>1.000000</td>\n",
       "      <td>806.000000</td>\n",
       "      <td>1617.000000</td>\n",
       "      <td>2429.000000</td>\n",
       "      <td>3241.000000</td>\n",
       "    </tr>\n",
       "    <tr>\n",
       "      <th>Активная мощность</th>\n",
       "      <td>14876.0</td>\n",
       "      <td>0.662752</td>\n",
       "      <td>0.258885</td>\n",
       "      <td>0.223120</td>\n",
       "      <td>0.467115</td>\n",
       "      <td>0.599587</td>\n",
       "      <td>0.830070</td>\n",
       "      <td>1.463773</td>\n",
       "    </tr>\n",
       "    <tr>\n",
       "      <th>Реактивная мощность</th>\n",
       "      <td>14876.0</td>\n",
       "      <td>0.438986</td>\n",
       "      <td>5.873485</td>\n",
       "      <td>-715.479924</td>\n",
       "      <td>0.337175</td>\n",
       "      <td>0.441639</td>\n",
       "      <td>0.608201</td>\n",
       "      <td>1.270284</td>\n",
       "    </tr>\n",
       "  </tbody>\n",
       "</table>\n",
       "</div>"
      ],
      "text/plain": [
       "                       count         mean         std         min         25%  \\\n",
       "key                  14876.0  1615.220422  934.571502    1.000000  806.000000   \n",
       "Активная мощность    14876.0     0.662752    0.258885    0.223120    0.467115   \n",
       "Реактивная мощность  14876.0     0.438986    5.873485 -715.479924    0.337175   \n",
       "\n",
       "                             50%          75%          max  \n",
       "key                  1617.000000  2429.000000  3241.000000  \n",
       "Активная мощность       0.599587     0.830070     1.463773  \n",
       "Реактивная мощность     0.441639     0.608201     1.270284  "
      ]
     },
     "metadata": {},
     "output_type": "display_data"
    }
   ],
   "source": [
    "check_data(data_arc)"
   ]
  },
  {
   "cell_type": "code",
   "execution_count": 39,
   "metadata": {
    "scrolled": true
   },
   "outputs": [
    {
     "data": {
      "image/png": "[encoded data removed]",
      "text/plain": [
       "<Figure size 1440x360 with 2 Axes>"
      ]
     },
     "metadata": {
      "needs_background": "light"
     },
     "output_type": "display_data"
    }
   ],
   "source": [
    "fig,axs = plt.subplots(1,2,figsize=(20,5))\n",
    "data_arc.drop('key', axis = 1).hist(bins=100, ax=axs)\n",
    "for ax in axs.flat:\n",
    "    ax.set(ylabel='Количество', xlabel='Вт')\n",
    "plt.suptitle('Гистограммы исходного датафрейма')\n",
    "plt.show()"
   ]
  },
  {
   "cell_type": "code",
   "execution_count": 40,
   "metadata": {},
   "outputs": [
    {
     "data": {
      "image/png": "[encoded data removed]",
      "text/plain": [
       "<Figure size 1440x360 with 2 Axes>"
      ]
     },
     "metadata": {
      "needs_background": "light"
     },
     "output_type": "display_data"
    }
   ],
   "source": [
    "# Не меняя сам датафрейм отобразим данные без выброса\n",
    "fig,axs = plt.subplots(1,2,figsize=(20,5))\n",
    "data_arc[data_arc['Реактивная мощность'] > 0].drop('key', axis = 1).hist(bins=100, ax=axs)\n",
    "for ax in axs.flat:\n",
    "    ax.set(ylabel='Количество', xlabel='Вт')\n",
    "plt.suptitle('Гистограммы исходного датафрейма без выброса')\n",
    "plt.show()"
   ]
  },
  {
   "cell_type": "code",
   "execution_count": 41,
   "metadata": {},
   "outputs": [
    {
     "data": {
      "image/png": "[encoded data removed]",
      "text/plain": [
       "<Figure size 1440x360 with 1 Axes>"
      ]
     },
     "metadata": {
      "needs_background": "light"
     },
     "output_type": "display_data"
    }
   ],
   "source": [
    "data_arc[data_arc['Реактивная мощность'] > 0].drop('key', axis = 1).boxplot(figsize = (20,5))\n",
    "plt.title('Ящики с усами исходного датафрейма без выброса')\n",
    "plt.ylabel('Значение, Вт')\n",
    "plt.show()"
   ]
  },
  {
   "cell_type": "markdown",
   "metadata": {},
   "source": [
    "**Наблюдения:**\n",
    "\n",
    "Названия столбцов написаны на русском, но они мне нравятся и, поскольку это было дозволено на вебинаре, менять их в этом проекте не буду\n",
    "\n",
    "Пропусков и дубликатов в данных нет. Наблюдается один явный выброс в столбце \"Реактивная мощность\", его надо будет удалить.\n",
    "\n",
    "Можно будет создать новые признаки: продолжительность нагрева (разность столбцов с началом и концом, для итоговой таблицы в которой строка соответствует одному ковшу, необходимо будет сложить все промежутки нагрева для конкретного ковша), полная мощность (равна корню квадратному из суммы квадратов активной и реактивной мощностей), энергия (равна произведению времени нагрева на полную мощность)\n",
    "\n",
    "\n",
    "Чтобы не переписывать сюда википедию, оставлю ссылку на нее\n",
    "https://ru.wikipedia.org/wiki/%D0%AD%D0%BB%D0%B5%D0%BA%D1%82%D1%80%D0%B8%D1%87%D0%B5%D1%81%D0%BA%D0%B0%D1%8F_%D0%BC%D0%BE%D1%89%D0%BD%D0%BE%D1%81%D1%82%D1%8C"
   ]
  },
  {
   "cell_type": "markdown",
   "metadata": {},
   "source": [
    "### Данные об объеме сыпучих материалов (data_bulk)"
   ]
  },
  {
   "cell_type": "code",
   "execution_count": 42,
   "metadata": {
    "scrolled": false
   },
   "outputs": [
    {
     "name": "stdout",
     "output_type": "stream",
     "text": [
      "\u001b[1mИзучим исходные данные\u001b[0m\n",
      "<class 'pandas.core.frame.DataFrame'>\n",
      "RangeIndex: 3129 entries, 0 to 3128\n",
      "Data columns (total 16 columns):\n",
      " #   Column   Non-Null Count  Dtype  \n",
      "---  ------   --------------  -----  \n",
      " 0   key      3129 non-null   int64  \n",
      " 1   Bulk 1   252 non-null    float64\n",
      " 2   Bulk 2   22 non-null     float64\n",
      " 3   Bulk 3   1298 non-null   float64\n",
      " 4   Bulk 4   1014 non-null   float64\n",
      " 5   Bulk 5   77 non-null     float64\n",
      " 6   Bulk 6   576 non-null    float64\n",
      " 7   Bulk 7   25 non-null     float64\n",
      " 8   Bulk 8   1 non-null      float64\n",
      " 9   Bulk 9   19 non-null     float64\n",
      " 10  Bulk 10  176 non-null    float64\n",
      " 11  Bulk 11  177 non-null    float64\n",
      " 12  Bulk 12  2450 non-null   float64\n",
      " 13  Bulk 13  18 non-null     float64\n",
      " 14  Bulk 14  2806 non-null   float64\n",
      " 15  Bulk 15  2248 non-null   float64\n",
      "dtypes: float64(15), int64(1)\n",
      "memory usage: 391.2 KB\n",
      "None\n",
      "\u001b[1m\n",
      "Проверка пропусков\u001b[0m\n",
      "Количество пропусков: 35776\n",
      "Доля пропусков: 76.2%\u001b[0m\n",
      "Доля строк содержащих пропуски: 100.0%\n",
      "\u001b[1m\n",
      "Проверка на дубликаты\u001b[0m\n",
      "Количество полных дубликатов:  0\n",
      "\u001b[1m\n",
      "Первые пять строк датасета\u001b[0m\n"
     ]
    },
    {
     "data": {
      "text/html": [
       "<div>\n",
       "<style scoped>\n",
       "    .dataframe tbody tr th:only-of-type {\n",
       "        vertical-align: middle;\n",
       "    }\n",
       "\n",
       "    .dataframe tbody tr th {\n",
       "        vertical-align: top;\n",
       "    }\n",
       "\n",
       "    .dataframe thead th {\n",
       "        text-align: right;\n",
       "    }\n",
       "</style>\n",
       "<table border=\"1\" class=\"dataframe\">\n",
       "  <thead>\n",
       "    <tr style=\"text-align: right;\">\n",
       "      <th></th>\n",
       "      <th>key</th>\n",
       "      <th>Bulk 1</th>\n",
       "      <th>Bulk 2</th>\n",
       "      <th>Bulk 3</th>\n",
       "      <th>Bulk 4</th>\n",
       "      <th>Bulk 5</th>\n",
       "      <th>Bulk 6</th>\n",
       "      <th>Bulk 7</th>\n",
       "      <th>Bulk 8</th>\n",
       "      <th>Bulk 9</th>\n",
       "      <th>Bulk 10</th>\n",
       "      <th>Bulk 11</th>\n",
       "      <th>Bulk 12</th>\n",
       "      <th>Bulk 13</th>\n",
       "      <th>Bulk 14</th>\n",
       "      <th>Bulk 15</th>\n",
       "    </tr>\n",
       "  </thead>\n",
       "  <tbody>\n",
       "    <tr>\n",
       "      <th>0</th>\n",
       "      <td>1</td>\n",
       "      <td>NaN</td>\n",
       "      <td>NaN</td>\n",
       "      <td>NaN</td>\n",
       "      <td>43.0</td>\n",
       "      <td>NaN</td>\n",
       "      <td>NaN</td>\n",
       "      <td>NaN</td>\n",
       "      <td>NaN</td>\n",
       "      <td>NaN</td>\n",
       "      <td>NaN</td>\n",
       "      <td>NaN</td>\n",
       "      <td>206.0</td>\n",
       "      <td>NaN</td>\n",
       "      <td>150.0</td>\n",
       "      <td>154.0</td>\n",
       "    </tr>\n",
       "    <tr>\n",
       "      <th>1</th>\n",
       "      <td>2</td>\n",
       "      <td>NaN</td>\n",
       "      <td>NaN</td>\n",
       "      <td>NaN</td>\n",
       "      <td>73.0</td>\n",
       "      <td>NaN</td>\n",
       "      <td>NaN</td>\n",
       "      <td>NaN</td>\n",
       "      <td>NaN</td>\n",
       "      <td>NaN</td>\n",
       "      <td>NaN</td>\n",
       "      <td>NaN</td>\n",
       "      <td>206.0</td>\n",
       "      <td>NaN</td>\n",
       "      <td>149.0</td>\n",
       "      <td>154.0</td>\n",
       "    </tr>\n",
       "    <tr>\n",
       "      <th>2</th>\n",
       "      <td>3</td>\n",
       "      <td>NaN</td>\n",
       "      <td>NaN</td>\n",
       "      <td>NaN</td>\n",
       "      <td>34.0</td>\n",
       "      <td>NaN</td>\n",
       "      <td>NaN</td>\n",
       "      <td>NaN</td>\n",
       "      <td>NaN</td>\n",
       "      <td>NaN</td>\n",
       "      <td>NaN</td>\n",
       "      <td>NaN</td>\n",
       "      <td>205.0</td>\n",
       "      <td>NaN</td>\n",
       "      <td>152.0</td>\n",
       "      <td>153.0</td>\n",
       "    </tr>\n",
       "    <tr>\n",
       "      <th>3</th>\n",
       "      <td>4</td>\n",
       "      <td>NaN</td>\n",
       "      <td>NaN</td>\n",
       "      <td>NaN</td>\n",
       "      <td>81.0</td>\n",
       "      <td>NaN</td>\n",
       "      <td>NaN</td>\n",
       "      <td>NaN</td>\n",
       "      <td>NaN</td>\n",
       "      <td>NaN</td>\n",
       "      <td>NaN</td>\n",
       "      <td>NaN</td>\n",
       "      <td>207.0</td>\n",
       "      <td>NaN</td>\n",
       "      <td>153.0</td>\n",
       "      <td>154.0</td>\n",
       "    </tr>\n",
       "    <tr>\n",
       "      <th>4</th>\n",
       "      <td>5</td>\n",
       "      <td>NaN</td>\n",
       "      <td>NaN</td>\n",
       "      <td>NaN</td>\n",
       "      <td>78.0</td>\n",
       "      <td>NaN</td>\n",
       "      <td>NaN</td>\n",
       "      <td>NaN</td>\n",
       "      <td>NaN</td>\n",
       "      <td>NaN</td>\n",
       "      <td>NaN</td>\n",
       "      <td>NaN</td>\n",
       "      <td>203.0</td>\n",
       "      <td>NaN</td>\n",
       "      <td>151.0</td>\n",
       "      <td>152.0</td>\n",
       "    </tr>\n",
       "  </tbody>\n",
       "</table>\n",
       "</div>"
      ],
      "text/plain": [
       "   key  Bulk 1  Bulk 2  Bulk 3  Bulk 4  Bulk 5  Bulk 6  Bulk 7  Bulk 8  \\\n",
       "0    1     NaN     NaN     NaN    43.0     NaN     NaN     NaN     NaN   \n",
       "1    2     NaN     NaN     NaN    73.0     NaN     NaN     NaN     NaN   \n",
       "2    3     NaN     NaN     NaN    34.0     NaN     NaN     NaN     NaN   \n",
       "3    4     NaN     NaN     NaN    81.0     NaN     NaN     NaN     NaN   \n",
       "4    5     NaN     NaN     NaN    78.0     NaN     NaN     NaN     NaN   \n",
       "\n",
       "   Bulk 9  Bulk 10  Bulk 11  Bulk 12  Bulk 13  Bulk 14  Bulk 15  \n",
       "0     NaN      NaN      NaN    206.0      NaN    150.0    154.0  \n",
       "1     NaN      NaN      NaN    206.0      NaN    149.0    154.0  \n",
       "2     NaN      NaN      NaN    205.0      NaN    152.0    153.0  \n",
       "3     NaN      NaN      NaN    207.0      NaN    153.0    154.0  \n",
       "4     NaN      NaN      NaN    203.0      NaN    151.0    152.0  "
      ]
     },
     "metadata": {},
     "output_type": "display_data"
    },
    {
     "name": "stdout",
     "output_type": "stream",
     "text": [
      "\u001b[1m\n",
      "Описание количественных данных:\u001b[0m\n"
     ]
    },
    {
     "data": {
      "text/html": [
       "<div>\n",
       "<style scoped>\n",
       "    .dataframe tbody tr th:only-of-type {\n",
       "        vertical-align: middle;\n",
       "    }\n",
       "\n",
       "    .dataframe tbody tr th {\n",
       "        vertical-align: top;\n",
       "    }\n",
       "\n",
       "    .dataframe thead th {\n",
       "        text-align: right;\n",
       "    }\n",
       "</style>\n",
       "<table border=\"1\" class=\"dataframe\">\n",
       "  <thead>\n",
       "    <tr style=\"text-align: right;\">\n",
       "      <th></th>\n",
       "      <th>count</th>\n",
       "      <th>mean</th>\n",
       "      <th>std</th>\n",
       "      <th>min</th>\n",
       "      <th>25%</th>\n",
       "      <th>50%</th>\n",
       "      <th>75%</th>\n",
       "      <th>max</th>\n",
       "    </tr>\n",
       "  </thead>\n",
       "  <tbody>\n",
       "    <tr>\n",
       "      <th>key</th>\n",
       "      <td>3129.0</td>\n",
       "      <td>1624.383509</td>\n",
       "      <td>933.337642</td>\n",
       "      <td>1.0</td>\n",
       "      <td>816.00</td>\n",
       "      <td>1622.0</td>\n",
       "      <td>2431.00</td>\n",
       "      <td>3241.0</td>\n",
       "    </tr>\n",
       "    <tr>\n",
       "      <th>Bulk 1</th>\n",
       "      <td>252.0</td>\n",
       "      <td>39.242063</td>\n",
       "      <td>18.277654</td>\n",
       "      <td>10.0</td>\n",
       "      <td>27.00</td>\n",
       "      <td>31.0</td>\n",
       "      <td>46.00</td>\n",
       "      <td>185.0</td>\n",
       "    </tr>\n",
       "    <tr>\n",
       "      <th>Bulk 2</th>\n",
       "      <td>22.0</td>\n",
       "      <td>253.045455</td>\n",
       "      <td>21.180578</td>\n",
       "      <td>228.0</td>\n",
       "      <td>242.00</td>\n",
       "      <td>251.5</td>\n",
       "      <td>257.75</td>\n",
       "      <td>325.0</td>\n",
       "    </tr>\n",
       "    <tr>\n",
       "      <th>Bulk 3</th>\n",
       "      <td>1298.0</td>\n",
       "      <td>113.879045</td>\n",
       "      <td>75.483494</td>\n",
       "      <td>6.0</td>\n",
       "      <td>58.00</td>\n",
       "      <td>97.5</td>\n",
       "      <td>152.00</td>\n",
       "      <td>454.0</td>\n",
       "    </tr>\n",
       "    <tr>\n",
       "      <th>Bulk 4</th>\n",
       "      <td>1014.0</td>\n",
       "      <td>104.394477</td>\n",
       "      <td>48.184126</td>\n",
       "      <td>12.0</td>\n",
       "      <td>72.00</td>\n",
       "      <td>102.0</td>\n",
       "      <td>133.00</td>\n",
       "      <td>281.0</td>\n",
       "    </tr>\n",
       "    <tr>\n",
       "      <th>Bulk 5</th>\n",
       "      <td>77.0</td>\n",
       "      <td>107.025974</td>\n",
       "      <td>81.790646</td>\n",
       "      <td>11.0</td>\n",
       "      <td>70.00</td>\n",
       "      <td>86.0</td>\n",
       "      <td>132.00</td>\n",
       "      <td>603.0</td>\n",
       "    </tr>\n",
       "    <tr>\n",
       "      <th>Bulk 6</th>\n",
       "      <td>576.0</td>\n",
       "      <td>118.925347</td>\n",
       "      <td>72.057776</td>\n",
       "      <td>17.0</td>\n",
       "      <td>69.75</td>\n",
       "      <td>100.0</td>\n",
       "      <td>157.00</td>\n",
       "      <td>503.0</td>\n",
       "    </tr>\n",
       "    <tr>\n",
       "      <th>Bulk 7</th>\n",
       "      <td>25.0</td>\n",
       "      <td>305.600000</td>\n",
       "      <td>191.022904</td>\n",
       "      <td>47.0</td>\n",
       "      <td>155.00</td>\n",
       "      <td>298.0</td>\n",
       "      <td>406.00</td>\n",
       "      <td>772.0</td>\n",
       "    </tr>\n",
       "    <tr>\n",
       "      <th>Bulk 8</th>\n",
       "      <td>1.0</td>\n",
       "      <td>49.000000</td>\n",
       "      <td>NaN</td>\n",
       "      <td>49.0</td>\n",
       "      <td>49.00</td>\n",
       "      <td>49.0</td>\n",
       "      <td>49.00</td>\n",
       "      <td>49.0</td>\n",
       "    </tr>\n",
       "    <tr>\n",
       "      <th>Bulk 9</th>\n",
       "      <td>19.0</td>\n",
       "      <td>76.315789</td>\n",
       "      <td>21.720581</td>\n",
       "      <td>63.0</td>\n",
       "      <td>66.00</td>\n",
       "      <td>68.0</td>\n",
       "      <td>70.50</td>\n",
       "      <td>147.0</td>\n",
       "    </tr>\n",
       "    <tr>\n",
       "      <th>Bulk 10</th>\n",
       "      <td>176.0</td>\n",
       "      <td>83.284091</td>\n",
       "      <td>26.060347</td>\n",
       "      <td>24.0</td>\n",
       "      <td>64.00</td>\n",
       "      <td>86.5</td>\n",
       "      <td>102.00</td>\n",
       "      <td>159.0</td>\n",
       "    </tr>\n",
       "    <tr>\n",
       "      <th>Bulk 11</th>\n",
       "      <td>177.0</td>\n",
       "      <td>76.819209</td>\n",
       "      <td>59.655365</td>\n",
       "      <td>8.0</td>\n",
       "      <td>25.00</td>\n",
       "      <td>64.0</td>\n",
       "      <td>106.00</td>\n",
       "      <td>313.0</td>\n",
       "    </tr>\n",
       "    <tr>\n",
       "      <th>Bulk 12</th>\n",
       "      <td>2450.0</td>\n",
       "      <td>260.471020</td>\n",
       "      <td>120.649269</td>\n",
       "      <td>53.0</td>\n",
       "      <td>204.00</td>\n",
       "      <td>208.0</td>\n",
       "      <td>316.00</td>\n",
       "      <td>1849.0</td>\n",
       "    </tr>\n",
       "    <tr>\n",
       "      <th>Bulk 13</th>\n",
       "      <td>18.0</td>\n",
       "      <td>181.111111</td>\n",
       "      <td>46.088009</td>\n",
       "      <td>151.0</td>\n",
       "      <td>153.25</td>\n",
       "      <td>155.5</td>\n",
       "      <td>203.50</td>\n",
       "      <td>305.0</td>\n",
       "    </tr>\n",
       "    <tr>\n",
       "      <th>Bulk 14</th>\n",
       "      <td>2806.0</td>\n",
       "      <td>170.284747</td>\n",
       "      <td>65.868652</td>\n",
       "      <td>16.0</td>\n",
       "      <td>119.00</td>\n",
       "      <td>151.0</td>\n",
       "      <td>205.75</td>\n",
       "      <td>636.0</td>\n",
       "    </tr>\n",
       "    <tr>\n",
       "      <th>Bulk 15</th>\n",
       "      <td>2248.0</td>\n",
       "      <td>160.513345</td>\n",
       "      <td>51.765319</td>\n",
       "      <td>1.0</td>\n",
       "      <td>105.00</td>\n",
       "      <td>160.0</td>\n",
       "      <td>205.00</td>\n",
       "      <td>405.0</td>\n",
       "    </tr>\n",
       "  </tbody>\n",
       "</table>\n",
       "</div>"
      ],
      "text/plain": [
       "          count         mean         std    min     25%     50%      75%  \\\n",
       "key      3129.0  1624.383509  933.337642    1.0  816.00  1622.0  2431.00   \n",
       "Bulk 1    252.0    39.242063   18.277654   10.0   27.00    31.0    46.00   \n",
       "Bulk 2     22.0   253.045455   21.180578  228.0  242.00   251.5   257.75   \n",
       "Bulk 3   1298.0   113.879045   75.483494    6.0   58.00    97.5   152.00   \n",
       "Bulk 4   1014.0   104.394477   48.184126   12.0   72.00   102.0   133.00   \n",
       "Bulk 5     77.0   107.025974   81.790646   11.0   70.00    86.0   132.00   \n",
       "Bulk 6    576.0   118.925347   72.057776   17.0   69.75   100.0   157.00   \n",
       "Bulk 7     25.0   305.600000  191.022904   47.0  155.00   298.0   406.00   \n",
       "Bulk 8      1.0    49.000000         NaN   49.0   49.00    49.0    49.00   \n",
       "Bulk 9     19.0    76.315789   21.720581   63.0   66.00    68.0    70.50   \n",
       "Bulk 10   176.0    83.284091   26.060347   24.0   64.00    86.5   102.00   \n",
       "Bulk 11   177.0    76.819209   59.655365    8.0   25.00    64.0   106.00   \n",
       "Bulk 12  2450.0   260.471020  120.649269   53.0  204.00   208.0   316.00   \n",
       "Bulk 13    18.0   181.111111   46.088009  151.0  153.25   155.5   203.50   \n",
       "Bulk 14  2806.0   170.284747   65.868652   16.0  119.00   151.0   205.75   \n",
       "Bulk 15  2248.0   160.513345   51.765319    1.0  105.00   160.0   205.00   \n",
       "\n",
       "            max  \n",
       "key      3241.0  \n",
       "Bulk 1    185.0  \n",
       "Bulk 2    325.0  \n",
       "Bulk 3    454.0  \n",
       "Bulk 4    281.0  \n",
       "Bulk 5    603.0  \n",
       "Bulk 6    503.0  \n",
       "Bulk 7    772.0  \n",
       "Bulk 8     49.0  \n",
       "Bulk 9    147.0  \n",
       "Bulk 10   159.0  \n",
       "Bulk 11   313.0  \n",
       "Bulk 12  1849.0  \n",
       "Bulk 13   305.0  \n",
       "Bulk 14   636.0  \n",
       "Bulk 15   405.0  "
      ]
     },
     "metadata": {},
     "output_type": "display_data"
    }
   ],
   "source": [
    "check_data(data_bulk)"
   ]
  },
  {
   "cell_type": "code",
   "execution_count": 43,
   "metadata": {},
   "outputs": [
    {
     "data": {
      "image/png": "[encoded data removed]",
      "text/plain": [
       "<Figure size 1440x1080 with 15 Axes>"
      ]
     },
     "metadata": {
      "needs_background": "light"
     },
     "output_type": "display_data"
    }
   ],
   "source": [
    "fig,axs = plt.subplots(5,3,figsize=(20,15))\n",
    "plt.suptitle('Гистограммы исходного датафрейма (объем сыпучих материалов)')\n",
    "data_bulk.drop('key', axis = 1).hist(bins=100, ax=axs)\n",
    "for ax in axs.flat:\n",
    "    ax.set(ylabel='Количество')\n",
    "plt.show()"
   ]
  },
  {
   "cell_type": "code",
   "execution_count": 44,
   "metadata": {},
   "outputs": [
    {
     "data": {
      "image/png": "[encoded data removed]",
      "text/plain": [
       "<Figure size 1584x864 with 1 Axes>"
      ]
     },
     "metadata": {
      "needs_background": "light"
     },
     "output_type": "display_data"
    }
   ],
   "source": [
    "data_bulk.drop('key', axis = 1).boxplot(figsize = (22,12))\n",
    "plt.title('Ящики с усами исходного датафрейма')\n",
    "plt.ylabel('Объем')\n",
    "plt.show()"
   ]
  },
  {
   "cell_type": "markdown",
   "metadata": {},
   "source": [
    "**Наблюдения**\n",
    "\n",
    "дубликатов нет, пропусков очень много. Пропуск означает, что материал в сплаве не используется, поэтому их все можно заменить на 0. \n",
    "\n",
    "Весь ковш с материалом \"Bulk 8\" надо будет удалить, так как материал встречается лишь однажды и только помешает обучению. Другие материалы которые встречаются редко можно оставить как есть или объединить в один\n",
    "\n",
    "На ящиках с усами видны выбросы, но удалять ничего не будем, потому что это скорее реальные значения, а не ошибки в данных и модель должна учитывать такие аномалии"
   ]
  },
  {
   "cell_type": "markdown",
   "metadata": {},
   "source": [
    "### Время подачи сыпучих материалов (data_bulk_time)"
   ]
  },
  {
   "cell_type": "code",
   "execution_count": 45,
   "metadata": {},
   "outputs": [
    {
     "name": "stdout",
     "output_type": "stream",
     "text": [
      "\u001b[1mИзучим исходные данные\u001b[0m\n",
      "<class 'pandas.core.frame.DataFrame'>\n",
      "RangeIndex: 3129 entries, 0 to 3128\n",
      "Data columns (total 16 columns):\n",
      " #   Column   Non-Null Count  Dtype \n",
      "---  ------   --------------  ----- \n",
      " 0   key      3129 non-null   int64 \n",
      " 1   Bulk 1   252 non-null    object\n",
      " 2   Bulk 2   22 non-null     object\n",
      " 3   Bulk 3   1298 non-null   object\n",
      " 4   Bulk 4   1014 non-null   object\n",
      " 5   Bulk 5   77 non-null     object\n",
      " 6   Bulk 6   576 non-null    object\n",
      " 7   Bulk 7   25 non-null     object\n",
      " 8   Bulk 8   1 non-null      object\n",
      " 9   Bulk 9   19 non-null     object\n",
      " 10  Bulk 10  176 non-null    object\n",
      " 11  Bulk 11  177 non-null    object\n",
      " 12  Bulk 12  2450 non-null   object\n",
      " 13  Bulk 13  18 non-null     object\n",
      " 14  Bulk 14  2806 non-null   object\n",
      " 15  Bulk 15  2248 non-null   object\n",
      "dtypes: int64(1), object(15)\n",
      "memory usage: 391.2+ KB\n",
      "None\n",
      "\u001b[1m\n",
      "Проверка пропусков\u001b[0m\n",
      "Количество пропусков: 35776\n",
      "Доля пропусков: 76.2%\u001b[0m\n",
      "Доля строк содержащих пропуски: 100.0%\n",
      "\u001b[1m\n",
      "Проверка на дубликаты\u001b[0m\n",
      "Количество полных дубликатов:  0\n",
      "\u001b[1m\n",
      "Первые пять строк датасета\u001b[0m\n"
     ]
    },
    {
     "data": {
      "text/html": [
       "<div>\n",
       "<style scoped>\n",
       "    .dataframe tbody tr th:only-of-type {\n",
       "        vertical-align: middle;\n",
       "    }\n",
       "\n",
       "    .dataframe tbody tr th {\n",
       "        vertical-align: top;\n",
       "    }\n",
       "\n",
       "    .dataframe thead th {\n",
       "        text-align: right;\n",
       "    }\n",
       "</style>\n",
       "<table border=\"1\" class=\"dataframe\">\n",
       "  <thead>\n",
       "    <tr style=\"text-align: right;\">\n",
       "      <th></th>\n",
       "      <th>key</th>\n",
       "      <th>Bulk 1</th>\n",
       "      <th>Bulk 2</th>\n",
       "      <th>Bulk 3</th>\n",
       "      <th>Bulk 4</th>\n",
       "      <th>Bulk 5</th>\n",
       "      <th>Bulk 6</th>\n",
       "      <th>Bulk 7</th>\n",
       "      <th>Bulk 8</th>\n",
       "      <th>Bulk 9</th>\n",
       "      <th>Bulk 10</th>\n",
       "      <th>Bulk 11</th>\n",
       "      <th>Bulk 12</th>\n",
       "      <th>Bulk 13</th>\n",
       "      <th>Bulk 14</th>\n",
       "      <th>Bulk 15</th>\n",
       "    </tr>\n",
       "  </thead>\n",
       "  <tbody>\n",
       "    <tr>\n",
       "      <th>0</th>\n",
       "      <td>1</td>\n",
       "      <td>NaN</td>\n",
       "      <td>NaN</td>\n",
       "      <td>NaN</td>\n",
       "      <td>2019-05-03 11:28:48</td>\n",
       "      <td>NaN</td>\n",
       "      <td>NaN</td>\n",
       "      <td>NaN</td>\n",
       "      <td>NaN</td>\n",
       "      <td>NaN</td>\n",
       "      <td>NaN</td>\n",
       "      <td>NaN</td>\n",
       "      <td>2019-05-03 11:24:31</td>\n",
       "      <td>NaN</td>\n",
       "      <td>2019-05-03 11:14:50</td>\n",
       "      <td>2019-05-03 11:10:43</td>\n",
       "    </tr>\n",
       "    <tr>\n",
       "      <th>1</th>\n",
       "      <td>2</td>\n",
       "      <td>NaN</td>\n",
       "      <td>NaN</td>\n",
       "      <td>NaN</td>\n",
       "      <td>2019-05-03 11:36:50</td>\n",
       "      <td>NaN</td>\n",
       "      <td>NaN</td>\n",
       "      <td>NaN</td>\n",
       "      <td>NaN</td>\n",
       "      <td>NaN</td>\n",
       "      <td>NaN</td>\n",
       "      <td>NaN</td>\n",
       "      <td>2019-05-03 11:53:30</td>\n",
       "      <td>NaN</td>\n",
       "      <td>2019-05-03 11:48:37</td>\n",
       "      <td>2019-05-03 11:44:39</td>\n",
       "    </tr>\n",
       "    <tr>\n",
       "      <th>2</th>\n",
       "      <td>3</td>\n",
       "      <td>NaN</td>\n",
       "      <td>NaN</td>\n",
       "      <td>NaN</td>\n",
       "      <td>2019-05-03 12:32:39</td>\n",
       "      <td>NaN</td>\n",
       "      <td>NaN</td>\n",
       "      <td>NaN</td>\n",
       "      <td>NaN</td>\n",
       "      <td>NaN</td>\n",
       "      <td>NaN</td>\n",
       "      <td>NaN</td>\n",
       "      <td>2019-05-03 12:27:13</td>\n",
       "      <td>NaN</td>\n",
       "      <td>2019-05-03 12:21:01</td>\n",
       "      <td>2019-05-03 12:16:16</td>\n",
       "    </tr>\n",
       "    <tr>\n",
       "      <th>3</th>\n",
       "      <td>4</td>\n",
       "      <td>NaN</td>\n",
       "      <td>NaN</td>\n",
       "      <td>NaN</td>\n",
       "      <td>2019-05-03 12:43:22</td>\n",
       "      <td>NaN</td>\n",
       "      <td>NaN</td>\n",
       "      <td>NaN</td>\n",
       "      <td>NaN</td>\n",
       "      <td>NaN</td>\n",
       "      <td>NaN</td>\n",
       "      <td>NaN</td>\n",
       "      <td>2019-05-03 12:58:00</td>\n",
       "      <td>NaN</td>\n",
       "      <td>2019-05-03 12:51:11</td>\n",
       "      <td>2019-05-03 12:46:36</td>\n",
       "    </tr>\n",
       "    <tr>\n",
       "      <th>4</th>\n",
       "      <td>5</td>\n",
       "      <td>NaN</td>\n",
       "      <td>NaN</td>\n",
       "      <td>NaN</td>\n",
       "      <td>2019-05-03 13:30:47</td>\n",
       "      <td>NaN</td>\n",
       "      <td>NaN</td>\n",
       "      <td>NaN</td>\n",
       "      <td>NaN</td>\n",
       "      <td>NaN</td>\n",
       "      <td>NaN</td>\n",
       "      <td>NaN</td>\n",
       "      <td>2019-05-03 13:30:47</td>\n",
       "      <td>NaN</td>\n",
       "      <td>2019-05-03 13:34:12</td>\n",
       "      <td>2019-05-03 13:30:47</td>\n",
       "    </tr>\n",
       "  </tbody>\n",
       "</table>\n",
       "</div>"
      ],
      "text/plain": [
       "   key Bulk 1 Bulk 2 Bulk 3               Bulk 4 Bulk 5 Bulk 6 Bulk 7 Bulk 8  \\\n",
       "0    1    NaN    NaN    NaN  2019-05-03 11:28:48    NaN    NaN    NaN    NaN   \n",
       "1    2    NaN    NaN    NaN  2019-05-03 11:36:50    NaN    NaN    NaN    NaN   \n",
       "2    3    NaN    NaN    NaN  2019-05-03 12:32:39    NaN    NaN    NaN    NaN   \n",
       "3    4    NaN    NaN    NaN  2019-05-03 12:43:22    NaN    NaN    NaN    NaN   \n",
       "4    5    NaN    NaN    NaN  2019-05-03 13:30:47    NaN    NaN    NaN    NaN   \n",
       "\n",
       "  Bulk 9 Bulk 10 Bulk 11              Bulk 12 Bulk 13              Bulk 14  \\\n",
       "0    NaN     NaN     NaN  2019-05-03 11:24:31     NaN  2019-05-03 11:14:50   \n",
       "1    NaN     NaN     NaN  2019-05-03 11:53:30     NaN  2019-05-03 11:48:37   \n",
       "2    NaN     NaN     NaN  2019-05-03 12:27:13     NaN  2019-05-03 12:21:01   \n",
       "3    NaN     NaN     NaN  2019-05-03 12:58:00     NaN  2019-05-03 12:51:11   \n",
       "4    NaN     NaN     NaN  2019-05-03 13:30:47     NaN  2019-05-03 13:34:12   \n",
       "\n",
       "               Bulk 15  \n",
       "0  2019-05-03 11:10:43  \n",
       "1  2019-05-03 11:44:39  \n",
       "2  2019-05-03 12:16:16  \n",
       "3  2019-05-03 12:46:36  \n",
       "4  2019-05-03 13:30:47  "
      ]
     },
     "metadata": {},
     "output_type": "display_data"
    },
    {
     "name": "stdout",
     "output_type": "stream",
     "text": [
      "\u001b[1m\n",
      "Описание количественных данных:\u001b[0m\n"
     ]
    },
    {
     "data": {
      "text/html": [
       "<div>\n",
       "<style scoped>\n",
       "    .dataframe tbody tr th:only-of-type {\n",
       "        vertical-align: middle;\n",
       "    }\n",
       "\n",
       "    .dataframe tbody tr th {\n",
       "        vertical-align: top;\n",
       "    }\n",
       "\n",
       "    .dataframe thead th {\n",
       "        text-align: right;\n",
       "    }\n",
       "</style>\n",
       "<table border=\"1\" class=\"dataframe\">\n",
       "  <thead>\n",
       "    <tr style=\"text-align: right;\">\n",
       "      <th></th>\n",
       "      <th>count</th>\n",
       "      <th>mean</th>\n",
       "      <th>std</th>\n",
       "      <th>min</th>\n",
       "      <th>25%</th>\n",
       "      <th>50%</th>\n",
       "      <th>75%</th>\n",
       "      <th>max</th>\n",
       "    </tr>\n",
       "  </thead>\n",
       "  <tbody>\n",
       "    <tr>\n",
       "      <th>key</th>\n",
       "      <td>3129.0</td>\n",
       "      <td>1624.383509</td>\n",
       "      <td>933.337642</td>\n",
       "      <td>1.0</td>\n",
       "      <td>816.0</td>\n",
       "      <td>1622.0</td>\n",
       "      <td>2431.0</td>\n",
       "      <td>3241.0</td>\n",
       "    </tr>\n",
       "  </tbody>\n",
       "</table>\n",
       "</div>"
      ],
      "text/plain": [
       "      count         mean         std  min    25%     50%     75%     max\n",
       "key  3129.0  1624.383509  933.337642  1.0  816.0  1622.0  2431.0  3241.0"
      ]
     },
     "metadata": {},
     "output_type": "display_data"
    }
   ],
   "source": [
    "check_data(data_bulk_time)"
   ]
  },
  {
   "cell_type": "markdown",
   "metadata": {},
   "source": [
    "**Наблюдения**\n",
    "\n",
    "Можно проверить соответствуют ли пропуски в этой таблице пропускам в таблице 'data_bulk'. Если нет, то это ошибка и данные для таких ковшей лучше удалить\n",
    "\n",
    "В итоговой таблице данные из таблицы 'data_bulk_time' использовать не будем"
   ]
  },
  {
   "cell_type": "markdown",
   "metadata": {},
   "source": [
    "### Данные об объеме проволочных материалов (data_wire)"
   ]
  },
  {
   "cell_type": "code",
   "execution_count": 46,
   "metadata": {},
   "outputs": [
    {
     "name": "stdout",
     "output_type": "stream",
     "text": [
      "\u001b[1mИзучим исходные данные\u001b[0m\n",
      "<class 'pandas.core.frame.DataFrame'>\n",
      "RangeIndex: 3081 entries, 0 to 3080\n",
      "Data columns (total 10 columns):\n",
      " #   Column  Non-Null Count  Dtype  \n",
      "---  ------  --------------  -----  \n",
      " 0   key     3081 non-null   int64  \n",
      " 1   Wire 1  3055 non-null   float64\n",
      " 2   Wire 2  1079 non-null   float64\n",
      " 3   Wire 3  63 non-null     float64\n",
      " 4   Wire 4  14 non-null     float64\n",
      " 5   Wire 5  1 non-null      float64\n",
      " 6   Wire 6  73 non-null     float64\n",
      " 7   Wire 7  11 non-null     float64\n",
      " 8   Wire 8  19 non-null     float64\n",
      " 9   Wire 9  29 non-null     float64\n",
      "dtypes: float64(9), int64(1)\n",
      "memory usage: 240.8 KB\n",
      "None\n",
      "\u001b[1m\n",
      "Проверка пропусков\u001b[0m\n",
      "Количество пропусков: 23385\n",
      "Доля пропусков: 84.3%\u001b[0m\n",
      "Доля строк содержащих пропуски: 100.0%\n",
      "\u001b[1m\n",
      "Проверка на дубликаты\u001b[0m\n",
      "Количество полных дубликатов:  0\n",
      "\u001b[1m\n",
      "Первые пять строк датасета\u001b[0m\n"
     ]
    },
    {
     "data": {
      "text/html": [
       "<div>\n",
       "<style scoped>\n",
       "    .dataframe tbody tr th:only-of-type {\n",
       "        vertical-align: middle;\n",
       "    }\n",
       "\n",
       "    .dataframe tbody tr th {\n",
       "        vertical-align: top;\n",
       "    }\n",
       "\n",
       "    .dataframe thead th {\n",
       "        text-align: right;\n",
       "    }\n",
       "</style>\n",
       "<table border=\"1\" class=\"dataframe\">\n",
       "  <thead>\n",
       "    <tr style=\"text-align: right;\">\n",
       "      <th></th>\n",
       "      <th>key</th>\n",
       "      <th>Wire 1</th>\n",
       "      <th>Wire 2</th>\n",
       "      <th>Wire 3</th>\n",
       "      <th>Wire 4</th>\n",
       "      <th>Wire 5</th>\n",
       "      <th>Wire 6</th>\n",
       "      <th>Wire 7</th>\n",
       "      <th>Wire 8</th>\n",
       "      <th>Wire 9</th>\n",
       "    </tr>\n",
       "  </thead>\n",
       "  <tbody>\n",
       "    <tr>\n",
       "      <th>0</th>\n",
       "      <td>1</td>\n",
       "      <td>60.059998</td>\n",
       "      <td>NaN</td>\n",
       "      <td>NaN</td>\n",
       "      <td>NaN</td>\n",
       "      <td>NaN</td>\n",
       "      <td>NaN</td>\n",
       "      <td>NaN</td>\n",
       "      <td>NaN</td>\n",
       "      <td>NaN</td>\n",
       "    </tr>\n",
       "    <tr>\n",
       "      <th>1</th>\n",
       "      <td>2</td>\n",
       "      <td>96.052315</td>\n",
       "      <td>NaN</td>\n",
       "      <td>NaN</td>\n",
       "      <td>NaN</td>\n",
       "      <td>NaN</td>\n",
       "      <td>NaN</td>\n",
       "      <td>NaN</td>\n",
       "      <td>NaN</td>\n",
       "      <td>NaN</td>\n",
       "    </tr>\n",
       "    <tr>\n",
       "      <th>2</th>\n",
       "      <td>3</td>\n",
       "      <td>91.160157</td>\n",
       "      <td>NaN</td>\n",
       "      <td>NaN</td>\n",
       "      <td>NaN</td>\n",
       "      <td>NaN</td>\n",
       "      <td>NaN</td>\n",
       "      <td>NaN</td>\n",
       "      <td>NaN</td>\n",
       "      <td>NaN</td>\n",
       "    </tr>\n",
       "    <tr>\n",
       "      <th>3</th>\n",
       "      <td>4</td>\n",
       "      <td>89.063515</td>\n",
       "      <td>NaN</td>\n",
       "      <td>NaN</td>\n",
       "      <td>NaN</td>\n",
       "      <td>NaN</td>\n",
       "      <td>NaN</td>\n",
       "      <td>NaN</td>\n",
       "      <td>NaN</td>\n",
       "      <td>NaN</td>\n",
       "    </tr>\n",
       "    <tr>\n",
       "      <th>4</th>\n",
       "      <td>5</td>\n",
       "      <td>89.238236</td>\n",
       "      <td>9.11456</td>\n",
       "      <td>NaN</td>\n",
       "      <td>NaN</td>\n",
       "      <td>NaN</td>\n",
       "      <td>NaN</td>\n",
       "      <td>NaN</td>\n",
       "      <td>NaN</td>\n",
       "      <td>NaN</td>\n",
       "    </tr>\n",
       "  </tbody>\n",
       "</table>\n",
       "</div>"
      ],
      "text/plain": [
       "   key     Wire 1   Wire 2  Wire 3  Wire 4  Wire 5  Wire 6  Wire 7  Wire 8  \\\n",
       "0    1  60.059998      NaN     NaN     NaN     NaN     NaN     NaN     NaN   \n",
       "1    2  96.052315      NaN     NaN     NaN     NaN     NaN     NaN     NaN   \n",
       "2    3  91.160157      NaN     NaN     NaN     NaN     NaN     NaN     NaN   \n",
       "3    4  89.063515      NaN     NaN     NaN     NaN     NaN     NaN     NaN   \n",
       "4    5  89.238236  9.11456     NaN     NaN     NaN     NaN     NaN     NaN   \n",
       "\n",
       "   Wire 9  \n",
       "0     NaN  \n",
       "1     NaN  \n",
       "2     NaN  \n",
       "3     NaN  \n",
       "4     NaN  "
      ]
     },
     "metadata": {},
     "output_type": "display_data"
    },
    {
     "name": "stdout",
     "output_type": "stream",
     "text": [
      "\u001b[1m\n",
      "Описание количественных данных:\u001b[0m\n"
     ]
    },
    {
     "data": {
      "text/html": [
       "<div>\n",
       "<style scoped>\n",
       "    .dataframe tbody tr th:only-of-type {\n",
       "        vertical-align: middle;\n",
       "    }\n",
       "\n",
       "    .dataframe tbody tr th {\n",
       "        vertical-align: top;\n",
       "    }\n",
       "\n",
       "    .dataframe thead th {\n",
       "        text-align: right;\n",
       "    }\n",
       "</style>\n",
       "<table border=\"1\" class=\"dataframe\">\n",
       "  <thead>\n",
       "    <tr style=\"text-align: right;\">\n",
       "      <th></th>\n",
       "      <th>count</th>\n",
       "      <th>mean</th>\n",
       "      <th>std</th>\n",
       "      <th>min</th>\n",
       "      <th>25%</th>\n",
       "      <th>50%</th>\n",
       "      <th>75%</th>\n",
       "      <th>max</th>\n",
       "    </tr>\n",
       "  </thead>\n",
       "  <tbody>\n",
       "    <tr>\n",
       "      <th>key</th>\n",
       "      <td>3081.0</td>\n",
       "      <td>1623.426485</td>\n",
       "      <td>932.996726</td>\n",
       "      <td>1.000000</td>\n",
       "      <td>823.000000</td>\n",
       "      <td>1619.000000</td>\n",
       "      <td>2434.000000</td>\n",
       "      <td>3241.000000</td>\n",
       "    </tr>\n",
       "    <tr>\n",
       "      <th>Wire 1</th>\n",
       "      <td>3055.0</td>\n",
       "      <td>100.895853</td>\n",
       "      <td>42.012518</td>\n",
       "      <td>1.918800</td>\n",
       "      <td>72.115684</td>\n",
       "      <td>100.158234</td>\n",
       "      <td>126.060483</td>\n",
       "      <td>330.314424</td>\n",
       "    </tr>\n",
       "    <tr>\n",
       "      <th>Wire 2</th>\n",
       "      <td>1079.0</td>\n",
       "      <td>50.577323</td>\n",
       "      <td>39.320216</td>\n",
       "      <td>0.030160</td>\n",
       "      <td>20.193680</td>\n",
       "      <td>40.142956</td>\n",
       "      <td>70.227558</td>\n",
       "      <td>282.780152</td>\n",
       "    </tr>\n",
       "    <tr>\n",
       "      <th>Wire 3</th>\n",
       "      <td>63.0</td>\n",
       "      <td>189.482681</td>\n",
       "      <td>99.513444</td>\n",
       "      <td>0.144144</td>\n",
       "      <td>95.135044</td>\n",
       "      <td>235.194977</td>\n",
       "      <td>276.252014</td>\n",
       "      <td>385.008668</td>\n",
       "    </tr>\n",
       "    <tr>\n",
       "      <th>Wire 4</th>\n",
       "      <td>14.0</td>\n",
       "      <td>57.442842</td>\n",
       "      <td>28.824667</td>\n",
       "      <td>24.148801</td>\n",
       "      <td>40.807002</td>\n",
       "      <td>45.234282</td>\n",
       "      <td>76.124619</td>\n",
       "      <td>113.231044</td>\n",
       "    </tr>\n",
       "    <tr>\n",
       "      <th>Wire 5</th>\n",
       "      <td>1.0</td>\n",
       "      <td>15.132000</td>\n",
       "      <td>NaN</td>\n",
       "      <td>15.132000</td>\n",
       "      <td>15.132000</td>\n",
       "      <td>15.132000</td>\n",
       "      <td>15.132000</td>\n",
       "      <td>15.132000</td>\n",
       "    </tr>\n",
       "    <tr>\n",
       "      <th>Wire 6</th>\n",
       "      <td>73.0</td>\n",
       "      <td>48.016974</td>\n",
       "      <td>33.919845</td>\n",
       "      <td>0.034320</td>\n",
       "      <td>25.053600</td>\n",
       "      <td>42.076324</td>\n",
       "      <td>64.212723</td>\n",
       "      <td>180.454575</td>\n",
       "    </tr>\n",
       "    <tr>\n",
       "      <th>Wire 7</th>\n",
       "      <td>11.0</td>\n",
       "      <td>10.039007</td>\n",
       "      <td>8.610584</td>\n",
       "      <td>0.234208</td>\n",
       "      <td>6.762756</td>\n",
       "      <td>9.017009</td>\n",
       "      <td>11.886057</td>\n",
       "      <td>32.847674</td>\n",
       "    </tr>\n",
       "    <tr>\n",
       "      <th>Wire 8</th>\n",
       "      <td>19.0</td>\n",
       "      <td>53.625193</td>\n",
       "      <td>16.881728</td>\n",
       "      <td>45.076721</td>\n",
       "      <td>46.094879</td>\n",
       "      <td>46.279999</td>\n",
       "      <td>48.089603</td>\n",
       "      <td>102.762401</td>\n",
       "    </tr>\n",
       "    <tr>\n",
       "      <th>Wire 9</th>\n",
       "      <td>29.0</td>\n",
       "      <td>34.155752</td>\n",
       "      <td>19.931616</td>\n",
       "      <td>4.622800</td>\n",
       "      <td>22.058401</td>\n",
       "      <td>30.066399</td>\n",
       "      <td>43.862003</td>\n",
       "      <td>90.053604</td>\n",
       "    </tr>\n",
       "  </tbody>\n",
       "</table>\n",
       "</div>"
      ],
      "text/plain": [
       "         count         mean         std        min         25%          50%  \\\n",
       "key     3081.0  1623.426485  932.996726   1.000000  823.000000  1619.000000   \n",
       "Wire 1  3055.0   100.895853   42.012518   1.918800   72.115684   100.158234   \n",
       "Wire 2  1079.0    50.577323   39.320216   0.030160   20.193680    40.142956   \n",
       "Wire 3    63.0   189.482681   99.513444   0.144144   95.135044   235.194977   \n",
       "Wire 4    14.0    57.442842   28.824667  24.148801   40.807002    45.234282   \n",
       "Wire 5     1.0    15.132000         NaN  15.132000   15.132000    15.132000   \n",
       "Wire 6    73.0    48.016974   33.919845   0.034320   25.053600    42.076324   \n",
       "Wire 7    11.0    10.039007    8.610584   0.234208    6.762756     9.017009   \n",
       "Wire 8    19.0    53.625193   16.881728  45.076721   46.094879    46.279999   \n",
       "Wire 9    29.0    34.155752   19.931616   4.622800   22.058401    30.066399   \n",
       "\n",
       "                75%          max  \n",
       "key     2434.000000  3241.000000  \n",
       "Wire 1   126.060483   330.314424  \n",
       "Wire 2    70.227558   282.780152  \n",
       "Wire 3   276.252014   385.008668  \n",
       "Wire 4    76.124619   113.231044  \n",
       "Wire 5    15.132000    15.132000  \n",
       "Wire 6    64.212723   180.454575  \n",
       "Wire 7    11.886057    32.847674  \n",
       "Wire 8    48.089603   102.762401  \n",
       "Wire 9    43.862003    90.053604  "
      ]
     },
     "metadata": {},
     "output_type": "display_data"
    }
   ],
   "source": [
    "check_data(data_wire)"
   ]
  },
  {
   "cell_type": "code",
   "execution_count": 47,
   "metadata": {},
   "outputs": [
    {
     "data": {
      "image/png": "[encoded data removed]",
      "text/plain": [
       "<Figure size 1440x1080 with 9 Axes>"
      ]
     },
     "metadata": {
      "needs_background": "light"
     },
     "output_type": "display_data"
    }
   ],
   "source": [
    "fig,axs = plt.subplots(3,3,figsize=(20,15))\n",
    "plt.suptitle('Гистограммы исходного датафрейма (объем проволочных материалов)')\n",
    "data_wire[data_wire.select_dtypes(exclude=['int64']).columns].hist(bins =100, ax=axs)\n",
    "for ax in axs.flat:\n",
    "    ax.set(ylabel='Количество')\n",
    "plt.show()"
   ]
  },
  {
   "cell_type": "code",
   "execution_count": 48,
   "metadata": {},
   "outputs": [
    {
     "data": {
      "image/png": "[encoded data removed]",
      "text/plain": [
       "<Figure size 1584x576 with 1 Axes>"
      ]
     },
     "metadata": {
      "needs_background": "light"
     },
     "output_type": "display_data"
    }
   ],
   "source": [
    "data_wire[data_wire.select_dtypes(exclude=['int64']).columns].boxplot(figsize = (22,8))\n",
    "plt.title('Ящики с усами исходного датафрейма')\n",
    "plt.ylabel('Объем')\n",
    "plt.show()"
   ]
  },
  {
   "cell_type": "markdown",
   "metadata": {},
   "source": [
    "Аналогично сыпучим материалам удалим ковш с материалом Wire 5"
   ]
  },
  {
   "cell_type": "markdown",
   "metadata": {},
   "source": [
    "### Данные о времени подачи проволочных материалов (data_wire_time)"
   ]
  },
  {
   "cell_type": "code",
   "execution_count": 49,
   "metadata": {},
   "outputs": [
    {
     "name": "stdout",
     "output_type": "stream",
     "text": [
      "\u001b[1mИзучим исходные данные\u001b[0m\n",
      "<class 'pandas.core.frame.DataFrame'>\n",
      "RangeIndex: 3081 entries, 0 to 3080\n",
      "Data columns (total 10 columns):\n",
      " #   Column  Non-Null Count  Dtype \n",
      "---  ------  --------------  ----- \n",
      " 0   key     3081 non-null   int64 \n",
      " 1   Wire 1  3055 non-null   object\n",
      " 2   Wire 2  1079 non-null   object\n",
      " 3   Wire 3  63 non-null     object\n",
      " 4   Wire 4  14 non-null     object\n",
      " 5   Wire 5  1 non-null      object\n",
      " 6   Wire 6  73 non-null     object\n",
      " 7   Wire 7  11 non-null     object\n",
      " 8   Wire 8  19 non-null     object\n",
      " 9   Wire 9  29 non-null     object\n",
      "dtypes: int64(1), object(9)\n",
      "memory usage: 240.8+ KB\n",
      "None\n",
      "\u001b[1m\n",
      "Проверка пропусков\u001b[0m\n",
      "Количество пропусков: 23385\n",
      "Доля пропусков: 84.3%\u001b[0m\n",
      "Доля строк содержащих пропуски: 100.0%\n",
      "\u001b[1m\n",
      "Проверка на дубликаты\u001b[0m\n",
      "Количество полных дубликатов:  0\n",
      "\u001b[1m\n",
      "Первые пять строк датасета\u001b[0m\n"
     ]
    },
    {
     "data": {
      "text/html": [
       "<div>\n",
       "<style scoped>\n",
       "    .dataframe tbody tr th:only-of-type {\n",
       "        vertical-align: middle;\n",
       "    }\n",
       "\n",
       "    .dataframe tbody tr th {\n",
       "        vertical-align: top;\n",
       "    }\n",
       "\n",
       "    .dataframe thead th {\n",
       "        text-align: right;\n",
       "    }\n",
       "</style>\n",
       "<table border=\"1\" class=\"dataframe\">\n",
       "  <thead>\n",
       "    <tr style=\"text-align: right;\">\n",
       "      <th></th>\n",
       "      <th>key</th>\n",
       "      <th>Wire 1</th>\n",
       "      <th>Wire 2</th>\n",
       "      <th>Wire 3</th>\n",
       "      <th>Wire 4</th>\n",
       "      <th>Wire 5</th>\n",
       "      <th>Wire 6</th>\n",
       "      <th>Wire 7</th>\n",
       "      <th>Wire 8</th>\n",
       "      <th>Wire 9</th>\n",
       "    </tr>\n",
       "  </thead>\n",
       "  <tbody>\n",
       "    <tr>\n",
       "      <th>0</th>\n",
       "      <td>1</td>\n",
       "      <td>2019-05-03 11:06:19</td>\n",
       "      <td>NaN</td>\n",
       "      <td>NaN</td>\n",
       "      <td>NaN</td>\n",
       "      <td>NaN</td>\n",
       "      <td>NaN</td>\n",
       "      <td>NaN</td>\n",
       "      <td>NaN</td>\n",
       "      <td>NaN</td>\n",
       "    </tr>\n",
       "    <tr>\n",
       "      <th>1</th>\n",
       "      <td>2</td>\n",
       "      <td>2019-05-03 11:36:50</td>\n",
       "      <td>NaN</td>\n",
       "      <td>NaN</td>\n",
       "      <td>NaN</td>\n",
       "      <td>NaN</td>\n",
       "      <td>NaN</td>\n",
       "      <td>NaN</td>\n",
       "      <td>NaN</td>\n",
       "      <td>NaN</td>\n",
       "    </tr>\n",
       "    <tr>\n",
       "      <th>2</th>\n",
       "      <td>3</td>\n",
       "      <td>2019-05-03 12:11:46</td>\n",
       "      <td>NaN</td>\n",
       "      <td>NaN</td>\n",
       "      <td>NaN</td>\n",
       "      <td>NaN</td>\n",
       "      <td>NaN</td>\n",
       "      <td>NaN</td>\n",
       "      <td>NaN</td>\n",
       "      <td>NaN</td>\n",
       "    </tr>\n",
       "    <tr>\n",
       "      <th>3</th>\n",
       "      <td>4</td>\n",
       "      <td>2019-05-03 12:43:22</td>\n",
       "      <td>NaN</td>\n",
       "      <td>NaN</td>\n",
       "      <td>NaN</td>\n",
       "      <td>NaN</td>\n",
       "      <td>NaN</td>\n",
       "      <td>NaN</td>\n",
       "      <td>NaN</td>\n",
       "      <td>NaN</td>\n",
       "    </tr>\n",
       "    <tr>\n",
       "      <th>4</th>\n",
       "      <td>5</td>\n",
       "      <td>2019-05-03 13:20:44</td>\n",
       "      <td>2019-05-03 13:15:34</td>\n",
       "      <td>NaN</td>\n",
       "      <td>NaN</td>\n",
       "      <td>NaN</td>\n",
       "      <td>NaN</td>\n",
       "      <td>NaN</td>\n",
       "      <td>NaN</td>\n",
       "      <td>NaN</td>\n",
       "    </tr>\n",
       "  </tbody>\n",
       "</table>\n",
       "</div>"
      ],
      "text/plain": [
       "   key               Wire 1               Wire 2 Wire 3 Wire 4 Wire 5 Wire 6  \\\n",
       "0    1  2019-05-03 11:06:19                  NaN    NaN    NaN    NaN    NaN   \n",
       "1    2  2019-05-03 11:36:50                  NaN    NaN    NaN    NaN    NaN   \n",
       "2    3  2019-05-03 12:11:46                  NaN    NaN    NaN    NaN    NaN   \n",
       "3    4  2019-05-03 12:43:22                  NaN    NaN    NaN    NaN    NaN   \n",
       "4    5  2019-05-03 13:20:44  2019-05-03 13:15:34    NaN    NaN    NaN    NaN   \n",
       "\n",
       "  Wire 7 Wire 8 Wire 9  \n",
       "0    NaN    NaN    NaN  \n",
       "1    NaN    NaN    NaN  \n",
       "2    NaN    NaN    NaN  \n",
       "3    NaN    NaN    NaN  \n",
       "4    NaN    NaN    NaN  "
      ]
     },
     "metadata": {},
     "output_type": "display_data"
    },
    {
     "name": "stdout",
     "output_type": "stream",
     "text": [
      "\u001b[1m\n",
      "Описание количественных данных:\u001b[0m\n"
     ]
    },
    {
     "data": {
      "text/html": [
       "<div>\n",
       "<style scoped>\n",
       "    .dataframe tbody tr th:only-of-type {\n",
       "        vertical-align: middle;\n",
       "    }\n",
       "\n",
       "    .dataframe tbody tr th {\n",
       "        vertical-align: top;\n",
       "    }\n",
       "\n",
       "    .dataframe thead th {\n",
       "        text-align: right;\n",
       "    }\n",
       "</style>\n",
       "<table border=\"1\" class=\"dataframe\">\n",
       "  <thead>\n",
       "    <tr style=\"text-align: right;\">\n",
       "      <th></th>\n",
       "      <th>count</th>\n",
       "      <th>mean</th>\n",
       "      <th>std</th>\n",
       "      <th>min</th>\n",
       "      <th>25%</th>\n",
       "      <th>50%</th>\n",
       "      <th>75%</th>\n",
       "      <th>max</th>\n",
       "    </tr>\n",
       "  </thead>\n",
       "  <tbody>\n",
       "    <tr>\n",
       "      <th>key</th>\n",
       "      <td>3081.0</td>\n",
       "      <td>1623.426485</td>\n",
       "      <td>932.996726</td>\n",
       "      <td>1.0</td>\n",
       "      <td>823.0</td>\n",
       "      <td>1619.0</td>\n",
       "      <td>2434.0</td>\n",
       "      <td>3241.0</td>\n",
       "    </tr>\n",
       "  </tbody>\n",
       "</table>\n",
       "</div>"
      ],
      "text/plain": [
       "      count         mean         std  min    25%     50%     75%     max\n",
       "key  3081.0  1623.426485  932.996726  1.0  823.0  1619.0  2434.0  3241.0"
      ]
     },
     "metadata": {},
     "output_type": "display_data"
    }
   ],
   "source": [
    "check_data(data_wire_time)"
   ]
  },
  {
   "cell_type": "markdown",
   "metadata": {},
   "source": [
    "Аналогично сыпучим материалам не используем эту таблицу"
   ]
  },
  {
   "cell_type": "markdown",
   "metadata": {},
   "source": [
    "### Данные о продувке сплава газом (data_gas)"
   ]
  },
  {
   "cell_type": "code",
   "execution_count": 50,
   "metadata": {},
   "outputs": [
    {
     "name": "stdout",
     "output_type": "stream",
     "text": [
      "\u001b[1mИзучим исходные данные\u001b[0m\n",
      "<class 'pandas.core.frame.DataFrame'>\n",
      "RangeIndex: 3239 entries, 0 to 3238\n",
      "Data columns (total 2 columns):\n",
      " #   Column  Non-Null Count  Dtype  \n",
      "---  ------  --------------  -----  \n",
      " 0   key     3239 non-null   int64  \n",
      " 1   Газ 1   3239 non-null   float64\n",
      "dtypes: float64(1), int64(1)\n",
      "memory usage: 50.7 KB\n",
      "None\n",
      "\u001b[1m\n",
      "Проверка пропусков\u001b[0m\n",
      "Количество пропусков: 0\n",
      "Доля пропусков: 0.0%\u001b[0m\n",
      "Доля строк содержащих пропуски: 0.0%\n",
      "\u001b[1m\n",
      "Проверка на дубликаты\u001b[0m\n",
      "Количество полных дубликатов:  0\n",
      "\u001b[1m\n",
      "Первые пять строк датасета\u001b[0m\n"
     ]
    },
    {
     "data": {
      "text/html": [
       "<div>\n",
       "<style scoped>\n",
       "    .dataframe tbody tr th:only-of-type {\n",
       "        vertical-align: middle;\n",
       "    }\n",
       "\n",
       "    .dataframe tbody tr th {\n",
       "        vertical-align: top;\n",
       "    }\n",
       "\n",
       "    .dataframe thead th {\n",
       "        text-align: right;\n",
       "    }\n",
       "</style>\n",
       "<table border=\"1\" class=\"dataframe\">\n",
       "  <thead>\n",
       "    <tr style=\"text-align: right;\">\n",
       "      <th></th>\n",
       "      <th>key</th>\n",
       "      <th>Газ 1</th>\n",
       "    </tr>\n",
       "  </thead>\n",
       "  <tbody>\n",
       "    <tr>\n",
       "      <th>0</th>\n",
       "      <td>1</td>\n",
       "      <td>29.749986</td>\n",
       "    </tr>\n",
       "    <tr>\n",
       "      <th>1</th>\n",
       "      <td>2</td>\n",
       "      <td>12.555561</td>\n",
       "    </tr>\n",
       "    <tr>\n",
       "      <th>2</th>\n",
       "      <td>3</td>\n",
       "      <td>28.554793</td>\n",
       "    </tr>\n",
       "    <tr>\n",
       "      <th>3</th>\n",
       "      <td>4</td>\n",
       "      <td>18.841219</td>\n",
       "    </tr>\n",
       "    <tr>\n",
       "      <th>4</th>\n",
       "      <td>5</td>\n",
       "      <td>5.413692</td>\n",
       "    </tr>\n",
       "  </tbody>\n",
       "</table>\n",
       "</div>"
      ],
      "text/plain": [
       "   key      Газ 1\n",
       "0    1  29.749986\n",
       "1    2  12.555561\n",
       "2    3  28.554793\n",
       "3    4  18.841219\n",
       "4    5   5.413692"
      ]
     },
     "metadata": {},
     "output_type": "display_data"
    },
    {
     "name": "stdout",
     "output_type": "stream",
     "text": [
      "\u001b[1m\n",
      "Описание количественных данных:\u001b[0m\n"
     ]
    },
    {
     "data": {
      "text/html": [
       "<div>\n",
       "<style scoped>\n",
       "    .dataframe tbody tr th:only-of-type {\n",
       "        vertical-align: middle;\n",
       "    }\n",
       "\n",
       "    .dataframe tbody tr th {\n",
       "        vertical-align: top;\n",
       "    }\n",
       "\n",
       "    .dataframe thead th {\n",
       "        text-align: right;\n",
       "    }\n",
       "</style>\n",
       "<table border=\"1\" class=\"dataframe\">\n",
       "  <thead>\n",
       "    <tr style=\"text-align: right;\">\n",
       "      <th></th>\n",
       "      <th>count</th>\n",
       "      <th>mean</th>\n",
       "      <th>std</th>\n",
       "      <th>min</th>\n",
       "      <th>25%</th>\n",
       "      <th>50%</th>\n",
       "      <th>75%</th>\n",
       "      <th>max</th>\n",
       "    </tr>\n",
       "  </thead>\n",
       "  <tbody>\n",
       "    <tr>\n",
       "      <th>key</th>\n",
       "      <td>3239.0</td>\n",
       "      <td>1621.861377</td>\n",
       "      <td>935.386334</td>\n",
       "      <td>1.000000</td>\n",
       "      <td>812.500000</td>\n",
       "      <td>1622.000000</td>\n",
       "      <td>2431.500000</td>\n",
       "      <td>3241.00000</td>\n",
       "    </tr>\n",
       "    <tr>\n",
       "      <th>Газ 1</th>\n",
       "      <td>3239.0</td>\n",
       "      <td>11.002062</td>\n",
       "      <td>6.220327</td>\n",
       "      <td>0.008399</td>\n",
       "      <td>7.043089</td>\n",
       "      <td>9.836267</td>\n",
       "      <td>13.769915</td>\n",
       "      <td>77.99504</td>\n",
       "    </tr>\n",
       "  </tbody>\n",
       "</table>\n",
       "</div>"
      ],
      "text/plain": [
       "        count         mean         std       min         25%          50%  \\\n",
       "key    3239.0  1621.861377  935.386334  1.000000  812.500000  1622.000000   \n",
       "Газ 1  3239.0    11.002062    6.220327  0.008399    7.043089     9.836267   \n",
       "\n",
       "               75%         max  \n",
       "key    2431.500000  3241.00000  \n",
       "Газ 1    13.769915    77.99504  "
      ]
     },
     "metadata": {},
     "output_type": "display_data"
    }
   ],
   "source": [
    "check_data(data_gas)"
   ]
  },
  {
   "cell_type": "code",
   "execution_count": 51,
   "metadata": {},
   "outputs": [
    {
     "data": {
      "image/png": "[encoded data removed]",
      "text/plain": [
       "<Figure size 1584x360 with 1 Axes>"
      ]
     },
     "metadata": {
      "needs_background": "light"
     },
     "output_type": "display_data"
    }
   ],
   "source": [
    "data_gas['Газ 1'].hist(figsize = (22,5),bins =100)\n",
    "plt.title('Гистограмма исходного датафрейма')\n",
    "plt.ylabel('Количество')\n",
    "plt.show()"
   ]
  },
  {
   "cell_type": "markdown",
   "metadata": {},
   "source": [
    "**Наблюдения**\n",
    "\n",
    "Пропусков, дубликатов и явных выбросов нет. Нужно будет подробнее почитать про процесс выплавки и посмотреть корреляции с другими признаками, возможно можно будет попробовать обучить модель без этого признака."
   ]
  },
  {
   "cell_type": "markdown",
   "metadata": {},
   "source": [
    "### Данные измерений температуры (data_temp)"
   ]
  },
  {
   "cell_type": "code",
   "execution_count": 52,
   "metadata": {},
   "outputs": [
    {
     "name": "stdout",
     "output_type": "stream",
     "text": [
      "\u001b[1mИзучим исходные данные\u001b[0m\n",
      "<class 'pandas.core.frame.DataFrame'>\n",
      "RangeIndex: 18092 entries, 0 to 18091\n",
      "Data columns (total 3 columns):\n",
      " #   Column        Non-Null Count  Dtype  \n",
      "---  ------        --------------  -----  \n",
      " 0   key           18092 non-null  int64  \n",
      " 1   Время замера  18092 non-null  object \n",
      " 2   Температура   14665 non-null  float64\n",
      "dtypes: float64(1), int64(1), object(1)\n",
      "memory usage: 424.2+ KB\n",
      "None\n",
      "\u001b[1m\n",
      "Проверка пропусков\u001b[0m\n",
      "Количество пропусков: 3427\n",
      "Доля пропусков: 9.5%\u001b[0m\n",
      "Доля строк содержащих пропуски: 18.9%\n",
      "\u001b[1m\n",
      "Проверка на дубликаты\u001b[0m\n",
      "Количество полных дубликатов:  0\n",
      "\u001b[1m\n",
      "Первые пять строк датасета\u001b[0m\n"
     ]
    },
    {
     "data": {
      "text/html": [
       "<div>\n",
       "<style scoped>\n",
       "    .dataframe tbody tr th:only-of-type {\n",
       "        vertical-align: middle;\n",
       "    }\n",
       "\n",
       "    .dataframe tbody tr th {\n",
       "        vertical-align: top;\n",
       "    }\n",
       "\n",
       "    .dataframe thead th {\n",
       "        text-align: right;\n",
       "    }\n",
       "</style>\n",
       "<table border=\"1\" class=\"dataframe\">\n",
       "  <thead>\n",
       "    <tr style=\"text-align: right;\">\n",
       "      <th></th>\n",
       "      <th>key</th>\n",
       "      <th>Время замера</th>\n",
       "      <th>Температура</th>\n",
       "    </tr>\n",
       "  </thead>\n",
       "  <tbody>\n",
       "    <tr>\n",
       "      <th>0</th>\n",
       "      <td>1</td>\n",
       "      <td>2019-05-03 11:02:04</td>\n",
       "      <td>1571.0</td>\n",
       "    </tr>\n",
       "    <tr>\n",
       "      <th>1</th>\n",
       "      <td>1</td>\n",
       "      <td>2019-05-03 11:07:18</td>\n",
       "      <td>1604.0</td>\n",
       "    </tr>\n",
       "    <tr>\n",
       "      <th>2</th>\n",
       "      <td>1</td>\n",
       "      <td>2019-05-03 11:11:34</td>\n",
       "      <td>1618.0</td>\n",
       "    </tr>\n",
       "    <tr>\n",
       "      <th>3</th>\n",
       "      <td>1</td>\n",
       "      <td>2019-05-03 11:18:04</td>\n",
       "      <td>1601.0</td>\n",
       "    </tr>\n",
       "    <tr>\n",
       "      <th>4</th>\n",
       "      <td>1</td>\n",
       "      <td>2019-05-03 11:25:59</td>\n",
       "      <td>1606.0</td>\n",
       "    </tr>\n",
       "  </tbody>\n",
       "</table>\n",
       "</div>"
      ],
      "text/plain": [
       "   key         Время замера  Температура\n",
       "0    1  2019-05-03 11:02:04       1571.0\n",
       "1    1  2019-05-03 11:07:18       1604.0\n",
       "2    1  2019-05-03 11:11:34       1618.0\n",
       "3    1  2019-05-03 11:18:04       1601.0\n",
       "4    1  2019-05-03 11:25:59       1606.0"
      ]
     },
     "metadata": {},
     "output_type": "display_data"
    },
    {
     "name": "stdout",
     "output_type": "stream",
     "text": [
      "\u001b[1m\n",
      "Описание количественных данных:\u001b[0m\n"
     ]
    },
    {
     "data": {
      "text/html": [
       "<div>\n",
       "<style scoped>\n",
       "    .dataframe tbody tr th:only-of-type {\n",
       "        vertical-align: middle;\n",
       "    }\n",
       "\n",
       "    .dataframe tbody tr th {\n",
       "        vertical-align: top;\n",
       "    }\n",
       "\n",
       "    .dataframe thead th {\n",
       "        text-align: right;\n",
       "    }\n",
       "</style>\n",
       "<table border=\"1\" class=\"dataframe\">\n",
       "  <thead>\n",
       "    <tr style=\"text-align: right;\">\n",
       "      <th></th>\n",
       "      <th>count</th>\n",
       "      <th>mean</th>\n",
       "      <th>std</th>\n",
       "      <th>min</th>\n",
       "      <th>25%</th>\n",
       "      <th>50%</th>\n",
       "      <th>75%</th>\n",
       "      <th>max</th>\n",
       "    </tr>\n",
       "  </thead>\n",
       "  <tbody>\n",
       "    <tr>\n",
       "      <th>key</th>\n",
       "      <td>18092.0</td>\n",
       "      <td>1616.460977</td>\n",
       "      <td>934.641385</td>\n",
       "      <td>1.0</td>\n",
       "      <td>807.75</td>\n",
       "      <td>1618.0</td>\n",
       "      <td>2429.0</td>\n",
       "      <td>3241.0</td>\n",
       "    </tr>\n",
       "    <tr>\n",
       "      <th>Температура</th>\n",
       "      <td>14665.0</td>\n",
       "      <td>1590.722741</td>\n",
       "      <td>20.394381</td>\n",
       "      <td>1191.0</td>\n",
       "      <td>1580.00</td>\n",
       "      <td>1590.0</td>\n",
       "      <td>1599.0</td>\n",
       "      <td>1705.0</td>\n",
       "    </tr>\n",
       "  </tbody>\n",
       "</table>\n",
       "</div>"
      ],
      "text/plain": [
       "               count         mean         std     min      25%     50%  \\\n",
       "key          18092.0  1616.460977  934.641385     1.0   807.75  1618.0   \n",
       "Температура  14665.0  1590.722741   20.394381  1191.0  1580.00  1590.0   \n",
       "\n",
       "                75%     max  \n",
       "key          2429.0  3241.0  \n",
       "Температура  1599.0  1705.0  "
      ]
     },
     "metadata": {},
     "output_type": "display_data"
    }
   ],
   "source": [
    "check_data(data_temp)"
   ]
  },
  {
   "cell_type": "code",
   "execution_count": 53,
   "metadata": {},
   "outputs": [
    {
     "data": {
      "image/png": "[encoded data removed]",
      "text/plain": [
       "<Figure size 1584x360 with 1 Axes>"
      ]
     },
     "metadata": {
      "needs_background": "light"
     },
     "output_type": "display_data"
    }
   ],
   "source": [
    "data_temp['Температура'].hist(figsize = (22,5),bins =100)\n",
    "plt.title('Гистограмма исходного датафрейма')\n",
    "plt.ylabel('Количество')\n",
    "plt.xlabel('Температура,  $\\degree C$')\n",
    "plt.show()"
   ]
  },
  {
   "cell_type": "code",
   "execution_count": 54,
   "metadata": {},
   "outputs": [
    {
     "data": {
      "image/png": "[encoded data removed]",
      "text/plain": [
       "<Figure size 360x360 with 1 Axes>"
      ]
     },
     "metadata": {
      "needs_background": "light"
     },
     "output_type": "display_data"
    }
   ],
   "source": [
    "data_temp.boxplot(column=['Температура'], figsize = (5,5))\n",
    "plt.title('Ящик с усами исходного датафрейма')\n",
    "plt.ylabel(' $\\degree C$')\n",
    "plt.show()"
   ]
  },
  {
   "cell_type": "markdown",
   "metadata": {},
   "source": [
    "**Наблюдения**\n",
    "\n",
    "Дубликатов нет, строк с пропусками почти 19%. \n",
    "\n",
    "Нкжно будет удалить ковши, данные для которых представлены с явными ошиками. Температура плавления стали не должна быть ниже 1300 градусов. Ошибки хорошо видно на ящике с усами\n",
    "\n",
    "Нужно будет удалить все такие ковши, для которых нет данных о начальной или о конечной температуре. Проверить нет ли ковшей только с одним измерением и удалить такие, если они есть. \n"
   ]
  },
  {
   "cell_type": "markdown",
   "metadata": {},
   "source": [
    "## Предобработка данных"
   ]
  },
  {
   "cell_type": "markdown",
   "metadata": {},
   "source": [
    "### Данные об электродах (data_arc)"
   ]
  },
  {
   "cell_type": "code",
   "execution_count": 55,
   "metadata": {},
   "outputs": [
    {
     "data": {
      "text/html": [
       "<div>\n",
       "<style scoped>\n",
       "    .dataframe tbody tr th:only-of-type {\n",
       "        vertical-align: middle;\n",
       "    }\n",
       "\n",
       "    .dataframe tbody tr th {\n",
       "        vertical-align: top;\n",
       "    }\n",
       "\n",
       "    .dataframe thead th {\n",
       "        text-align: right;\n",
       "    }\n",
       "</style>\n",
       "<table border=\"1\" class=\"dataframe\">\n",
       "  <thead>\n",
       "    <tr style=\"text-align: right;\">\n",
       "      <th></th>\n",
       "      <th>key</th>\n",
       "      <th>Начало нагрева дугой</th>\n",
       "      <th>Конец нагрева дугой</th>\n",
       "      <th>Активная мощность</th>\n",
       "      <th>Реактивная мощность</th>\n",
       "    </tr>\n",
       "  </thead>\n",
       "  <tbody>\n",
       "    <tr>\n",
       "      <th>9780</th>\n",
       "      <td>2116</td>\n",
       "      <td>2019-07-28 02:22:08</td>\n",
       "      <td>2019-07-28 02:23:57</td>\n",
       "      <td>0.705344</td>\n",
       "      <td>-715.479924</td>\n",
       "    </tr>\n",
       "  </tbody>\n",
       "</table>\n",
       "</div>"
      ],
      "text/plain": [
       "       key Начало нагрева дугой  Конец нагрева дугой  Активная мощность  \\\n",
       "9780  2116  2019-07-28 02:22:08  2019-07-28 02:23:57           0.705344   \n",
       "\n",
       "      Реактивная мощность  \n",
       "9780          -715.479924  "
      ]
     },
     "execution_count": 55,
     "metadata": {},
     "output_type": "execute_result"
    }
   ],
   "source": [
    "#посмотрим на нереалистичные значения\n",
    "data_arc[data_arc['Реактивная мощность'] <= 0]"
   ]
  },
  {
   "cell_type": "code",
   "execution_count": 56,
   "metadata": {},
   "outputs": [
    {
     "data": {
      "image/png": "[encoded data removed]",
      "text/plain": [
       "<Figure size 1440x360 with 1 Axes>"
      ]
     },
     "metadata": {
      "needs_background": "light"
     },
     "output_type": "display_data"
    }
   ],
   "source": [
    "# удалим ключ с ошибкой\n",
    "data_arc = data_arc[data_arc['key'] != 2116]\n",
    "data_arc['Реактивная мощность'].hist(bins=100,figsize=(20,5))\n",
    "plt.ylabel('Количество')\n",
    "plt.xlabel('Вт')\n",
    "plt.title('Гистограмма преобразованного столбца реактивный мощностей')\n",
    "plt.show()"
   ]
  },
  {
   "cell_type": "code",
   "execution_count": 57,
   "metadata": {},
   "outputs": [
    {
     "name": "stdout",
     "output_type": "stream",
     "text": [
      "<class 'pandas.core.frame.DataFrame'>\n",
      "Int64Index: 14872 entries, 0 to 14875\n",
      "Data columns (total 5 columns):\n",
      " #   Column                Non-Null Count  Dtype         \n",
      "---  ------                --------------  -----         \n",
      " 0   key                   14872 non-null  int64         \n",
      " 1   Начало нагрева дугой  14872 non-null  datetime64[ns]\n",
      " 2   Конец нагрева дугой   14872 non-null  datetime64[ns]\n",
      " 3   Активная мощность     14872 non-null  float64       \n",
      " 4   Реактивная мощность   14872 non-null  float64       \n",
      "dtypes: datetime64[ns](2), float64(2), int64(1)\n",
      "memory usage: 697.1 KB\n"
     ]
    }
   ],
   "source": [
    "# преобразуем в формат даты начало и конец нагрева\n",
    "data_arc['Начало нагрева дугой'] = pd.to_datetime(data_arc['Начало нагрева дугой'])\n",
    "data_arc['Конец нагрева дугой'] = pd.to_datetime(data_arc['Конец нагрева дугой'])\n",
    "data_arc.info()"
   ]
  },
  {
   "cell_type": "code",
   "execution_count": 58,
   "metadata": {},
   "outputs": [
    {
     "data": {
      "text/html": [
       "<div>\n",
       "<style scoped>\n",
       "    .dataframe tbody tr th:only-of-type {\n",
       "        vertical-align: middle;\n",
       "    }\n",
       "\n",
       "    .dataframe tbody tr th {\n",
       "        vertical-align: top;\n",
       "    }\n",
       "\n",
       "    .dataframe thead th {\n",
       "        text-align: right;\n",
       "    }\n",
       "</style>\n",
       "<table border=\"1\" class=\"dataframe\">\n",
       "  <thead>\n",
       "    <tr style=\"text-align: right;\">\n",
       "      <th></th>\n",
       "      <th>key</th>\n",
       "      <th>Начало нагрева дугой</th>\n",
       "      <th>Конец нагрева дугой</th>\n",
       "      <th>Активная мощность</th>\n",
       "      <th>Реактивная мощность</th>\n",
       "      <th>dutarion</th>\n",
       "      <th>full_power</th>\n",
       "      <th>energy</th>\n",
       "    </tr>\n",
       "  </thead>\n",
       "  <tbody>\n",
       "    <tr>\n",
       "      <th>0</th>\n",
       "      <td>1</td>\n",
       "      <td>2019-05-03 11:02:14</td>\n",
       "      <td>2019-05-03 11:06:02</td>\n",
       "      <td>0.305130</td>\n",
       "      <td>0.211253</td>\n",
       "      <td>228.0</td>\n",
       "      <td>0.371123</td>\n",
       "      <td>84.616003</td>\n",
       "    </tr>\n",
       "    <tr>\n",
       "      <th>1</th>\n",
       "      <td>1</td>\n",
       "      <td>2019-05-03 11:07:28</td>\n",
       "      <td>2019-05-03 11:10:33</td>\n",
       "      <td>0.765658</td>\n",
       "      <td>0.477438</td>\n",
       "      <td>185.0</td>\n",
       "      <td>0.902319</td>\n",
       "      <td>166.928978</td>\n",
       "    </tr>\n",
       "    <tr>\n",
       "      <th>2</th>\n",
       "      <td>1</td>\n",
       "      <td>2019-05-03 11:11:44</td>\n",
       "      <td>2019-05-03 11:14:36</td>\n",
       "      <td>0.580313</td>\n",
       "      <td>0.430460</td>\n",
       "      <td>172.0</td>\n",
       "      <td>0.722536</td>\n",
       "      <td>124.276277</td>\n",
       "    </tr>\n",
       "    <tr>\n",
       "      <th>3</th>\n",
       "      <td>1</td>\n",
       "      <td>2019-05-03 11:18:14</td>\n",
       "      <td>2019-05-03 11:24:19</td>\n",
       "      <td>0.518496</td>\n",
       "      <td>0.379979</td>\n",
       "      <td>365.0</td>\n",
       "      <td>0.642824</td>\n",
       "      <td>234.630603</td>\n",
       "    </tr>\n",
       "    <tr>\n",
       "      <th>4</th>\n",
       "      <td>1</td>\n",
       "      <td>2019-05-03 11:26:09</td>\n",
       "      <td>2019-05-03 11:28:37</td>\n",
       "      <td>0.867133</td>\n",
       "      <td>0.643691</td>\n",
       "      <td>148.0</td>\n",
       "      <td>1.079934</td>\n",
       "      <td>159.830252</td>\n",
       "    </tr>\n",
       "    <tr>\n",
       "      <th>5</th>\n",
       "      <td>2</td>\n",
       "      <td>2019-05-03 11:34:14</td>\n",
       "      <td>2019-05-03 11:36:31</td>\n",
       "      <td>0.381124</td>\n",
       "      <td>0.220351</td>\n",
       "      <td>137.0</td>\n",
       "      <td>0.440239</td>\n",
       "      <td>60.312695</td>\n",
       "    </tr>\n",
       "  </tbody>\n",
       "</table>\n",
       "</div>"
      ],
      "text/plain": [
       "   key Начало нагрева дугой Конец нагрева дугой  Активная мощность  \\\n",
       "0    1  2019-05-03 11:02:14 2019-05-03 11:06:02           0.305130   \n",
       "1    1  2019-05-03 11:07:28 2019-05-03 11:10:33           0.765658   \n",
       "2    1  2019-05-03 11:11:44 2019-05-03 11:14:36           0.580313   \n",
       "3    1  2019-05-03 11:18:14 2019-05-03 11:24:19           0.518496   \n",
       "4    1  2019-05-03 11:26:09 2019-05-03 11:28:37           0.867133   \n",
       "5    2  2019-05-03 11:34:14 2019-05-03 11:36:31           0.381124   \n",
       "\n",
       "   Реактивная мощность  dutarion  full_power      energy  \n",
       "0             0.211253     228.0    0.371123   84.616003  \n",
       "1             0.477438     185.0    0.902319  166.928978  \n",
       "2             0.430460     172.0    0.722536  124.276277  \n",
       "3             0.379979     365.0    0.642824  234.630603  \n",
       "4             0.643691     148.0    1.079934  159.830252  \n",
       "5             0.220351     137.0    0.440239   60.312695  "
      ]
     },
     "execution_count": 58,
     "metadata": {},
     "output_type": "execute_result"
    }
   ],
   "source": [
    "#создадим новые признаки согласно плану\n",
    "data_arc['dutarion'] = (data_arc['Конец нагрева дугой'] - data_arc['Начало нагрева дугой'])/pd.Timedelta('1s')\n",
    "data_arc['full_power'] = (data_arc['Активная мощность']**2 + data_arc['Реактивная мощность']**2)**(1/2) \n",
    "data_arc['energy'] = data_arc['full_power'] * data_arc['dutarion']\n",
    "data_arc.head(6)"
   ]
  },
  {
   "cell_type": "code",
   "execution_count": 59,
   "metadata": {},
   "outputs": [
    {
     "data": {
      "text/html": [
       "<div>\n",
       "<style scoped>\n",
       "    .dataframe tbody tr th:only-of-type {\n",
       "        vertical-align: middle;\n",
       "    }\n",
       "\n",
       "    .dataframe tbody tr th {\n",
       "        vertical-align: top;\n",
       "    }\n",
       "\n",
       "    .dataframe thead th {\n",
       "        text-align: right;\n",
       "    }\n",
       "</style>\n",
       "<table border=\"1\" class=\"dataframe\">\n",
       "  <thead>\n",
       "    <tr style=\"text-align: right;\">\n",
       "      <th></th>\n",
       "      <th>energy</th>\n",
       "      <th>dutarion</th>\n",
       "      <th>avg_power</th>\n",
       "    </tr>\n",
       "    <tr>\n",
       "      <th>key</th>\n",
       "      <th></th>\n",
       "      <th></th>\n",
       "      <th></th>\n",
       "    </tr>\n",
       "  </thead>\n",
       "  <tbody>\n",
       "    <tr>\n",
       "      <th>1</th>\n",
       "      <td>770.282114</td>\n",
       "      <td>1098.0</td>\n",
       "      <td>0.701532</td>\n",
       "    </tr>\n",
       "    <tr>\n",
       "      <th>2</th>\n",
       "      <td>481.760005</td>\n",
       "      <td>811.0</td>\n",
       "      <td>0.594032</td>\n",
       "    </tr>\n",
       "    <tr>\n",
       "      <th>3</th>\n",
       "      <td>722.837668</td>\n",
       "      <td>655.0</td>\n",
       "      <td>1.103569</td>\n",
       "    </tr>\n",
       "    <tr>\n",
       "      <th>4</th>\n",
       "      <td>683.455597</td>\n",
       "      <td>741.0</td>\n",
       "      <td>0.922342</td>\n",
       "    </tr>\n",
       "    <tr>\n",
       "      <th>5</th>\n",
       "      <td>512.169934</td>\n",
       "      <td>869.0</td>\n",
       "      <td>0.589379</td>\n",
       "    </tr>\n",
       "  </tbody>\n",
       "</table>\n",
       "</div>"
      ],
      "text/plain": [
       "         energy  dutarion  avg_power\n",
       "key                                 \n",
       "1    770.282114    1098.0   0.701532\n",
       "2    481.760005     811.0   0.594032\n",
       "3    722.837668     655.0   1.103569\n",
       "4    683.455597     741.0   0.922342\n",
       "5    512.169934     869.0   0.589379"
      ]
     },
     "execution_count": 59,
     "metadata": {},
     "output_type": "execute_result"
    }
   ],
   "source": [
    "#сгруппируем данные по ключам\n",
    "#время и энергию просуммируем, а мощность думаю лучше вычислить как отношение энергии к времени\n",
    "#суммирование мощностей как единиц энергии в секунду будет нефизичным\n",
    "data_arc_agg = pd.DataFrame()\n",
    "data_arc_agg['energy'] = data_arc.groupby('key')['energy'].sum()\n",
    "data_arc_agg['dutarion'] = data_arc.groupby('key')['dutarion'].sum()\n",
    "data_arc_agg['avg_power'] = data_arc_agg['energy'] / data_arc_agg['dutarion']\n",
    "data_arc_agg.head()"
   ]
  },
  {
   "cell_type": "code",
   "execution_count": 60,
   "metadata": {},
   "outputs": [
    {
     "data": {
      "text/plain": [
       "(3213, 3)"
      ]
     },
     "execution_count": 60,
     "metadata": {},
     "output_type": "execute_result"
    }
   ],
   "source": [
    "data_arc_agg.shape"
   ]
  },
  {
   "cell_type": "markdown",
   "metadata": {},
   "source": [
    "### Данные о материалах"
   ]
  },
  {
   "cell_type": "code",
   "execution_count": 61,
   "metadata": {},
   "outputs": [
    {
     "data": {
      "text/html": [
       "<div>\n",
       "<style scoped>\n",
       "    .dataframe tbody tr th:only-of-type {\n",
       "        vertical-align: middle;\n",
       "    }\n",
       "\n",
       "    .dataframe tbody tr th {\n",
       "        vertical-align: top;\n",
       "    }\n",
       "\n",
       "    .dataframe thead th {\n",
       "        text-align: right;\n",
       "    }\n",
       "</style>\n",
       "<table border=\"1\" class=\"dataframe\">\n",
       "  <thead>\n",
       "    <tr style=\"text-align: right;\">\n",
       "      <th></th>\n",
       "      <th>key</th>\n",
       "      <th>Bulk 1</th>\n",
       "      <th>Bulk 2</th>\n",
       "      <th>Bulk 3</th>\n",
       "      <th>Bulk 4</th>\n",
       "      <th>Bulk 5</th>\n",
       "      <th>Bulk 6</th>\n",
       "      <th>Bulk 7</th>\n",
       "      <th>Bulk 9</th>\n",
       "      <th>Bulk 10</th>\n",
       "      <th>Bulk 11</th>\n",
       "      <th>Bulk 12</th>\n",
       "      <th>Bulk 13</th>\n",
       "      <th>Bulk 14</th>\n",
       "      <th>Bulk 15</th>\n",
       "    </tr>\n",
       "  </thead>\n",
       "  <tbody>\n",
       "    <tr>\n",
       "      <th>0</th>\n",
       "      <td>1</td>\n",
       "      <td>0.0</td>\n",
       "      <td>0.0</td>\n",
       "      <td>0.0</td>\n",
       "      <td>43.0</td>\n",
       "      <td>0.0</td>\n",
       "      <td>0.0</td>\n",
       "      <td>0.0</td>\n",
       "      <td>0.0</td>\n",
       "      <td>0.0</td>\n",
       "      <td>0.0</td>\n",
       "      <td>206.0</td>\n",
       "      <td>0.0</td>\n",
       "      <td>150.0</td>\n",
       "      <td>154.0</td>\n",
       "    </tr>\n",
       "    <tr>\n",
       "      <th>1</th>\n",
       "      <td>2</td>\n",
       "      <td>0.0</td>\n",
       "      <td>0.0</td>\n",
       "      <td>0.0</td>\n",
       "      <td>73.0</td>\n",
       "      <td>0.0</td>\n",
       "      <td>0.0</td>\n",
       "      <td>0.0</td>\n",
       "      <td>0.0</td>\n",
       "      <td>0.0</td>\n",
       "      <td>0.0</td>\n",
       "      <td>206.0</td>\n",
       "      <td>0.0</td>\n",
       "      <td>149.0</td>\n",
       "      <td>154.0</td>\n",
       "    </tr>\n",
       "    <tr>\n",
       "      <th>2</th>\n",
       "      <td>3</td>\n",
       "      <td>0.0</td>\n",
       "      <td>0.0</td>\n",
       "      <td>0.0</td>\n",
       "      <td>34.0</td>\n",
       "      <td>0.0</td>\n",
       "      <td>0.0</td>\n",
       "      <td>0.0</td>\n",
       "      <td>0.0</td>\n",
       "      <td>0.0</td>\n",
       "      <td>0.0</td>\n",
       "      <td>205.0</td>\n",
       "      <td>0.0</td>\n",
       "      <td>152.0</td>\n",
       "      <td>153.0</td>\n",
       "    </tr>\n",
       "    <tr>\n",
       "      <th>3</th>\n",
       "      <td>4</td>\n",
       "      <td>0.0</td>\n",
       "      <td>0.0</td>\n",
       "      <td>0.0</td>\n",
       "      <td>81.0</td>\n",
       "      <td>0.0</td>\n",
       "      <td>0.0</td>\n",
       "      <td>0.0</td>\n",
       "      <td>0.0</td>\n",
       "      <td>0.0</td>\n",
       "      <td>0.0</td>\n",
       "      <td>207.0</td>\n",
       "      <td>0.0</td>\n",
       "      <td>153.0</td>\n",
       "      <td>154.0</td>\n",
       "    </tr>\n",
       "    <tr>\n",
       "      <th>4</th>\n",
       "      <td>5</td>\n",
       "      <td>0.0</td>\n",
       "      <td>0.0</td>\n",
       "      <td>0.0</td>\n",
       "      <td>78.0</td>\n",
       "      <td>0.0</td>\n",
       "      <td>0.0</td>\n",
       "      <td>0.0</td>\n",
       "      <td>0.0</td>\n",
       "      <td>0.0</td>\n",
       "      <td>0.0</td>\n",
       "      <td>203.0</td>\n",
       "      <td>0.0</td>\n",
       "      <td>151.0</td>\n",
       "      <td>152.0</td>\n",
       "    </tr>\n",
       "  </tbody>\n",
       "</table>\n",
       "</div>"
      ],
      "text/plain": [
       "   key  Bulk 1  Bulk 2  Bulk 3  Bulk 4  Bulk 5  Bulk 6  Bulk 7  Bulk 9  \\\n",
       "0    1     0.0     0.0     0.0    43.0     0.0     0.0     0.0     0.0   \n",
       "1    2     0.0     0.0     0.0    73.0     0.0     0.0     0.0     0.0   \n",
       "2    3     0.0     0.0     0.0    34.0     0.0     0.0     0.0     0.0   \n",
       "3    4     0.0     0.0     0.0    81.0     0.0     0.0     0.0     0.0   \n",
       "4    5     0.0     0.0     0.0    78.0     0.0     0.0     0.0     0.0   \n",
       "\n",
       "   Bulk 10  Bulk 11  Bulk 12  Bulk 13  Bulk 14  Bulk 15  \n",
       "0      0.0      0.0    206.0      0.0    150.0    154.0  \n",
       "1      0.0      0.0    206.0      0.0    149.0    154.0  \n",
       "2      0.0      0.0    205.0      0.0    152.0    153.0  \n",
       "3      0.0      0.0    207.0      0.0    153.0    154.0  \n",
       "4      0.0      0.0    203.0      0.0    151.0    152.0  "
      ]
     },
     "execution_count": 61,
     "metadata": {},
     "output_type": "execute_result"
    }
   ],
   "source": [
    "# удалим единожды встречающийся материал и заполним пропуски согласно плану\n",
    "data_bulk = data_bulk.drop('Bulk 8',axis=1).fillna(0)\n",
    "data_bulk.head()"
   ]
  },
  {
   "cell_type": "code",
   "execution_count": 62,
   "metadata": {},
   "outputs": [
    {
     "data": {
      "text/html": [
       "<div>\n",
       "<style scoped>\n",
       "    .dataframe tbody tr th:only-of-type {\n",
       "        vertical-align: middle;\n",
       "    }\n",
       "\n",
       "    .dataframe tbody tr th {\n",
       "        vertical-align: top;\n",
       "    }\n",
       "\n",
       "    .dataframe thead th {\n",
       "        text-align: right;\n",
       "    }\n",
       "</style>\n",
       "<table border=\"1\" class=\"dataframe\">\n",
       "  <thead>\n",
       "    <tr style=\"text-align: right;\">\n",
       "      <th></th>\n",
       "      <th>key</th>\n",
       "      <th>Wire 1</th>\n",
       "      <th>Wire 2</th>\n",
       "      <th>Wire 3</th>\n",
       "      <th>Wire 4</th>\n",
       "      <th>Wire 6</th>\n",
       "      <th>Wire 7</th>\n",
       "      <th>Wire 8</th>\n",
       "      <th>Wire 9</th>\n",
       "    </tr>\n",
       "  </thead>\n",
       "  <tbody>\n",
       "    <tr>\n",
       "      <th>0</th>\n",
       "      <td>1</td>\n",
       "      <td>60.059998</td>\n",
       "      <td>0.00000</td>\n",
       "      <td>0.0</td>\n",
       "      <td>0.0</td>\n",
       "      <td>0.0</td>\n",
       "      <td>0.0</td>\n",
       "      <td>0.0</td>\n",
       "      <td>0.0</td>\n",
       "    </tr>\n",
       "    <tr>\n",
       "      <th>1</th>\n",
       "      <td>2</td>\n",
       "      <td>96.052315</td>\n",
       "      <td>0.00000</td>\n",
       "      <td>0.0</td>\n",
       "      <td>0.0</td>\n",
       "      <td>0.0</td>\n",
       "      <td>0.0</td>\n",
       "      <td>0.0</td>\n",
       "      <td>0.0</td>\n",
       "    </tr>\n",
       "    <tr>\n",
       "      <th>2</th>\n",
       "      <td>3</td>\n",
       "      <td>91.160157</td>\n",
       "      <td>0.00000</td>\n",
       "      <td>0.0</td>\n",
       "      <td>0.0</td>\n",
       "      <td>0.0</td>\n",
       "      <td>0.0</td>\n",
       "      <td>0.0</td>\n",
       "      <td>0.0</td>\n",
       "    </tr>\n",
       "    <tr>\n",
       "      <th>3</th>\n",
       "      <td>4</td>\n",
       "      <td>89.063515</td>\n",
       "      <td>0.00000</td>\n",
       "      <td>0.0</td>\n",
       "      <td>0.0</td>\n",
       "      <td>0.0</td>\n",
       "      <td>0.0</td>\n",
       "      <td>0.0</td>\n",
       "      <td>0.0</td>\n",
       "    </tr>\n",
       "    <tr>\n",
       "      <th>4</th>\n",
       "      <td>5</td>\n",
       "      <td>89.238236</td>\n",
       "      <td>9.11456</td>\n",
       "      <td>0.0</td>\n",
       "      <td>0.0</td>\n",
       "      <td>0.0</td>\n",
       "      <td>0.0</td>\n",
       "      <td>0.0</td>\n",
       "      <td>0.0</td>\n",
       "    </tr>\n",
       "  </tbody>\n",
       "</table>\n",
       "</div>"
      ],
      "text/plain": [
       "   key     Wire 1   Wire 2  Wire 3  Wire 4  Wire 6  Wire 7  Wire 8  Wire 9\n",
       "0    1  60.059998  0.00000     0.0     0.0     0.0     0.0     0.0     0.0\n",
       "1    2  96.052315  0.00000     0.0     0.0     0.0     0.0     0.0     0.0\n",
       "2    3  91.160157  0.00000     0.0     0.0     0.0     0.0     0.0     0.0\n",
       "3    4  89.063515  0.00000     0.0     0.0     0.0     0.0     0.0     0.0\n",
       "4    5  89.238236  9.11456     0.0     0.0     0.0     0.0     0.0     0.0"
      ]
     },
     "execution_count": 62,
     "metadata": {},
     "output_type": "execute_result"
    }
   ],
   "source": [
    "# удалим единожды встречающийся материал и заполним пропуски согласно плану\n",
    "data_wire = data_wire.drop('Wire 5',axis=1).fillna(0)\n",
    "data_wire.head()"
   ]
  },
  {
   "cell_type": "markdown",
   "metadata": {},
   "source": [
    "### Данные о температуре"
   ]
  },
  {
   "cell_type": "code",
   "execution_count": 63,
   "metadata": {},
   "outputs": [
    {
     "name": "stdout",
     "output_type": "stream",
     "text": [
      "<class 'pandas.core.frame.DataFrame'>\n",
      "RangeIndex: 18092 entries, 0 to 18091\n",
      "Data columns (total 3 columns):\n",
      " #   Column        Non-Null Count  Dtype         \n",
      "---  ------        --------------  -----         \n",
      " 0   key           18092 non-null  int64         \n",
      " 1   Время замера  18092 non-null  datetime64[ns]\n",
      " 2   Температура   14665 non-null  float64       \n",
      "dtypes: datetime64[ns](1), float64(1), int64(1)\n",
      "memory usage: 424.2 KB\n"
     ]
    }
   ],
   "source": [
    "data_temp['Время замера'] = pd.to_datetime(data_temp['Время замера'])\n",
    "data_temp.info()"
   ]
  },
  {
   "cell_type": "code",
   "execution_count": 64,
   "metadata": {},
   "outputs": [
    {
     "data": {
      "text/plain": [
       "[867, 1214, 1619, 2052, 2561]"
      ]
     },
     "execution_count": 64,
     "metadata": {},
     "output_type": "execute_result"
    }
   ],
   "source": [
    "#найдем ключи с нереалисстичными значениями температур\n",
    "err_keys = data_temp[data_temp['Температура'] <= 1300]['key'].to_list()\n",
    "err_keys"
   ]
  },
  {
   "cell_type": "code",
   "execution_count": 65,
   "metadata": {},
   "outputs": [
    {
     "data": {
      "image/png": "[encoded data removed]",
      "text/plain": [
       "<Figure size 360x360 with 1 Axes>"
      ]
     },
     "metadata": {
      "needs_background": "light"
     },
     "output_type": "display_data"
    }
   ],
   "source": [
    "#удалим ключи с нереалисстичными значениями температур \n",
    "data_temp = data_temp[~data_temp['key'].isin(err_keys)]\n",
    "data_temp.boxplot(column=['Температура'], figsize = (5,5))\n",
    "plt.title('Ящик с усами преобразованного датафрейма')\n",
    "plt.ylabel(' $\\degree C$')\n",
    "plt.show()"
   ]
  },
  {
   "cell_type": "code",
   "execution_count": 66,
   "metadata": {},
   "outputs": [
    {
     "data": {
      "text/plain": [
       "3422"
      ]
     },
     "execution_count": 66,
     "metadata": {},
     "output_type": "execute_result"
    }
   ],
   "source": [
    "# найдем ключи с пропусками в значении температур\n",
    "err_keys = data_temp[data_temp['Температура'].isna()]['key'].to_list()\n",
    "len(err_keys)"
   ]
  },
  {
   "cell_type": "code",
   "execution_count": 67,
   "metadata": {},
   "outputs": [
    {
     "name": "stdout",
     "output_type": "stream",
     "text": [
      "<class 'pandas.core.frame.DataFrame'>\n",
      "Int64Index: 13905 entries, 0 to 13925\n",
      "Data columns (total 3 columns):\n",
      " #   Column        Non-Null Count  Dtype         \n",
      "---  ------        --------------  -----         \n",
      " 0   key           13905 non-null  int64         \n",
      " 1   Время замера  13905 non-null  datetime64[ns]\n",
      " 2   Температура   13905 non-null  float64       \n",
      "dtypes: datetime64[ns](1), float64(1), int64(1)\n",
      "memory usage: 434.5 KB\n"
     ]
    }
   ],
   "source": [
    "# удалим ключи с пропусками в значении температур\n",
    "data_temp = data_temp[~data_temp['key'].isin(err_keys)]\n",
    "data_temp.info()"
   ]
  },
  {
   "cell_type": "code",
   "execution_count": 68,
   "metadata": {},
   "outputs": [
    {
     "data": {
      "text/html": [
       "<div>\n",
       "<style scoped>\n",
       "    .dataframe tbody tr th:only-of-type {\n",
       "        vertical-align: middle;\n",
       "    }\n",
       "\n",
       "    .dataframe tbody tr th {\n",
       "        vertical-align: top;\n",
       "    }\n",
       "\n",
       "    .dataframe thead th {\n",
       "        text-align: right;\n",
       "    }\n",
       "</style>\n",
       "<table border=\"1\" class=\"dataframe\">\n",
       "  <thead>\n",
       "    <tr style=\"text-align: right;\">\n",
       "      <th></th>\n",
       "      <th>key</th>\n",
       "      <th>Время замера</th>\n",
       "      <th>Температура</th>\n",
       "    </tr>\n",
       "  </thead>\n",
       "  <tbody>\n",
       "    <tr>\n",
       "      <th>0</th>\n",
       "      <td>1</td>\n",
       "      <td>2019-05-03 11:02:04</td>\n",
       "      <td>1571.0</td>\n",
       "    </tr>\n",
       "    <tr>\n",
       "      <th>1</th>\n",
       "      <td>1</td>\n",
       "      <td>2019-05-03 11:07:18</td>\n",
       "      <td>1604.0</td>\n",
       "    </tr>\n",
       "    <tr>\n",
       "      <th>2</th>\n",
       "      <td>1</td>\n",
       "      <td>2019-05-03 11:11:34</td>\n",
       "      <td>1618.0</td>\n",
       "    </tr>\n",
       "    <tr>\n",
       "      <th>3</th>\n",
       "      <td>1</td>\n",
       "      <td>2019-05-03 11:18:04</td>\n",
       "      <td>1601.0</td>\n",
       "    </tr>\n",
       "    <tr>\n",
       "      <th>4</th>\n",
       "      <td>1</td>\n",
       "      <td>2019-05-03 11:25:59</td>\n",
       "      <td>1606.0</td>\n",
       "    </tr>\n",
       "    <tr>\n",
       "      <th>5</th>\n",
       "      <td>1</td>\n",
       "      <td>2019-05-03 11:30:38</td>\n",
       "      <td>1613.0</td>\n",
       "    </tr>\n",
       "    <tr>\n",
       "      <th>6</th>\n",
       "      <td>2</td>\n",
       "      <td>2019-05-03 11:34:04</td>\n",
       "      <td>1581.0</td>\n",
       "    </tr>\n",
       "  </tbody>\n",
       "</table>\n",
       "</div>"
      ],
      "text/plain": [
       "   key        Время замера  Температура\n",
       "0    1 2019-05-03 11:02:04       1571.0\n",
       "1    1 2019-05-03 11:07:18       1604.0\n",
       "2    1 2019-05-03 11:11:34       1618.0\n",
       "3    1 2019-05-03 11:18:04       1601.0\n",
       "4    1 2019-05-03 11:25:59       1606.0\n",
       "5    1 2019-05-03 11:30:38       1613.0\n",
       "6    2 2019-05-03 11:34:04       1581.0"
      ]
     },
     "execution_count": 68,
     "metadata": {},
     "output_type": "execute_result"
    }
   ],
   "source": [
    "data_temp.head(7)"
   ]
  },
  {
   "cell_type": "code",
   "execution_count": 72,
   "metadata": {},
   "outputs": [
    {
     "name": "stdout",
     "output_type": "stream",
     "text": [
      "<class 'pandas.core.frame.DataFrame'>\n",
      "Int64Index: 2473 entries, 1 to 2499\n",
      "Data columns (total 4 columns):\n",
      " #   Column                 Non-Null Count  Dtype         \n",
      "---  ------                 --------------  -----         \n",
      " 0   (Время замера, first)  2473 non-null   datetime64[ns]\n",
      " 1   (Время замера, last)   2473 non-null   datetime64[ns]\n",
      " 2   (Температура, first)   2473 non-null   float64       \n",
      " 3   (Температура, last)    2473 non-null   float64       \n",
      "dtypes: datetime64[ns](2), float64(2)\n",
      "memory usage: 96.6 KB\n"
     ]
    }
   ],
   "source": [
    "# нам нужно оставить первый и последний замеры температуры\n",
    "data_temp_agg = data_temp.groupby('key').agg([\"first\", \"last\"])\n",
    "data_temp_agg.info()"
   ]
  },
  {
   "cell_type": "code",
   "execution_count": 73,
   "metadata": {},
   "outputs": [],
   "source": [
    "data_temp_agg.columns = ['Время замера_x', 'Время замера_y','Температура_x','Температура_y']"
   ]
  },
  {
   "cell_type": "code",
   "execution_count": 76,
   "metadata": {},
   "outputs": [
    {
     "data": {
      "text/html": [
       "<div>\n",
       "<style scoped>\n",
       "    .dataframe tbody tr th:only-of-type {\n",
       "        vertical-align: middle;\n",
       "    }\n",
       "\n",
       "    .dataframe tbody tr th {\n",
       "        vertical-align: top;\n",
       "    }\n",
       "\n",
       "    .dataframe thead th {\n",
       "        text-align: right;\n",
       "    }\n",
       "</style>\n",
       "<table border=\"1\" class=\"dataframe\">\n",
       "  <thead>\n",
       "    <tr style=\"text-align: right;\">\n",
       "      <th></th>\n",
       "      <th>Время замера_x</th>\n",
       "      <th>Время замера_y</th>\n",
       "      <th>Температура_x</th>\n",
       "      <th>Температура_y</th>\n",
       "      <th>time</th>\n",
       "    </tr>\n",
       "    <tr>\n",
       "      <th>key</th>\n",
       "      <th></th>\n",
       "      <th></th>\n",
       "      <th></th>\n",
       "      <th></th>\n",
       "      <th></th>\n",
       "    </tr>\n",
       "  </thead>\n",
       "  <tbody>\n",
       "    <tr>\n",
       "      <th>1</th>\n",
       "      <td>2019-05-03 11:02:04</td>\n",
       "      <td>2019-05-03 11:30:38</td>\n",
       "      <td>1571.0</td>\n",
       "      <td>1613.0</td>\n",
       "      <td>1714.0</td>\n",
       "    </tr>\n",
       "    <tr>\n",
       "      <th>2</th>\n",
       "      <td>2019-05-03 11:34:04</td>\n",
       "      <td>2019-05-03 11:55:09</td>\n",
       "      <td>1581.0</td>\n",
       "      <td>1602.0</td>\n",
       "      <td>1265.0</td>\n",
       "    </tr>\n",
       "    <tr>\n",
       "      <th>3</th>\n",
       "      <td>2019-05-03 12:06:44</td>\n",
       "      <td>2019-05-03 12:35:57</td>\n",
       "      <td>1596.0</td>\n",
       "      <td>1599.0</td>\n",
       "      <td>1753.0</td>\n",
       "    </tr>\n",
       "    <tr>\n",
       "      <th>4</th>\n",
       "      <td>2019-05-03 12:39:27</td>\n",
       "      <td>2019-05-03 12:59:47</td>\n",
       "      <td>1601.0</td>\n",
       "      <td>1625.0</td>\n",
       "      <td>1220.0</td>\n",
       "    </tr>\n",
       "    <tr>\n",
       "      <th>5</th>\n",
       "      <td>2019-05-03 13:11:03</td>\n",
       "      <td>2019-05-03 13:36:39</td>\n",
       "      <td>1576.0</td>\n",
       "      <td>1602.0</td>\n",
       "      <td>1536.0</td>\n",
       "    </tr>\n",
       "  </tbody>\n",
       "</table>\n",
       "</div>"
      ],
      "text/plain": [
       "         Время замера_x      Время замера_y  Температура_x  Температура_y  \\\n",
       "key                                                                         \n",
       "1   2019-05-03 11:02:04 2019-05-03 11:30:38         1571.0         1613.0   \n",
       "2   2019-05-03 11:34:04 2019-05-03 11:55:09         1581.0         1602.0   \n",
       "3   2019-05-03 12:06:44 2019-05-03 12:35:57         1596.0         1599.0   \n",
       "4   2019-05-03 12:39:27 2019-05-03 12:59:47         1601.0         1625.0   \n",
       "5   2019-05-03 13:11:03 2019-05-03 13:36:39         1576.0         1602.0   \n",
       "\n",
       "       time  \n",
       "key          \n",
       "1    1714.0  \n",
       "2    1265.0  \n",
       "3    1753.0  \n",
       "4    1220.0  \n",
       "5    1536.0  "
      ]
     },
     "execution_count": 76,
     "metadata": {},
     "output_type": "execute_result"
    }
   ],
   "source": [
    "# добавим новый признак: время между замерами (возможно он будет коррелировать в временем нагрева электродов - проверим)\n",
    "data_temp_agg['time'] = (data_temp_agg['Время замера_y'] - data_temp_agg['Время замера_x'])/pd.Timedelta('1s')\n",
    "data_temp_agg.head()"
   ]
  },
  {
   "cell_type": "code",
   "execution_count": 77,
   "metadata": {},
   "outputs": [
    {
     "name": "stdout",
     "output_type": "stream",
     "text": [
      "<class 'pandas.core.frame.DataFrame'>\n",
      "Int64Index: 2471 entries, 1 to 2499\n",
      "Data columns (total 5 columns):\n",
      " #   Column          Non-Null Count  Dtype         \n",
      "---  ------          --------------  -----         \n",
      " 0   Время замера_x  2471 non-null   datetime64[ns]\n",
      " 1   Время замера_y  2471 non-null   datetime64[ns]\n",
      " 2   Температура_x   2471 non-null   float64       \n",
      " 3   Температура_y   2471 non-null   float64       \n",
      " 4   time            2471 non-null   float64       \n",
      "dtypes: datetime64[ns](2), float64(3)\n",
      "memory usage: 115.8 KB\n"
     ]
    }
   ],
   "source": [
    "# если время замера первой и последней температуры совпадают, то в исходных данных был лтолько один замер\n",
    "# удалим такие ключи\n",
    "data_temp_agg = data_temp_agg[data_temp_agg['time'] != 0]\n",
    "data_temp_agg.info()"
   ]
  },
  {
   "cell_type": "code",
   "execution_count": 78,
   "metadata": {},
   "outputs": [
    {
     "data": {
      "text/html": [
       "<div>\n",
       "<style scoped>\n",
       "    .dataframe tbody tr th:only-of-type {\n",
       "        vertical-align: middle;\n",
       "    }\n",
       "\n",
       "    .dataframe tbody tr th {\n",
       "        vertical-align: top;\n",
       "    }\n",
       "\n",
       "    .dataframe thead th {\n",
       "        text-align: right;\n",
       "    }\n",
       "</style>\n",
       "<table border=\"1\" class=\"dataframe\">\n",
       "  <thead>\n",
       "    <tr style=\"text-align: right;\">\n",
       "      <th></th>\n",
       "      <th>Температура_x</th>\n",
       "      <th>Температура_y</th>\n",
       "      <th>time</th>\n",
       "    </tr>\n",
       "    <tr>\n",
       "      <th>key</th>\n",
       "      <th></th>\n",
       "      <th></th>\n",
       "      <th></th>\n",
       "    </tr>\n",
       "  </thead>\n",
       "  <tbody>\n",
       "    <tr>\n",
       "      <th>1</th>\n",
       "      <td>1571.0</td>\n",
       "      <td>1613.0</td>\n",
       "      <td>1714.0</td>\n",
       "    </tr>\n",
       "    <tr>\n",
       "      <th>2</th>\n",
       "      <td>1581.0</td>\n",
       "      <td>1602.0</td>\n",
       "      <td>1265.0</td>\n",
       "    </tr>\n",
       "    <tr>\n",
       "      <th>3</th>\n",
       "      <td>1596.0</td>\n",
       "      <td>1599.0</td>\n",
       "      <td>1753.0</td>\n",
       "    </tr>\n",
       "    <tr>\n",
       "      <th>4</th>\n",
       "      <td>1601.0</td>\n",
       "      <td>1625.0</td>\n",
       "      <td>1220.0</td>\n",
       "    </tr>\n",
       "    <tr>\n",
       "      <th>5</th>\n",
       "      <td>1576.0</td>\n",
       "      <td>1602.0</td>\n",
       "      <td>1536.0</td>\n",
       "    </tr>\n",
       "  </tbody>\n",
       "</table>\n",
       "</div>"
      ],
      "text/plain": [
       "     Температура_x  Температура_y    time\n",
       "key                                      \n",
       "1           1571.0         1613.0  1714.0\n",
       "2           1581.0         1602.0  1265.0\n",
       "3           1596.0         1599.0  1753.0\n",
       "4           1601.0         1625.0  1220.0\n",
       "5           1576.0         1602.0  1536.0"
      ]
     },
     "execution_count": 78,
     "metadata": {},
     "output_type": "execute_result"
    }
   ],
   "source": [
    "# удалим столцы с точным временем, оставим только интересующие нас признаки\n",
    "data_temp_agg = data_temp_agg.drop(['Время замера_x', 'Время замера_y'], axis=1)\n",
    "data_temp_agg.head()"
   ]
  },
  {
   "cell_type": "markdown",
   "metadata": {},
   "source": [
    "## Объединение таблиц и исследование объединенной таблицы"
   ]
  },
  {
   "cell_type": "code",
   "execution_count": 79,
   "metadata": {},
   "outputs": [
    {
     "name": "stdout",
     "output_type": "stream",
     "text": [
      "\u001b[1mИзучим исходные данные\u001b[0m\n",
      "<class 'pandas.core.frame.DataFrame'>\n",
      "Int64Index: 2324 entries, 0 to 2323\n",
      "Data columns (total 30 columns):\n",
      " #   Column         Non-Null Count  Dtype  \n",
      "---  ------         --------------  -----  \n",
      " 0   key            2324 non-null   int64  \n",
      " 1   energy         2324 non-null   float64\n",
      " 2   dutarion       2324 non-null   float64\n",
      " 3   avg_power      2324 non-null   float64\n",
      " 4   Bulk 1         2324 non-null   float64\n",
      " 5   Bulk 2         2324 non-null   float64\n",
      " 6   Bulk 3         2324 non-null   float64\n",
      " 7   Bulk 4         2324 non-null   float64\n",
      " 8   Bulk 5         2324 non-null   float64\n",
      " 9   Bulk 6         2324 non-null   float64\n",
      " 10  Bulk 7         2324 non-null   float64\n",
      " 11  Bulk 9         2324 non-null   float64\n",
      " 12  Bulk 10        2324 non-null   float64\n",
      " 13  Bulk 11        2324 non-null   float64\n",
      " 14  Bulk 12        2324 non-null   float64\n",
      " 15  Bulk 13        2324 non-null   float64\n",
      " 16  Bulk 14        2324 non-null   float64\n",
      " 17  Bulk 15        2324 non-null   float64\n",
      " 18  Wire 1         2324 non-null   float64\n",
      " 19  Wire 2         2324 non-null   float64\n",
      " 20  Wire 3         2324 non-null   float64\n",
      " 21  Wire 4         2324 non-null   float64\n",
      " 22  Wire 6         2324 non-null   float64\n",
      " 23  Wire 7         2324 non-null   float64\n",
      " 24  Wire 8         2324 non-null   float64\n",
      " 25  Wire 9         2324 non-null   float64\n",
      " 26  Газ 1          2324 non-null   float64\n",
      " 27  Температура_x  2324 non-null   float64\n",
      " 28  Температура_y  2324 non-null   float64\n",
      " 29  time           2324 non-null   float64\n",
      "dtypes: float64(29), int64(1)\n",
      "memory usage: 562.8 KB\n",
      "None\n",
      "\u001b[1m\n",
      "Проверка пропусков\u001b[0m\n",
      "Количество пропусков: 0\n",
      "Доля пропусков: 0.0%\u001b[0m\n",
      "Доля строк содержащих пропуски: 0.0%\n",
      "\u001b[1m\n",
      "Проверка на дубликаты\u001b[0m\n",
      "Количество полных дубликатов:  0\n",
      "\u001b[1m\n",
      "Первые пять строк датасета\u001b[0m\n"
     ]
    },
    {
     "data": {
      "text/html": [
       "<div>\n",
       "<style scoped>\n",
       "    .dataframe tbody tr th:only-of-type {\n",
       "        vertical-align: middle;\n",
       "    }\n",
       "\n",
       "    .dataframe tbody tr th {\n",
       "        vertical-align: top;\n",
       "    }\n",
       "\n",
       "    .dataframe thead th {\n",
       "        text-align: right;\n",
       "    }\n",
       "</style>\n",
       "<table border=\"1\" class=\"dataframe\">\n",
       "  <thead>\n",
       "    <tr style=\"text-align: right;\">\n",
       "      <th></th>\n",
       "      <th>key</th>\n",
       "      <th>energy</th>\n",
       "      <th>dutarion</th>\n",
       "      <th>avg_power</th>\n",
       "      <th>Bulk 1</th>\n",
       "      <th>Bulk 2</th>\n",
       "      <th>Bulk 3</th>\n",
       "      <th>Bulk 4</th>\n",
       "      <th>Bulk 5</th>\n",
       "      <th>Bulk 6</th>\n",
       "      <th>...</th>\n",
       "      <th>Wire 3</th>\n",
       "      <th>Wire 4</th>\n",
       "      <th>Wire 6</th>\n",
       "      <th>Wire 7</th>\n",
       "      <th>Wire 8</th>\n",
       "      <th>Wire 9</th>\n",
       "      <th>Газ 1</th>\n",
       "      <th>Температура_x</th>\n",
       "      <th>Температура_y</th>\n",
       "      <th>time</th>\n",
       "    </tr>\n",
       "  </thead>\n",
       "  <tbody>\n",
       "    <tr>\n",
       "      <th>0</th>\n",
       "      <td>1</td>\n",
       "      <td>770.282114</td>\n",
       "      <td>1098.0</td>\n",
       "      <td>0.701532</td>\n",
       "      <td>0.0</td>\n",
       "      <td>0.0</td>\n",
       "      <td>0.0</td>\n",
       "      <td>43.0</td>\n",
       "      <td>0.0</td>\n",
       "      <td>0.0</td>\n",
       "      <td>...</td>\n",
       "      <td>0.0</td>\n",
       "      <td>0.0</td>\n",
       "      <td>0.0</td>\n",
       "      <td>0.0</td>\n",
       "      <td>0.0</td>\n",
       "      <td>0.0</td>\n",
       "      <td>29.749986</td>\n",
       "      <td>1571.0</td>\n",
       "      <td>1613.0</td>\n",
       "      <td>1714.0</td>\n",
       "    </tr>\n",
       "    <tr>\n",
       "      <th>1</th>\n",
       "      <td>2</td>\n",
       "      <td>481.760005</td>\n",
       "      <td>811.0</td>\n",
       "      <td>0.594032</td>\n",
       "      <td>0.0</td>\n",
       "      <td>0.0</td>\n",
       "      <td>0.0</td>\n",
       "      <td>73.0</td>\n",
       "      <td>0.0</td>\n",
       "      <td>0.0</td>\n",
       "      <td>...</td>\n",
       "      <td>0.0</td>\n",
       "      <td>0.0</td>\n",
       "      <td>0.0</td>\n",
       "      <td>0.0</td>\n",
       "      <td>0.0</td>\n",
       "      <td>0.0</td>\n",
       "      <td>12.555561</td>\n",
       "      <td>1581.0</td>\n",
       "      <td>1602.0</td>\n",
       "      <td>1265.0</td>\n",
       "    </tr>\n",
       "    <tr>\n",
       "      <th>2</th>\n",
       "      <td>3</td>\n",
       "      <td>722.837668</td>\n",
       "      <td>655.0</td>\n",
       "      <td>1.103569</td>\n",
       "      <td>0.0</td>\n",
       "      <td>0.0</td>\n",
       "      <td>0.0</td>\n",
       "      <td>34.0</td>\n",
       "      <td>0.0</td>\n",
       "      <td>0.0</td>\n",
       "      <td>...</td>\n",
       "      <td>0.0</td>\n",
       "      <td>0.0</td>\n",
       "      <td>0.0</td>\n",
       "      <td>0.0</td>\n",
       "      <td>0.0</td>\n",
       "      <td>0.0</td>\n",
       "      <td>28.554793</td>\n",
       "      <td>1596.0</td>\n",
       "      <td>1599.0</td>\n",
       "      <td>1753.0</td>\n",
       "    </tr>\n",
       "    <tr>\n",
       "      <th>3</th>\n",
       "      <td>4</td>\n",
       "      <td>683.455597</td>\n",
       "      <td>741.0</td>\n",
       "      <td>0.922342</td>\n",
       "      <td>0.0</td>\n",
       "      <td>0.0</td>\n",
       "      <td>0.0</td>\n",
       "      <td>81.0</td>\n",
       "      <td>0.0</td>\n",
       "      <td>0.0</td>\n",
       "      <td>...</td>\n",
       "      <td>0.0</td>\n",
       "      <td>0.0</td>\n",
       "      <td>0.0</td>\n",
       "      <td>0.0</td>\n",
       "      <td>0.0</td>\n",
       "      <td>0.0</td>\n",
       "      <td>18.841219</td>\n",
       "      <td>1601.0</td>\n",
       "      <td>1625.0</td>\n",
       "      <td>1220.0</td>\n",
       "    </tr>\n",
       "    <tr>\n",
       "      <th>4</th>\n",
       "      <td>5</td>\n",
       "      <td>512.169934</td>\n",
       "      <td>869.0</td>\n",
       "      <td>0.589379</td>\n",
       "      <td>0.0</td>\n",
       "      <td>0.0</td>\n",
       "      <td>0.0</td>\n",
       "      <td>78.0</td>\n",
       "      <td>0.0</td>\n",
       "      <td>0.0</td>\n",
       "      <td>...</td>\n",
       "      <td>0.0</td>\n",
       "      <td>0.0</td>\n",
       "      <td>0.0</td>\n",
       "      <td>0.0</td>\n",
       "      <td>0.0</td>\n",
       "      <td>0.0</td>\n",
       "      <td>5.413692</td>\n",
       "      <td>1576.0</td>\n",
       "      <td>1602.0</td>\n",
       "      <td>1536.0</td>\n",
       "    </tr>\n",
       "  </tbody>\n",
       "</table>\n",
       "<p>5 rows × 30 columns</p>\n",
       "</div>"
      ],
      "text/plain": [
       "   key      energy  dutarion  avg_power  Bulk 1  Bulk 2  Bulk 3  Bulk 4  \\\n",
       "0    1  770.282114    1098.0   0.701532     0.0     0.0     0.0    43.0   \n",
       "1    2  481.760005     811.0   0.594032     0.0     0.0     0.0    73.0   \n",
       "2    3  722.837668     655.0   1.103569     0.0     0.0     0.0    34.0   \n",
       "3    4  683.455597     741.0   0.922342     0.0     0.0     0.0    81.0   \n",
       "4    5  512.169934     869.0   0.589379     0.0     0.0     0.0    78.0   \n",
       "\n",
       "   Bulk 5  Bulk 6  ...  Wire 3  Wire 4  Wire 6  Wire 7  Wire 8  Wire 9  \\\n",
       "0     0.0     0.0  ...     0.0     0.0     0.0     0.0     0.0     0.0   \n",
       "1     0.0     0.0  ...     0.0     0.0     0.0     0.0     0.0     0.0   \n",
       "2     0.0     0.0  ...     0.0     0.0     0.0     0.0     0.0     0.0   \n",
       "3     0.0     0.0  ...     0.0     0.0     0.0     0.0     0.0     0.0   \n",
       "4     0.0     0.0  ...     0.0     0.0     0.0     0.0     0.0     0.0   \n",
       "\n",
       "       Газ 1  Температура_x  Температура_y    time  \n",
       "0  29.749986         1571.0         1613.0  1714.0  \n",
       "1  12.555561         1581.0         1602.0  1265.0  \n",
       "2  28.554793         1596.0         1599.0  1753.0  \n",
       "3  18.841219         1601.0         1625.0  1220.0  \n",
       "4   5.413692         1576.0         1602.0  1536.0  \n",
       "\n",
       "[5 rows x 30 columns]"
      ]
     },
     "metadata": {},
     "output_type": "display_data"
    },
    {
     "name": "stdout",
     "output_type": "stream",
     "text": [
      "\u001b[1m\n",
      "Описание количественных данных:\u001b[0m\n"
     ]
    },
    {
     "data": {
      "text/html": [
       "<div>\n",
       "<style scoped>\n",
       "    .dataframe tbody tr th:only-of-type {\n",
       "        vertical-align: middle;\n",
       "    }\n",
       "\n",
       "    .dataframe tbody tr th {\n",
       "        vertical-align: top;\n",
       "    }\n",
       "\n",
       "    .dataframe thead th {\n",
       "        text-align: right;\n",
       "    }\n",
       "</style>\n",
       "<table border=\"1\" class=\"dataframe\">\n",
       "  <thead>\n",
       "    <tr style=\"text-align: right;\">\n",
       "      <th></th>\n",
       "      <th>count</th>\n",
       "      <th>mean</th>\n",
       "      <th>std</th>\n",
       "      <th>min</th>\n",
       "      <th>25%</th>\n",
       "      <th>50%</th>\n",
       "      <th>75%</th>\n",
       "      <th>max</th>\n",
       "    </tr>\n",
       "  </thead>\n",
       "  <tbody>\n",
       "    <tr>\n",
       "      <th>key</th>\n",
       "      <td>2324.0</td>\n",
       "      <td>1251.140275</td>\n",
       "      <td>715.027927</td>\n",
       "      <td>1.000000</td>\n",
       "      <td>628.750000</td>\n",
       "      <td>1254.500000</td>\n",
       "      <td>1867.250000</td>\n",
       "      <td>2499.000000</td>\n",
       "    </tr>\n",
       "    <tr>\n",
       "      <th>energy</th>\n",
       "      <td>2324.0</td>\n",
       "      <td>670.232396</td>\n",
       "      <td>319.526707</td>\n",
       "      <td>33.430208</td>\n",
       "      <td>457.924990</td>\n",
       "      <td>631.228863</td>\n",
       "      <td>841.824214</td>\n",
       "      <td>4546.405812</td>\n",
       "    </tr>\n",
       "    <tr>\n",
       "      <th>dutarion</th>\n",
       "      <td>2324.0</td>\n",
       "      <td>808.196644</td>\n",
       "      <td>340.813828</td>\n",
       "      <td>57.000000</td>\n",
       "      <td>581.000000</td>\n",
       "      <td>778.000000</td>\n",
       "      <td>993.000000</td>\n",
       "      <td>4189.000000</td>\n",
       "    </tr>\n",
       "    <tr>\n",
       "      <th>avg_power</th>\n",
       "      <td>2324.0</td>\n",
       "      <td>0.826557</td>\n",
       "      <td>0.174406</td>\n",
       "      <td>0.331897</td>\n",
       "      <td>0.697521</td>\n",
       "      <td>0.811669</td>\n",
       "      <td>0.935241</td>\n",
       "      <td>1.567715</td>\n",
       "    </tr>\n",
       "    <tr>\n",
       "      <th>Bulk 1</th>\n",
       "      <td>2324.0</td>\n",
       "      <td>3.435026</td>\n",
       "      <td>12.424463</td>\n",
       "      <td>0.000000</td>\n",
       "      <td>0.000000</td>\n",
       "      <td>0.000000</td>\n",
       "      <td>0.000000</td>\n",
       "      <td>185.000000</td>\n",
       "    </tr>\n",
       "    <tr>\n",
       "      <th>Bulk 2</th>\n",
       "      <td>2324.0</td>\n",
       "      <td>1.425559</td>\n",
       "      <td>19.102530</td>\n",
       "      <td>0.000000</td>\n",
       "      <td>0.000000</td>\n",
       "      <td>0.000000</td>\n",
       "      <td>0.000000</td>\n",
       "      <td>325.000000</td>\n",
       "    </tr>\n",
       "    <tr>\n",
       "      <th>Bulk 3</th>\n",
       "      <td>2324.0</td>\n",
       "      <td>47.317126</td>\n",
       "      <td>75.238050</td>\n",
       "      <td>0.000000</td>\n",
       "      <td>0.000000</td>\n",
       "      <td>0.000000</td>\n",
       "      <td>80.000000</td>\n",
       "      <td>454.000000</td>\n",
       "    </tr>\n",
       "    <tr>\n",
       "      <th>Bulk 4</th>\n",
       "      <td>2324.0</td>\n",
       "      <td>37.347676</td>\n",
       "      <td>58.677890</td>\n",
       "      <td>0.000000</td>\n",
       "      <td>0.000000</td>\n",
       "      <td>0.000000</td>\n",
       "      <td>77.250000</td>\n",
       "      <td>281.000000</td>\n",
       "    </tr>\n",
       "    <tr>\n",
       "      <th>Bulk 5</th>\n",
       "      <td>2324.0</td>\n",
       "      <td>2.645869</td>\n",
       "      <td>22.426054</td>\n",
       "      <td>0.000000</td>\n",
       "      <td>0.000000</td>\n",
       "      <td>0.000000</td>\n",
       "      <td>0.000000</td>\n",
       "      <td>603.000000</td>\n",
       "    </tr>\n",
       "    <tr>\n",
       "      <th>Bulk 6</th>\n",
       "      <td>2324.0</td>\n",
       "      <td>22.419535</td>\n",
       "      <td>55.792509</td>\n",
       "      <td>0.000000</td>\n",
       "      <td>0.000000</td>\n",
       "      <td>0.000000</td>\n",
       "      <td>0.000000</td>\n",
       "      <td>503.000000</td>\n",
       "    </tr>\n",
       "    <tr>\n",
       "      <th>Bulk 7</th>\n",
       "      <td>2324.0</td>\n",
       "      <td>2.009036</td>\n",
       "      <td>30.709089</td>\n",
       "      <td>0.000000</td>\n",
       "      <td>0.000000</td>\n",
       "      <td>0.000000</td>\n",
       "      <td>0.000000</td>\n",
       "      <td>772.000000</td>\n",
       "    </tr>\n",
       "    <tr>\n",
       "      <th>Bulk 9</th>\n",
       "      <td>2324.0</td>\n",
       "      <td>0.445783</td>\n",
       "      <td>6.227298</td>\n",
       "      <td>0.000000</td>\n",
       "      <td>0.000000</td>\n",
       "      <td>0.000000</td>\n",
       "      <td>0.000000</td>\n",
       "      <td>147.000000</td>\n",
       "    </tr>\n",
       "    <tr>\n",
       "      <th>Bulk 10</th>\n",
       "      <td>2324.0</td>\n",
       "      <td>5.063683</td>\n",
       "      <td>20.938984</td>\n",
       "      <td>0.000000</td>\n",
       "      <td>0.000000</td>\n",
       "      <td>0.000000</td>\n",
       "      <td>0.000000</td>\n",
       "      <td>159.000000</td>\n",
       "    </tr>\n",
       "    <tr>\n",
       "      <th>Bulk 11</th>\n",
       "      <td>2324.0</td>\n",
       "      <td>4.254303</td>\n",
       "      <td>22.538843</td>\n",
       "      <td>0.000000</td>\n",
       "      <td>0.000000</td>\n",
       "      <td>0.000000</td>\n",
       "      <td>0.000000</td>\n",
       "      <td>313.000000</td>\n",
       "    </tr>\n",
       "    <tr>\n",
       "      <th>Bulk 12</th>\n",
       "      <td>2324.0</td>\n",
       "      <td>208.597676</td>\n",
       "      <td>157.112117</td>\n",
       "      <td>0.000000</td>\n",
       "      <td>105.000000</td>\n",
       "      <td>206.000000</td>\n",
       "      <td>283.000000</td>\n",
       "      <td>1849.000000</td>\n",
       "    </tr>\n",
       "    <tr>\n",
       "      <th>Bulk 13</th>\n",
       "      <td>2324.0</td>\n",
       "      <td>1.069707</td>\n",
       "      <td>14.250280</td>\n",
       "      <td>0.000000</td>\n",
       "      <td>0.000000</td>\n",
       "      <td>0.000000</td>\n",
       "      <td>0.000000</td>\n",
       "      <td>305.000000</td>\n",
       "    </tr>\n",
       "    <tr>\n",
       "      <th>Bulk 14</th>\n",
       "      <td>2324.0</td>\n",
       "      <td>153.952668</td>\n",
       "      <td>81.410544</td>\n",
       "      <td>0.000000</td>\n",
       "      <td>105.000000</td>\n",
       "      <td>149.000000</td>\n",
       "      <td>204.000000</td>\n",
       "      <td>636.000000</td>\n",
       "    </tr>\n",
       "    <tr>\n",
       "      <th>Bulk 15</th>\n",
       "      <td>2324.0</td>\n",
       "      <td>120.078313</td>\n",
       "      <td>84.655967</td>\n",
       "      <td>0.000000</td>\n",
       "      <td>0.000000</td>\n",
       "      <td>107.000000</td>\n",
       "      <td>204.000000</td>\n",
       "      <td>405.000000</td>\n",
       "    </tr>\n",
       "    <tr>\n",
       "      <th>Wire 1</th>\n",
       "      <td>2324.0</td>\n",
       "      <td>102.423900</td>\n",
       "      <td>43.540975</td>\n",
       "      <td>0.000000</td>\n",
       "      <td>73.204559</td>\n",
       "      <td>101.103600</td>\n",
       "      <td>128.075222</td>\n",
       "      <td>330.314424</td>\n",
       "    </tr>\n",
       "    <tr>\n",
       "      <th>Wire 2</th>\n",
       "      <td>2324.0</td>\n",
       "      <td>17.613213</td>\n",
       "      <td>33.648176</td>\n",
       "      <td>0.000000</td>\n",
       "      <td>0.000000</td>\n",
       "      <td>0.000000</td>\n",
       "      <td>23.102560</td>\n",
       "      <td>282.780152</td>\n",
       "    </tr>\n",
       "    <tr>\n",
       "      <th>Wire 3</th>\n",
       "      <td>2324.0</td>\n",
       "      <td>3.241876</td>\n",
       "      <td>27.972523</td>\n",
       "      <td>0.000000</td>\n",
       "      <td>0.000000</td>\n",
       "      <td>0.000000</td>\n",
       "      <td>0.000000</td>\n",
       "      <td>385.008668</td>\n",
       "    </tr>\n",
       "    <tr>\n",
       "      <th>Wire 4</th>\n",
       "      <td>2324.0</td>\n",
       "      <td>0.307209</td>\n",
       "      <td>4.762842</td>\n",
       "      <td>0.000000</td>\n",
       "      <td>0.000000</td>\n",
       "      <td>0.000000</td>\n",
       "      <td>0.000000</td>\n",
       "      <td>113.231044</td>\n",
       "    </tr>\n",
       "    <tr>\n",
       "      <th>Wire 6</th>\n",
       "      <td>2324.0</td>\n",
       "      <td>0.980926</td>\n",
       "      <td>8.702531</td>\n",
       "      <td>0.000000</td>\n",
       "      <td>0.000000</td>\n",
       "      <td>0.000000</td>\n",
       "      <td>0.000000</td>\n",
       "      <td>180.454575</td>\n",
       "    </tr>\n",
       "    <tr>\n",
       "      <th>Wire 7</th>\n",
       "      <td>2324.0</td>\n",
       "      <td>0.006374</td>\n",
       "      <td>0.205926</td>\n",
       "      <td>0.000000</td>\n",
       "      <td>0.000000</td>\n",
       "      <td>0.000000</td>\n",
       "      <td>0.000000</td>\n",
       "      <td>8.490040</td>\n",
       "    </tr>\n",
       "    <tr>\n",
       "      <th>Wire 8</th>\n",
       "      <td>2324.0</td>\n",
       "      <td>0.311981</td>\n",
       "      <td>4.407419</td>\n",
       "      <td>0.000000</td>\n",
       "      <td>0.000000</td>\n",
       "      <td>0.000000</td>\n",
       "      <td>0.000000</td>\n",
       "      <td>102.762401</td>\n",
       "    </tr>\n",
       "    <tr>\n",
       "      <th>Wire 9</th>\n",
       "      <td>2324.0</td>\n",
       "      <td>0.317795</td>\n",
       "      <td>3.460248</td>\n",
       "      <td>0.000000</td>\n",
       "      <td>0.000000</td>\n",
       "      <td>0.000000</td>\n",
       "      <td>0.000000</td>\n",
       "      <td>62.025600</td>\n",
       "    </tr>\n",
       "    <tr>\n",
       "      <th>Газ 1</th>\n",
       "      <td>2324.0</td>\n",
       "      <td>11.378854</td>\n",
       "      <td>6.397008</td>\n",
       "      <td>0.008399</td>\n",
       "      <td>7.282534</td>\n",
       "      <td>10.100687</td>\n",
       "      <td>14.218487</td>\n",
       "      <td>77.995040</td>\n",
       "    </tr>\n",
       "    <tr>\n",
       "      <th>Температура_x</th>\n",
       "      <td>2324.0</td>\n",
       "      <td>1587.368761</td>\n",
       "      <td>23.627590</td>\n",
       "      <td>1519.000000</td>\n",
       "      <td>1571.000000</td>\n",
       "      <td>1587.000000</td>\n",
       "      <td>1603.000000</td>\n",
       "      <td>1660.000000</td>\n",
       "    </tr>\n",
       "    <tr>\n",
       "      <th>Температура_y</th>\n",
       "      <td>2324.0</td>\n",
       "      <td>1593.372633</td>\n",
       "      <td>11.207457</td>\n",
       "      <td>1541.000000</td>\n",
       "      <td>1587.000000</td>\n",
       "      <td>1593.000000</td>\n",
       "      <td>1598.000000</td>\n",
       "      <td>1653.000000</td>\n",
       "    </tr>\n",
       "    <tr>\n",
       "      <th>time</th>\n",
       "      <td>2324.0</td>\n",
       "      <td>2323.682014</td>\n",
       "      <td>1385.809791</td>\n",
       "      <td>339.000000</td>\n",
       "      <td>1580.500000</td>\n",
       "      <td>2046.500000</td>\n",
       "      <td>2793.500000</td>\n",
       "      <td>23674.000000</td>\n",
       "    </tr>\n",
       "  </tbody>\n",
       "</table>\n",
       "</div>"
      ],
      "text/plain": [
       "                count         mean          std          min          25%  \\\n",
       "key            2324.0  1251.140275   715.027927     1.000000   628.750000   \n",
       "energy         2324.0   670.232396   319.526707    33.430208   457.924990   \n",
       "dutarion       2324.0   808.196644   340.813828    57.000000   581.000000   \n",
       "avg_power      2324.0     0.826557     0.174406     0.331897     0.697521   \n",
       "Bulk 1         2324.0     3.435026    12.424463     0.000000     0.000000   \n",
       "Bulk 2         2324.0     1.425559    19.102530     0.000000     0.000000   \n",
       "Bulk 3         2324.0    47.317126    75.238050     0.000000     0.000000   \n",
       "Bulk 4         2324.0    37.347676    58.677890     0.000000     0.000000   \n",
       "Bulk 5         2324.0     2.645869    22.426054     0.000000     0.000000   \n",
       "Bulk 6         2324.0    22.419535    55.792509     0.000000     0.000000   \n",
       "Bulk 7         2324.0     2.009036    30.709089     0.000000     0.000000   \n",
       "Bulk 9         2324.0     0.445783     6.227298     0.000000     0.000000   \n",
       "Bulk 10        2324.0     5.063683    20.938984     0.000000     0.000000   \n",
       "Bulk 11        2324.0     4.254303    22.538843     0.000000     0.000000   \n",
       "Bulk 12        2324.0   208.597676   157.112117     0.000000   105.000000   \n",
       "Bulk 13        2324.0     1.069707    14.250280     0.000000     0.000000   \n",
       "Bulk 14        2324.0   153.952668    81.410544     0.000000   105.000000   \n",
       "Bulk 15        2324.0   120.078313    84.655967     0.000000     0.000000   \n",
       "Wire 1         2324.0   102.423900    43.540975     0.000000    73.204559   \n",
       "Wire 2         2324.0    17.613213    33.648176     0.000000     0.000000   \n",
       "Wire 3         2324.0     3.241876    27.972523     0.000000     0.000000   \n",
       "Wire 4         2324.0     0.307209     4.762842     0.000000     0.000000   \n",
       "Wire 6         2324.0     0.980926     8.702531     0.000000     0.000000   \n",
       "Wire 7         2324.0     0.006374     0.205926     0.000000     0.000000   \n",
       "Wire 8         2324.0     0.311981     4.407419     0.000000     0.000000   \n",
       "Wire 9         2324.0     0.317795     3.460248     0.000000     0.000000   \n",
       "Газ 1          2324.0    11.378854     6.397008     0.008399     7.282534   \n",
       "Температура_x  2324.0  1587.368761    23.627590  1519.000000  1571.000000   \n",
       "Температура_y  2324.0  1593.372633    11.207457  1541.000000  1587.000000   \n",
       "time           2324.0  2323.682014  1385.809791   339.000000  1580.500000   \n",
       "\n",
       "                       50%          75%           max  \n",
       "key            1254.500000  1867.250000   2499.000000  \n",
       "energy          631.228863   841.824214   4546.405812  \n",
       "dutarion        778.000000   993.000000   4189.000000  \n",
       "avg_power         0.811669     0.935241      1.567715  \n",
       "Bulk 1            0.000000     0.000000    185.000000  \n",
       "Bulk 2            0.000000     0.000000    325.000000  \n",
       "Bulk 3            0.000000    80.000000    454.000000  \n",
       "Bulk 4            0.000000    77.250000    281.000000  \n",
       "Bulk 5            0.000000     0.000000    603.000000  \n",
       "Bulk 6            0.000000     0.000000    503.000000  \n",
       "Bulk 7            0.000000     0.000000    772.000000  \n",
       "Bulk 9            0.000000     0.000000    147.000000  \n",
       "Bulk 10           0.000000     0.000000    159.000000  \n",
       "Bulk 11           0.000000     0.000000    313.000000  \n",
       "Bulk 12         206.000000   283.000000   1849.000000  \n",
       "Bulk 13           0.000000     0.000000    305.000000  \n",
       "Bulk 14         149.000000   204.000000    636.000000  \n",
       "Bulk 15         107.000000   204.000000    405.000000  \n",
       "Wire 1          101.103600   128.075222    330.314424  \n",
       "Wire 2            0.000000    23.102560    282.780152  \n",
       "Wire 3            0.000000     0.000000    385.008668  \n",
       "Wire 4            0.000000     0.000000    113.231044  \n",
       "Wire 6            0.000000     0.000000    180.454575  \n",
       "Wire 7            0.000000     0.000000      8.490040  \n",
       "Wire 8            0.000000     0.000000    102.762401  \n",
       "Wire 9            0.000000     0.000000     62.025600  \n",
       "Газ 1            10.100687    14.218487     77.995040  \n",
       "Температура_x  1587.000000  1603.000000   1660.000000  \n",
       "Температура_y  1593.000000  1598.000000   1653.000000  \n",
       "time           2046.500000  2793.500000  23674.000000  "
      ]
     },
     "metadata": {},
     "output_type": "display_data"
    }
   ],
   "source": [
    "# объединяем таблицы по ключу\n",
    "data = data_arc_agg.merge(data_bulk, on='key', how='inner')\n",
    "data = data.merge(data_wire, on='key', how='inner')\n",
    "data = data.merge(data_gas, on='key', how='inner')\n",
    "data = data.merge(data_temp_agg, on='key', how='inner')\n",
    "\n",
    "# выводим информацию о таблицу\n",
    "check_data(data)"
   ]
  },
  {
   "cell_type": "markdown",
   "metadata": {},
   "source": [
    "Как ожидалось, пропусков и дцбликатов в данных нет. Графики для исходных признаков представлены выше на первом этапе работы. Изучим сгенерированные признаки ('duration' у меня 'dutarion' - как в начале опечатался и не замеетил так и тянется)"
   ]
  },
  {
   "cell_type": "code",
   "execution_count": 80,
   "metadata": {},
   "outputs": [
    {
     "data": {
      "image/png": "[encoded data removed]",
      "text/plain": [
       "<Figure size 1440x360 with 6 Axes>"
      ]
     },
     "metadata": {
      "needs_background": "light"
     },
     "output_type": "display_data"
    }
   ],
   "source": [
    "# Не меняя сам датафрейм отобразим данные без выброса\n",
    "fig,axs = plt.subplots(2,3,figsize=(20,5))\n",
    "data[['energy','dutarion','avg_power', 'time','Температура_x','Температура_y']].hist(bins=100, ax=axs)\n",
    "for ax in axs.flat:\n",
    "    ax.set(ylabel='Количество')\n",
    "plt.suptitle('Гистограммы сгенерированных признаков')\n",
    "plt.show()"
   ]
  },
  {
   "cell_type": "markdown",
   "metadata": {},
   "source": [
    "Гистограммы выглядят ожидаемо. Есть температуры, которые встречаются чаще других (такие \"столбики\" на графике начальной температуры), что связано скорее всего в тех процессом"
   ]
  },
  {
   "cell_type": "code",
   "execution_count": 45,
   "metadata": {},
   "outputs": [
    {
     "data": {
      "image/png": "[encoded data removed]",
      "text/plain": [
       "<Figure size 1440x1440 with 1 Axes>"
      ]
     },
     "metadata": {
      "needs_background": "light"
     },
     "output_type": "display_data"
    }
   ],
   "source": [
    "fig, ax = plt.subplots(figsize=(20,20))\n",
    "sns.heatmap(data.corr(), ax=ax, annot = True, fmt='.0%',cbar=False, linewidth=0.1)\n",
    "plt.title('Корреляция Пирсона между всеми признаками')\n",
    "plt.show()"
   ]
  },
  {
   "cell_type": "code",
   "execution_count": 81,
   "metadata": {},
   "outputs": [],
   "source": [
    "# удаляем кореллирующие признаки и номер ключа\n",
    "data = data.drop(['energy','Wire 8','key'], axis=1)"
   ]
  },
  {
   "cell_type": "code",
   "execution_count": 82,
   "metadata": {},
   "outputs": [
    {
     "name": "stdout",
     "output_type": "stream",
     "text": [
      "<class 'pandas.core.frame.DataFrame'>\n",
      "Int64Index: 2324 entries, 0 to 2323\n",
      "Data columns (total 27 columns):\n",
      " #   Column         Non-Null Count  Dtype  \n",
      "---  ------         --------------  -----  \n",
      " 0   dutarion       2324 non-null   float64\n",
      " 1   avg_power      2324 non-null   float64\n",
      " 2   Bulk 1         2324 non-null   float64\n",
      " 3   Bulk 2         2324 non-null   float64\n",
      " 4   Bulk 3         2324 non-null   float64\n",
      " 5   Bulk 4         2324 non-null   float64\n",
      " 6   Bulk 5         2324 non-null   float64\n",
      " 7   Bulk 6         2324 non-null   float64\n",
      " 8   Bulk 7         2324 non-null   float64\n",
      " 9   Bulk 9         2324 non-null   float64\n",
      " 10  Bulk 10        2324 non-null   float64\n",
      " 11  Bulk 11        2324 non-null   float64\n",
      " 12  Bulk 12        2324 non-null   float64\n",
      " 13  Bulk 13        2324 non-null   float64\n",
      " 14  Bulk 14        2324 non-null   float64\n",
      " 15  Bulk 15        2324 non-null   float64\n",
      " 16  Wire 1         2324 non-null   float64\n",
      " 17  Wire 2         2324 non-null   float64\n",
      " 18  Wire 3         2324 non-null   float64\n",
      " 19  Wire 4         2324 non-null   float64\n",
      " 20  Wire 6         2324 non-null   float64\n",
      " 21  Wire 7         2324 non-null   float64\n",
      " 22  Wire 9         2324 non-null   float64\n",
      " 23  Газ 1          2324 non-null   float64\n",
      " 24  Температура_x  2324 non-null   float64\n",
      " 25  Температура_y  2324 non-null   float64\n",
      " 26  time           2324 non-null   float64\n",
      "dtypes: float64(27)\n",
      "memory usage: 508.4 KB\n"
     ]
    }
   ],
   "source": [
    "data.info()"
   ]
  },
  {
   "cell_type": "markdown",
   "metadata": {},
   "source": [
    "Предобработка данных на этом завершена"
   ]
  },
  {
   "cell_type": "markdown",
   "metadata": {},
   "source": [
    "## Обучение моделей"
   ]
  },
  {
   "cell_type": "code",
   "execution_count": 84,
   "metadata": {},
   "outputs": [
    {
     "name": "stdout",
     "output_type": "stream",
     "text": [
      "train: (1743, 26) (1743,)\n",
      "test: (581, 26) (581,)\n"
     ]
    }
   ],
   "source": [
    "# выделяем целевой признак\n",
    "features = data.drop(['Температура_y'], axis=1)\n",
    "target = data['Температура_y']\n",
    "\n",
    "# разобъем данные на выборки\n",
    "features_train, features_test, target_train, target_test = train_test_split(features, target, \n",
    "                                                                            test_size=0.25, \n",
    "                                                                            random_state=RANDOM_STATE)\n",
    "print('train:',  features_train.shape, target_train.shape)\n",
    "print('test:',  features_test.shape, target_test.shape)"
   ]
  },
  {
   "cell_type": "code",
   "execution_count": 85,
   "metadata": {},
   "outputs": [],
   "source": [
    "# масштабируем данные\n",
    "scaler = StandardScaler()\n",
    "scaler.fit(features_train)\n",
    "features_train = scaler.transform(features_train)\n",
    "features_test = scaler.transform(features_test) "
   ]
  },
  {
   "cell_type": "markdown",
   "metadata": {},
   "source": [
    "### CatBoost"
   ]
  },
  {
   "cell_type": "code",
   "execution_count": 86,
   "metadata": {},
   "outputs": [
    {
     "name": "stdout",
     "output_type": "stream",
     "text": [
      "0:\tlearn: 7.8481344\ttotal: 138ms\tremaining: 1m 8s\n",
      "20:\tlearn: 6.5723911\ttotal: 188ms\tremaining: 4.29s\n",
      "40:\tlearn: 6.0514323\ttotal: 234ms\tremaining: 2.62s\n",
      "60:\tlearn: 5.7508062\ttotal: 276ms\tremaining: 1.99s\n",
      "80:\tlearn: 5.5535320\ttotal: 320ms\tremaining: 1.66s\n",
      "100:\tlearn: 5.3961976\ttotal: 374ms\tremaining: 1.48s\n",
      "120:\tlearn: 5.2675981\ttotal: 416ms\tremaining: 1.3s\n",
      "140:\tlearn: 5.1518804\ttotal: 461ms\tremaining: 1.17s\n",
      "160:\tlearn: 5.0590037\ttotal: 506ms\tremaining: 1.06s\n",
      "180:\tlearn: 4.9794602\ttotal: 549ms\tremaining: 968ms\n",
      "200:\tlearn: 4.9107719\ttotal: 606ms\tremaining: 902ms\n",
      "220:\tlearn: 4.8308770\ttotal: 654ms\tremaining: 826ms\n",
      "240:\tlearn: 4.7573251\ttotal: 694ms\tremaining: 746ms\n",
      "260:\tlearn: 4.6867088\ttotal: 740ms\tremaining: 678ms\n",
      "280:\tlearn: 4.6376302\ttotal: 788ms\tremaining: 614ms\n",
      "300:\tlearn: 4.5883752\ttotal: 849ms\tremaining: 561ms\n",
      "320:\tlearn: 4.5496528\ttotal: 891ms\tremaining: 497ms\n",
      "340:\tlearn: 4.5042237\ttotal: 951ms\tremaining: 443ms\n",
      "360:\tlearn: 4.4546984\ttotal: 1s\tremaining: 387ms\n",
      "380:\tlearn: 4.4195169\ttotal: 1.06s\tremaining: 331ms\n",
      "400:\tlearn: 4.3914273\ttotal: 1.1s\tremaining: 271ms\n",
      "420:\tlearn: 4.3597798\ttotal: 1.17s\tremaining: 220ms\n",
      "440:\tlearn: 4.3324361\ttotal: 1.21s\tremaining: 162ms\n",
      "460:\tlearn: 4.2943856\ttotal: 1.26s\tremaining: 107ms\n",
      "480:\tlearn: 4.2687644\ttotal: 1.31s\tremaining: 51.9ms\n",
      "499:\tlearn: 4.2372966\ttotal: 1.37s\tremaining: 0us\n",
      "Параметры: {'depth': 3, 'learning_rate': 0.1}\n",
      "MSE: 5.731104035146471\n"
     ]
    }
   ],
   "source": [
    "param = {'depth': [3,5,7], 'learning_rate': [0.01, 0.1, 0.3]}\n",
    "\n",
    "estimator = CatBoostRegressor(loss_function=\"MAE\", iterations=500, random_state=RANDOM_STATE)\n",
    "\n",
    "#подбор параметров и обучение\n",
    "cat_boost = GridSearchCV(estimator=estimator, param_grid=param,cv=5, n_jobs=4, scoring='neg_mean_absolute_error')\n",
    "cat_boost.fit(features_train, target_train, verbose=20)\n",
    "\n",
    "# Результат\n",
    "print('Параметры:', cat_boost.best_params_)\n",
    "print('MSE:', cat_boost.best_score_*(-1))"
   ]
  },
  {
   "cell_type": "markdown",
   "metadata": {},
   "source": [
    "### LGBMRegressor"
   ]
  },
  {
   "cell_type": "code",
   "execution_count": 87,
   "metadata": {},
   "outputs": [
    {
     "name": "stdout",
     "output_type": "stream",
     "text": [
      "[LightGBM] [Warning] Auto-choosing row-wise multi-threading, the overhead of testing was 0.000258 seconds.\n",
      "You can set `force_row_wise=true` to remove the overhead.\n",
      "And if memory is not enough, you can set `force_col_wise=true`.\n",
      "[LightGBM] [Info] Total Bins 2443\n",
      "[LightGBM] [Info] Number of data points in the train set: 1743, number of used features: 19\n",
      "[LightGBM] [Info] Start training from score 1593.406196\n",
      "Параметры: {'learning_rate': 0.01, 'n_estimators': 500}\n",
      "MAE: 5.834685859414711\n"
     ]
    }
   ],
   "source": [
    "param = {'learning_rate': [0.01, 0.1, 0.3],'n_estimators': [10, 50, 500]}\n",
    "\n",
    "estimator = LGBMRegressor(random_state=RANDOM_STATE)\n",
    "\n",
    "#подбор параметров и обучение\n",
    "lgbm = GridSearchCV(estimator=estimator, param_grid=param,cv=5, n_jobs=4, scoring='neg_mean_absolute_error')\n",
    "lgbm.fit(features_train, target_train)\n",
    "\n",
    "# Результат\n",
    "print('Параметры:', lgbm.best_params_)\n",
    "print('MAE:', lgbm.best_score_*(-1))"
   ]
  },
  {
   "cell_type": "markdown",
   "metadata": {},
   "source": [
    "### Случайный лес"
   ]
  },
  {
   "cell_type": "code",
   "execution_count": 88,
   "metadata": {},
   "outputs": [
    {
     "name": "stdout",
     "output_type": "stream",
     "text": [
      "Параметры: {'max_depth': 150, 'n_estimators': 100}\n",
      "MAE: 5.995327009847513\n"
     ]
    }
   ],
   "source": [
    "param = {'max_depth': [10, 150],'n_estimators': [10, 20, 100]}\n",
    "\n",
    "estimator = RandomForestRegressor(random_state=RANDOM_STATE)\n",
    "\n",
    "#подбор параметров и обучение\n",
    "forest = GridSearchCV(estimator=estimator, param_grid=param,cv=5, scoring='neg_mean_absolute_error')\n",
    "forest.fit(features_train, target_train)\n",
    "\n",
    "# Результат\n",
    "print('Параметры:', forest.best_params_)\n",
    "print('MAE:', forest.best_score_*(-1))"
   ]
  },
  {
   "cell_type": "markdown",
   "metadata": {},
   "source": [
    "**Промежууточный вывод:**\n",
    "\n",
    "1. На обучающей выборке все модели показали MAE < 6.\n",
    "\n",
    "2. Лучшая модель : CatBoost\n"
   ]
  },
  {
   "cell_type": "markdown",
   "metadata": {},
   "source": [
    "## Тестирование лучшей модели"
   ]
  },
  {
   "cell_type": "code",
   "execution_count": 89,
   "metadata": {},
   "outputs": [
    {
     "data": {
      "text/plain": [
       "6.131233693938068"
      ]
     },
     "execution_count": 89,
     "metadata": {},
     "output_type": "execute_result"
    }
   ],
   "source": [
    "#предсказания\n",
    "predictions = cat_boost.best_estimator_.predict(features_test)\n",
    "\n",
    "# MAE модели на тестовой выборке\n",
    "mean_absolute_error(target_test, predictions)"
   ]
  },
  {
   "cell_type": "code",
   "execution_count": 90,
   "metadata": {},
   "outputs": [
    {
     "data": {
      "text/plain": [
       "0.4483466107707882"
      ]
     },
     "execution_count": 90,
     "metadata": {},
     "output_type": "execute_result"
    }
   ],
   "source": [
    "# исследуем метрику R2 \n",
    "r2_score(target_test, predictions)"
   ]
  },
  {
   "cell_type": "markdown",
   "metadata": {},
   "source": [
    "Коэффициент детерминации 0.45. Не идеально, но значение положительно, а значит модель работает лучше константной модели. Получается код в следующей ячейке можно было не писать \n"
   ]
  },
  {
   "cell_type": "code",
   "execution_count": 57,
   "metadata": {},
   "outputs": [
    {
     "data": {
      "image/png": "[encoded data removed]",
      "text/plain": [
       "<Figure size 1152x720 with 1 Axes>"
      ]
     },
     "metadata": {
      "needs_background": "light"
     },
     "output_type": "display_data"
    }
   ],
   "source": [
    "# исследуем важность признаков\n",
    "importance = pd.Series(cat_boost.best_estimator_.get_feature_importance(),features.columns).sort_values(ascending=False)\n",
    "fig, ax = plt.subplots(figsize=(16,10))\n",
    "importance.plot.bar(ax=ax)\n",
    "ax.set_title(\"Важность признаков\")\n",
    "ax.set_ylabel('Важность, %')\n",
    "plt.show()"
   ]
  },
  {
   "cell_type": "markdown",
   "metadata": {},
   "source": [
    "**Выводы по моделям:**\n",
    "\n",
    "1. Цель достигнута: лучшая модель CatBoost на тестовой выборке показывает **MAE 6.13**\n",
    "\n",
    "2. Метрика R2 лучшей модели равна 0.45, что означает что модель лучше константной модели\n",
    "\n",
    "3. Наиболее важные признаки: продолжительность нагреваа (более 30%) и начальная температура (около 22%)\n",
    "\n",
    "**Для дальнейшей работы. Что можно улучшить:**\n",
    "\n",
    "-Использовать больше гиперпараметров, RandomizedSearchCV \n",
    "\n",
    "-Обучить модель без учета неважных признаков."
   ]
  },
  {
   "cell_type": "code",
   "execution_count": null,
   "metadata": {},
   "outputs": [],
   "source": []
  }
 ],
 "metadata": {
  "ExecuteTimeLog": [
   {
    "duration": 859,
    "start_time": "2023-08-31T20:20:30.894Z"
   },
   {
    "duration": 7,
    "start_time": "2023-08-31T20:20:32.235Z"
   },
   {
    "duration": 184,
    "start_time": "2023-08-31T20:22:08.645Z"
   },
   {
    "duration": 53,
    "start_time": "2023-08-31T20:22:22.427Z"
   },
   {
    "duration": 117,
    "start_time": "2023-08-31T20:26:37.714Z"
   },
   {
    "duration": 33,
    "start_time": "2023-08-31T20:27:10.646Z"
   },
   {
    "duration": 119,
    "start_time": "2023-08-31T20:27:24.705Z"
   },
   {
    "duration": 14,
    "start_time": "2023-08-31T20:27:27.589Z"
   },
   {
    "duration": 5,
    "start_time": "2023-08-31T20:27:31.370Z"
   },
   {
    "duration": 5,
    "start_time": "2023-08-31T20:27:35.279Z"
   },
   {
    "duration": 112,
    "start_time": "2023-08-31T20:27:44.501Z"
   },
   {
    "duration": 3,
    "start_time": "2023-08-31T20:27:49.552Z"
   },
   {
    "duration": 119,
    "start_time": "2023-08-31T20:27:49.825Z"
   },
   {
    "duration": 111,
    "start_time": "2023-08-31T20:28:22.538Z"
   },
   {
    "duration": 120,
    "start_time": "2023-08-31T20:28:42.121Z"
   },
   {
    "duration": 8,
    "start_time": "2023-08-31T20:29:11.333Z"
   },
   {
    "duration": 105,
    "start_time": "2023-08-31T20:29:13.040Z"
   },
   {
    "duration": 105,
    "start_time": "2023-08-31T20:29:29.378Z"
   },
   {
    "duration": 469,
    "start_time": "2023-08-31T20:29:43.357Z"
   },
   {
    "duration": 77,
    "start_time": "2023-08-31T20:30:04.565Z"
   },
   {
    "duration": 9,
    "start_time": "2023-08-31T20:30:09.777Z"
   },
   {
    "duration": 49,
    "start_time": "2023-08-31T20:30:28.649Z"
   },
   {
    "duration": 6,
    "start_time": "2023-08-31T20:31:56.031Z"
   },
   {
    "duration": 3,
    "start_time": "2023-08-31T20:32:14.737Z"
   },
   {
    "duration": 201,
    "start_time": "2023-08-31T20:40:37.209Z"
   },
   {
    "duration": 6,
    "start_time": "2023-08-31T20:41:03.747Z"
   },
   {
    "duration": 64,
    "start_time": "2023-08-31T20:41:29.530Z"
   },
   {
    "duration": 10,
    "start_time": "2023-08-31T20:41:54.366Z"
   },
   {
    "duration": 127,
    "start_time": "2023-08-31T20:41:54.579Z"
   },
   {
    "duration": 6,
    "start_time": "2023-08-31T20:43:15.794Z"
   },
   {
    "duration": 62,
    "start_time": "2023-08-31T20:43:16.320Z"
   },
   {
    "duration": 78,
    "start_time": "2023-08-31T20:43:38.101Z"
   },
   {
    "duration": 50,
    "start_time": "2023-08-31T20:44:25.071Z"
   },
   {
    "duration": 412,
    "start_time": "2023-08-31T20:47:02.392Z"
   },
   {
    "duration": 902,
    "start_time": "2023-08-31T20:47:40.207Z"
   },
   {
    "duration": 848,
    "start_time": "2023-08-31T20:48:48.415Z"
   },
   {
    "duration": 18,
    "start_time": "2023-08-31T20:53:29.503Z"
   },
   {
    "duration": 10,
    "start_time": "2023-08-31T20:53:53.110Z"
   },
   {
    "duration": 8,
    "start_time": "2023-08-31T20:57:06.140Z"
   },
   {
    "duration": 12,
    "start_time": "2023-08-31T20:57:10.100Z"
   },
   {
    "duration": 53,
    "start_time": "2023-08-31T20:57:10.611Z"
   },
   {
    "duration": 900,
    "start_time": "2023-08-31T20:57:11.169Z"
   },
   {
    "duration": 1042,
    "start_time": "2023-08-31T20:57:12.784Z"
   },
   {
    "duration": 578,
    "start_time": "2023-08-31T20:57:31.056Z"
   },
   {
    "duration": 174,
    "start_time": "2023-08-31T20:57:31.835Z"
   },
   {
    "duration": 12,
    "start_time": "2023-08-31T20:57:32.190Z"
   },
   {
    "duration": 56,
    "start_time": "2023-08-31T20:57:32.482Z"
   },
   {
    "duration": 776,
    "start_time": "2023-08-31T20:57:32.889Z"
   },
   {
    "duration": 51375,
    "start_time": "2023-08-31T20:57:33.666Z"
   },
   {
    "duration": 0,
    "start_time": "2023-08-31T20:58:25.044Z"
   },
   {
    "duration": 3,
    "start_time": "2023-08-31T20:59:48.650Z"
   },
   {
    "duration": 9,
    "start_time": "2023-08-31T20:59:57.872Z"
   },
   {
    "duration": 147,
    "start_time": "2023-08-31T21:00:02.634Z"
   },
   {
    "duration": 36,
    "start_time": "2023-08-31T21:00:20.557Z"
   },
   {
    "duration": 94,
    "start_time": "2023-08-31T21:00:54.565Z"
   },
   {
    "duration": 10,
    "start_time": "2023-08-31T21:01:45.475Z"
   },
   {
    "duration": 509,
    "start_time": "2023-08-31T21:01:58.903Z"
   },
   {
    "duration": 1455,
    "start_time": "2023-08-31T21:02:20.270Z"
   },
   {
    "duration": 12,
    "start_time": "2023-08-31T21:04:03.281Z"
   },
   {
    "duration": 56,
    "start_time": "2023-08-31T21:04:03.576Z"
   },
   {
    "duration": 850,
    "start_time": "2023-08-31T21:04:04.059Z"
   },
   {
    "duration": 1154,
    "start_time": "2023-08-31T21:04:04.912Z"
   },
   {
    "duration": 10,
    "start_time": "2023-08-31T21:04:27.554Z"
   },
   {
    "duration": 57,
    "start_time": "2023-08-31T21:04:27.962Z"
   },
   {
    "duration": 716,
    "start_time": "2023-08-31T21:04:28.217Z"
   },
   {
    "duration": 900,
    "start_time": "2023-08-31T21:04:28.935Z"
   },
   {
    "duration": 4,
    "start_time": "2023-08-31T21:04:53.589Z"
   },
   {
    "duration": 190,
    "start_time": "2023-08-31T21:04:54.129Z"
   },
   {
    "duration": 16,
    "start_time": "2023-08-31T21:04:54.375Z"
   },
   {
    "duration": 58,
    "start_time": "2023-08-31T21:04:54.829Z"
   },
   {
    "duration": 766,
    "start_time": "2023-08-31T21:04:55.414Z"
   },
   {
    "duration": 935,
    "start_time": "2023-08-31T21:04:56.182Z"
   },
   {
    "duration": 4,
    "start_time": "2023-08-31T21:05:19.615Z"
   },
   {
    "duration": 1323,
    "start_time": "2023-08-31T21:06:00.611Z"
   },
   {
    "duration": 2013,
    "start_time": "2023-08-31T21:06:55.049Z"
   },
   {
    "duration": 10,
    "start_time": "2023-08-31T21:08:25.309Z"
   },
   {
    "duration": 79,
    "start_time": "2023-08-31T21:08:45.324Z"
   },
   {
    "duration": 62,
    "start_time": "2023-08-31T21:08:58.600Z"
   },
   {
    "duration": 61,
    "start_time": "2023-08-31T21:09:04.937Z"
   },
   {
    "duration": 14,
    "start_time": "2023-08-31T21:10:43.038Z"
   },
   {
    "duration": 191,
    "start_time": "2023-08-31T21:11:09.329Z"
   },
   {
    "duration": 14,
    "start_time": "2023-08-31T21:11:24.877Z"
   },
   {
    "duration": 149,
    "start_time": "2023-08-31T21:11:43.929Z"
   },
   {
    "duration": 184,
    "start_time": "2023-08-31T21:11:58.185Z"
   },
   {
    "duration": 408,
    "start_time": "2023-08-31T21:12:46.351Z"
   },
   {
    "duration": 395,
    "start_time": "2023-08-31T21:13:25.501Z"
   },
   {
    "duration": 428,
    "start_time": "2023-08-31T21:13:55.731Z"
   },
   {
    "duration": 382,
    "start_time": "2023-08-31T21:14:29.602Z"
   },
   {
    "duration": 430,
    "start_time": "2023-08-31T21:14:34.111Z"
   },
   {
    "duration": 3033,
    "start_time": "2023-08-31T21:21:08.290Z"
   },
   {
    "duration": 12,
    "start_time": "2023-08-31T21:22:31.722Z"
   },
   {
    "duration": 65,
    "start_time": "2023-08-31T21:22:32.564Z"
   },
   {
    "duration": 1808,
    "start_time": "2023-08-31T21:22:32.780Z"
   },
   {
    "duration": 454,
    "start_time": "2023-08-31T21:22:34.589Z"
   },
   {
    "duration": 74,
    "start_time": "2023-08-31T21:22:46.497Z"
   },
   {
    "duration": 4683,
    "start_time": "2023-08-31T21:22:47.389Z"
   },
   {
    "duration": 49,
    "start_time": "2023-08-31T21:22:52.074Z"
   },
   {
    "duration": 12,
    "start_time": "2023-08-31T21:23:18.133Z"
   },
   {
    "duration": 1800,
    "start_time": "2023-08-31T21:23:22.896Z"
   },
   {
    "duration": 11,
    "start_time": "2023-08-31T21:23:46.360Z"
   },
   {
    "duration": 1571,
    "start_time": "2023-08-31T21:23:49.241Z"
   },
   {
    "duration": 13,
    "start_time": "2023-08-31T21:24:23.098Z"
   },
   {
    "duration": 74,
    "start_time": "2023-08-31T21:24:24.155Z"
   },
   {
    "duration": 1252,
    "start_time": "2023-08-31T21:24:24.384Z"
   },
   {
    "duration": 400,
    "start_time": "2023-08-31T21:24:30.048Z"
   },
   {
    "duration": 81,
    "start_time": "2023-08-31T21:24:31.889Z"
   },
   {
    "duration": 3124,
    "start_time": "2023-08-31T21:24:32.832Z"
   },
   {
    "duration": 10,
    "start_time": "2023-08-31T21:25:11.948Z"
   },
   {
    "duration": 2848,
    "start_time": "2023-08-31T21:25:18.064Z"
   },
   {
    "duration": 6,
    "start_time": "2023-08-31T21:25:53.787Z"
   },
   {
    "duration": 279,
    "start_time": "2023-08-31T21:26:25.991Z"
   },
   {
    "duration": 438,
    "start_time": "2023-08-31T21:26:45.017Z"
   },
   {
    "duration": 330,
    "start_time": "2023-08-31T21:26:52.774Z"
   },
   {
    "duration": 1282,
    "start_time": "2023-08-31T21:28:23.261Z"
   },
   {
    "duration": 1195,
    "start_time": "2023-08-31T21:28:34.049Z"
   },
   {
    "duration": 3660,
    "start_time": "2023-08-31T21:29:36.546Z"
   },
   {
    "duration": 3104,
    "start_time": "2023-08-31T21:29:56.285Z"
   },
   {
    "duration": 62,
    "start_time": "2023-08-31T21:33:32.877Z"
   },
   {
    "duration": 2103,
    "start_time": "2023-08-31T21:34:07.387Z"
   },
   {
    "duration": 276,
    "start_time": "2023-08-31T21:35:09.621Z"
   },
   {
    "duration": 43,
    "start_time": "2023-08-31T21:36:04.883Z"
   },
   {
    "duration": 33,
    "start_time": "2023-08-31T21:37:18.810Z"
   },
   {
    "duration": 196,
    "start_time": "2023-08-31T21:39:25.216Z"
   },
   {
    "duration": 110,
    "start_time": "2023-08-31T21:39:45.835Z"
   },
   {
    "duration": 825,
    "start_time": "2023-08-31T21:39:54.203Z"
   },
   {
    "duration": 233,
    "start_time": "2023-08-31T21:40:28.460Z"
   },
   {
    "duration": 110,
    "start_time": "2023-08-31T21:40:44.642Z"
   },
   {
    "duration": 110,
    "start_time": "2023-08-31T21:40:53.252Z"
   },
   {
    "duration": 294,
    "start_time": "2023-08-31T21:41:00.334Z"
   },
   {
    "duration": 150,
    "start_time": "2023-08-31T21:41:28.895Z"
   },
   {
    "duration": 12,
    "start_time": "2023-08-31T21:41:33.037Z"
   },
   {
    "duration": 44,
    "start_time": "2023-08-31T21:42:09.725Z"
   },
   {
    "duration": 318,
    "start_time": "2023-08-31T21:42:22.688Z"
   },
   {
    "duration": 282,
    "start_time": "2023-08-31T21:42:38.061Z"
   },
   {
    "duration": 293,
    "start_time": "2023-08-31T21:43:59.827Z"
   },
   {
    "duration": 286,
    "start_time": "2023-08-31T21:44:41.285Z"
   },
   {
    "duration": 281,
    "start_time": "2023-08-31T21:45:07.168Z"
   },
   {
    "duration": 407,
    "start_time": "2023-08-31T21:45:17.400Z"
   },
   {
    "duration": 3417,
    "start_time": "2023-08-31T21:48:18.876Z"
   },
   {
    "duration": 10,
    "start_time": "2023-08-31T21:51:14.761Z"
   },
   {
    "duration": 15,
    "start_time": "2023-08-31T21:51:24.017Z"
   },
   {
    "duration": 3431,
    "start_time": "2023-08-31T21:51:57.359Z"
   },
   {
    "duration": 3400,
    "start_time": "2023-08-31T21:52:21.755Z"
   },
   {
    "duration": 3696,
    "start_time": "2023-08-31T21:52:30.679Z"
   },
   {
    "duration": 11,
    "start_time": "2023-08-31T21:53:09.779Z"
   },
   {
    "duration": 54,
    "start_time": "2023-08-31T21:53:10.333Z"
   },
   {
    "duration": 1369,
    "start_time": "2023-08-31T21:53:11.047Z"
   },
   {
    "duration": 369,
    "start_time": "2023-08-31T21:53:14.392Z"
   },
   {
    "duration": 83,
    "start_time": "2023-08-31T21:53:15.660Z"
   },
   {
    "duration": 2993,
    "start_time": "2023-08-31T21:53:16.424Z"
   },
   {
    "duration": 133,
    "start_time": "2023-08-31T21:56:18.493Z"
   },
   {
    "duration": 303,
    "start_time": "2023-08-31T21:56:24.805Z"
   },
   {
    "duration": 10,
    "start_time": "2023-08-31T21:56:40.866Z"
   },
   {
    "duration": 397,
    "start_time": "2023-08-31T21:56:43.909Z"
   },
   {
    "duration": 345,
    "start_time": "2023-08-31T21:59:06.153Z"
   },
   {
    "duration": 1627,
    "start_time": "2023-08-31T21:59:55.934Z"
   },
   {
    "duration": 274,
    "start_time": "2023-08-31T22:00:25.832Z"
   },
   {
    "duration": 217,
    "start_time": "2023-08-31T22:00:50.071Z"
   },
   {
    "duration": 220,
    "start_time": "2023-08-31T22:01:35.268Z"
   },
   {
    "duration": 614,
    "start_time": "2023-08-31T22:02:04.029Z"
   },
   {
    "duration": 526,
    "start_time": "2023-08-31T22:02:09.605Z"
   },
   {
    "duration": 459,
    "start_time": "2023-08-31T22:02:13.475Z"
   },
   {
    "duration": 166,
    "start_time": "2023-08-31T22:02:17.950Z"
   },
   {
    "duration": 837,
    "start_time": "2023-08-31T22:33:02.880Z"
   },
   {
    "duration": 677,
    "start_time": "2023-08-31T22:34:21.992Z"
   },
   {
    "duration": 789,
    "start_time": "2023-08-31T22:34:32.078Z"
   },
   {
    "duration": 479,
    "start_time": "2023-08-31T22:35:05.363Z"
   },
   {
    "duration": 1513,
    "start_time": "2023-08-31T22:35:12.122Z"
   },
   {
    "duration": 780,
    "start_time": "2023-08-31T22:35:50.033Z"
   },
   {
    "duration": 39,
    "start_time": "2023-08-31T22:36:06.424Z"
   },
   {
    "duration": 14,
    "start_time": "2023-08-31T22:36:21.904Z"
   },
   {
    "duration": 3,
    "start_time": "2023-08-31T22:36:26.823Z"
   },
   {
    "duration": 817,
    "start_time": "2023-08-31T22:37:06.352Z"
   },
   {
    "duration": 791,
    "start_time": "2023-08-31T22:38:00.184Z"
   },
   {
    "duration": 765,
    "start_time": "2023-08-31T22:38:09.945Z"
   },
   {
    "duration": 919,
    "start_time": "2023-08-31T22:38:57.523Z"
   },
   {
    "duration": 742,
    "start_time": "2023-08-31T22:40:08.377Z"
   },
   {
    "duration": 837,
    "start_time": "2023-08-31T22:40:14.762Z"
   },
   {
    "duration": 952,
    "start_time": "2023-08-31T22:40:22.251Z"
   },
   {
    "duration": 1700,
    "start_time": "2023-08-31T22:40:28.223Z"
   },
   {
    "duration": 735,
    "start_time": "2023-08-31T22:40:39.891Z"
   },
   {
    "duration": 499,
    "start_time": "2023-08-31T22:42:54.589Z"
   },
   {
    "duration": 446,
    "start_time": "2023-08-31T22:43:40.893Z"
   },
   {
    "duration": 490,
    "start_time": "2023-08-31T22:43:55.135Z"
   },
   {
    "duration": 594,
    "start_time": "2023-08-31T22:44:04.862Z"
   },
   {
    "duration": 727,
    "start_time": "2023-08-31T22:44:13.655Z"
   },
   {
    "duration": 612,
    "start_time": "2023-08-31T22:44:20.636Z"
   },
   {
    "duration": 576,
    "start_time": "2023-08-31T22:44:25.086Z"
   },
   {
    "duration": 565,
    "start_time": "2023-08-31T22:44:30.465Z"
   },
   {
    "duration": 517,
    "start_time": "2023-08-31T22:44:41.965Z"
   },
   {
    "duration": 557,
    "start_time": "2023-08-31T22:44:56.329Z"
   },
   {
    "duration": 1536,
    "start_time": "2023-08-31T22:45:01.461Z"
   },
   {
    "duration": 537,
    "start_time": "2023-08-31T22:45:07.145Z"
   },
   {
    "duration": 502,
    "start_time": "2023-08-31T22:45:20.295Z"
   },
   {
    "duration": 469,
    "start_time": "2023-08-31T22:45:44.814Z"
   },
   {
    "duration": 459,
    "start_time": "2023-08-31T22:45:57.366Z"
   },
   {
    "duration": 502,
    "start_time": "2023-08-31T22:46:06.138Z"
   },
   {
    "duration": 152,
    "start_time": "2023-08-31T22:46:13.569Z"
   },
   {
    "duration": 159,
    "start_time": "2023-08-31T22:46:41.756Z"
   },
   {
    "duration": 3,
    "start_time": "2023-08-31T22:48:13.706Z"
   },
   {
    "duration": 2994,
    "start_time": "2023-08-31T22:48:49.751Z"
   },
   {
    "duration": 3738,
    "start_time": "2023-08-31T22:48:59.899Z"
   },
   {
    "duration": 3885,
    "start_time": "2023-08-31T22:49:10.512Z"
   },
   {
    "duration": 3056,
    "start_time": "2023-08-31T22:49:19.679Z"
   },
   {
    "duration": 300,
    "start_time": "2023-08-31T22:49:47.947Z"
   },
   {
    "duration": 409,
    "start_time": "2023-08-31T22:49:52.849Z"
   },
   {
    "duration": 1336,
    "start_time": "2023-08-31T22:49:58.853Z"
   },
   {
    "duration": 346,
    "start_time": "2023-08-31T22:50:23.449Z"
   },
   {
    "duration": 2,
    "start_time": "2023-08-31T22:51:24.579Z"
   },
   {
    "duration": 3,
    "start_time": "2023-08-31T22:52:51.937Z"
   },
   {
    "duration": 6,
    "start_time": "2023-08-31T22:52:52.771Z"
   },
   {
    "duration": 173,
    "start_time": "2023-08-31T22:52:53.546Z"
   },
   {
    "duration": 54,
    "start_time": "2023-08-31T22:52:55.979Z"
   },
   {
    "duration": 501,
    "start_time": "2023-08-31T22:52:56.640Z"
   },
   {
    "duration": 491,
    "start_time": "2023-08-31T22:52:57.143Z"
   },
   {
    "duration": 154,
    "start_time": "2023-08-31T22:52:57.765Z"
   },
   {
    "duration": 79,
    "start_time": "2023-08-31T22:53:00.628Z"
   },
   {
    "duration": 3136,
    "start_time": "2023-08-31T22:53:01.157Z"
   },
   {
    "duration": 354,
    "start_time": "2023-08-31T22:53:04.296Z"
   },
   {
    "duration": 51,
    "start_time": "2023-08-31T22:53:08.073Z"
   },
   {
    "duration": 60,
    "start_time": "2023-08-31T22:53:08.828Z"
   },
   {
    "duration": 2860,
    "start_time": "2023-08-31T22:53:38.909Z"
   },
   {
    "duration": 3,
    "start_time": "2023-08-31T22:54:46.342Z"
   },
   {
    "duration": 273,
    "start_time": "2023-08-31T22:55:21.394Z"
   },
   {
    "duration": 2,
    "start_time": "2023-08-31T22:56:19.249Z"
   },
   {
    "duration": 2,
    "start_time": "2023-08-31T22:57:19.560Z"
   },
   {
    "duration": 88,
    "start_time": "2023-08-31T23:33:06.897Z"
   },
   {
    "duration": 3056,
    "start_time": "2023-08-31T23:33:16.806Z"
   },
   {
    "duration": 300,
    "start_time": "2023-08-31T23:56:56.594Z"
   },
   {
    "duration": 263,
    "start_time": "2023-08-31T23:57:13.691Z"
   },
   {
    "duration": 1226,
    "start_time": "2023-08-31T23:57:18.787Z"
   },
   {
    "duration": 256,
    "start_time": "2023-08-31T23:57:37.291Z"
   },
   {
    "duration": 254,
    "start_time": "2023-08-31T23:57:48.315Z"
   },
   {
    "duration": 388,
    "start_time": "2023-08-31T23:57:54.936Z"
   },
   {
    "duration": 265,
    "start_time": "2023-08-31T23:58:00.074Z"
   },
   {
    "duration": 248,
    "start_time": "2023-08-31T23:58:11.720Z"
   },
   {
    "duration": 10,
    "start_time": "2023-08-31T23:58:42.327Z"
   },
   {
    "duration": 383,
    "start_time": "2023-09-01T00:00:56.821Z"
   },
   {
    "duration": 408,
    "start_time": "2023-09-01T00:02:25.837Z"
   },
   {
    "duration": 373,
    "start_time": "2023-09-01T00:10:06.414Z"
   },
   {
    "duration": 552,
    "start_time": "2023-09-01T00:10:27.878Z"
   },
   {
    "duration": 592,
    "start_time": "2023-09-01T00:10:33.708Z"
   },
   {
    "duration": 146,
    "start_time": "2023-09-01T00:11:16.415Z"
   },
   {
    "duration": 145,
    "start_time": "2023-09-01T00:12:02.879Z"
   },
   {
    "duration": 10,
    "start_time": "2023-09-01T00:13:00.941Z"
   },
   {
    "duration": 11,
    "start_time": "2023-09-01T00:13:25.928Z"
   },
   {
    "duration": 84,
    "start_time": "2023-09-01T00:13:30.311Z"
   },
   {
    "duration": 84,
    "start_time": "2023-09-01T00:13:44.978Z"
   },
   {
    "duration": 135,
    "start_time": "2023-09-01T00:15:41.049Z"
   },
   {
    "duration": 137,
    "start_time": "2023-09-01T00:15:56.808Z"
   },
   {
    "duration": 145,
    "start_time": "2023-09-01T00:16:35.201Z"
   },
   {
    "duration": 105,
    "start_time": "2023-09-01T00:16:43.830Z"
   },
   {
    "duration": 112,
    "start_time": "2023-09-01T00:17:15.947Z"
   },
   {
    "duration": 3,
    "start_time": "2023-09-01T00:19:21.397Z"
   },
   {
    "duration": 8,
    "start_time": "2023-09-01T00:34:04.276Z"
   },
   {
    "duration": 11,
    "start_time": "2023-09-01T00:34:18.240Z"
   },
   {
    "duration": 9,
    "start_time": "2023-09-01T00:34:33.359Z"
   },
   {
    "duration": 1008,
    "start_time": "2023-09-01T19:33:56.224Z"
   },
   {
    "duration": 6,
    "start_time": "2023-09-01T19:33:57.234Z"
   },
   {
    "duration": 657,
    "start_time": "2023-09-01T19:33:57.242Z"
   },
   {
    "duration": 72,
    "start_time": "2023-09-01T19:33:57.902Z"
   },
   {
    "duration": 536,
    "start_time": "2023-09-01T19:33:57.976Z"
   },
   {
    "duration": 523,
    "start_time": "2023-09-01T19:33:58.514Z"
   },
   {
    "duration": 162,
    "start_time": "2023-09-01T19:33:59.039Z"
   },
   {
    "duration": 88,
    "start_time": "2023-09-01T19:33:59.202Z"
   },
   {
    "duration": 3918,
    "start_time": "2023-09-01T19:33:59.292Z"
   },
   {
    "duration": 349,
    "start_time": "2023-09-01T19:34:03.212Z"
   },
   {
    "duration": 67,
    "start_time": "2023-09-01T19:34:03.563Z"
   },
   {
    "duration": 193,
    "start_time": "2023-09-01T19:34:03.631Z"
   },
   {
    "duration": 2609,
    "start_time": "2023-09-01T19:34:03.825Z"
   },
   {
    "duration": 257,
    "start_time": "2023-09-01T19:34:06.436Z"
   },
   {
    "duration": 53,
    "start_time": "2023-09-01T19:34:06.694Z"
   },
   {
    "duration": 33,
    "start_time": "2023-09-01T19:34:06.749Z"
   },
   {
    "duration": 403,
    "start_time": "2023-09-01T19:34:06.784Z"
   },
   {
    "duration": 56,
    "start_time": "2023-09-01T19:34:07.188Z"
   },
   {
    "duration": 331,
    "start_time": "2023-09-01T19:34:07.246Z"
   },
   {
    "duration": 112,
    "start_time": "2023-09-01T19:34:07.579Z"
   },
   {
    "duration": 61,
    "start_time": "2023-09-02T14:14:22.522Z"
   },
   {
    "duration": 952,
    "start_time": "2023-09-02T14:14:30.374Z"
   },
   {
    "duration": 6,
    "start_time": "2023-09-02T14:14:31.329Z"
   },
   {
    "duration": 565,
    "start_time": "2023-09-02T14:14:32.137Z"
   },
   {
    "duration": 63,
    "start_time": "2023-09-02T14:14:33.613Z"
   },
   {
    "duration": 581,
    "start_time": "2023-09-02T14:14:34.322Z"
   },
   {
    "duration": 81,
    "start_time": "2023-09-02T14:14:55.201Z"
   },
   {
    "duration": 602,
    "start_time": "2023-09-02T14:15:35.939Z"
   },
   {
    "duration": 539,
    "start_time": "2023-09-02T14:15:46.182Z"
   },
   {
    "duration": 531,
    "start_time": "2023-09-02T14:16:02.836Z"
   },
   {
    "duration": 774,
    "start_time": "2023-09-02T16:46:43.396Z"
   },
   {
    "duration": 572,
    "start_time": "2023-09-02T16:50:14.138Z"
   },
   {
    "duration": 541,
    "start_time": "2023-09-02T16:50:21.392Z"
   },
   {
    "duration": 696,
    "start_time": "2023-09-02T16:50:48.392Z"
   },
   {
    "duration": 571,
    "start_time": "2023-09-02T16:51:14.401Z"
   },
   {
    "duration": 595,
    "start_time": "2023-09-02T16:51:19.780Z"
   },
   {
    "duration": 624,
    "start_time": "2023-09-02T16:51:26.924Z"
   },
   {
    "duration": 629,
    "start_time": "2023-09-02T16:51:32.120Z"
   },
   {
    "duration": 557,
    "start_time": "2023-09-02T16:51:37.135Z"
   },
   {
    "duration": 716,
    "start_time": "2023-09-02T16:51:43.099Z"
   },
   {
    "duration": 647,
    "start_time": "2023-09-02T16:52:22.208Z"
   },
   {
    "duration": 531,
    "start_time": "2023-09-02T16:52:28.642Z"
   },
   {
    "duration": 664,
    "start_time": "2023-09-02T16:52:33.241Z"
   },
   {
    "duration": 539,
    "start_time": "2023-09-02T16:52:38.816Z"
   },
   {
    "duration": 552,
    "start_time": "2023-09-02T16:54:15.880Z"
   },
   {
    "duration": 534,
    "start_time": "2023-09-02T16:54:20.920Z"
   },
   {
    "duration": 910,
    "start_time": "2023-09-02T19:22:43.584Z"
   },
   {
    "duration": 5,
    "start_time": "2023-09-02T19:22:45.633Z"
   },
   {
    "duration": 522,
    "start_time": "2023-09-02T19:23:00.076Z"
   },
   {
    "duration": 67,
    "start_time": "2023-09-02T19:23:11.002Z"
   },
   {
    "duration": 538,
    "start_time": "2023-09-02T19:23:12.730Z"
   },
   {
    "duration": 591,
    "start_time": "2023-09-02T19:27:05.479Z"
   },
   {
    "duration": 509,
    "start_time": "2023-09-02T19:27:31.172Z"
   },
   {
    "duration": 242,
    "start_time": "2023-09-02T19:30:51.848Z"
   },
   {
    "duration": 188,
    "start_time": "2023-09-02T19:30:56.517Z"
   },
   {
    "duration": 176,
    "start_time": "2023-09-02T19:31:23.880Z"
   },
   {
    "duration": 185,
    "start_time": "2023-09-02T19:31:30.625Z"
   },
   {
    "duration": 179,
    "start_time": "2023-09-02T19:31:40.827Z"
   },
   {
    "duration": 765,
    "start_time": "2023-09-02T19:36:07.268Z"
   },
   {
    "duration": 197,
    "start_time": "2023-09-02T19:36:29.702Z"
   },
   {
    "duration": 526,
    "start_time": "2023-09-02T19:36:40.981Z"
   },
   {
    "duration": 546,
    "start_time": "2023-09-02T19:36:58.479Z"
   },
   {
    "duration": 648,
    "start_time": "2023-09-02T19:37:03.684Z"
   },
   {
    "duration": 546,
    "start_time": "2023-09-02T19:37:47.485Z"
   },
   {
    "duration": 584,
    "start_time": "2023-09-02T19:38:59.433Z"
   },
   {
    "duration": 803,
    "start_time": "2023-09-02T19:39:04.326Z"
   },
   {
    "duration": 527,
    "start_time": "2023-09-02T19:39:11.577Z"
   },
   {
    "duration": 542,
    "start_time": "2023-09-02T19:39:18.547Z"
   },
   {
    "duration": 192,
    "start_time": "2023-09-02T19:39:41.588Z"
   },
   {
    "duration": 196,
    "start_time": "2023-09-02T19:39:47.807Z"
   },
   {
    "duration": 526,
    "start_time": "2023-09-02T19:43:13.206Z"
   },
   {
    "duration": 268,
    "start_time": "2023-09-02T19:43:21.217Z"
   },
   {
    "duration": 550,
    "start_time": "2023-09-02T19:43:28.184Z"
   },
   {
    "duration": 643,
    "start_time": "2023-09-02T19:43:32.472Z"
   },
   {
    "duration": 538,
    "start_time": "2023-09-02T19:43:43.266Z"
   },
   {
    "duration": 527,
    "start_time": "2023-09-02T19:48:10.704Z"
   },
   {
    "duration": 637,
    "start_time": "2023-09-02T19:48:25.270Z"
   },
   {
    "duration": 182,
    "start_time": "2023-09-02T19:48:39.845Z"
   },
   {
    "duration": 189,
    "start_time": "2023-09-02T19:48:53.314Z"
   },
   {
    "duration": 189,
    "start_time": "2023-09-02T19:52:05.622Z"
   },
   {
    "duration": 18,
    "start_time": "2023-09-02T19:53:09.112Z"
   },
   {
    "duration": 24,
    "start_time": "2023-09-02T19:53:21.472Z"
   },
   {
    "duration": 180,
    "start_time": "2023-09-02T19:53:47.639Z"
   },
   {
    "duration": 192,
    "start_time": "2023-09-02T19:54:13.855Z"
   },
   {
    "duration": 165,
    "start_time": "2023-09-02T19:54:23.679Z"
   },
   {
    "duration": 306,
    "start_time": "2023-09-02T19:54:27.989Z"
   },
   {
    "duration": 538,
    "start_time": "2023-09-02T19:54:39.441Z"
   },
   {
    "duration": 595,
    "start_time": "2023-09-02T19:55:09.634Z"
   },
   {
    "duration": 203,
    "start_time": "2023-09-02T19:55:17.962Z"
   },
   {
    "duration": 211,
    "start_time": "2023-09-02T19:55:32.109Z"
   },
   {
    "duration": 686,
    "start_time": "2023-09-02T19:55:40.528Z"
   },
   {
    "duration": 591,
    "start_time": "2023-09-02T19:55:50.480Z"
   },
   {
    "duration": 202,
    "start_time": "2023-09-02T19:56:10.107Z"
   },
   {
    "duration": 202,
    "start_time": "2023-09-02T19:56:29.493Z"
   },
   {
    "duration": 205,
    "start_time": "2023-09-02T19:56:37.304Z"
   },
   {
    "duration": 609,
    "start_time": "2023-09-02T19:56:48.812Z"
   },
   {
    "duration": 525,
    "start_time": "2023-09-02T19:58:17.031Z"
   },
   {
    "duration": 538,
    "start_time": "2023-09-02T19:58:33.194Z"
   },
   {
    "duration": 662,
    "start_time": "2023-09-02T19:59:26.747Z"
   },
   {
    "duration": 707,
    "start_time": "2023-09-02T19:59:53.685Z"
   },
   {
    "duration": 509,
    "start_time": "2023-09-02T20:00:16.350Z"
   },
   {
    "duration": 650,
    "start_time": "2023-09-02T20:01:32.929Z"
   },
   {
    "duration": 501,
    "start_time": "2023-09-02T20:01:38.915Z"
   },
   {
    "duration": 168,
    "start_time": "2023-09-02T20:01:45.162Z"
   },
   {
    "duration": 614,
    "start_time": "2023-09-02T20:03:35.137Z"
   },
   {
    "duration": 6,
    "start_time": "2023-09-02T20:03:35.835Z"
   },
   {
    "duration": 184,
    "start_time": "2023-09-02T20:03:37.272Z"
   },
   {
    "duration": 61,
    "start_time": "2023-09-02T20:03:39.245Z"
   },
   {
    "duration": 572,
    "start_time": "2023-09-02T20:03:40.436Z"
   },
   {
    "duration": 563,
    "start_time": "2023-09-02T20:03:51.591Z"
   },
   {
    "duration": 192,
    "start_time": "2023-09-02T20:03:54.469Z"
   },
   {
    "duration": 185,
    "start_time": "2023-09-02T20:04:13.396Z"
   },
   {
    "duration": 79,
    "start_time": "2023-09-02T20:04:30.570Z"
   },
   {
    "duration": 3812,
    "start_time": "2023-09-02T20:04:31.338Z"
   },
   {
    "duration": 7395,
    "start_time": "2023-09-02T20:05:54.838Z"
   },
   {
    "duration": 3501,
    "start_time": "2023-09-02T20:06:36.031Z"
   },
   {
    "duration": 3672,
    "start_time": "2023-09-02T20:06:46.811Z"
   },
   {
    "duration": 3873,
    "start_time": "2023-09-02T20:07:03.204Z"
   },
   {
    "duration": 3997,
    "start_time": "2023-09-02T20:07:13.176Z"
   },
   {
    "duration": 4032,
    "start_time": "2023-09-02T20:07:22.745Z"
   },
   {
    "duration": 3974,
    "start_time": "2023-09-02T20:07:49.199Z"
   },
   {
    "duration": 4031,
    "start_time": "2023-09-02T20:08:00.089Z"
   },
   {
    "duration": 4076,
    "start_time": "2023-09-02T20:08:14.316Z"
   },
   {
    "duration": 3955,
    "start_time": "2023-09-02T20:08:25.532Z"
   },
   {
    "duration": 4074,
    "start_time": "2023-09-02T20:09:07.127Z"
   },
   {
    "duration": 518,
    "start_time": "2023-09-02T20:09:25.175Z"
   },
   {
    "duration": 537,
    "start_time": "2023-09-02T20:09:32.707Z"
   },
   {
    "duration": 401,
    "start_time": "2023-09-02T20:10:30.193Z"
   },
   {
    "duration": 4337,
    "start_time": "2023-09-02T20:10:58.153Z"
   },
   {
    "duration": 4028,
    "start_time": "2023-09-02T20:11:13.641Z"
   },
   {
    "duration": 2817,
    "start_time": "2023-09-02T20:12:44.940Z"
   },
   {
    "duration": 91,
    "start_time": "2023-09-02T20:12:57.925Z"
   },
   {
    "duration": 2706,
    "start_time": "2023-09-02T20:13:01.755Z"
   },
   {
    "duration": 2553,
    "start_time": "2023-09-02T20:13:59.950Z"
   },
   {
    "duration": 3905,
    "start_time": "2023-09-02T20:14:20.890Z"
   },
   {
    "duration": 274,
    "start_time": "2023-09-02T20:15:22.023Z"
   },
   {
    "duration": 582,
    "start_time": "2023-09-02T20:16:54.386Z"
   },
   {
    "duration": 288,
    "start_time": "2023-09-02T20:17:31.619Z"
   },
   {
    "duration": 395,
    "start_time": "2023-09-02T20:18:53.640Z"
   },
   {
    "duration": 302,
    "start_time": "2023-09-02T20:19:06.204Z"
   },
   {
    "duration": 328,
    "start_time": "2023-09-02T20:19:09.662Z"
   },
   {
    "duration": 492,
    "start_time": "2023-09-02T20:19:22.860Z"
   },
   {
    "duration": 148,
    "start_time": "2023-09-02T20:20:14.177Z"
   },
   {
    "duration": 136,
    "start_time": "2023-09-02T20:20:22.260Z"
   },
   {
    "duration": 134,
    "start_time": "2023-09-02T20:20:47.522Z"
   },
   {
    "duration": 103,
    "start_time": "2023-09-02T20:23:35.145Z"
   },
   {
    "duration": 698,
    "start_time": "2023-09-02T20:23:58.303Z"
   },
   {
    "duration": 6,
    "start_time": "2023-09-02T20:23:59.364Z"
   },
   {
    "duration": 198,
    "start_time": "2023-09-02T20:24:00.099Z"
   },
   {
    "duration": 62,
    "start_time": "2023-09-02T20:24:00.842Z"
   },
   {
    "duration": 600,
    "start_time": "2023-09-02T20:24:08.340Z"
   },
   {
    "duration": 571,
    "start_time": "2023-09-02T20:24:11.590Z"
   },
   {
    "duration": 171,
    "start_time": "2023-09-02T20:24:16.208Z"
   },
   {
    "duration": 98,
    "start_time": "2023-09-02T20:24:25.649Z"
   },
   {
    "duration": 3996,
    "start_time": "2023-09-02T20:24:26.254Z"
   },
   {
    "duration": 378,
    "start_time": "2023-09-02T20:24:35.614Z"
   },
   {
    "duration": 65,
    "start_time": "2023-09-02T20:24:39.592Z"
   },
   {
    "duration": 59,
    "start_time": "2023-09-02T20:24:40.884Z"
   },
   {
    "duration": 2648,
    "start_time": "2023-09-02T20:24:41.641Z"
   },
   {
    "duration": 313,
    "start_time": "2023-09-02T20:24:44.291Z"
   },
   {
    "duration": 46,
    "start_time": "2023-09-02T20:24:52.458Z"
   },
   {
    "duration": 47,
    "start_time": "2023-09-02T20:24:54.938Z"
   },
   {
    "duration": 567,
    "start_time": "2023-09-02T20:24:55.275Z"
   },
   {
    "duration": 47,
    "start_time": "2023-09-02T20:24:58.913Z"
   },
   {
    "duration": 365,
    "start_time": "2023-09-02T20:24:59.558Z"
   },
   {
    "duration": 123,
    "start_time": "2023-09-02T20:25:03.845Z"
   },
   {
    "duration": 712,
    "start_time": "2023-09-02T22:39:45.021Z"
   },
   {
    "duration": 6,
    "start_time": "2023-09-02T22:39:45.735Z"
   },
   {
    "duration": 609,
    "start_time": "2023-09-02T22:39:45.742Z"
   },
   {
    "duration": 61,
    "start_time": "2023-09-02T22:39:46.353Z"
   },
   {
    "duration": 506,
    "start_time": "2023-09-02T22:39:46.416Z"
   },
   {
    "duration": 567,
    "start_time": "2023-09-02T22:39:46.924Z"
   },
   {
    "duration": 152,
    "start_time": "2023-09-02T22:39:47.493Z"
   },
   {
    "duration": 96,
    "start_time": "2023-09-02T22:39:47.647Z"
   },
   {
    "duration": 3457,
    "start_time": "2023-09-02T22:39:47.757Z"
   },
   {
    "duration": 322,
    "start_time": "2023-09-02T22:39:51.217Z"
   },
   {
    "duration": 62,
    "start_time": "2023-09-02T22:39:51.541Z"
   },
   {
    "duration": 81,
    "start_time": "2023-09-02T22:39:51.605Z"
   },
   {
    "duration": 2380,
    "start_time": "2023-09-02T22:39:51.688Z"
   },
   {
    "duration": 253,
    "start_time": "2023-09-02T22:39:54.070Z"
   },
   {
    "duration": 65,
    "start_time": "2023-09-02T22:39:54.325Z"
   },
   {
    "duration": 66,
    "start_time": "2023-09-02T22:39:54.392Z"
   },
   {
    "duration": 662,
    "start_time": "2023-09-02T22:39:54.460Z"
   },
   {
    "duration": 56,
    "start_time": "2023-09-02T22:39:55.124Z"
   },
   {
    "duration": 346,
    "start_time": "2023-09-02T22:39:55.182Z"
   },
   {
    "duration": 169,
    "start_time": "2023-09-02T22:39:55.530Z"
   },
   {
    "duration": 2440,
    "start_time": "2023-09-06T05:40:00.646Z"
   },
   {
    "duration": 6,
    "start_time": "2023-09-06T05:40:03.936Z"
   },
   {
    "duration": 816,
    "start_time": "2023-09-06T05:40:04.704Z"
   },
   {
    "duration": 73,
    "start_time": "2023-09-06T05:40:05.522Z"
   },
   {
    "duration": 860,
    "start_time": "2023-09-06T05:40:05.842Z"
   },
   {
    "duration": 905,
    "start_time": "2023-09-06T05:40:06.707Z"
   },
   {
    "duration": 283,
    "start_time": "2023-09-06T05:40:07.624Z"
   },
   {
    "duration": 121,
    "start_time": "2023-09-06T05:40:10.644Z"
   },
   {
    "duration": 4578,
    "start_time": "2023-09-06T05:40:10.767Z"
   },
   {
    "duration": 453,
    "start_time": "2023-09-06T05:40:15.347Z"
   },
   {
    "duration": 67,
    "start_time": "2023-09-06T05:40:15.803Z"
   },
   {
    "duration": 66,
    "start_time": "2023-09-06T05:40:15.872Z"
   },
   {
    "duration": 3160,
    "start_time": "2023-09-06T05:40:15.951Z"
   },
   {
    "duration": 604,
    "start_time": "2023-09-06T05:40:19.118Z"
   },
   {
    "duration": 77,
    "start_time": "2023-09-06T05:40:19.724Z"
   },
   {
    "duration": 45,
    "start_time": "2023-09-06T05:40:19.804Z"
   },
   {
    "duration": 345,
    "start_time": "2023-09-06T05:40:19.854Z"
   },
   {
    "duration": 60,
    "start_time": "2023-09-06T05:40:20.201Z"
   },
   {
    "duration": 458,
    "start_time": "2023-09-06T05:40:20.267Z"
   },
   {
    "duration": 162,
    "start_time": "2023-09-06T05:40:20.727Z"
   },
   {
    "duration": 11,
    "start_time": "2023-09-06T05:40:25.541Z"
   },
   {
    "duration": 401,
    "start_time": "2023-09-06T05:40:26.168Z"
   },
   {
    "duration": 25,
    "start_time": "2023-09-06T05:40:27.721Z"
   },
   {
    "duration": 16,
    "start_time": "2023-09-06T05:40:28.397Z"
   },
   {
    "duration": 15,
    "start_time": "2023-09-06T05:40:29.089Z"
   },
   {
    "duration": 23,
    "start_time": "2023-09-06T05:40:32.684Z"
   },
   {
    "duration": 14,
    "start_time": "2023-09-06T05:40:33.833Z"
   },
   {
    "duration": 15,
    "start_time": "2023-09-06T05:40:35.328Z"
   },
   {
    "duration": 5,
    "start_time": "2023-09-06T05:40:35.620Z"
   },
   {
    "duration": 187,
    "start_time": "2023-09-06T05:40:35.937Z"
   },
   {
    "duration": 12,
    "start_time": "2023-09-06T05:40:36.704Z"
   },
   {
    "duration": 15,
    "start_time": "2023-09-06T05:40:36.975Z"
   },
   {
    "duration": 14,
    "start_time": "2023-09-06T05:40:37.671Z"
   },
   {
    "duration": 23,
    "start_time": "2023-09-06T05:40:37.967Z"
   },
   {
    "duration": 14,
    "start_time": "2023-09-06T05:40:38.222Z"
   },
   {
    "duration": 15,
    "start_time": "2023-09-06T05:40:38.839Z"
   },
   {
    "duration": 13,
    "start_time": "2023-09-06T05:40:53.194Z"
   },
   {
    "duration": 17,
    "start_time": "2023-09-06T05:40:53.997Z"
   },
   {
    "duration": 12,
    "start_time": "2023-09-06T05:40:55.712Z"
   },
   {
    "duration": 20,
    "start_time": "2023-09-06T05:40:58.847Z"
   },
   {
    "duration": 180,
    "start_time": "2023-09-06T05:41:06.094Z"
   },
   {
    "duration": 1447,
    "start_time": "2023-09-06T05:41:08.179Z"
   },
   {
    "duration": 905,
    "start_time": "2023-09-06T05:41:11.924Z"
   },
   {
    "duration": 5307,
    "start_time": "2023-09-06T05:41:27.618Z"
   },
   {
    "duration": 105,
    "start_time": "2023-09-06T05:42:08.706Z"
   },
   {
    "duration": 76,
    "start_time": "2023-09-06T05:42:17.271Z"
   },
   {
    "duration": 250,
    "start_time": "2023-09-06T05:42:23.680Z"
   },
   {
    "duration": 125,
    "start_time": "2023-09-06T05:42:40.057Z"
   },
   {
    "duration": 5174,
    "start_time": "2023-09-06T05:42:45.624Z"
   },
   {
    "duration": 958,
    "start_time": "2023-09-06T05:43:09.880Z"
   },
   {
    "duration": 1001,
    "start_time": "2023-09-06T05:44:26.417Z"
   },
   {
    "duration": 1067,
    "start_time": "2023-09-06T05:44:45.234Z"
   },
   {
    "duration": 5709,
    "start_time": "2023-09-06T05:44:55.911Z"
   },
   {
    "duration": 173,
    "start_time": "2023-09-06T05:45:35.500Z"
   },
   {
    "duration": 4732,
    "start_time": "2023-09-06T05:45:39.970Z"
   },
   {
    "duration": 4992,
    "start_time": "2023-09-06T05:46:46.183Z"
   },
   {
    "duration": 4738,
    "start_time": "2023-09-06T05:48:03.879Z"
   },
   {
    "duration": 6,
    "start_time": "2023-09-06T05:52:24.995Z"
   },
   {
    "duration": 4,
    "start_time": "2023-09-06T05:52:34.304Z"
   },
   {
    "duration": 12,
    "start_time": "2023-09-06T05:52:36.364Z"
   },
   {
    "duration": 9,
    "start_time": "2023-09-06T05:52:46.803Z"
   },
   {
    "duration": 10,
    "start_time": "2023-09-06T05:52:50.516Z"
   },
   {
    "duration": 103966,
    "start_time": "2023-09-06T05:53:09.371Z"
   },
   {
    "duration": 612860,
    "start_time": "2023-09-06T05:54:53.339Z"
   },
   {
    "duration": 0,
    "start_time": "2023-09-06T06:05:06.201Z"
   },
   {
    "duration": 0,
    "start_time": "2023-09-06T06:05:06.203Z"
   },
   {
    "duration": 0,
    "start_time": "2023-09-06T06:05:06.204Z"
   },
   {
    "duration": 0,
    "start_time": "2023-09-06T06:05:06.206Z"
   },
   {
    "duration": 1718,
    "start_time": "2023-09-06T06:05:30.884Z"
   },
   {
    "duration": 10,
    "start_time": "2023-09-06T06:05:33.061Z"
   },
   {
    "duration": 220,
    "start_time": "2023-09-06T06:05:33.481Z"
   },
   {
    "duration": 77,
    "start_time": "2023-09-06T06:05:34.401Z"
   },
   {
    "duration": 776,
    "start_time": "2023-09-06T06:05:34.586Z"
   },
   {
    "duration": 544,
    "start_time": "2023-09-06T06:05:35.365Z"
   },
   {
    "duration": 269,
    "start_time": "2023-09-06T06:05:35.911Z"
   },
   {
    "duration": 96,
    "start_time": "2023-09-06T06:05:36.933Z"
   },
   {
    "duration": 4193,
    "start_time": "2023-09-06T06:05:37.124Z"
   },
   {
    "duration": 398,
    "start_time": "2023-09-06T06:05:41.319Z"
   },
   {
    "duration": 72,
    "start_time": "2023-09-06T06:05:41.719Z"
   },
   {
    "duration": 80,
    "start_time": "2023-09-06T06:05:41.793Z"
   },
   {
    "duration": 2731,
    "start_time": "2023-09-06T06:05:42.677Z"
   },
   {
    "duration": 687,
    "start_time": "2023-09-06T06:05:45.410Z"
   },
   {
    "duration": 60,
    "start_time": "2023-09-06T06:05:46.103Z"
   },
   {
    "duration": 36,
    "start_time": "2023-09-06T06:05:48.810Z"
   },
   {
    "duration": 311,
    "start_time": "2023-09-06T06:05:49.495Z"
   },
   {
    "duration": 65,
    "start_time": "2023-09-06T06:05:52.950Z"
   },
   {
    "duration": 535,
    "start_time": "2023-09-06T06:05:53.572Z"
   },
   {
    "duration": 138,
    "start_time": "2023-09-06T06:05:54.109Z"
   },
   {
    "duration": 18,
    "start_time": "2023-09-06T06:06:03.751Z"
   },
   {
    "duration": 309,
    "start_time": "2023-09-06T06:06:04.929Z"
   },
   {
    "duration": 37,
    "start_time": "2023-09-06T06:06:06.960Z"
   },
   {
    "duration": 17,
    "start_time": "2023-09-06T06:06:07.308Z"
   },
   {
    "duration": 20,
    "start_time": "2023-09-06T06:06:07.782Z"
   },
   {
    "duration": 30,
    "start_time": "2023-09-06T06:06:10.444Z"
   },
   {
    "duration": 20,
    "start_time": "2023-09-06T06:06:10.915Z"
   },
   {
    "duration": 23,
    "start_time": "2023-09-06T06:06:12.379Z"
   },
   {
    "duration": 7,
    "start_time": "2023-09-06T06:06:12.817Z"
   },
   {
    "duration": 176,
    "start_time": "2023-09-06T06:06:13.331Z"
   },
   {
    "duration": 8,
    "start_time": "2023-09-06T06:06:14.489Z"
   },
   {
    "duration": 16,
    "start_time": "2023-09-06T06:06:15.051Z"
   },
   {
    "duration": 9,
    "start_time": "2023-09-06T06:06:17.682Z"
   },
   {
    "duration": 25,
    "start_time": "2023-09-06T06:06:18.563Z"
   },
   {
    "duration": 14,
    "start_time": "2023-09-06T06:06:19.113Z"
   },
   {
    "duration": 32,
    "start_time": "2023-09-06T06:06:19.542Z"
   },
   {
    "duration": 11,
    "start_time": "2023-09-06T06:06:20.500Z"
   },
   {
    "duration": 13,
    "start_time": "2023-09-06T06:06:20.783Z"
   },
   {
    "duration": 15,
    "start_time": "2023-09-06T06:06:21.430Z"
   },
   {
    "duration": 10,
    "start_time": "2023-09-06T06:06:21.914Z"
   },
   {
    "duration": 171,
    "start_time": "2023-09-06T06:06:22.549Z"
   },
   {
    "duration": 1618,
    "start_time": "2023-09-06T06:06:24.000Z"
   },
   {
    "duration": 1069,
    "start_time": "2023-09-06T06:06:26.136Z"
   },
   {
    "duration": 5554,
    "start_time": "2023-09-06T06:06:28.898Z"
   },
   {
    "duration": 7,
    "start_time": "2023-09-06T06:06:35.378Z"
   },
   {
    "duration": 4,
    "start_time": "2023-09-06T06:06:37.425Z"
   },
   {
    "duration": 22,
    "start_time": "2023-09-06T06:06:37.842Z"
   },
   {
    "duration": 8,
    "start_time": "2023-09-06T06:06:38.984Z"
   },
   {
    "duration": 10,
    "start_time": "2023-09-06T06:06:39.698Z"
   },
   {
    "duration": 116052,
    "start_time": "2023-09-06T06:06:43.536Z"
   },
   {
    "duration": 7,
    "start_time": "2023-09-06T06:09:09.708Z"
   },
   {
    "duration": 16,
    "start_time": "2023-09-06T06:09:58.864Z"
   },
   {
    "duration": 7,
    "start_time": "2023-09-06T06:10:26.000Z"
   },
   {
    "duration": 5,
    "start_time": "2023-09-06T06:13:54.114Z"
   },
   {
    "duration": 4,
    "start_time": "2023-09-06T06:18:07.825Z"
   },
   {
    "duration": 17,
    "start_time": "2023-09-06T06:18:19.439Z"
   },
   {
    "duration": 4,
    "start_time": "2023-09-06T06:20:29.701Z"
   },
   {
    "duration": 15,
    "start_time": "2023-09-06T06:20:36.356Z"
   },
   {
    "duration": 127,
    "start_time": "2023-09-06T06:20:55.431Z"
   },
   {
    "duration": 3,
    "start_time": "2023-09-06T06:21:13.047Z"
   },
   {
    "duration": 7,
    "start_time": "2023-09-06T06:24:29.668Z"
   },
   {
    "duration": 5167,
    "start_time": "2023-09-06T17:00:32.936Z"
   },
   {
    "duration": 3261,
    "start_time": "2023-09-06T17:00:38.106Z"
   },
   {
    "duration": 7,
    "start_time": "2023-09-06T17:00:41.368Z"
   },
   {
    "duration": 214,
    "start_time": "2023-09-06T17:00:41.377Z"
   },
   {
    "duration": 65,
    "start_time": "2023-09-06T17:00:41.593Z"
   },
   {
    "duration": 714,
    "start_time": "2023-09-06T17:00:41.659Z"
   },
   {
    "duration": 556,
    "start_time": "2023-09-06T17:00:42.374Z"
   },
   {
    "duration": 193,
    "start_time": "2023-09-06T17:00:42.932Z"
   },
   {
    "duration": 100,
    "start_time": "2023-09-06T17:00:43.127Z"
   },
   {
    "duration": 4054,
    "start_time": "2023-09-06T17:00:43.230Z"
   },
   {
    "duration": 394,
    "start_time": "2023-09-06T17:00:47.287Z"
   },
   {
    "duration": 52,
    "start_time": "2023-09-06T17:00:47.682Z"
   },
   {
    "duration": 78,
    "start_time": "2023-09-06T17:00:47.735Z"
   },
   {
    "duration": 2625,
    "start_time": "2023-09-06T17:00:47.814Z"
   },
   {
    "duration": 675,
    "start_time": "2023-09-06T17:00:50.441Z"
   },
   {
    "duration": 59,
    "start_time": "2023-09-06T17:00:51.118Z"
   },
   {
    "duration": 37,
    "start_time": "2023-09-06T17:00:51.179Z"
   },
   {
    "duration": 315,
    "start_time": "2023-09-06T17:00:51.218Z"
   },
   {
    "duration": 58,
    "start_time": "2023-09-06T17:00:51.535Z"
   },
   {
    "duration": 413,
    "start_time": "2023-09-06T17:00:51.595Z"
   },
   {
    "duration": 142,
    "start_time": "2023-09-06T17:00:52.010Z"
   },
   {
    "duration": 19,
    "start_time": "2023-09-06T17:00:52.153Z"
   },
   {
    "duration": 298,
    "start_time": "2023-09-06T17:00:52.175Z"
   },
   {
    "duration": 20,
    "start_time": "2023-09-06T17:00:52.475Z"
   },
   {
    "duration": 36,
    "start_time": "2023-09-06T17:00:52.497Z"
   },
   {
    "duration": 16,
    "start_time": "2023-09-06T17:00:52.534Z"
   },
   {
    "duration": 30,
    "start_time": "2023-09-06T17:00:52.551Z"
   },
   {
    "duration": 24,
    "start_time": "2023-09-06T17:00:52.586Z"
   },
   {
    "duration": 35,
    "start_time": "2023-09-06T17:00:52.613Z"
   },
   {
    "duration": 19,
    "start_time": "2023-09-06T17:00:52.650Z"
   },
   {
    "duration": 168,
    "start_time": "2023-09-06T17:00:52.672Z"
   },
   {
    "duration": 11,
    "start_time": "2023-09-06T17:00:52.842Z"
   },
   {
    "duration": 26,
    "start_time": "2023-09-06T17:00:52.866Z"
   },
   {
    "duration": 17,
    "start_time": "2023-09-06T17:00:52.895Z"
   },
   {
    "duration": 28,
    "start_time": "2023-09-06T17:00:52.914Z"
   },
   {
    "duration": 24,
    "start_time": "2023-09-06T17:00:52.945Z"
   },
   {
    "duration": 18,
    "start_time": "2023-09-06T17:00:52.971Z"
   },
   {
    "duration": 20,
    "start_time": "2023-09-06T17:00:52.991Z"
   },
   {
    "duration": 28,
    "start_time": "2023-09-06T17:00:53.013Z"
   },
   {
    "duration": 25,
    "start_time": "2023-09-06T17:00:53.043Z"
   },
   {
    "duration": 11,
    "start_time": "2023-09-06T17:00:53.071Z"
   },
   {
    "duration": 187,
    "start_time": "2023-09-06T17:00:53.083Z"
   },
   {
    "duration": 1677,
    "start_time": "2023-09-06T17:00:53.272Z"
   },
   {
    "duration": 903,
    "start_time": "2023-09-06T17:00:54.952Z"
   },
   {
    "duration": 5124,
    "start_time": "2023-09-06T17:00:55.857Z"
   },
   {
    "duration": 7,
    "start_time": "2023-09-06T17:01:00.983Z"
   },
   {
    "duration": 59,
    "start_time": "2023-09-06T17:01:00.992Z"
   },
   {
    "duration": 41,
    "start_time": "2023-09-06T17:01:01.053Z"
   },
   {
    "duration": 28,
    "start_time": "2023-09-06T17:01:01.097Z"
   },
   {
    "duration": 35,
    "start_time": "2023-09-06T17:01:01.127Z"
   },
   {
    "duration": 121381,
    "start_time": "2023-09-06T17:01:01.164Z"
   },
   {
    "duration": 1002530,
    "start_time": "2023-09-06T17:03:02.547Z"
   },
   {
    "duration": 12590,
    "start_time": "2023-09-06T17:19:45.079Z"
   },
   {
    "duration": 6,
    "start_time": "2023-09-06T17:19:57.671Z"
   },
   {
    "duration": 14,
    "start_time": "2023-09-06T17:19:57.679Z"
   },
   {
    "duration": 8,
    "start_time": "2023-09-06T17:19:57.695Z"
   },
   {
    "duration": 349,
    "start_time": "2023-09-06T17:19:57.705Z"
   }
  ],
  "celltoolbar": "Отсутствует",
  "kernelspec": {
   "display_name": "Python 3",
   "language": "python",
   "name": "python3"
  },
  "language_info": {
   "codemirror_mode": {
    "name": "ipython",
    "version": 3
   },
   "file_extension": ".py",
   "mimetype": "text/x-python",
   "name": "python",
   "nbconvert_exporter": "python",
   "pygments_lexer": "ipython3",
   "version": "3.8.8"
  },
  "toc": {
   "base_numbering": 1,
   "nav_menu": {},
   "number_sections": true,
   "sideBar": true,
   "skip_h1_title": true,
   "title_cell": "Table of Contents",
   "title_sidebar": "Contents",
   "toc_cell": false,
   "toc_position": {},
   "toc_section_display": true,
   "toc_window_display": true
  }
 },
 "nbformat": 4,
 "nbformat_minor": 2
}
